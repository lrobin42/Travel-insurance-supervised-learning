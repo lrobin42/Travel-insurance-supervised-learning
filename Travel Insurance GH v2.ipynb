{
 "cells": [
  {
   "cell_type": "markdown",
   "metadata": {},
   "source": [
    "## Project Premise\n",
    "I've been contracted as a data scientist to look at recent data from a regional airline designing flight deals for young professionals flying their airline. They'd like a model that accurately predicts which customers are more likely to purchase travel insurance since previous research has shown those customers are most likely to buy flight deals of this type, so they'd like to use this model for subsequent customer targeting. "
   ]
  },
  {
   "cell_type": "markdown",
   "metadata": {},
   "source": [
    "## Project Setup"
   ]
  },
  {
   "cell_type": "markdown",
   "metadata": {},
   "source": [
    "#### Import modules"
   ]
  },
  {
   "cell_type": "code",
   "execution_count": 1,
   "metadata": {},
   "outputs": [],
   "source": [
    "import warnings\n",
    "import seaborn as sns\n",
    "import pylab as py\n",
    "import plotly.graph_objects as go\n",
    "import plotly.express as px\n",
    "import pandas as pd\n",
    "import os\n",
    "import numpy as np\n",
    "import matplotlib.pyplot as plt\n",
    "import graphviz\n",
    "import dtreeviz\n",
    "from sklearn.naive_bayes import GaussianNB\n",
    "from sklearn import tree\n",
    "from skimpy import skim\n",
    "from scipy.stats import shapiro\n",
    "from scipy.stats import pointbiserialr\n",
    "from scipy.stats import fisher_exact\n",
    "from plotly.subplots import make_subplots\n",
    "import plotly.io as pio"
   ]
  },
  {
   "cell_type": "code",
   "execution_count": 2,
   "metadata": {},
   "outputs": [],
   "source": [
    "from sklearn.tree import DecisionTreeRegressor\n",
    "from sklearn.tree import DecisionTreeRegressor\n",
    "from sklearn.tree import DecisionTreeClassifier\n",
    "from sklearn.preprocessing import StandardScaler\n",
    "from sklearn.preprocessing import OneHotEncoder\n",
    "from sklearn.preprocessing import MinMaxScaler\n",
    "from sklearn.preprocessing import LabelEncoder\n",
    "from sklearn.pipeline import Pipeline\n",
    "from sklearn.naive_bayes import CategoricalNB\n",
    "from sklearn.preprocessing import KBinsDiscretizer\n",
    "from sklearn.neighbors import KNeighborsRegressor, KNeighborsClassifier\n",
    "from sklearn.naive_bayes import GaussianNB\n",
    "from sklearn.model_selection import train_test_split\n",
    "from sklearn.ensemble import BaggingClassifier\n",
    "from mlxtend.classifier import StackingClassifier\n",
    "from sklearn.model_selection import KFold,train_test_split, GridSearchCV,cross_val_score\n",
    "from sklearn.metrics import precision_score, recall_score, f1_score, accuracy_score,make_scorer\n",
    "from sklearn.metrics import matthews_corrcoef\n",
    "from sklearn.metrics import confusion_matrix\n",
    "from sklearn.linear_model import LogisticRegression\n",
    "from sklearn.linear_model import LinearRegression\n",
    "from sklearn.feature_selection import SelectKBest, chi2\n",
    "from sklearn.ensemble import RandomForestRegressor\n",
    "from sklearn.ensemble import RandomForestClassifier, VotingClassifier\n",
    "from sklearn import svm\n",
    "from sklearn.feature_selection import mutual_info_classif\n",
    "from sklearn import metrics"
   ]
  },
  {
   "cell_type": "markdown",
   "metadata": {},
   "source": [
    "#### Import helper functions"
   ]
  },
  {
   "cell_type": "code",
   "execution_count": 3,
   "metadata": {},
   "outputs": [
    {
     "name": "stderr",
     "output_type": "stream",
     "text": [
      "/Users/lemuelrobinson/Documents/Turing_College/Module_3/3_Sprint_1_Travel_Insurance/travel_insurance_functions.py:586: SyntaxWarning: invalid escape sequence '\\d'\n"
     ]
    }
   ],
   "source": [
    "from travel_insurance_functions import binary_formatter\n",
    "from travel_insurance_functions import binary_grapher\n",
    "from travel_insurance_functions import create_heatmap\n",
    "from travel_insurance_functions import range_grapher\n",
    "from travel_insurance_functions import make_subplot\n",
    "from travel_insurance_functions import numerical_subplot\n",
    "from travel_insurance_functions import calculate_log_model_stats\n",
    "from travel_insurance_functions import create_contingency_table\n",
    "from travel_insurance_functions import fishers_exact_test\n",
    "from travel_insurance_functions import create_fishers_array\n",
    "from travel_insurance_functions import create_confusion_matrix\n",
    "from travel_insurance_functions import create_model_predictions\n",
    "from travel_insurance_functions import calculate_model_statistics\n",
    "from travel_insurance_functions import shapiro_wilk\n",
    "from travel_insurance_functions import conduct_grid_search_tuning\n",
    "from travel_insurance_functions import show_logistic_model_features\n",
    "from travel_insurance_functions import consolidate_model_stats\n",
    "from travel_insurance_functions import compare_models\n",
    "from travel_insurance_functions import resplit_data\n",
    "from travel_insurance_functions import calculate_v2_model_training_stats\n",
    "from travel_insurance_functions import calculate_v2_model_testing_stats\n",
    "from travel_insurance_functions import test_score_range\n",
    "from travel_insurance_functions import assemble_performance_metrics_df\n",
    "from travel_insurance_functions import limit_percentages\n",
    "from travel_insurance_functions import test_score_range\n",
    "from travel_insurance_functions import calculate_grid_search_ranges\n",
    "from travel_insurance_functions import pull_rank_one_runs\n",
    "from travel_insurance_functions import restrict_grid_search_table\n",
    "from travel_insurance_functions import conduct_cross_validation"
   ]
  },
  {
   "cell_type": "markdown",
   "metadata": {},
   "source": [
    "#### Other settings"
   ]
  },
  {
   "cell_type": "code",
   "execution_count": 4,
   "metadata": {},
   "outputs": [],
   "source": [
    "os.chdir(\n",
    "    \"/Users/lemuelrobinson/Documents/Turing_College/Module_3/3_Sprint_1_Travel_Insurance\"\n",
    ")\n",
    "warnings.filterwarnings(\"ignore\")\n",
    "# Set pandas display setting\n",
    "pd.set_option(\"display.max_colwidth\", None)\n",
    "\n",
    "# Set some printing style parameters\n",
    "palette = sns.color_palette(\"bright\")\n",
    "\n",
    "# color palette for binary variable graphs\n",
    "binary_color_map = {0: \"rgb(154, 211, 189)\", 1: \"rgb(58, 121, 136)\"}\n",
    "\n",
    "# Set default figure size\n",
    "sns.set(rc={\"figure.figsize\": (14, 6)})\n",
    "\n",
    "# Set significant figures for pandas printouts\n",
    "pd.set_option(\"display.precision\", 3)\n",
    "\n",
    "# Specify scoring metrics for classifier models\n",
    "scoring_metrics = [\"accuracy\", \"precision\", \"recall\", \"f1\"]\n",
    "\n",
    "#Set default figure size\n",
    "pio.templates.default = \"plotly\"\n",
    "pio.templates[\"plotly\"].layout.update(width=1200, height=750);"
   ]
  },
  {
   "cell_type": "code",
   "execution_count": 5,
   "metadata": {},
   "outputs": [
    {
     "data": {
      "text/html": [
       "<div>\n",
       "<style scoped>\n",
       "    .dataframe tbody tr th:only-of-type {\n",
       "        vertical-align: middle;\n",
       "    }\n",
       "\n",
       "    .dataframe tbody tr th {\n",
       "        vertical-align: top;\n",
       "    }\n",
       "\n",
       "    .dataframe thead th {\n",
       "        text-align: right;\n",
       "    }\n",
       "</style>\n",
       "<table border=\"1\" class=\"dataframe\">\n",
       "  <thead>\n",
       "    <tr style=\"text-align: right;\">\n",
       "      <th></th>\n",
       "      <th>age</th>\n",
       "      <th>employment</th>\n",
       "      <th>college_grad</th>\n",
       "      <th>income</th>\n",
       "      <th>family_size</th>\n",
       "      <th>conditions</th>\n",
       "      <th>frequent_traveler</th>\n",
       "      <th>first_trip</th>\n",
       "      <th>travel_insurance</th>\n",
       "    </tr>\n",
       "  </thead>\n",
       "  <tbody>\n",
       "    <tr>\n",
       "      <th>0</th>\n",
       "      <td>31</td>\n",
       "      <td>Government Sector</td>\n",
       "      <td>Yes</td>\n",
       "      <td>400000</td>\n",
       "      <td>6</td>\n",
       "      <td>1</td>\n",
       "      <td>No</td>\n",
       "      <td>No</td>\n",
       "      <td>0</td>\n",
       "    </tr>\n",
       "    <tr>\n",
       "      <th>1</th>\n",
       "      <td>31</td>\n",
       "      <td>Private Sector/Self Employed</td>\n",
       "      <td>Yes</td>\n",
       "      <td>1250000</td>\n",
       "      <td>7</td>\n",
       "      <td>0</td>\n",
       "      <td>No</td>\n",
       "      <td>No</td>\n",
       "      <td>0</td>\n",
       "    </tr>\n",
       "    <tr>\n",
       "      <th>2</th>\n",
       "      <td>34</td>\n",
       "      <td>Private Sector/Self Employed</td>\n",
       "      <td>Yes</td>\n",
       "      <td>500000</td>\n",
       "      <td>4</td>\n",
       "      <td>1</td>\n",
       "      <td>No</td>\n",
       "      <td>No</td>\n",
       "      <td>1</td>\n",
       "    </tr>\n",
       "    <tr>\n",
       "      <th>3</th>\n",
       "      <td>28</td>\n",
       "      <td>Private Sector/Self Employed</td>\n",
       "      <td>Yes</td>\n",
       "      <td>700000</td>\n",
       "      <td>3</td>\n",
       "      <td>1</td>\n",
       "      <td>No</td>\n",
       "      <td>No</td>\n",
       "      <td>0</td>\n",
       "    </tr>\n",
       "    <tr>\n",
       "      <th>4</th>\n",
       "      <td>28</td>\n",
       "      <td>Private Sector/Self Employed</td>\n",
       "      <td>Yes</td>\n",
       "      <td>700000</td>\n",
       "      <td>8</td>\n",
       "      <td>1</td>\n",
       "      <td>Yes</td>\n",
       "      <td>No</td>\n",
       "      <td>0</td>\n",
       "    </tr>\n",
       "    <tr>\n",
       "      <th>...</th>\n",
       "      <td>...</td>\n",
       "      <td>...</td>\n",
       "      <td>...</td>\n",
       "      <td>...</td>\n",
       "      <td>...</td>\n",
       "      <td>...</td>\n",
       "      <td>...</td>\n",
       "      <td>...</td>\n",
       "      <td>...</td>\n",
       "    </tr>\n",
       "    <tr>\n",
       "      <th>1982</th>\n",
       "      <td>33</td>\n",
       "      <td>Private Sector/Self Employed</td>\n",
       "      <td>Yes</td>\n",
       "      <td>1500000</td>\n",
       "      <td>4</td>\n",
       "      <td>0</td>\n",
       "      <td>Yes</td>\n",
       "      <td>Yes</td>\n",
       "      <td>1</td>\n",
       "    </tr>\n",
       "    <tr>\n",
       "      <th>1983</th>\n",
       "      <td>28</td>\n",
       "      <td>Private Sector/Self Employed</td>\n",
       "      <td>Yes</td>\n",
       "      <td>1750000</td>\n",
       "      <td>5</td>\n",
       "      <td>1</td>\n",
       "      <td>No</td>\n",
       "      <td>Yes</td>\n",
       "      <td>0</td>\n",
       "    </tr>\n",
       "    <tr>\n",
       "      <th>1984</th>\n",
       "      <td>28</td>\n",
       "      <td>Private Sector/Self Employed</td>\n",
       "      <td>Yes</td>\n",
       "      <td>1150000</td>\n",
       "      <td>6</td>\n",
       "      <td>1</td>\n",
       "      <td>No</td>\n",
       "      <td>No</td>\n",
       "      <td>0</td>\n",
       "    </tr>\n",
       "    <tr>\n",
       "      <th>1985</th>\n",
       "      <td>34</td>\n",
       "      <td>Private Sector/Self Employed</td>\n",
       "      <td>Yes</td>\n",
       "      <td>1000000</td>\n",
       "      <td>6</td>\n",
       "      <td>0</td>\n",
       "      <td>Yes</td>\n",
       "      <td>Yes</td>\n",
       "      <td>1</td>\n",
       "    </tr>\n",
       "    <tr>\n",
       "      <th>1986</th>\n",
       "      <td>34</td>\n",
       "      <td>Private Sector/Self Employed</td>\n",
       "      <td>Yes</td>\n",
       "      <td>500000</td>\n",
       "      <td>4</td>\n",
       "      <td>0</td>\n",
       "      <td>No</td>\n",
       "      <td>No</td>\n",
       "      <td>0</td>\n",
       "    </tr>\n",
       "  </tbody>\n",
       "</table>\n",
       "<p>1987 rows × 9 columns</p>\n",
       "</div>"
      ],
      "text/plain": [
       "      age                    employment college_grad   income  family_size  \\\n",
       "0      31             Government Sector          Yes   400000            6   \n",
       "1      31  Private Sector/Self Employed          Yes  1250000            7   \n",
       "2      34  Private Sector/Self Employed          Yes   500000            4   \n",
       "3      28  Private Sector/Self Employed          Yes   700000            3   \n",
       "4      28  Private Sector/Self Employed          Yes   700000            8   \n",
       "...   ...                           ...          ...      ...          ...   \n",
       "1982   33  Private Sector/Self Employed          Yes  1500000            4   \n",
       "1983   28  Private Sector/Self Employed          Yes  1750000            5   \n",
       "1984   28  Private Sector/Self Employed          Yes  1150000            6   \n",
       "1985   34  Private Sector/Self Employed          Yes  1000000            6   \n",
       "1986   34  Private Sector/Self Employed          Yes   500000            4   \n",
       "\n",
       "      conditions frequent_traveler first_trip  travel_insurance  \n",
       "0              1                No         No                 0  \n",
       "1              0                No         No                 0  \n",
       "2              1                No         No                 1  \n",
       "3              1                No         No                 0  \n",
       "4              1               Yes         No                 0  \n",
       "...          ...               ...        ...               ...  \n",
       "1982           0               Yes        Yes                 1  \n",
       "1983           1                No        Yes                 0  \n",
       "1984           1                No         No                 0  \n",
       "1985           0               Yes        Yes                 1  \n",
       "1986           0                No         No                 0  \n",
       "\n",
       "[1987 rows x 9 columns]"
      ]
     },
     "execution_count": 5,
     "metadata": {},
     "output_type": "execute_result"
    }
   ],
   "source": [
    "df = pd.read_csv(\"TravelInsurancePrediction.csv\")\n",
    "# Rename columns\n",
    "df = df.rename(\n",
    "    columns={\n",
    "        \"\": \"index\",\n",
    "        \"Age\": \"age\",\n",
    "        \"Employment Type\": \"employment\",\n",
    "        \"GraduateOrNot\": \"college_grad\",\n",
    "        \"AnnualIncome\": \"income\",\n",
    "        \"FamilyMembers\": \"family_size\",\n",
    "        \"ChronicDiseases\": \"conditions\",\n",
    "        \"FrequentFlyer\": \"frequent_traveler\",\n",
    "        \"EverTravelledAbroad\": \"first_trip\",\n",
    "        \"TravelInsurance\": \"travel_insurance\",\n",
    "    }\n",
    ")\n",
    "# Drop unamed index column\n",
    "df = df.iloc[:, 1:]\n",
    "df"
   ]
  },
  {
   "cell_type": "markdown",
   "metadata": {},
   "source": [
    "## Exploratory Data Analysis"
   ]
  },
  {
   "cell_type": "markdown",
   "metadata": {},
   "source": [
    "Now that we've read in our dataset, We can see a mix of categorical and numerical variables, leaning harder on the categorical binary variables. Let' start by sense-checking our domains first."
   ]
  },
  {
   "cell_type": "code",
   "execution_count": 6,
   "metadata": {},
   "outputs": [
    {
     "data": {
      "text/html": [
       "<pre style=\"white-space:pre;overflow-x:auto;line-height:normal;font-family:Menlo,'DejaVu Sans Mono',consolas,'Courier New',monospace\">╭──────────────────────────────────────────────── skimpy summary ─────────────────────────────────────────────────╮\n",
       "│ <span style=\"font-style: italic\">         Data Summary         </span> <span style=\"font-style: italic\">      Data Types       </span>                                                          │\n",
       "│ ┏━━━━━━━━━━━━━━━━━━━┳━━━━━━━━┓ ┏━━━━━━━━━━━━━┳━━━━━━━┓                                                          │\n",
       "│ ┃<span style=\"color: #008080; text-decoration-color: #008080; font-weight: bold\"> dataframe         </span>┃<span style=\"color: #008080; text-decoration-color: #008080; font-weight: bold\"> Values </span>┃ ┃<span style=\"color: #008080; text-decoration-color: #008080; font-weight: bold\"> Column Type </span>┃<span style=\"color: #008080; text-decoration-color: #008080; font-weight: bold\"> Count </span>┃                                                          │\n",
       "│ ┡━━━━━━━━━━━━━━━━━━━╇━━━━━━━━┩ ┡━━━━━━━━━━━━━╇━━━━━━━┩                                                          │\n",
       "│ │ Number of rows    │ 1987   │ │ int64       │ 5     │                                                          │\n",
       "│ │ Number of columns │ 9      │ │ string      │ 4     │                                                          │\n",
       "│ └───────────────────┴────────┘ └─────────────┴───────┘                                                          │\n",
       "│ <span style=\"font-style: italic\">                                                    number                                                    </span>  │\n",
       "│ ┏━━━━━━━━━━━━━━━━━━━┳━━━━━┳━━━━━━━┳━━━━━━━━━┳━━━━━━━━┳━━━━━━━━┳━━━━━━━━┳━━━━━━━━┳━━━━━━━━━┳━━━━━━━━━┳━━━━━━━━┓  │\n",
       "│ ┃<span style=\"font-weight: bold\"> column_name       </span>┃<span style=\"font-weight: bold\"> NA  </span>┃<span style=\"font-weight: bold\"> NA %  </span>┃<span style=\"font-weight: bold\"> mean    </span>┃<span style=\"font-weight: bold\"> sd     </span>┃<span style=\"font-weight: bold\"> p0     </span>┃<span style=\"font-weight: bold\"> p25    </span>┃<span style=\"font-weight: bold\"> p50    </span>┃<span style=\"font-weight: bold\"> p75     </span>┃<span style=\"font-weight: bold\"> p100    </span>┃<span style=\"font-weight: bold\"> hist   </span>┃  │\n",
       "│ ┡━━━━━━━━━━━━━━━━━━━╇━━━━━╇━━━━━━━╇━━━━━━━━━╇━━━━━━━━╇━━━━━━━━╇━━━━━━━━╇━━━━━━━━╇━━━━━━━━━╇━━━━━━━━━╇━━━━━━━━┩  │\n",
       "│ │ <span style=\"color: #af87ff; text-decoration-color: #af87ff\">age              </span> │ <span style=\"color: #008080; text-decoration-color: #008080\">  0</span> │ <span style=\"color: #008080; text-decoration-color: #008080\">    0</span> │ <span style=\"color: #008080; text-decoration-color: #008080\">  29.65</span> │ <span style=\"color: #008080; text-decoration-color: #008080\"> 2.913</span> │ <span style=\"color: #008080; text-decoration-color: #008080\">    25</span> │ <span style=\"color: #008080; text-decoration-color: #008080\">    28</span> │ <span style=\"color: #008080; text-decoration-color: #008080\">    29</span> │ <span style=\"color: #008080; text-decoration-color: #008080\">     32</span> │ <span style=\"color: #008080; text-decoration-color: #008080\">     35</span> │ <span style=\"color: #008000; text-decoration-color: #008000\">▃▇▂▃▃▅</span> │  │\n",
       "│ │ <span style=\"color: #af87ff; text-decoration-color: #af87ff\">income           </span> │ <span style=\"color: #008080; text-decoration-color: #008080\">  0</span> │ <span style=\"color: #008080; text-decoration-color: #008080\">    0</span> │ <span style=\"color: #008080; text-decoration-color: #008080\"> 932800</span> │ <span style=\"color: #008080; text-decoration-color: #008080\">376900</span> │ <span style=\"color: #008080; text-decoration-color: #008080\">300000</span> │ <span style=\"color: #008080; text-decoration-color: #008080\">600000</span> │ <span style=\"color: #008080; text-decoration-color: #008080\">900000</span> │ <span style=\"color: #008080; text-decoration-color: #008080\">1250000</span> │ <span style=\"color: #008080; text-decoration-color: #008080\">1800000</span> │ <span style=\"color: #008000; text-decoration-color: #008000\">▆▇▆▇▇▁</span> │  │\n",
       "│ │ <span style=\"color: #af87ff; text-decoration-color: #af87ff\">family_size      </span> │ <span style=\"color: #008080; text-decoration-color: #008080\">  0</span> │ <span style=\"color: #008080; text-decoration-color: #008080\">    0</span> │ <span style=\"color: #008080; text-decoration-color: #008080\">  4.753</span> │ <span style=\"color: #008080; text-decoration-color: #008080\">  1.61</span> │ <span style=\"color: #008080; text-decoration-color: #008080\">     2</span> │ <span style=\"color: #008080; text-decoration-color: #008080\">     4</span> │ <span style=\"color: #008080; text-decoration-color: #008080\">     5</span> │ <span style=\"color: #008080; text-decoration-color: #008080\">      6</span> │ <span style=\"color: #008080; text-decoration-color: #008080\">      9</span> │ <span style=\"color: #008000; text-decoration-color: #008000\">▇▇▇▅▃▂</span> │  │\n",
       "│ │ <span style=\"color: #af87ff; text-decoration-color: #af87ff\">conditions       </span> │ <span style=\"color: #008080; text-decoration-color: #008080\">  0</span> │ <span style=\"color: #008080; text-decoration-color: #008080\">    0</span> │ <span style=\"color: #008080; text-decoration-color: #008080\"> 0.2778</span> │ <span style=\"color: #008080; text-decoration-color: #008080\"> 0.448</span> │ <span style=\"color: #008080; text-decoration-color: #008080\">     0</span> │ <span style=\"color: #008080; text-decoration-color: #008080\">     0</span> │ <span style=\"color: #008080; text-decoration-color: #008080\">     0</span> │ <span style=\"color: #008080; text-decoration-color: #008080\">      1</span> │ <span style=\"color: #008080; text-decoration-color: #008080\">      1</span> │ <span style=\"color: #008000; text-decoration-color: #008000\">▇    ▃</span> │  │\n",
       "│ │ <span style=\"color: #af87ff; text-decoration-color: #af87ff\">travel_insurance </span> │ <span style=\"color: #008080; text-decoration-color: #008080\">  0</span> │ <span style=\"color: #008080; text-decoration-color: #008080\">    0</span> │ <span style=\"color: #008080; text-decoration-color: #008080\"> 0.3573</span> │ <span style=\"color: #008080; text-decoration-color: #008080\">0.4793</span> │ <span style=\"color: #008080; text-decoration-color: #008080\">     0</span> │ <span style=\"color: #008080; text-decoration-color: #008080\">     0</span> │ <span style=\"color: #008080; text-decoration-color: #008080\">     0</span> │ <span style=\"color: #008080; text-decoration-color: #008080\">      1</span> │ <span style=\"color: #008080; text-decoration-color: #008080\">      1</span> │ <span style=\"color: #008000; text-decoration-color: #008000\">▇    ▅</span> │  │\n",
       "│ └───────────────────┴─────┴───────┴─────────┴────────┴────────┴────────┴────────┴─────────┴─────────┴────────┘  │\n",
       "│ <span style=\"font-style: italic\">                                                    string                                                    </span>  │\n",
       "│ ┏━━━━━━━━━━━━━━━━━━━━━━━━━━━━━━━━━━━┳━━━━━━━━┳━━━━━━━━━━━┳━━━━━━━━━━━━━━━━━━━━━━━━━━━┳━━━━━━━━━━━━━━━━━━━━━━━┓  │\n",
       "│ ┃<span style=\"font-weight: bold\"> column_name                       </span>┃<span style=\"font-weight: bold\"> NA     </span>┃<span style=\"font-weight: bold\"> NA %      </span>┃<span style=\"font-weight: bold\"> words per row             </span>┃<span style=\"font-weight: bold\"> total words           </span>┃  │\n",
       "│ ┡━━━━━━━━━━━━━━━━━━━━━━━━━━━━━━━━━━━╇━━━━━━━━╇━━━━━━━━━━━╇━━━━━━━━━━━━━━━━━━━━━━━━━━━╇━━━━━━━━━━━━━━━━━━━━━━━┩  │\n",
       "│ │ <span style=\"color: #af87ff; text-decoration-color: #af87ff\">employment                       </span> │ <span style=\"color: #008080; text-decoration-color: #008080\">     0</span> │ <span style=\"color: #008080; text-decoration-color: #008080\">        0</span> │ <span style=\"color: #008080; text-decoration-color: #008080\">                      2.7</span> │ <span style=\"color: #008080; text-decoration-color: #008080\">                 5391</span> │  │\n",
       "│ │ <span style=\"color: #af87ff; text-decoration-color: #af87ff\">college_grad                     </span> │ <span style=\"color: #008080; text-decoration-color: #008080\">     0</span> │ <span style=\"color: #008080; text-decoration-color: #008080\">        0</span> │ <span style=\"color: #008080; text-decoration-color: #008080\">                        1</span> │ <span style=\"color: #008080; text-decoration-color: #008080\">                 1987</span> │  │\n",
       "│ │ <span style=\"color: #af87ff; text-decoration-color: #af87ff\">frequent_traveler                </span> │ <span style=\"color: #008080; text-decoration-color: #008080\">     0</span> │ <span style=\"color: #008080; text-decoration-color: #008080\">        0</span> │ <span style=\"color: #008080; text-decoration-color: #008080\">                        1</span> │ <span style=\"color: #008080; text-decoration-color: #008080\">                 1987</span> │  │\n",
       "│ │ <span style=\"color: #af87ff; text-decoration-color: #af87ff\">first_trip                       </span> │ <span style=\"color: #008080; text-decoration-color: #008080\">     0</span> │ <span style=\"color: #008080; text-decoration-color: #008080\">        0</span> │ <span style=\"color: #008080; text-decoration-color: #008080\">                        1</span> │ <span style=\"color: #008080; text-decoration-color: #008080\">                 1987</span> │  │\n",
       "│ └───────────────────────────────────┴────────┴───────────┴───────────────────────────┴───────────────────────┘  │\n",
       "╰────────────────────────────────────────────────────── End ──────────────────────────────────────────────────────╯\n",
       "</pre>\n"
      ],
      "text/plain": [
       "╭──────────────────────────────────────────────── skimpy summary ─────────────────────────────────────────────────╮\n",
       "│ \u001b[3m         Data Summary         \u001b[0m \u001b[3m      Data Types       \u001b[0m                                                          │\n",
       "│ ┏━━━━━━━━━━━━━━━━━━━┳━━━━━━━━┓ ┏━━━━━━━━━━━━━┳━━━━━━━┓                                                          │\n",
       "│ ┃\u001b[1;36m \u001b[0m\u001b[1;36mdataframe        \u001b[0m\u001b[1;36m \u001b[0m┃\u001b[1;36m \u001b[0m\u001b[1;36mValues\u001b[0m\u001b[1;36m \u001b[0m┃ ┃\u001b[1;36m \u001b[0m\u001b[1;36mColumn Type\u001b[0m\u001b[1;36m \u001b[0m┃\u001b[1;36m \u001b[0m\u001b[1;36mCount\u001b[0m\u001b[1;36m \u001b[0m┃                                                          │\n",
       "│ ┡━━━━━━━━━━━━━━━━━━━╇━━━━━━━━┩ ┡━━━━━━━━━━━━━╇━━━━━━━┩                                                          │\n",
       "│ │ Number of rows    │ 1987   │ │ int64       │ 5     │                                                          │\n",
       "│ │ Number of columns │ 9      │ │ string      │ 4     │                                                          │\n",
       "│ └───────────────────┴────────┘ └─────────────┴───────┘                                                          │\n",
       "│ \u001b[3m                                                    number                                                    \u001b[0m  │\n",
       "│ ┏━━━━━━━━━━━━━━━━━━━┳━━━━━┳━━━━━━━┳━━━━━━━━━┳━━━━━━━━┳━━━━━━━━┳━━━━━━━━┳━━━━━━━━┳━━━━━━━━━┳━━━━━━━━━┳━━━━━━━━┓  │\n",
       "│ ┃\u001b[1m \u001b[0m\u001b[1mcolumn_name      \u001b[0m\u001b[1m \u001b[0m┃\u001b[1m \u001b[0m\u001b[1mNA \u001b[0m\u001b[1m \u001b[0m┃\u001b[1m \u001b[0m\u001b[1mNA % \u001b[0m\u001b[1m \u001b[0m┃\u001b[1m \u001b[0m\u001b[1mmean   \u001b[0m\u001b[1m \u001b[0m┃\u001b[1m \u001b[0m\u001b[1msd    \u001b[0m\u001b[1m \u001b[0m┃\u001b[1m \u001b[0m\u001b[1mp0    \u001b[0m\u001b[1m \u001b[0m┃\u001b[1m \u001b[0m\u001b[1mp25   \u001b[0m\u001b[1m \u001b[0m┃\u001b[1m \u001b[0m\u001b[1mp50   \u001b[0m\u001b[1m \u001b[0m┃\u001b[1m \u001b[0m\u001b[1mp75    \u001b[0m\u001b[1m \u001b[0m┃\u001b[1m \u001b[0m\u001b[1mp100   \u001b[0m\u001b[1m \u001b[0m┃\u001b[1m \u001b[0m\u001b[1mhist  \u001b[0m\u001b[1m \u001b[0m┃  │\n",
       "│ ┡━━━━━━━━━━━━━━━━━━━╇━━━━━╇━━━━━━━╇━━━━━━━━━╇━━━━━━━━╇━━━━━━━━╇━━━━━━━━╇━━━━━━━━╇━━━━━━━━━╇━━━━━━━━━╇━━━━━━━━┩  │\n",
       "│ │ \u001b[38;5;141mage              \u001b[0m │ \u001b[36m  0\u001b[0m │ \u001b[36m    0\u001b[0m │ \u001b[36m  29.65\u001b[0m │ \u001b[36m 2.913\u001b[0m │ \u001b[36m    25\u001b[0m │ \u001b[36m    28\u001b[0m │ \u001b[36m    29\u001b[0m │ \u001b[36m     32\u001b[0m │ \u001b[36m     35\u001b[0m │ \u001b[32m▃▇▂▃▃▅\u001b[0m │  │\n",
       "│ │ \u001b[38;5;141mincome           \u001b[0m │ \u001b[36m  0\u001b[0m │ \u001b[36m    0\u001b[0m │ \u001b[36m 932800\u001b[0m │ \u001b[36m376900\u001b[0m │ \u001b[36m300000\u001b[0m │ \u001b[36m600000\u001b[0m │ \u001b[36m900000\u001b[0m │ \u001b[36m1250000\u001b[0m │ \u001b[36m1800000\u001b[0m │ \u001b[32m▆▇▆▇▇▁\u001b[0m │  │\n",
       "│ │ \u001b[38;5;141mfamily_size      \u001b[0m │ \u001b[36m  0\u001b[0m │ \u001b[36m    0\u001b[0m │ \u001b[36m  4.753\u001b[0m │ \u001b[36m  1.61\u001b[0m │ \u001b[36m     2\u001b[0m │ \u001b[36m     4\u001b[0m │ \u001b[36m     5\u001b[0m │ \u001b[36m      6\u001b[0m │ \u001b[36m      9\u001b[0m │ \u001b[32m▇▇▇▅▃▂\u001b[0m │  │\n",
       "│ │ \u001b[38;5;141mconditions       \u001b[0m │ \u001b[36m  0\u001b[0m │ \u001b[36m    0\u001b[0m │ \u001b[36m 0.2778\u001b[0m │ \u001b[36m 0.448\u001b[0m │ \u001b[36m     0\u001b[0m │ \u001b[36m     0\u001b[0m │ \u001b[36m     0\u001b[0m │ \u001b[36m      1\u001b[0m │ \u001b[36m      1\u001b[0m │ \u001b[32m▇    ▃\u001b[0m │  │\n",
       "│ │ \u001b[38;5;141mtravel_insurance \u001b[0m │ \u001b[36m  0\u001b[0m │ \u001b[36m    0\u001b[0m │ \u001b[36m 0.3573\u001b[0m │ \u001b[36m0.4793\u001b[0m │ \u001b[36m     0\u001b[0m │ \u001b[36m     0\u001b[0m │ \u001b[36m     0\u001b[0m │ \u001b[36m      1\u001b[0m │ \u001b[36m      1\u001b[0m │ \u001b[32m▇    ▅\u001b[0m │  │\n",
       "│ └───────────────────┴─────┴───────┴─────────┴────────┴────────┴────────┴────────┴─────────┴─────────┴────────┘  │\n",
       "│ \u001b[3m                                                    string                                                    \u001b[0m  │\n",
       "│ ┏━━━━━━━━━━━━━━━━━━━━━━━━━━━━━━━━━━━┳━━━━━━━━┳━━━━━━━━━━━┳━━━━━━━━━━━━━━━━━━━━━━━━━━━┳━━━━━━━━━━━━━━━━━━━━━━━┓  │\n",
       "│ ┃\u001b[1m \u001b[0m\u001b[1mcolumn_name                      \u001b[0m\u001b[1m \u001b[0m┃\u001b[1m \u001b[0m\u001b[1mNA    \u001b[0m\u001b[1m \u001b[0m┃\u001b[1m \u001b[0m\u001b[1mNA %     \u001b[0m\u001b[1m \u001b[0m┃\u001b[1m \u001b[0m\u001b[1mwords per row            \u001b[0m\u001b[1m \u001b[0m┃\u001b[1m \u001b[0m\u001b[1mtotal words          \u001b[0m\u001b[1m \u001b[0m┃  │\n",
       "│ ┡━━━━━━━━━━━━━━━━━━━━━━━━━━━━━━━━━━━╇━━━━━━━━╇━━━━━━━━━━━╇━━━━━━━━━━━━━━━━━━━━━━━━━━━╇━━━━━━━━━━━━━━━━━━━━━━━┩  │\n",
       "│ │ \u001b[38;5;141memployment                       \u001b[0m │ \u001b[36m     0\u001b[0m │ \u001b[36m        0\u001b[0m │ \u001b[36m                      2.7\u001b[0m │ \u001b[36m                 5391\u001b[0m │  │\n",
       "│ │ \u001b[38;5;141mcollege_grad                     \u001b[0m │ \u001b[36m     0\u001b[0m │ \u001b[36m        0\u001b[0m │ \u001b[36m                        1\u001b[0m │ \u001b[36m                 1987\u001b[0m │  │\n",
       "│ │ \u001b[38;5;141mfrequent_traveler                \u001b[0m │ \u001b[36m     0\u001b[0m │ \u001b[36m        0\u001b[0m │ \u001b[36m                        1\u001b[0m │ \u001b[36m                 1987\u001b[0m │  │\n",
       "│ │ \u001b[38;5;141mfirst_trip                       \u001b[0m │ \u001b[36m     0\u001b[0m │ \u001b[36m        0\u001b[0m │ \u001b[36m                        1\u001b[0m │ \u001b[36m                 1987\u001b[0m │  │\n",
       "│ └───────────────────────────────────┴────────┴───────────┴───────────────────────────┴───────────────────────┘  │\n",
       "╰────────────────────────────────────────────────────── End ──────────────────────────────────────────────────────╯\n"
      ]
     },
     "metadata": {},
     "output_type": "display_data"
    }
   ],
   "source": [
    "skim(df)"
   ]
  },
  {
   "cell_type": "markdown",
   "metadata": {},
   "source": [
    "Our income range of 300,000-1,800,000 INR is per annum. According to one measure, 383,000 INR is the average annual income in 2024. According to the most recent World Bank data, the country had a Gini coefficient of 32.8, which is fairly high. This level of inequality means that there will be people within the country making significantly more and significantly less than this number, and therefore this range could be considered reasonable depending on how we'd like to use our analysis. <br><br> Ages are a pretty tight band at 25-34, with family sizes ranging from 2-9 people. Taken together, these three variables suggest that demographically speaking, our dataset comprises young professionals that are traveling either with their partners, their children, or other family members. <br><br>Now that we know more about the general domain of our features, let's check for null values. "
   ]
  },
  {
   "cell_type": "markdown",
   "metadata": {},
   "source": [
    "### Checking for null values"
   ]
  },
  {
   "cell_type": "code",
   "execution_count": 7,
   "metadata": {},
   "outputs": [
    {
     "data": {
      "text/plain": [
       "age                  0\n",
       "employment           0\n",
       "college_grad         0\n",
       "income               0\n",
       "family_size          0\n",
       "conditions           0\n",
       "frequent_traveler    0\n",
       "first_trip           0\n",
       "travel_insurance     0\n",
       "dtype: int64"
      ]
     },
     "execution_count": 7,
     "metadata": {},
     "output_type": "execute_result"
    }
   ],
   "source": [
    "df.isnull().sum()"
   ]
  },
  {
   "cell_type": "markdown",
   "metadata": {},
   "source": [
    "We don't have any null values in this dataset, which is pretty convenient, we can of course keep an eye out for null values being coded as -1 or '' or some other way as we continue. Let's let's check for balance across the features in our dataset since that might also be a necessary detail for our modeling later. "
   ]
  },
  {
   "cell_type": "markdown",
   "metadata": {},
   "source": [
    "### Feature Exploration"
   ]
  },
  {
   "cell_type": "markdown",
   "metadata": {},
   "source": [
    "#### Categorical/Binary features"
   ]
  },
  {
   "cell_type": "code",
   "execution_count": 56,
   "metadata": {},
   "outputs": [
    {
     "data": {
      "image/svg+xml": [
       "<svg class=\"main-svg\" xmlns=\"http://www.w3.org/2000/svg\" xmlns:xlink=\"http://www.w3.org/1999/xlink\" width=\"1200\" height=\"750\" style=\"\" viewBox=\"0 0 1200 750\"><rect x=\"0\" y=\"0\" width=\"1200\" height=\"750\" style=\"fill: rgb(255, 255, 255); fill-opacity: 1;\"/><defs id=\"defs-84872e\"><g class=\"clips\"><clipPath id=\"clip84872exyplot\" class=\"plotclip\"><rect width=\"300.44444444444446\" height=\"213.75\"/></clipPath><clipPath id=\"clip84872ex2y2plot\" class=\"plotclip\"><rect width=\"300.44444444444446\" height=\"213.75\"/></clipPath><clipPath id=\"clip84872ex3y3plot\" class=\"plotclip\"><rect width=\"300.4444444444444\" height=\"213.75\"/></clipPath><clipPath id=\"clip84872ex4y4plot\" class=\"plotclip\"><rect width=\"300.44444444444446\" height=\"213.75\"/></clipPath><clipPath id=\"clip84872ex5y5plot\" class=\"plotclip\"><rect width=\"300.44444444444446\" height=\"213.75\"/></clipPath><clipPath id=\"clip84872ex6y6plot\" class=\"plotclip\"><rect width=\"300.4444444444444\" height=\"213.75\"/></clipPath><clipPath class=\"axesclip\" id=\"clip84872ex\"><rect x=\"80\" y=\"0\" width=\"300.44444444444446\" height=\"750\"/></clipPath><clipPath class=\"axesclip\" id=\"clip84872ey\"><rect x=\"0\" y=\"100\" width=\"1200\" height=\"213.75\"/></clipPath><clipPath class=\"axesclip\" id=\"clip84872exy\"><rect x=\"80\" y=\"100\" width=\"300.44444444444446\" height=\"213.75\"/></clipPath><clipPath class=\"axesclip\" id=\"clip84872ey2\"><rect x=\"0\" y=\"100\" width=\"1200\" height=\"213.75\"/></clipPath><clipPath class=\"axesclip\" id=\"clip84872exy2\"><rect x=\"80\" y=\"100\" width=\"300.44444444444446\" height=\"213.75\"/></clipPath><clipPath class=\"axesclip\" id=\"clip84872ey3\"><rect x=\"0\" y=\"100\" width=\"1200\" height=\"213.75\"/></clipPath><clipPath class=\"axesclip\" id=\"clip84872exy3\"><rect x=\"80\" y=\"100\" width=\"300.44444444444446\" height=\"213.75\"/></clipPath><clipPath class=\"axesclip\" id=\"clip84872ey4\"><rect x=\"0\" y=\"456.25\" width=\"1200\" height=\"213.75\"/></clipPath><clipPath class=\"axesclip\" id=\"clip84872exy4\"><rect x=\"80\" y=\"456.25\" width=\"300.44444444444446\" height=\"213.75\"/></clipPath><clipPath class=\"axesclip\" id=\"clip84872ey5\"><rect x=\"0\" y=\"456.25\" width=\"1200\" height=\"213.75\"/></clipPath><clipPath class=\"axesclip\" id=\"clip84872exy5\"><rect x=\"80\" y=\"456.25\" width=\"300.44444444444446\" height=\"213.75\"/></clipPath><clipPath class=\"axesclip\" id=\"clip84872ey6\"><rect x=\"0\" y=\"456.25\" width=\"1200\" height=\"213.75\"/></clipPath><clipPath class=\"axesclip\" id=\"clip84872exy6\"><rect x=\"80\" y=\"456.25\" width=\"300.44444444444446\" height=\"213.75\"/></clipPath><clipPath class=\"axesclip\" id=\"clip84872ex2\"><rect x=\"449.77777777777777\" y=\"0\" width=\"300.44444444444446\" height=\"750\"/></clipPath><clipPath class=\"axesclip\" id=\"clip84872ex2y\"><rect x=\"449.77777777777777\" y=\"100\" width=\"300.44444444444446\" height=\"213.75\"/></clipPath><clipPath class=\"axesclip\" id=\"clip84872ex2y2\"><rect x=\"449.77777777777777\" y=\"100\" width=\"300.44444444444446\" height=\"213.75\"/></clipPath><clipPath class=\"axesclip\" id=\"clip84872ex2y3\"><rect x=\"449.77777777777777\" y=\"100\" width=\"300.44444444444446\" height=\"213.75\"/></clipPath><clipPath class=\"axesclip\" id=\"clip84872ex2y4\"><rect x=\"449.77777777777777\" y=\"456.25\" width=\"300.44444444444446\" height=\"213.75\"/></clipPath><clipPath class=\"axesclip\" id=\"clip84872ex2y5\"><rect x=\"449.77777777777777\" y=\"456.25\" width=\"300.44444444444446\" height=\"213.75\"/></clipPath><clipPath class=\"axesclip\" id=\"clip84872ex2y6\"><rect x=\"449.77777777777777\" y=\"456.25\" width=\"300.44444444444446\" height=\"213.75\"/></clipPath><clipPath class=\"axesclip\" id=\"clip84872ex3\"><rect x=\"819.5555555555555\" y=\"0\" width=\"300.4444444444444\" height=\"750\"/></clipPath><clipPath class=\"axesclip\" id=\"clip84872ex3y\"><rect x=\"819.5555555555555\" y=\"100\" width=\"300.4444444444444\" height=\"213.75\"/></clipPath><clipPath class=\"axesclip\" id=\"clip84872ex3y2\"><rect x=\"819.5555555555555\" y=\"100\" width=\"300.4444444444444\" height=\"213.75\"/></clipPath><clipPath class=\"axesclip\" id=\"clip84872ex3y3\"><rect x=\"819.5555555555555\" y=\"100\" width=\"300.4444444444444\" height=\"213.75\"/></clipPath><clipPath class=\"axesclip\" id=\"clip84872ex3y4\"><rect x=\"819.5555555555555\" y=\"456.25\" width=\"300.4444444444444\" height=\"213.75\"/></clipPath><clipPath class=\"axesclip\" id=\"clip84872ex3y5\"><rect x=\"819.5555555555555\" y=\"456.25\" width=\"300.4444444444444\" height=\"213.75\"/></clipPath><clipPath class=\"axesclip\" id=\"clip84872ex3y6\"><rect x=\"819.5555555555555\" y=\"456.25\" width=\"300.4444444444444\" height=\"213.75\"/></clipPath><clipPath class=\"axesclip\" id=\"clip84872ex4\"><rect x=\"80\" y=\"0\" width=\"300.44444444444446\" height=\"750\"/></clipPath><clipPath class=\"axesclip\" id=\"clip84872ex4y\"><rect x=\"80\" y=\"100\" width=\"300.44444444444446\" height=\"213.75\"/></clipPath><clipPath class=\"axesclip\" id=\"clip84872ex4y2\"><rect x=\"80\" y=\"100\" width=\"300.44444444444446\" height=\"213.75\"/></clipPath><clipPath class=\"axesclip\" id=\"clip84872ex4y3\"><rect x=\"80\" y=\"100\" width=\"300.44444444444446\" height=\"213.75\"/></clipPath><clipPath class=\"axesclip\" id=\"clip84872ex4y4\"><rect x=\"80\" y=\"456.25\" width=\"300.44444444444446\" height=\"213.75\"/></clipPath><clipPath class=\"axesclip\" id=\"clip84872ex4y5\"><rect x=\"80\" y=\"456.25\" width=\"300.44444444444446\" height=\"213.75\"/></clipPath><clipPath class=\"axesclip\" id=\"clip84872ex4y6\"><rect x=\"80\" y=\"456.25\" width=\"300.44444444444446\" height=\"213.75\"/></clipPath><clipPath class=\"axesclip\" id=\"clip84872ex5\"><rect x=\"449.77777777777777\" y=\"0\" width=\"300.44444444444446\" height=\"750\"/></clipPath><clipPath class=\"axesclip\" id=\"clip84872ex5y\"><rect x=\"449.77777777777777\" y=\"100\" width=\"300.44444444444446\" height=\"213.75\"/></clipPath><clipPath class=\"axesclip\" id=\"clip84872ex5y2\"><rect x=\"449.77777777777777\" y=\"100\" width=\"300.44444444444446\" height=\"213.75\"/></clipPath><clipPath class=\"axesclip\" id=\"clip84872ex5y3\"><rect x=\"449.77777777777777\" y=\"100\" width=\"300.44444444444446\" height=\"213.75\"/></clipPath><clipPath class=\"axesclip\" id=\"clip84872ex5y4\"><rect x=\"449.77777777777777\" y=\"456.25\" width=\"300.44444444444446\" height=\"213.75\"/></clipPath><clipPath class=\"axesclip\" id=\"clip84872ex5y5\"><rect x=\"449.77777777777777\" y=\"456.25\" width=\"300.44444444444446\" height=\"213.75\"/></clipPath><clipPath class=\"axesclip\" id=\"clip84872ex5y6\"><rect x=\"449.77777777777777\" y=\"456.25\" width=\"300.44444444444446\" height=\"213.75\"/></clipPath><clipPath class=\"axesclip\" id=\"clip84872ex6\"><rect x=\"819.5555555555555\" y=\"0\" width=\"300.4444444444444\" height=\"750\"/></clipPath><clipPath class=\"axesclip\" id=\"clip84872ex6y\"><rect x=\"819.5555555555555\" y=\"100\" width=\"300.4444444444444\" height=\"213.75\"/></clipPath><clipPath class=\"axesclip\" id=\"clip84872ex6y2\"><rect x=\"819.5555555555555\" y=\"100\" width=\"300.4444444444444\" height=\"213.75\"/></clipPath><clipPath class=\"axesclip\" id=\"clip84872ex6y3\"><rect x=\"819.5555555555555\" y=\"100\" width=\"300.4444444444444\" height=\"213.75\"/></clipPath><clipPath class=\"axesclip\" id=\"clip84872ex6y4\"><rect x=\"819.5555555555555\" y=\"456.25\" width=\"300.4444444444444\" height=\"213.75\"/></clipPath><clipPath class=\"axesclip\" id=\"clip84872ex6y5\"><rect x=\"819.5555555555555\" y=\"456.25\" width=\"300.4444444444444\" height=\"213.75\"/></clipPath><clipPath class=\"axesclip\" id=\"clip84872ex6y6\"><rect x=\"819.5555555555555\" y=\"456.25\" width=\"300.4444444444444\" height=\"213.75\"/></clipPath></g><g class=\"gradients\"/><g class=\"patterns\"/></defs><g class=\"bglayer\"><rect class=\"bg\" x=\"80\" y=\"100\" width=\"300.44444444444446\" height=\"213.75\" style=\"fill: rgb(229, 236, 246); fill-opacity: 1; stroke-width: 0;\"/><rect class=\"bg\" x=\"449.77777777777777\" y=\"100\" width=\"300.44444444444446\" height=\"213.75\" style=\"fill: rgb(229, 236, 246); fill-opacity: 1; stroke-width: 0;\"/><rect class=\"bg\" x=\"819.5555555555555\" y=\"100\" width=\"300.4444444444444\" height=\"213.75\" style=\"fill: rgb(229, 236, 246); fill-opacity: 1; stroke-width: 0;\"/><rect class=\"bg\" x=\"80\" y=\"456.25\" width=\"300.44444444444446\" height=\"213.75\" style=\"fill: rgb(229, 236, 246); fill-opacity: 1; stroke-width: 0;\"/><rect class=\"bg\" x=\"449.77777777777777\" y=\"456.25\" width=\"300.44444444444446\" height=\"213.75\" style=\"fill: rgb(229, 236, 246); fill-opacity: 1; stroke-width: 0;\"/><rect class=\"bg\" x=\"819.5555555555555\" y=\"456.25\" width=\"300.4444444444444\" height=\"213.75\" style=\"fill: rgb(229, 236, 246); fill-opacity: 1; stroke-width: 0;\"/></g><g class=\"layer-below\"><g class=\"imagelayer\"/><g class=\"shapelayer\"/></g><g class=\"cartesianlayer\"><g class=\"subplot xy\"><g class=\"layer-subplot\"><g class=\"shapelayer\"/><g class=\"imagelayer\"/></g><g class=\"minor-gridlayer\"><g class=\"x\"/><g class=\"y\"/></g><g class=\"gridlayer\"><g class=\"x\"/><g class=\"y\"><path class=\"ygrid crisp\" transform=\"translate(0,253.74)\" d=\"M80,0h300.44444444444446\" style=\"stroke: rgb(255, 255, 255); stroke-opacity: 1; stroke-width: 1px;\"/><path class=\"ygrid crisp\" transform=\"translate(0,193.74)\" d=\"M80,0h300.44444444444446\" style=\"stroke: rgb(255, 255, 255); stroke-opacity: 1; stroke-width: 1px;\"/><path class=\"ygrid crisp\" transform=\"translate(0,133.73)\" d=\"M80,0h300.44444444444446\" style=\"stroke: rgb(255, 255, 255); stroke-opacity: 1; stroke-width: 1px;\"/></g></g><g class=\"zerolinelayer\"><path class=\"yzl zl crisp\" transform=\"translate(0,313.75)\" d=\"M80,0h300.44444444444446\" style=\"stroke: rgb(255, 255, 255); stroke-opacity: 1; stroke-width: 2px;\"/></g><path class=\"xlines-below\"/><path class=\"ylines-below\"/><g class=\"overlines-below\"/><g class=\"xaxislayer-below\"/><g class=\"yaxislayer-below\"/><g class=\"overaxes-below\"/><g class=\"plot\" transform=\"translate(80,100)\" clip-path=\"url(#clip84872exyplot)\"><g class=\"barlayer mlayer\"><g class=\"trace bars\" style=\"opacity: 1;\"><g class=\"points\"><g class=\"point\"><path d=\"M15.02,213.75V43.69H135.2V213.75Z\" style=\"vector-effect: none; opacity: 1; stroke-width: 0.5px; fill: rgb(154, 211, 189); fill-opacity: 1; stroke: rgb(229, 236, 246); stroke-opacity: 1;\"/><text class=\"bartext bartext-inside\" text-anchor=\"middle\" data-notex=\"1\" x=\"0\" y=\"0\" style=\"font-family: 'Open Sans', verdana, arial, sans-serif; font-size: 12px; fill: rgb(68, 68, 68); fill-opacity: 1; white-space: pre;\" transform=\"translate(75.11,58.69)\">1417</text></g><g class=\"point\"><path d=\"M165.24,213.75V145.34H285.42V213.75Z\" style=\"vector-effect: none; opacity: 1; stroke-width: 0.5px; fill: rgb(45, 105, 123); fill-opacity: 1; stroke: rgb(229, 236, 246); stroke-opacity: 1;\"/><text class=\"bartext bartext-inside\" text-anchor=\"middle\" data-notex=\"1\" x=\"0\" y=\"0\" style=\"font-family: 'Open Sans', verdana, arial, sans-serif; font-size: 12px; fill: rgb(255, 255, 255); fill-opacity: 1; white-space: pre;\" transform=\"translate(225.33,160.34)\">570</text></g></g></g></g></g><g class=\"overplot\"/><path class=\"xlines-above crisp\" d=\"M0,0\" style=\"fill: none;\"/><path class=\"ylines-above crisp\" d=\"M0,0\" style=\"fill: none;\"/><g class=\"overlines-above\"/><g class=\"xaxislayer-above\"><g class=\"xtick\"><text text-anchor=\"middle\" x=\"0\" y=\"326.75\" transform=\"translate(155.11,0)\" style=\"font-family: 'Open Sans', verdana, arial, sans-serif; font-size: 12px; fill: rgb(42, 63, 95); fill-opacity: 1; white-space: pre; opacity: 1;\">Private Sector/Self Employed</text></g><g class=\"xtick\"><text text-anchor=\"middle\" x=\"0\" y=\"326.75\" transform=\"translate(305.33000000000004,0)\" style=\"font-family: 'Open Sans', verdana, arial, sans-serif; font-size: 12px; fill: rgb(42, 63, 95); fill-opacity: 1; white-space: pre; opacity: 1;\">Government Sector</text></g></g><g class=\"yaxislayer-above\"><g class=\"ytick\"><text text-anchor=\"end\" x=\"79\" y=\"4.199999999999999\" transform=\"translate(0,313.75)\" style=\"font-family: 'Open Sans', verdana, arial, sans-serif; font-size: 12px; fill: rgb(42, 63, 95); fill-opacity: 1; white-space: pre; opacity: 1;\">0</text></g><g class=\"ytick\"><text text-anchor=\"end\" x=\"79\" y=\"4.199999999999999\" style=\"font-family: 'Open Sans', verdana, arial, sans-serif; font-size: 12px; fill: rgb(42, 63, 95); fill-opacity: 1; white-space: pre; opacity: 1;\" transform=\"translate(0,253.74)\">500</text></g><g class=\"ytick\"><text text-anchor=\"end\" x=\"79\" y=\"4.199999999999999\" style=\"font-family: 'Open Sans', verdana, arial, sans-serif; font-size: 12px; fill: rgb(42, 63, 95); fill-opacity: 1; white-space: pre; opacity: 1;\" transform=\"translate(0,193.74)\">1000</text></g><g class=\"ytick\"><text text-anchor=\"end\" x=\"79\" y=\"4.199999999999999\" style=\"font-family: 'Open Sans', verdana, arial, sans-serif; font-size: 12px; fill: rgb(42, 63, 95); fill-opacity: 1; white-space: pre; opacity: 1;\" transform=\"translate(0,133.73)\">1500</text></g></g><g class=\"overaxes-above\"/></g><g class=\"subplot x2y2\"><g class=\"layer-subplot\"><g class=\"shapelayer\"/><g class=\"imagelayer\"/></g><g class=\"minor-gridlayer\"><g class=\"x2\"/><g class=\"y2\"/></g><g class=\"gridlayer\"><g class=\"x2\"/><g class=\"y2\"><path class=\"y2grid crisp\" transform=\"translate(0,253.74)\" d=\"M449.77777777777777,0h300.44444444444446\" style=\"stroke: rgb(255, 255, 255); stroke-opacity: 1; stroke-width: 1px;\"/><path class=\"y2grid crisp\" transform=\"translate(0,193.74)\" d=\"M449.77777777777777,0h300.44444444444446\" style=\"stroke: rgb(255, 255, 255); stroke-opacity: 1; stroke-width: 1px;\"/><path class=\"y2grid crisp\" transform=\"translate(0,133.73)\" d=\"M449.77777777777777,0h300.44444444444446\" style=\"stroke: rgb(255, 255, 255); stroke-opacity: 1; stroke-width: 1px;\"/></g></g><g class=\"zerolinelayer\"><path class=\"y2zl zl crisp\" transform=\"translate(0,313.75)\" d=\"M449.77777777777777,0h300.44444444444446\" style=\"stroke: rgb(255, 255, 255); stroke-opacity: 1; stroke-width: 2px;\"/></g><path class=\"xlines-below\"/><path class=\"ylines-below\"/><g class=\"overlines-below\"/><g class=\"xaxislayer-below\"/><g class=\"yaxislayer-below\"/><g class=\"overaxes-below\"/><g class=\"plot\" transform=\"translate(449.77777777777777,100)\" clip-path=\"url(#clip84872ex2y2plot)\"><g class=\"barlayer mlayer\"><g class=\"trace bars\" style=\"opacity: 1;\"><g class=\"points\"><g class=\"point\"><path d=\"M15.02,213.75V10.69H135.2V213.75Z\" style=\"vector-effect: none; opacity: 1; stroke-width: 0.5px; fill: rgb(154, 211, 189); fill-opacity: 1; stroke: rgb(229, 236, 246); stroke-opacity: 1;\"/><text class=\"bartext bartext-inside\" text-anchor=\"middle\" data-notex=\"1\" x=\"0\" y=\"0\" style=\"font-family: 'Open Sans', verdana, arial, sans-serif; font-size: 12px; fill: rgb(68, 68, 68); fill-opacity: 1; white-space: pre;\" transform=\"translate(75.11,25.689999999999998)\">1692</text></g><g class=\"point\"><path d=\"M165.24,213.75V178.35H285.42V213.75Z\" style=\"vector-effect: none; opacity: 1; stroke-width: 0.5px; fill: rgb(45, 105, 123); fill-opacity: 1; stroke: rgb(229, 236, 246); stroke-opacity: 1;\"/><text class=\"bartext bartext-inside\" text-anchor=\"middle\" data-notex=\"1\" x=\"0\" y=\"0\" style=\"font-family: 'Open Sans', verdana, arial, sans-serif; font-size: 12px; fill: rgb(255, 255, 255); fill-opacity: 1; white-space: pre;\" transform=\"translate(225.33,193.35)\">295</text></g></g></g></g></g><g class=\"overplot\"/><path class=\"xlines-above crisp\" d=\"M0,0\" style=\"fill: none;\"/><path class=\"ylines-above crisp\" d=\"M0,0\" style=\"fill: none;\"/><g class=\"overlines-above\"/><g class=\"xaxislayer-above\"><g class=\"x2tick\"><text text-anchor=\"middle\" x=\"0\" y=\"326.75\" transform=\"translate(524.8877777777777,0)\" style=\"font-family: 'Open Sans', verdana, arial, sans-serif; font-size: 12px; fill: rgb(42, 63, 95); fill-opacity: 1; white-space: pre; opacity: 1;\">Yes</text></g><g class=\"x2tick\"><text text-anchor=\"middle\" x=\"0\" y=\"326.75\" transform=\"translate(675.1077777777778,0)\" style=\"font-family: 'Open Sans', verdana, arial, sans-serif; font-size: 12px; fill: rgb(42, 63, 95); fill-opacity: 1; white-space: pre; opacity: 1;\">No</text></g></g><g class=\"yaxislayer-above\"/><g class=\"overaxes-above\"/></g><g class=\"subplot x3y3\"><g class=\"layer-subplot\"><g class=\"shapelayer\"/><g class=\"imagelayer\"/></g><g class=\"minor-gridlayer\"><g class=\"x3\"/><g class=\"y3\"/></g><g class=\"gridlayer\"><g class=\"x3\"/><g class=\"y3\"><path class=\"y3grid crisp\" transform=\"translate(0,253.74)\" d=\"M819.5555555555555,0h300.4444444444444\" style=\"stroke: rgb(255, 255, 255); stroke-opacity: 1; stroke-width: 1px;\"/><path class=\"y3grid crisp\" transform=\"translate(0,193.74)\" d=\"M819.5555555555555,0h300.4444444444444\" style=\"stroke: rgb(255, 255, 255); stroke-opacity: 1; stroke-width: 1px;\"/><path class=\"y3grid crisp\" transform=\"translate(0,133.73)\" d=\"M819.5555555555555,0h300.4444444444444\" style=\"stroke: rgb(255, 255, 255); stroke-opacity: 1; stroke-width: 1px;\"/></g></g><g class=\"zerolinelayer\"><path class=\"y3zl zl crisp\" transform=\"translate(0,313.75)\" d=\"M819.5555555555555,0h300.4444444444444\" style=\"stroke: rgb(255, 255, 255); stroke-opacity: 1; stroke-width: 2px;\"/></g><path class=\"xlines-below\"/><path class=\"ylines-below\"/><g class=\"overlines-below\"/><g class=\"xaxislayer-below\"/><g class=\"yaxislayer-below\"/><g class=\"overaxes-below\"/><g class=\"plot\" transform=\"translate(819.5555555555555,100)\" clip-path=\"url(#clip84872ex3y3plot)\"><g class=\"barlayer mlayer\"><g class=\"trace bars\" style=\"opacity: 1;\"><g class=\"points\"><g class=\"point\"><path d=\"M15.02,213.75V41.53H135.2V213.75Z\" style=\"vector-effect: none; opacity: 1; stroke-width: 0.5px; fill: rgb(154, 211, 189); fill-opacity: 1; stroke: rgb(229, 236, 246); stroke-opacity: 1;\"/><text class=\"bartext bartext-inside\" text-anchor=\"middle\" data-notex=\"1\" x=\"0\" y=\"0\" style=\"font-family: 'Open Sans', verdana, arial, sans-serif; font-size: 12px; fill: rgb(68, 68, 68); fill-opacity: 1; white-space: pre;\" transform=\"translate(75.11,56.53)\">1435</text></g><g class=\"point\"><path d=\"M165.24,213.75V147.5H285.42V213.75Z\" style=\"vector-effect: none; opacity: 1; stroke-width: 0.5px; fill: rgb(45, 105, 123); fill-opacity: 1; stroke: rgb(229, 236, 246); stroke-opacity: 1;\"/><text class=\"bartext bartext-inside\" text-anchor=\"middle\" data-notex=\"1\" x=\"0\" y=\"0\" style=\"font-family: 'Open Sans', verdana, arial, sans-serif; font-size: 12px; fill: rgb(255, 255, 255); fill-opacity: 1; white-space: pre;\" transform=\"translate(225.33,162.5)\">552</text></g></g></g></g></g><g class=\"overplot\"/><path class=\"xlines-above crisp\" d=\"M0,0\" style=\"fill: none;\"/><path class=\"ylines-above crisp\" d=\"M0,0\" style=\"fill: none;\"/><g class=\"overlines-above\"/><g class=\"xaxislayer-above\"><g class=\"x3tick\"><text text-anchor=\"middle\" x=\"0\" y=\"326.75\" transform=\"translate(894.6655555555556,0)\" style=\"font-family: 'Open Sans', verdana, arial, sans-serif; font-size: 12px; fill: rgb(42, 63, 95); fill-opacity: 1; white-space: pre; opacity: 1;\">No</text></g><g class=\"x3tick\"><text text-anchor=\"middle\" x=\"0\" y=\"326.75\" transform=\"translate(1044.8855555555556,0)\" style=\"font-family: 'Open Sans', verdana, arial, sans-serif; font-size: 12px; fill: rgb(42, 63, 95); fill-opacity: 1; white-space: pre; opacity: 1;\">Yes</text></g></g><g class=\"yaxislayer-above\"/><g class=\"overaxes-above\"/></g><g class=\"subplot x4y4\"><g class=\"layer-subplot\"><g class=\"shapelayer\"/><g class=\"imagelayer\"/></g><g class=\"minor-gridlayer\"><g class=\"x4\"/><g class=\"y4\"/></g><g class=\"gridlayer\"><g class=\"x4\"/><g class=\"y4\"><path class=\"y4grid crisp\" transform=\"translate(0,606.8199999999999)\" d=\"M80,0h300.44444444444446\" style=\"stroke: rgb(255, 255, 255); stroke-opacity: 1; stroke-width: 1px;\"/><path class=\"y4grid crisp\" transform=\"translate(0,543.64)\" d=\"M80,0h300.44444444444446\" style=\"stroke: rgb(255, 255, 255); stroke-opacity: 1; stroke-width: 1px;\"/><path class=\"y4grid crisp\" transform=\"translate(0,480.46)\" d=\"M80,0h300.44444444444446\" style=\"stroke: rgb(255, 255, 255); stroke-opacity: 1; stroke-width: 1px;\"/></g></g><g class=\"zerolinelayer\"><path class=\"y4zl zl crisp\" transform=\"translate(0,670)\" d=\"M80,0h300.44444444444446\" style=\"stroke: rgb(255, 255, 255); stroke-opacity: 1; stroke-width: 2px;\"/></g><path class=\"xlines-below\"/><path class=\"ylines-below\"/><g class=\"overlines-below\"/><g class=\"xaxislayer-below\"/><g class=\"yaxislayer-below\"/><g class=\"overaxes-below\"/><g class=\"plot\" transform=\"translate(80,456.25)\" clip-path=\"url(#clip84872ex4y4plot)\"><g class=\"barlayer mlayer\"><g class=\"trace bars\" style=\"opacity: 1;\"><g class=\"points\"><g class=\"point\"><path d=\"M15.02,213.75V15.36H135.2V213.75Z\" style=\"vector-effect: none; opacity: 1; stroke-width: 0.5px; fill: rgb(154, 211, 189); fill-opacity: 1; stroke: rgb(229, 236, 246); stroke-opacity: 1;\"/><text class=\"bartext bartext-inside\" text-anchor=\"middle\" data-notex=\"1\" x=\"0\" y=\"0\" style=\"font-family: 'Open Sans', verdana, arial, sans-serif; font-size: 12px; fill: rgb(68, 68, 68); fill-opacity: 1; white-space: pre;\" transform=\"translate(75.11,30.36)\">1570</text></g><g class=\"point\"><path d=\"M165.24,213.75V161.06H285.42V213.75Z\" style=\"vector-effect: none; opacity: 1; stroke-width: 0.5px; fill: rgb(45, 105, 123); fill-opacity: 1; stroke: rgb(229, 236, 246); stroke-opacity: 1;\"/><text class=\"bartext bartext-inside\" text-anchor=\"middle\" data-notex=\"1\" x=\"0\" y=\"0\" style=\"font-family: 'Open Sans', verdana, arial, sans-serif; font-size: 12px; fill: rgb(255, 255, 255); fill-opacity: 1; white-space: pre;\" transform=\"translate(225.33,176.06)\">417</text></g></g></g></g></g><g class=\"overplot\"/><path class=\"xlines-above crisp\" d=\"M0,0\" style=\"fill: none;\"/><path class=\"ylines-above crisp\" d=\"M0,0\" style=\"fill: none;\"/><g class=\"overlines-above\"/><g class=\"xaxislayer-above\"><g class=\"x4tick\"><text text-anchor=\"middle\" x=\"0\" y=\"683\" transform=\"translate(155.11,0)\" style=\"font-family: 'Open Sans', verdana, arial, sans-serif; font-size: 12px; fill: rgb(42, 63, 95); fill-opacity: 1; white-space: pre; opacity: 1;\">No</text></g><g class=\"x4tick\"><text text-anchor=\"middle\" x=\"0\" y=\"683\" transform=\"translate(305.33000000000004,0)\" style=\"font-family: 'Open Sans', verdana, arial, sans-serif; font-size: 12px; fill: rgb(42, 63, 95); fill-opacity: 1; white-space: pre; opacity: 1;\">Yes</text></g></g><g class=\"yaxislayer-above\"><g class=\"y4tick\"><text text-anchor=\"end\" x=\"79\" y=\"4.199999999999999\" transform=\"translate(0,670)\" style=\"font-family: 'Open Sans', verdana, arial, sans-serif; font-size: 12px; fill: rgb(42, 63, 95); fill-opacity: 1; white-space: pre; opacity: 1;\">0</text></g><g class=\"y4tick\"><text text-anchor=\"end\" x=\"79\" y=\"4.199999999999999\" style=\"font-family: 'Open Sans', verdana, arial, sans-serif; font-size: 12px; fill: rgb(42, 63, 95); fill-opacity: 1; white-space: pre; opacity: 1;\" transform=\"translate(0,606.8199999999999)\">500</text></g><g class=\"y4tick\"><text text-anchor=\"end\" x=\"79\" y=\"4.199999999999999\" style=\"font-family: 'Open Sans', verdana, arial, sans-serif; font-size: 12px; fill: rgb(42, 63, 95); fill-opacity: 1; white-space: pre; opacity: 1;\" transform=\"translate(0,543.64)\">1000</text></g><g class=\"y4tick\"><text text-anchor=\"end\" x=\"79\" y=\"4.199999999999999\" style=\"font-family: 'Open Sans', verdana, arial, sans-serif; font-size: 12px; fill: rgb(42, 63, 95); fill-opacity: 1; white-space: pre; opacity: 1;\" transform=\"translate(0,480.46)\">1500</text></g></g><g class=\"overaxes-above\"/></g><g class=\"subplot x5y5\"><g class=\"layer-subplot\"><g class=\"shapelayer\"/><g class=\"imagelayer\"/></g><g class=\"minor-gridlayer\"><g class=\"x5\"/><g class=\"y5\"/></g><g class=\"gridlayer\"><g class=\"x5\"/><g class=\"y5\"><path class=\"y5grid crisp\" transform=\"translate(0,606.8199999999999)\" d=\"M449.77777777777777,0h300.44444444444446\" style=\"stroke: rgb(255, 255, 255); stroke-opacity: 1; stroke-width: 1px;\"/><path class=\"y5grid crisp\" transform=\"translate(0,543.64)\" d=\"M449.77777777777777,0h300.44444444444446\" style=\"stroke: rgb(255, 255, 255); stroke-opacity: 1; stroke-width: 1px;\"/><path class=\"y5grid crisp\" transform=\"translate(0,480.46)\" d=\"M449.77777777777777,0h300.44444444444446\" style=\"stroke: rgb(255, 255, 255); stroke-opacity: 1; stroke-width: 1px;\"/></g></g><g class=\"zerolinelayer\"><path class=\"y5zl zl crisp\" transform=\"translate(0,670)\" d=\"M449.77777777777777,0h300.44444444444446\" style=\"stroke: rgb(255, 255, 255); stroke-opacity: 1; stroke-width: 2px;\"/></g><path class=\"xlines-below\"/><path class=\"ylines-below\"/><g class=\"overlines-below\"/><g class=\"xaxislayer-below\"/><g class=\"yaxislayer-below\"/><g class=\"overaxes-below\"/><g class=\"plot\" transform=\"translate(449.77777777777777,456.25)\" clip-path=\"url(#clip84872ex5y5plot)\"><g class=\"barlayer mlayer\"><g class=\"trace bars\" style=\"opacity: 1;\"><g class=\"points\"><g class=\"point\"><path d=\"M15.02,213.75V10.69H135.2V213.75Z\" style=\"vector-effect: none; opacity: 1; stroke-width: 0.5px; fill: rgb(154, 211, 189); fill-opacity: 1; stroke: rgb(229, 236, 246); stroke-opacity: 1;\"/><text class=\"bartext bartext-inside\" text-anchor=\"middle\" data-notex=\"1\" x=\"0\" y=\"0\" style=\"font-family: 'Open Sans', verdana, arial, sans-serif; font-size: 12px; fill: rgb(68, 68, 68); fill-opacity: 1; white-space: pre;\" transform=\"translate(75.11,25.689999999999998)\">1607</text></g><g class=\"point\"><path d=\"M165.24,213.75V165.73H285.42V213.75Z\" style=\"vector-effect: none; opacity: 1; stroke-width: 0.5px; fill: rgb(45, 105, 123); fill-opacity: 1; stroke: rgb(229, 236, 246); stroke-opacity: 1;\"/><text class=\"bartext bartext-inside\" text-anchor=\"middle\" data-notex=\"1\" x=\"0\" y=\"0\" style=\"font-family: 'Open Sans', verdana, arial, sans-serif; font-size: 12px; fill: rgb(255, 255, 255); fill-opacity: 1; white-space: pre;\" transform=\"translate(225.33,180.73)\">380</text></g></g></g></g></g><g class=\"overplot\"/><path class=\"xlines-above crisp\" d=\"M0,0\" style=\"fill: none;\"/><path class=\"ylines-above crisp\" d=\"M0,0\" style=\"fill: none;\"/><g class=\"overlines-above\"/><g class=\"xaxislayer-above\"><g class=\"x5tick\"><text text-anchor=\"middle\" x=\"0\" y=\"683\" transform=\"translate(524.8877777777777,0)\" style=\"font-family: 'Open Sans', verdana, arial, sans-serif; font-size: 12px; fill: rgb(42, 63, 95); fill-opacity: 1; white-space: pre; opacity: 1;\">No</text></g><g class=\"x5tick\"><text text-anchor=\"middle\" x=\"0\" y=\"683\" transform=\"translate(675.1077777777778,0)\" style=\"font-family: 'Open Sans', verdana, arial, sans-serif; font-size: 12px; fill: rgb(42, 63, 95); fill-opacity: 1; white-space: pre; opacity: 1;\">Yes</text></g></g><g class=\"yaxislayer-above\"/><g class=\"overaxes-above\"/></g><g class=\"subplot x6y6\"><g class=\"layer-subplot\"><g class=\"shapelayer\"/><g class=\"imagelayer\"/></g><g class=\"minor-gridlayer\"><g class=\"x6\"/><g class=\"y6\"/></g><g class=\"gridlayer\"><g class=\"x6\"/><g class=\"y6\"><path class=\"y6grid crisp\" transform=\"translate(0,606.8199999999999)\" d=\"M819.5555555555555,0h300.4444444444444\" style=\"stroke: rgb(255, 255, 255); stroke-opacity: 1; stroke-width: 1px;\"/><path class=\"y6grid crisp\" transform=\"translate(0,543.64)\" d=\"M819.5555555555555,0h300.4444444444444\" style=\"stroke: rgb(255, 255, 255); stroke-opacity: 1; stroke-width: 1px;\"/><path class=\"y6grid crisp\" transform=\"translate(0,480.46)\" d=\"M819.5555555555555,0h300.4444444444444\" style=\"stroke: rgb(255, 255, 255); stroke-opacity: 1; stroke-width: 1px;\"/></g></g><g class=\"zerolinelayer\"><path class=\"y6zl zl crisp\" transform=\"translate(0,670)\" d=\"M819.5555555555555,0h300.4444444444444\" style=\"stroke: rgb(255, 255, 255); stroke-opacity: 1; stroke-width: 2px;\"/></g><path class=\"xlines-below\"/><path class=\"ylines-below\"/><g class=\"overlines-below\"/><g class=\"xaxislayer-below\"/><g class=\"yaxislayer-below\"/><g class=\"overaxes-below\"/><g class=\"plot\" transform=\"translate(819.5555555555555,456.25)\" clip-path=\"url(#clip84872ex6y6plot)\"><g class=\"barlayer mlayer\"><g class=\"trace bars\" style=\"opacity: 1;\"><g class=\"points\"><g class=\"point\"><path d=\"M15.02,213.75V52.39H135.2V213.75Z\" style=\"vector-effect: none; opacity: 1; stroke-width: 0.5px; fill: rgb(154, 211, 189); fill-opacity: 1; stroke: rgb(229, 236, 246); stroke-opacity: 1;\"/><text class=\"bartext bartext-inside\" text-anchor=\"middle\" data-notex=\"1\" x=\"0\" y=\"0\" style=\"font-family: 'Open Sans', verdana, arial, sans-serif; font-size: 12px; fill: rgb(68, 68, 68); fill-opacity: 1; white-space: pre;\" transform=\"translate(75.11,67.39)\">1277</text></g><g class=\"point\"><path d=\"M165.24,213.75V124.03H285.42V213.75Z\" style=\"vector-effect: none; opacity: 1; stroke-width: 0.5px; fill: rgb(45, 105, 123); fill-opacity: 1; stroke: rgb(229, 236, 246); stroke-opacity: 1;\"/><text class=\"bartext bartext-inside\" text-anchor=\"middle\" data-notex=\"1\" x=\"0\" y=\"0\" style=\"font-family: 'Open Sans', verdana, arial, sans-serif; font-size: 12px; fill: rgb(255, 255, 255); fill-opacity: 1; white-space: pre;\" transform=\"translate(225.33,139.03)\">710</text></g></g></g></g></g><g class=\"overplot\"/><path class=\"xlines-above crisp\" d=\"M0,0\" style=\"fill: none;\"/><path class=\"ylines-above crisp\" d=\"M0,0\" style=\"fill: none;\"/><g class=\"overlines-above\"/><g class=\"xaxislayer-above\"><g class=\"x6tick\"><text text-anchor=\"middle\" x=\"0\" y=\"683\" transform=\"translate(894.6655555555556,0)\" style=\"font-family: 'Open Sans', verdana, arial, sans-serif; font-size: 12px; fill: rgb(42, 63, 95); fill-opacity: 1; white-space: pre; opacity: 1;\">No</text></g><g class=\"x6tick\"><text text-anchor=\"middle\" x=\"0\" y=\"683\" transform=\"translate(1044.8855555555556,0)\" style=\"font-family: 'Open Sans', verdana, arial, sans-serif; font-size: 12px; fill: rgb(42, 63, 95); fill-opacity: 1; white-space: pre; opacity: 1;\">Yes</text></g></g><g class=\"yaxislayer-above\"/><g class=\"overaxes-above\"/></g></g><g class=\"polarlayer\"/><g class=\"smithlayer\"/><g class=\"ternarylayer\"/><g class=\"geolayer\"/><g class=\"funnelarealayer\"/><g class=\"pielayer\"/><g class=\"iciclelayer\"/><g class=\"treemaplayer\"/><g class=\"sunburstlayer\"/><g class=\"glimages\"/><defs id=\"topdefs-84872e\"><g class=\"clips\"/></defs><g class=\"layer-above\"><g class=\"imagelayer\"/><g class=\"shapelayer\"/></g><g class=\"infolayer\"><g class=\"g-gtitle\"><text class=\"gtitle\" x=\"60\" y=\"50\" text-anchor=\"start\" dy=\"0em\" style=\"font-family: 'Open Sans', verdana, arial, sans-serif; font-size: 17px; fill: rgb(42, 63, 95); opacity: 1; font-weight: normal; white-space: pre;\">Binary feature breakdowns</text></g><g class=\"g-xtitle\"><text class=\"xtitle\" x=\"230.22222222222223\" y=\"353.55\" text-anchor=\"middle\" style=\"font-family: 'Open Sans', verdana, arial, sans-serif; font-size: 14px; fill: rgb(42, 63, 95); opacity: 1; font-weight: normal; white-space: pre;\">Employment sector</text></g><g class=\"g-x2title\"><text class=\"x2title\" x=\"600\" y=\"353.55\" text-anchor=\"middle\" style=\"font-family: 'Open Sans', verdana, arial, sans-serif; font-size: 14px; fill: rgb(42, 63, 95); opacity: 1; font-weight: normal; white-space: pre;\">College graduate</text></g><g class=\"g-x3title\"><text class=\"x3title\" x=\"969.7777777777777\" y=\"353.55\" text-anchor=\"middle\" style=\"font-family: 'Open Sans', verdana, arial, sans-serif; font-size: 14px; fill: rgb(42, 63, 95); opacity: 1; font-weight: normal; white-space: pre;\">Medical Conditions</text></g><g class=\"g-x4title\"><text class=\"x4title\" x=\"230.22222222222223\" y=\"709.8\" text-anchor=\"middle\" style=\"font-family: 'Open Sans', verdana, arial, sans-serif; font-size: 14px; fill: rgb(42, 63, 95); opacity: 1; font-weight: normal; white-space: pre;\">Frequent flier</text></g><g class=\"g-x5title\"><text class=\"x5title\" x=\"600\" y=\"709.8\" text-anchor=\"middle\" style=\"font-family: 'Open Sans', verdana, arial, sans-serif; font-size: 14px; fill: rgb(42, 63, 95); opacity: 1; font-weight: normal; white-space: pre;\">First trip abroad</text></g><g class=\"g-x6title\"><text class=\"x6title\" x=\"969.7777777777777\" y=\"709.8\" text-anchor=\"middle\" style=\"font-family: 'Open Sans', verdana, arial, sans-serif; font-size: 14px; fill: rgb(42, 63, 95); opacity: 1; font-weight: normal; white-space: pre;\">Travel insurance purchased</text></g><g class=\"g-ytitle\"><text class=\"ytitle\" transform=\"rotate(-90,24.184375000000003,206.875)\" x=\"24.184375000000003\" y=\"206.875\" text-anchor=\"middle\" style=\"font-family: 'Open Sans', verdana, arial, sans-serif; font-size: 14px; fill: rgb(42, 63, 95); opacity: 1; font-weight: normal; white-space: pre;\">Observations</text></g><g class=\"g-y2title\"/><g class=\"g-y3title\"/><g class=\"g-y4title\"><text class=\"y4title\" transform=\"rotate(-90,24.184375000000003,563.125)\" x=\"24.184375000000003\" y=\"563.125\" text-anchor=\"middle\" style=\"font-family: 'Open Sans', verdana, arial, sans-serif; font-size: 14px; fill: rgb(42, 63, 95); opacity: 1; font-weight: normal; white-space: pre;\">Observations</text></g><g class=\"g-y5title\"/><g class=\"g-y6title\"/><g class=\"annotation\" data-index=\"0\" style=\"opacity: 1;\"><g class=\"annotation-text-g\" transform=\"rotate(0,230.22222222222223,88)\"><g class=\"cursor-pointer\" transform=\"translate(178,76)\"><rect class=\"bg\" x=\"0.5\" y=\"0.5\" width=\"104\" height=\"23\" style=\"stroke-width: 1px; stroke: rgb(0, 0, 0); stroke-opacity: 0; fill: rgb(0, 0, 0); fill-opacity: 0;\"/><text class=\"annotation-text\" text-anchor=\"middle\" x=\"52.375\" y=\"18\" style=\"font-family: 'Open Sans', verdana, arial, sans-serif; font-size: 16px; fill: rgb(42, 63, 95); fill-opacity: 1; white-space: pre;\">Employment</text></g></g></g><g class=\"annotation\" data-index=\"1\" style=\"opacity: 1;\"><g class=\"annotation-text-g\" transform=\"rotate(0,600,88)\"><g class=\"cursor-pointer\" transform=\"translate(537,76)\"><rect class=\"bg\" x=\"0.5\" y=\"0.5\" width=\"125\" height=\"23\" style=\"stroke-width: 1px; stroke: rgb(0, 0, 0); stroke-opacity: 0; fill: rgb(0, 0, 0); fill-opacity: 0;\"/><text class=\"annotation-text\" text-anchor=\"middle\" x=\"62.8125\" y=\"18\" style=\"font-family: 'Open Sans', verdana, arial, sans-serif; font-size: 16px; fill: rgb(42, 63, 95); fill-opacity: 1; white-space: pre;\">Education level</text></g></g></g><g class=\"annotation\" data-index=\"2\" style=\"opacity: 1;\"><g class=\"annotation-text-g\" transform=\"rotate(0,969.7777777777778,88)\"><g class=\"cursor-pointer\" transform=\"translate(899,76)\"><rect class=\"bg\" x=\"0.5\" y=\"0.5\" width=\"140\" height=\"23\" style=\"stroke-width: 1px; stroke: rgb(0, 0, 0); stroke-opacity: 0; fill: rgb(0, 0, 0); fill-opacity: 0;\"/><text class=\"annotation-text\" text-anchor=\"middle\" x=\"70.359375\" y=\"18\" style=\"font-family: 'Open Sans', verdana, arial, sans-serif; font-size: 16px; fill: rgb(42, 63, 95); fill-opacity: 1; white-space: pre;\">Chronic Diseases</text></g></g></g><g class=\"annotation\" data-index=\"3\" style=\"opacity: 1;\"><g class=\"annotation-text-g\" transform=\"rotate(0,230.22222222222223,444.25)\"><g class=\"cursor-pointer\" transform=\"translate(158,432)\"><rect class=\"bg\" x=\"0.5\" y=\"0.5\" width=\"143\" height=\"23\" style=\"stroke-width: 1px; stroke: rgb(0, 0, 0); stroke-opacity: 0; fill: rgb(0, 0, 0); fill-opacity: 0;\"/><text class=\"annotation-text\" text-anchor=\"middle\" x=\"71.875\" y=\"18\" style=\"font-family: 'Open Sans', verdana, arial, sans-serif; font-size: 16px; fill: rgb(42, 63, 95); fill-opacity: 1; white-space: pre;\">Frequent traveler</text></g></g></g><g class=\"annotation\" data-index=\"4\" style=\"opacity: 1;\"><g class=\"annotation-text-g\" transform=\"rotate(0,600,444.25)\"><g class=\"cursor-pointer\" transform=\"translate(542,432)\"><rect class=\"bg\" x=\"0.5\" y=\"0.5\" width=\"115\" height=\"23\" style=\"stroke-width: 1px; stroke: rgb(0, 0, 0); stroke-opacity: 0; fill: rgb(0, 0, 0); fill-opacity: 0;\"/><text class=\"annotation-text\" text-anchor=\"middle\" x=\"58.1875\" y=\"18\" style=\"font-family: 'Open Sans', verdana, arial, sans-serif; font-size: 16px; fill: rgb(42, 63, 95); fill-opacity: 1; white-space: pre;\">Travel History</text></g></g></g><g class=\"annotation\" data-index=\"5\" style=\"opacity: 1;\"><g class=\"annotation-text-g\" transform=\"rotate(0,969.7777777777778,444.25)\"><g class=\"cursor-pointer\" transform=\"translate(901,432)\"><rect class=\"bg\" x=\"0.5\" y=\"0.5\" width=\"136\" height=\"23\" style=\"stroke-width: 1px; stroke: rgb(0, 0, 0); stroke-opacity: 0; fill: rgb(0, 0, 0); fill-opacity: 0;\"/><text class=\"annotation-text\" text-anchor=\"middle\" x=\"68.359375\" y=\"18\" style=\"font-family: 'Open Sans', verdana, arial, sans-serif; font-size: 16px; fill: rgb(42, 63, 95); fill-opacity: 1; white-space: pre;\">Travel insurance</text></g></g></g></g></svg>"
      ]
     },
     "metadata": {},
     "output_type": "display_data"
    }
   ],
   "source": [
    "# Format all features as yes/no strings wherever they are in 0/1 format\n",
    "df = binary_formatter(df, \"string\")\n",
    "\n",
    "# Plot binary features\n",
    "fig = make_subplots(\n",
    "    rows=2,\n",
    "    cols=3,\n",
    "    subplot_titles=(\n",
    "        \"Employment\",\n",
    "        \"Education level\",\n",
    "        \"Chronic Diseases\",\n",
    "        \"Frequent traveler\",\n",
    "        \"Travel History\",\n",
    "        \"Travel insurance\",\n",
    "    ),\n",
    "    shared_yaxes=True,\n",
    ")\n",
    "make_subplot(df,fig, \"employment\", [1, 1])\n",
    "make_subplot(df,fig, \"college_grad\", [1, 2])\n",
    "make_subplot(df,fig, \"conditions\", [1, 3])\n",
    "make_subplot(df,fig, \"frequent_traveler\", [2, 1])\n",
    "make_subplot(df,fig, \"first_trip\", [2, 2])\n",
    "make_subplot(df,fig, \"travel_insurance\", [2, 3])\n",
    "\n",
    "\n",
    "# Update xaxis properties\n",
    "fig.update_xaxes(title_text=\"Employment sector\", row=1, col=1)\n",
    "fig.update_xaxes(title_text=\"College graduate\", row=1, col=2)\n",
    "fig.update_xaxes(title_text=\"Medical Conditions\", row=1, col=3)\n",
    "fig.update_xaxes(title_text=\"Frequent flier\", row=2, col=1)\n",
    "fig.update_xaxes(title_text=\"First trip abroad\", row=2, col=2)\n",
    "fig.update_xaxes(title_text=\"Travel insurance purchased\", row=2, col=3)\n",
    "\n",
    "# Update yaxis properties\n",
    "fig.update_yaxes(title_text=\"Observations\", row=1, col=1)\n",
    "fig.update_yaxes(title_text=\"Observations\", row=2, col=1)\n",
    "\n",
    "\n",
    "# Update title and height\n",
    "fig.update_layout(title_text=\"Binary feature breakdowns\", showlegend=False)\n",
    "\n",
    "# Display plot\n",
    "fig.show('svg')"
   ]
  },
  {
   "cell_type": "markdown",
   "metadata": {},
   "source": [
    "These plots show that none of our categorical features have balanced observations across classes. We can stratify on travel insurance when we do our training and testing data splits later so that the classification models see equal numbers of each outcome, but we might have to select metrics and methods to counteract the lopsidedness we see in our X matrix here. Let's see how things look on the numerical features side. "
   ]
  },
  {
   "cell_type": "markdown",
   "metadata": {},
   "source": [
    "#### Numerical features"
   ]
  },
  {
   "cell_type": "code",
   "execution_count": 55,
   "metadata": {},
   "outputs": [
    {
     "data": {
      "image/svg+xml": [
       "<svg class=\"main-svg\" xmlns=\"http://www.w3.org/2000/svg\" xmlns:xlink=\"http://www.w3.org/1999/xlink\" width=\"1200\" height=\"450\" style=\"\" viewBox=\"0 0 1200 450\"><rect x=\"0\" y=\"0\" width=\"1200\" height=\"450\" style=\"fill: rgb(255, 255, 255); fill-opacity: 1;\"/><defs id=\"defs-078fb0\"><g class=\"clips\"><clipPath id=\"clip078fb0xyplot\" class=\"plotclip\"><rect width=\"300.44444444444446\" height=\"270\"/></clipPath><clipPath id=\"clip078fb0x2y2plot\" class=\"plotclip\"><rect width=\"300.44444444444446\" height=\"270\"/></clipPath><clipPath id=\"clip078fb0x3y3plot\" class=\"plotclip\"><rect width=\"300.4444444444444\" height=\"270\"/></clipPath><clipPath class=\"axesclip\" id=\"clip078fb0x\"><rect x=\"80\" y=\"0\" width=\"300.44444444444446\" height=\"450\"/></clipPath><clipPath class=\"axesclip\" id=\"clip078fb0y\"><rect x=\"0\" y=\"100\" width=\"1200\" height=\"270\"/></clipPath><clipPath class=\"axesclip\" id=\"clip078fb0xy\"><rect x=\"80\" y=\"100\" width=\"300.44444444444446\" height=\"270\"/></clipPath><clipPath class=\"axesclip\" id=\"clip078fb0y2\"><rect x=\"0\" y=\"100\" width=\"1200\" height=\"270\"/></clipPath><clipPath class=\"axesclip\" id=\"clip078fb0xy2\"><rect x=\"80\" y=\"100\" width=\"300.44444444444446\" height=\"270\"/></clipPath><clipPath class=\"axesclip\" id=\"clip078fb0y3\"><rect x=\"0\" y=\"100\" width=\"1200\" height=\"270\"/></clipPath><clipPath class=\"axesclip\" id=\"clip078fb0xy3\"><rect x=\"80\" y=\"100\" width=\"300.44444444444446\" height=\"270\"/></clipPath><clipPath class=\"axesclip\" id=\"clip078fb0x2\"><rect x=\"449.77777777777777\" y=\"0\" width=\"300.44444444444446\" height=\"450\"/></clipPath><clipPath class=\"axesclip\" id=\"clip078fb0x2y\"><rect x=\"449.77777777777777\" y=\"100\" width=\"300.44444444444446\" height=\"270\"/></clipPath><clipPath class=\"axesclip\" id=\"clip078fb0x2y2\"><rect x=\"449.77777777777777\" y=\"100\" width=\"300.44444444444446\" height=\"270\"/></clipPath><clipPath class=\"axesclip\" id=\"clip078fb0x2y3\"><rect x=\"449.77777777777777\" y=\"100\" width=\"300.44444444444446\" height=\"270\"/></clipPath><clipPath class=\"axesclip\" id=\"clip078fb0x3\"><rect x=\"819.5555555555555\" y=\"0\" width=\"300.4444444444444\" height=\"450\"/></clipPath><clipPath class=\"axesclip\" id=\"clip078fb0x3y\"><rect x=\"819.5555555555555\" y=\"100\" width=\"300.4444444444444\" height=\"270\"/></clipPath><clipPath class=\"axesclip\" id=\"clip078fb0x3y2\"><rect x=\"819.5555555555555\" y=\"100\" width=\"300.4444444444444\" height=\"270\"/></clipPath><clipPath class=\"axesclip\" id=\"clip078fb0x3y3\"><rect x=\"819.5555555555555\" y=\"100\" width=\"300.4444444444444\" height=\"270\"/></clipPath></g><g class=\"gradients\"/><g class=\"patterns\"/></defs><g class=\"bglayer\"><rect class=\"bg\" x=\"80\" y=\"100\" width=\"300.44444444444446\" height=\"270\" style=\"fill: rgb(229, 236, 246); fill-opacity: 1; stroke-width: 0;\"/><rect class=\"bg\" x=\"449.77777777777777\" y=\"100\" width=\"300.44444444444446\" height=\"270\" style=\"fill: rgb(229, 236, 246); fill-opacity: 1; stroke-width: 0;\"/><rect class=\"bg\" x=\"819.5555555555555\" y=\"100\" width=\"300.4444444444444\" height=\"270\" style=\"fill: rgb(229, 236, 246); fill-opacity: 1; stroke-width: 0;\"/></g><g class=\"layer-below\"><g class=\"imagelayer\"/><g class=\"shapelayer\"/></g><g class=\"cartesianlayer\"><g class=\"subplot xy\"><g class=\"layer-subplot\"><g class=\"shapelayer\"/><g class=\"imagelayer\"/></g><g class=\"minor-gridlayer\"><g class=\"x\"/><g class=\"y\"/></g><g class=\"gridlayer\"><g class=\"x\"/><g class=\"y\"><path class=\"ygrid crisp\" transform=\"translate(0,319.31)\" d=\"M80,0h300.44444444444446\" style=\"stroke: rgb(255, 255, 255); stroke-opacity: 1; stroke-width: 1px;\"/><path class=\"ygrid crisp\" transform=\"translate(0,268.62)\" d=\"M80,0h300.44444444444446\" style=\"stroke: rgb(255, 255, 255); stroke-opacity: 1; stroke-width: 1px;\"/><path class=\"ygrid crisp\" transform=\"translate(0,217.92000000000002)\" d=\"M80,0h300.44444444444446\" style=\"stroke: rgb(255, 255, 255); stroke-opacity: 1; stroke-width: 1px;\"/><path class=\"ygrid crisp\" transform=\"translate(0,167.23000000000002)\" d=\"M80,0h300.44444444444446\" style=\"stroke: rgb(255, 255, 255); stroke-opacity: 1; stroke-width: 1px;\"/><path class=\"ygrid crisp\" transform=\"translate(0,116.53999999999999)\" d=\"M80,0h300.44444444444446\" style=\"stroke: rgb(255, 255, 255); stroke-opacity: 1; stroke-width: 1px;\"/></g></g><g class=\"zerolinelayer\"><path class=\"yzl zl crisp\" transform=\"translate(0,370)\" d=\"M80,0h300.44444444444446\" style=\"stroke: rgb(255, 255, 255); stroke-opacity: 1; stroke-width: 2px;\"/></g><path class=\"xlines-below\"/><path class=\"ylines-below\"/><g class=\"overlines-below\"/><g class=\"xaxislayer-below\"/><g class=\"yaxislayer-below\"/><g class=\"overaxes-below\"/><g class=\"plot\" transform=\"translate(80,100)\" clip-path=\"url(#clip078fb0xyplot)\"><g class=\"barlayer mlayer\"><g class=\"trace bars\" style=\"opacity: 1;\"><g class=\"points\"><g class=\"point\"><path d=\"M84.67,270V13.5H106.52V270Z\" style=\"vector-effect: none; opacity: 1; stroke-width: 0.5px; fill: rgb(131, 194, 180); fill-opacity: 1; stroke: rgb(229, 236, 246); stroke-opacity: 1;\"/></g><g class=\"point\"><path d=\"M248.55,270V135.16H270.4V270Z\" style=\"vector-effect: none; opacity: 1; stroke-width: 0.5px; fill: rgb(28, 81, 104); fill-opacity: 1; stroke: rgb(229, 236, 246); stroke-opacity: 1;\"/></g><g class=\"point\"><path d=\"M166.61,270V151.38H188.46V270Z\" style=\"vector-effect: none; opacity: 1; stroke-width: 0.5px; fill: rgb(69, 137, 145); fill-opacity: 1; stroke: rgb(229, 236, 246); stroke-opacity: 1;\"/></g><g class=\"point\"><path d=\"M111.98,270V172.67H133.83V270Z\" style=\"vector-effect: none; opacity: 1; stroke-width: 0.5px; fill: rgb(108, 175, 169); fill-opacity: 1; stroke: rgb(229, 236, 246); stroke-opacity: 1;\"/></g><g class=\"point\"><path d=\"M221.24,270V194.98H243.09V270Z\" style=\"vector-effect: none; opacity: 1; stroke-width: 0.5px; fill: rgb(40, 99, 119); fill-opacity: 1; stroke: rgb(229, 236, 246); stroke-opacity: 1;\"/></g><g class=\"point\"><path d=\"M30.04,270V194.98H51.89V270Z\" style=\"vector-effect: none; opacity: 1; stroke-width: 0.5px; fill: rgb(183, 232, 201); fill-opacity: 1; stroke: rgb(229, 236, 246); stroke-opacity: 1;\"/></g><g class=\"point\"><path d=\"M2.73,270V195.99H24.58V270Z\" style=\"vector-effect: none; opacity: 1; stroke-width: 0.5px; fill: rgb(210, 251, 212); fill-opacity: 1; stroke: rgb(229, 236, 246); stroke-opacity: 1;\"/></g><g class=\"point\"><path d=\"M57.36,270V203.59H79.21V270Z\" style=\"vector-effect: none; opacity: 1; stroke-width: 0.5px; fill: rgb(157, 213, 190); fill-opacity: 1; stroke: rgb(229, 236, 246); stroke-opacity: 1;\"/></g><g class=\"point\"><path d=\"M193.92,270V223.87H215.77V270Z\" style=\"vector-effect: none; opacity: 1; stroke-width: 0.5px; fill: rgb(53, 118, 132); fill-opacity: 1; stroke: rgb(229, 236, 246); stroke-opacity: 1;\"/></g><g class=\"point\"><path d=\"M139.3,270V237.05H161.15V270Z\" style=\"vector-effect: none; opacity: 1; stroke-width: 0.5px; fill: rgb(85, 156, 158); fill-opacity: 1; stroke: rgb(229, 236, 246); stroke-opacity: 1;\"/></g><g class=\"point\"><path d=\"M275.86,270V239.58H297.71V270Z\" style=\"vector-effect: none; opacity: 1; stroke-width: 0.5px; fill: rgb(18, 63, 90); fill-opacity: 1; stroke: rgb(229, 236, 246); stroke-opacity: 1;\"/></g></g></g></g></g><g class=\"overplot\"/><path class=\"xlines-above crisp\" d=\"M0,0\" style=\"fill: none;\"/><path class=\"ylines-above crisp\" d=\"M0,0\" style=\"fill: none;\"/><g class=\"overlines-above\"/><g class=\"xaxislayer-above\"><g class=\"xtick\"><text text-anchor=\"middle\" x=\"0\" y=\"383\" transform=\"translate(93.66,0)\" style=\"font-family: 'Open Sans', verdana, arial, sans-serif; font-size: 12px; fill: rgb(42, 63, 95); fill-opacity: 1; white-space: pre; opacity: 1;\">25</text></g><g class=\"xtick\"><text text-anchor=\"middle\" x=\"0\" y=\"383\" style=\"font-family: 'Open Sans', verdana, arial, sans-serif; font-size: 12px; fill: rgb(42, 63, 95); fill-opacity: 1; white-space: pre; opacity: 1;\" transform=\"translate(230.22,0)\">30</text></g><g class=\"xtick\"><text text-anchor=\"middle\" x=\"0\" y=\"383\" style=\"font-family: 'Open Sans', verdana, arial, sans-serif; font-size: 12px; fill: rgb(42, 63, 95); fill-opacity: 1; white-space: pre; opacity: 1;\" transform=\"translate(366.79,0)\">35</text></g></g><g class=\"yaxislayer-above\"><g class=\"ytick\"><text text-anchor=\"end\" x=\"79\" y=\"4.199999999999999\" transform=\"translate(0,370)\" style=\"font-family: 'Open Sans', verdana, arial, sans-serif; font-size: 12px; fill: rgb(42, 63, 95); fill-opacity: 1; white-space: pre; opacity: 1;\">0</text></g><g class=\"ytick\"><text text-anchor=\"end\" x=\"79\" y=\"4.199999999999999\" style=\"font-family: 'Open Sans', verdana, arial, sans-serif; font-size: 12px; fill: rgb(42, 63, 95); fill-opacity: 1; white-space: pre; opacity: 1;\" transform=\"translate(0,319.31)\">100</text></g><g class=\"ytick\"><text text-anchor=\"end\" x=\"79\" y=\"4.199999999999999\" style=\"font-family: 'Open Sans', verdana, arial, sans-serif; font-size: 12px; fill: rgb(42, 63, 95); fill-opacity: 1; white-space: pre; opacity: 1;\" transform=\"translate(0,268.62)\">200</text></g><g class=\"ytick\"><text text-anchor=\"end\" x=\"79\" y=\"4.199999999999999\" style=\"font-family: 'Open Sans', verdana, arial, sans-serif; font-size: 12px; fill: rgb(42, 63, 95); fill-opacity: 1; white-space: pre; opacity: 1;\" transform=\"translate(0,217.92000000000002)\">300</text></g><g class=\"ytick\"><text text-anchor=\"end\" x=\"79\" y=\"4.199999999999999\" style=\"font-family: 'Open Sans', verdana, arial, sans-serif; font-size: 12px; fill: rgb(42, 63, 95); fill-opacity: 1; white-space: pre; opacity: 1;\" transform=\"translate(0,167.23000000000002)\">400</text></g><g class=\"ytick\"><text text-anchor=\"end\" x=\"79\" y=\"4.199999999999999\" style=\"font-family: 'Open Sans', verdana, arial, sans-serif; font-size: 12px; fill: rgb(42, 63, 95); fill-opacity: 1; white-space: pre; opacity: 1;\" transform=\"translate(0,116.53999999999999)\">500</text></g></g><g class=\"overaxes-above\"/></g><g class=\"subplot x2y2\"><g class=\"layer-subplot\"><g class=\"shapelayer\"/><g class=\"imagelayer\"/></g><g class=\"minor-gridlayer\"><g class=\"x2\"/><g class=\"y2\"/></g><g class=\"gridlayer\"><g class=\"x2\"/><g class=\"y2\"><path class=\"y2grid crisp\" transform=\"translate(0,286.18)\" d=\"M449.77777777777777,0h300.44444444444446\" style=\"stroke: rgb(255, 255, 255); stroke-opacity: 1; stroke-width: 1px;\"/><path class=\"y2grid crisp\" transform=\"translate(0,202.35)\" d=\"M449.77777777777777,0h300.44444444444446\" style=\"stroke: rgb(255, 255, 255); stroke-opacity: 1; stroke-width: 1px;\"/><path class=\"y2grid crisp\" transform=\"translate(0,118.53)\" d=\"M449.77777777777777,0h300.44444444444446\" style=\"stroke: rgb(255, 255, 255); stroke-opacity: 1; stroke-width: 1px;\"/></g></g><g class=\"zerolinelayer\"><path class=\"y2zl zl crisp\" transform=\"translate(0,370)\" d=\"M449.77777777777777,0h300.44444444444446\" style=\"stroke: rgb(255, 255, 255); stroke-opacity: 1; stroke-width: 2px;\"/></g><path class=\"xlines-below\"/><path class=\"ylines-below\"/><g class=\"overlines-below\"/><g class=\"xaxislayer-below\"/><g class=\"yaxislayer-below\"/><g class=\"overaxes-below\"/><g class=\"plot\" transform=\"translate(449.77777777777777,100)\" clip-path=\"url(#clip078fb0x2y2plot)\"><g class=\"barlayer mlayer\"><g class=\"trace bars\" style=\"opacity: 1;\"><g class=\"points\"><g class=\"point\"><path d=\"M97.89,270V13.5H105.64V270Z\" style=\"vector-effect: none; opacity: 1; stroke-width: 0.5px; fill: rgb(123, 188, 176); fill-opacity: 1; stroke: rgb(229, 236, 246); stroke-opacity: 1;\"/></g><g class=\"point\"><path d=\"M39.74,270V30.26H47.49V270Z\" style=\"vector-effect: none; opacity: 1; stroke-width: 0.5px; fill: rgb(174, 225, 198); fill-opacity: 1; stroke: rgb(229, 236, 246); stroke-opacity: 1;\"/></g><g class=\"point\"><path d=\"M214.19,270V52.06H221.94V270Z\" style=\"vector-effect: none; opacity: 1; stroke-width: 0.5px; fill: rgb(49, 112, 128); fill-opacity: 1; stroke: rgb(229, 236, 246); stroke-opacity: 1;\"/></g><g class=\"point\"><path d=\"M175.42,270V82.24H183.17V270Z\" style=\"vector-effect: none; opacity: 1; stroke-width: 0.5px; fill: rgb(69, 137, 145); fill-opacity: 1; stroke: rgb(229, 236, 246); stroke-opacity: 1;\"/></g><g class=\"point\"><path d=\"M156.04,270V90.62H163.79V270Z\" style=\"vector-effect: none; opacity: 1; stroke-width: 0.5px; fill: rgb(80, 150, 154); fill-opacity: 1; stroke: rgb(229, 236, 246); stroke-opacity: 1;\"/></g><g class=\"point\"><path d=\"M59.12,270V105.71H66.87V270Z\" style=\"vector-effect: none; opacity: 1; stroke-width: 0.5px; fill: rgb(157, 213, 190); fill-opacity: 1; stroke: rgb(229, 236, 246); stroke-opacity: 1;\"/></g><g class=\"point\"><path d=\"M78.5,270V110.74H86.26V270Z\" style=\"vector-effect: none; opacity: 1; stroke-width: 0.5px; fill: rgb(140, 200, 183); fill-opacity: 1; stroke: rgb(229, 236, 246); stroke-opacity: 1;\"/></g><g class=\"point\"><path d=\"M194.8,270V117.44H202.56V270Z\" style=\"vector-effect: none; opacity: 1; stroke-width: 0.5px; fill: rgb(58, 124, 137); fill-opacity: 1; stroke: rgb(229, 236, 246); stroke-opacity: 1;\"/></g><g class=\"point\"><path d=\"M0.97,270V122.47H8.72V270Z\" style=\"vector-effect: none; opacity: 1; stroke-width: 0.5px; fill: rgb(210, 251, 212); fill-opacity: 1; stroke: rgb(229, 236, 246); stroke-opacity: 1;\"/></g><g class=\"point\"><path d=\"M233.57,270V132.53H241.32V270Z\" style=\"vector-effect: none; opacity: 1; stroke-width: 0.5px; fill: rgb(40, 99, 119); fill-opacity: 1; stroke: rgb(229, 236, 246); stroke-opacity: 1;\"/></g><g class=\"point\"><path d=\"M146.35,270V132.53H154.1V270Z\" style=\"vector-effect: none; opacity: 1; stroke-width: 0.5px; fill: rgb(85, 156, 158); fill-opacity: 1; stroke: rgb(229, 236, 246); stroke-opacity: 1;\"/></g><g class=\"point\"><path d=\"M49.43,270V134.21H57.18V270Z\" style=\"vector-effect: none; opacity: 1; stroke-width: 0.5px; fill: rgb(165, 219, 194); fill-opacity: 1; stroke: rgb(229, 236, 246); stroke-opacity: 1;\"/></g><g class=\"point\"><path d=\"M165.73,270V137.56H173.48V270Z\" style=\"vector-effect: none; opacity: 1; stroke-width: 0.5px; fill: rgb(74, 143, 150); fill-opacity: 1; stroke: rgb(229, 236, 246); stroke-opacity: 1;\"/></g><g class=\"point\"><path d=\"M117.27,270V149.29H125.02V270Z\" style=\"vector-effect: none; opacity: 1; stroke-width: 0.5px; fill: rgb(108, 175, 169); fill-opacity: 1; stroke: rgb(229, 236, 246); stroke-opacity: 1;\"/></g><g class=\"point\"><path d=\"M185.11,270V150.97H192.87V270Z\" style=\"vector-effect: none; opacity: 1; stroke-width: 0.5px; fill: rgb(63, 130, 141); fill-opacity: 1; stroke: rgb(229, 236, 246); stroke-opacity: 1;\"/></g><g class=\"point\"><path d=\"M88.19,270V161.03H95.95V270Z\" style=\"vector-effect: none; opacity: 1; stroke-width: 0.5px; fill: rgb(131, 194, 180); fill-opacity: 1; stroke: rgb(229, 236, 246); stroke-opacity: 1;\"/></g><g class=\"point\"><path d=\"M20.35,270V161.03H28.11V270Z\" style=\"vector-effect: none; opacity: 1; stroke-width: 0.5px; fill: rgb(192, 238, 205); fill-opacity: 1; stroke: rgb(229, 236, 246); stroke-opacity: 1;\"/></g><g class=\"point\"><path d=\"M136.65,270V169.41H144.41V270Z\" style=\"vector-effect: none; opacity: 1; stroke-width: 0.5px; fill: rgb(93, 162, 162); fill-opacity: 1; stroke: rgb(229, 236, 246); stroke-opacity: 1;\"/></g><g class=\"point\"><path d=\"M10.66,270V177.79H18.41V270Z\" style=\"vector-effect: none; opacity: 1; stroke-width: 0.5px; fill: rgb(201, 245, 208); fill-opacity: 1; stroke: rgb(229, 236, 246); stroke-opacity: 1;\"/></g><g class=\"point\"><path d=\"M107.58,270V177.79H115.33V270Z\" style=\"vector-effect: none; opacity: 1; stroke-width: 0.5px; fill: rgb(115, 182, 172); fill-opacity: 1; stroke: rgb(229, 236, 246); stroke-opacity: 1;\"/></g><g class=\"point\"><path d=\"M204.5,270V197.91H212.25V270Z\" style=\"vector-effect: none; opacity: 1; stroke-width: 0.5px; fill: rgb(53, 118, 132); fill-opacity: 1; stroke: rgb(229, 236, 246); stroke-opacity: 1;\"/></g><g class=\"point\"><path d=\"M272.34,270V207.97H280.09V270Z\" style=\"vector-effect: none; opacity: 1; stroke-width: 0.5px; fill: rgb(25, 75, 100); fill-opacity: 1; stroke: rgb(229, 236, 246); stroke-opacity: 1;\"/></g><g class=\"point\"><path d=\"M223.88,270V218.03H231.63V270Z\" style=\"vector-effect: none; opacity: 1; stroke-width: 0.5px; fill: rgb(44, 105, 123); fill-opacity: 1; stroke: rgb(229, 236, 246); stroke-opacity: 1;\"/></g><g class=\"point\"><path d=\"M68.81,270V219.71H76.56V270Z\" style=\"vector-effect: none; opacity: 1; stroke-width: 0.5px; fill: rgb(148, 207, 187); fill-opacity: 1; stroke: rgb(229, 236, 246); stroke-opacity: 1;\"/></g><g class=\"point\"><path d=\"M126.96,270V234.79H134.72V270Z\" style=\"vector-effect: none; opacity: 1; stroke-width: 0.5px; fill: rgb(100, 169, 165); fill-opacity: 1; stroke: rgb(229, 236, 246); stroke-opacity: 1;\"/></g><g class=\"point\"><path d=\"M282.03,270V244.85H289.78V270Z\" style=\"vector-effect: none; opacity: 1; stroke-width: 0.5px; fill: rgb(21, 69, 95); fill-opacity: 1; stroke: rgb(229, 236, 246); stroke-opacity: 1;\"/></g><g class=\"point\"><path d=\"M30.04,270V244.85H37.8V270Z\" style=\"vector-effect: none; opacity: 1; stroke-width: 0.5px; fill: rgb(183, 232, 201); fill-opacity: 1; stroke: rgb(229, 236, 246); stroke-opacity: 1;\"/></g><g class=\"point\"><path d=\"M243.26,270V261.62H251.02V270Z\" style=\"vector-effect: none; opacity: 1; stroke-width: 0.5px; fill: rgb(35, 93, 114); fill-opacity: 1; stroke: rgb(229, 236, 246); stroke-opacity: 1;\"/></g><g class=\"point\"><path d=\"M291.72,270V263.29H299.48V270Z\" style=\"vector-effect: none; opacity: 1; stroke-width: 0.5px; fill: rgb(18, 63, 90); fill-opacity: 1; stroke: rgb(229, 236, 246); stroke-opacity: 1;\"/></g><g class=\"point\"><path d=\"M262.65,270V266.65H270.4V270Z\" style=\"vector-effect: none; opacity: 1; stroke-width: 0.5px; fill: rgb(28, 81, 104); fill-opacity: 1; stroke: rgb(229, 236, 246); stroke-opacity: 1;\"/></g></g></g></g></g><g class=\"overplot\"/><path class=\"xlines-above crisp\" d=\"M0,0\" style=\"fill: none;\"/><path class=\"ylines-above crisp\" d=\"M0,0\" style=\"fill: none;\"/><g class=\"overlines-above\"/><g class=\"xaxislayer-above\"><g class=\"x2tick\"><text text-anchor=\"middle\" x=\"0\" y=\"383\" transform=\"translate(493.3877777777778,0)\" style=\"font-family: 'Open Sans', verdana, arial, sans-serif; font-size: 12px; fill: rgb(42, 63, 95); fill-opacity: 1; white-space: pre; opacity: 1;\">0.5M</text></g><g class=\"x2tick\"><text text-anchor=\"middle\" x=\"0\" y=\"383\" style=\"font-family: 'Open Sans', verdana, arial, sans-serif; font-size: 12px; fill: rgb(42, 63, 95); fill-opacity: 1; white-space: pre; opacity: 1;\" transform=\"translate(590.3077777777778,0)\">1M</text></g><g class=\"x2tick\"><text text-anchor=\"middle\" x=\"0\" y=\"383\" style=\"font-family: 'Open Sans', verdana, arial, sans-serif; font-size: 12px; fill: rgb(42, 63, 95); fill-opacity: 1; white-space: pre; opacity: 1;\" transform=\"translate(687.2277777777778,0)\">1.5M</text></g></g><g class=\"yaxislayer-above\"><g class=\"y2tick\"><text text-anchor=\"end\" x=\"448.77777777777777\" y=\"4.199999999999999\" transform=\"translate(0,370)\" style=\"font-family: 'Open Sans', verdana, arial, sans-serif; font-size: 12px; fill: rgb(42, 63, 95); fill-opacity: 1; white-space: pre; opacity: 1;\">0</text></g><g class=\"y2tick\"><text text-anchor=\"end\" x=\"448.77777777777777\" y=\"4.199999999999999\" style=\"font-family: 'Open Sans', verdana, arial, sans-serif; font-size: 12px; fill: rgb(42, 63, 95); fill-opacity: 1; white-space: pre; opacity: 1;\" transform=\"translate(0,286.18)\">50</text></g><g class=\"y2tick\"><text text-anchor=\"end\" x=\"448.77777777777777\" y=\"4.199999999999999\" style=\"font-family: 'Open Sans', verdana, arial, sans-serif; font-size: 12px; fill: rgb(42, 63, 95); fill-opacity: 1; white-space: pre; opacity: 1;\" transform=\"translate(0,202.35)\">100</text></g><g class=\"y2tick\"><text text-anchor=\"end\" x=\"448.77777777777777\" y=\"4.199999999999999\" style=\"font-family: 'Open Sans', verdana, arial, sans-serif; font-size: 12px; fill: rgb(42, 63, 95); fill-opacity: 1; white-space: pre; opacity: 1;\" transform=\"translate(0,118.53)\">150</text></g></g><g class=\"overaxes-above\"/></g><g class=\"subplot x3y3\"><g class=\"layer-subplot\"><g class=\"shapelayer\"/><g class=\"imagelayer\"/></g><g class=\"minor-gridlayer\"><g class=\"x3\"/><g class=\"y3\"/></g><g class=\"gridlayer\"><g class=\"x3\"/><g class=\"y3\"><path class=\"y3grid crisp\" transform=\"translate(0,319.21000000000004)\" d=\"M819.5555555555555,0h300.4444444444444\" style=\"stroke: rgb(255, 255, 255); stroke-opacity: 1; stroke-width: 1px;\"/><path class=\"y3grid crisp\" transform=\"translate(0,268.41999999999996)\" d=\"M819.5555555555555,0h300.4444444444444\" style=\"stroke: rgb(255, 255, 255); stroke-opacity: 1; stroke-width: 1px;\"/><path class=\"y3grid crisp\" transform=\"translate(0,217.62)\" d=\"M819.5555555555555,0h300.4444444444444\" style=\"stroke: rgb(255, 255, 255); stroke-opacity: 1; stroke-width: 1px;\"/><path class=\"y3grid crisp\" transform=\"translate(0,166.82999999999998)\" d=\"M819.5555555555555,0h300.4444444444444\" style=\"stroke: rgb(255, 255, 255); stroke-opacity: 1; stroke-width: 1px;\"/><path class=\"y3grid crisp\" transform=\"translate(0,116.03999999999999)\" d=\"M819.5555555555555,0h300.4444444444444\" style=\"stroke: rgb(255, 255, 255); stroke-opacity: 1; stroke-width: 1px;\"/></g></g><g class=\"zerolinelayer\"><path class=\"y3zl zl crisp\" transform=\"translate(0,370)\" d=\"M819.5555555555555,0h300.4444444444444\" style=\"stroke: rgb(255, 255, 255); stroke-opacity: 1; stroke-width: 2px;\"/></g><path class=\"xlines-below\"/><path class=\"ylines-below\"/><g class=\"overlines-below\"/><g class=\"xaxislayer-below\"/><g class=\"yaxislayer-below\"/><g class=\"overaxes-below\"/><g class=\"plot\" transform=\"translate(819.5555555555555,100)\" clip-path=\"url(#clip078fb0x3y3plot)\"><g class=\"barlayer mlayer\"><g class=\"trace bars\" style=\"opacity: 1;\"><g class=\"points\"><g class=\"point\"><path d=\"M78.87,270V13.5H108.91V270Z\" style=\"vector-effect: none; opacity: 1; stroke-width: 0.5px; fill: rgb(135, 197, 181); fill-opacity: 1; stroke: rgb(229, 236, 246); stroke-opacity: 1;\"/></g><g class=\"point\"><path d=\"M116.42,270V53.63H146.47V270Z\" style=\"vector-effect: none; opacity: 1; stroke-width: 0.5px; fill: rgb(101, 170, 166); fill-opacity: 1; stroke: rgb(229, 236, 246); stroke-opacity: 1;\"/></g><g class=\"point\"><path d=\"M41.31,270V78.51H71.36V270Z\" style=\"vector-effect: none; opacity: 1; stroke-width: 0.5px; fill: rgb(171, 224, 197); fill-opacity: 1; stroke: rgb(229, 236, 246); stroke-opacity: 1;\"/></g><g class=\"point\"><path d=\"M153.98,270V120.67H184.02V270Z\" style=\"vector-effect: none; opacity: 1; stroke-width: 0.5px; fill: rgb(73, 142, 149); fill-opacity: 1; stroke: rgb(229, 236, 246); stroke-opacity: 1;\"/></g><g class=\"point\"><path d=\"M191.53,270V179.59H221.58V270Z\" style=\"vector-effect: none; opacity: 1; stroke-width: 0.5px; fill: rgb(51, 115, 130); fill-opacity: 1; stroke: rgb(229, 236, 246); stroke-opacity: 1;\"/></g><g class=\"point\"><path d=\"M3.76,270V222.76H33.8V270Z\" style=\"vector-effect: none; opacity: 1; stroke-width: 0.5px; fill: rgb(210, 251, 212); fill-opacity: 1; stroke: rgb(229, 236, 246); stroke-opacity: 1;\"/></g><g class=\"point\"><path d=\"M229.09,270V240.03H259.13V270Z\" style=\"vector-effect: none; opacity: 1; stroke-width: 0.5px; fill: rgb(33, 89, 111); fill-opacity: 1; stroke: rgb(229, 236, 246); stroke-opacity: 1;\"/></g><g class=\"point\"><path d=\"M266.64,270V242.06H296.69V270Z\" style=\"vector-effect: none; opacity: 1; stroke-width: 0.5px; fill: rgb(18, 63, 90); fill-opacity: 1; stroke: rgb(229, 236, 246); stroke-opacity: 1;\"/></g></g></g></g></g><g class=\"overplot\"/><path class=\"xlines-above crisp\" d=\"M0,0\" style=\"fill: none;\"/><path class=\"ylines-above crisp\" d=\"M0,0\" style=\"fill: none;\"/><g class=\"overlines-above\"/><g class=\"xaxislayer-above\"><g class=\"x3tick\"><text text-anchor=\"middle\" x=\"0\" y=\"383\" transform=\"translate(838.3355555555555,0)\" style=\"font-family: 'Open Sans', verdana, arial, sans-serif; font-size: 12px; fill: rgb(42, 63, 95); fill-opacity: 1; white-space: pre; opacity: 1;\">2</text></g><g class=\"x3tick\"><text text-anchor=\"middle\" x=\"0\" y=\"383\" style=\"font-family: 'Open Sans', verdana, arial, sans-serif; font-size: 12px; fill: rgb(42, 63, 95); fill-opacity: 1; white-space: pre; opacity: 1;\" transform=\"translate(913.4455555555555,0)\">4</text></g><g class=\"x3tick\"><text text-anchor=\"middle\" x=\"0\" y=\"383\" style=\"font-family: 'Open Sans', verdana, arial, sans-serif; font-size: 12px; fill: rgb(42, 63, 95); fill-opacity: 1; white-space: pre; opacity: 1;\" transform=\"translate(988.5555555555555,0)\">6</text></g><g class=\"x3tick\"><text text-anchor=\"middle\" x=\"0\" y=\"383\" style=\"font-family: 'Open Sans', verdana, arial, sans-serif; font-size: 12px; fill: rgb(42, 63, 95); fill-opacity: 1; white-space: pre; opacity: 1;\" transform=\"translate(1063.6655555555556,0)\">8</text></g></g><g class=\"yaxislayer-above\"><g class=\"y3tick\"><text text-anchor=\"end\" x=\"818.5555555555555\" y=\"4.199999999999999\" transform=\"translate(0,370)\" style=\"font-family: 'Open Sans', verdana, arial, sans-serif; font-size: 12px; fill: rgb(42, 63, 95); fill-opacity: 1; white-space: pre; opacity: 1;\">0</text></g><g class=\"y3tick\"><text text-anchor=\"end\" x=\"818.5555555555555\" y=\"4.199999999999999\" style=\"font-family: 'Open Sans', verdana, arial, sans-serif; font-size: 12px; fill: rgb(42, 63, 95); fill-opacity: 1; white-space: pre; opacity: 1;\" transform=\"translate(0,319.21000000000004)\">100</text></g><g class=\"y3tick\"><text text-anchor=\"end\" x=\"818.5555555555555\" y=\"4.199999999999999\" style=\"font-family: 'Open Sans', verdana, arial, sans-serif; font-size: 12px; fill: rgb(42, 63, 95); fill-opacity: 1; white-space: pre; opacity: 1;\" transform=\"translate(0,268.41999999999996)\">200</text></g><g class=\"y3tick\"><text text-anchor=\"end\" x=\"818.5555555555555\" y=\"4.199999999999999\" style=\"font-family: 'Open Sans', verdana, arial, sans-serif; font-size: 12px; fill: rgb(42, 63, 95); fill-opacity: 1; white-space: pre; opacity: 1;\" transform=\"translate(0,217.62)\">300</text></g><g class=\"y3tick\"><text text-anchor=\"end\" x=\"818.5555555555555\" y=\"4.199999999999999\" style=\"font-family: 'Open Sans', verdana, arial, sans-serif; font-size: 12px; fill: rgb(42, 63, 95); fill-opacity: 1; white-space: pre; opacity: 1;\" transform=\"translate(0,166.82999999999998)\">400</text></g><g class=\"y3tick\"><text text-anchor=\"end\" x=\"818.5555555555555\" y=\"4.199999999999999\" style=\"font-family: 'Open Sans', verdana, arial, sans-serif; font-size: 12px; fill: rgb(42, 63, 95); fill-opacity: 1; white-space: pre; opacity: 1;\" transform=\"translate(0,116.03999999999999)\">500</text></g></g><g class=\"overaxes-above\"/></g></g><g class=\"polarlayer\"/><g class=\"smithlayer\"/><g class=\"ternarylayer\"/><g class=\"geolayer\"/><g class=\"funnelarealayer\"/><g class=\"pielayer\"/><g class=\"iciclelayer\"/><g class=\"treemaplayer\"/><g class=\"sunburstlayer\"/><g class=\"glimages\"/><defs id=\"topdefs-078fb0\"><g class=\"clips\"/></defs><g class=\"layer-above\"><g class=\"imagelayer\"/><g class=\"shapelayer\"/></g><g class=\"infolayer\"><g class=\"g-gtitle\"><text class=\"gtitle\" x=\"60\" y=\"50\" text-anchor=\"start\" dy=\"0em\" style=\"font-family: 'Open Sans', verdana, arial, sans-serif; font-size: 17px; fill: rgb(42, 63, 95); opacity: 1; font-weight: normal; white-space: pre;\">Numerical features breakdown</text></g><g class=\"g-xtitle\"><text class=\"xtitle\" x=\"230.22222222222223\" y=\"409.8\" text-anchor=\"middle\" style=\"font-family: 'Open Sans', verdana, arial, sans-serif; font-size: 14px; fill: rgb(42, 63, 95); opacity: 1; font-weight: normal; white-space: pre;\">Age</text></g><g class=\"g-x2title\"><text class=\"x2title\" x=\"600\" y=\"409.8\" text-anchor=\"middle\" style=\"font-family: 'Open Sans', verdana, arial, sans-serif; font-size: 14px; fill: rgb(42, 63, 95); opacity: 1; font-weight: normal; white-space: pre;\">Annual income in Indian rupees</text></g><g class=\"g-x3title\"><text class=\"x3title\" x=\"969.7777777777777\" y=\"409.8\" text-anchor=\"middle\" style=\"font-family: 'Open Sans', verdana, arial, sans-serif; font-size: 14px; fill: rgb(42, 63, 95); opacity: 1; font-weight: normal; white-space: pre;\"># of family members</text></g><g class=\"g-ytitle\"><text class=\"ytitle\" transform=\"rotate(-90,31.809375000000003,235)\" x=\"31.809375000000003\" y=\"235\" text-anchor=\"middle\" style=\"font-family: 'Open Sans', verdana, arial, sans-serif; font-size: 14px; fill: rgb(42, 63, 95); opacity: 1; font-weight: normal; white-space: pre;\">Count</text></g><g class=\"g-y2title\"/><g class=\"g-y3title\"/><g class=\"annotation\" data-index=\"0\" style=\"opacity: 1;\"><g class=\"annotation-text-g\" transform=\"rotate(0,230.22222222222223,88)\"><g class=\"cursor-pointer\" transform=\"translate(172,76)\"><rect class=\"bg\" x=\"0.5\" y=\"0.5\" width=\"115\" height=\"23\" style=\"stroke-width: 1px; stroke: rgb(0, 0, 0); stroke-opacity: 0; fill: rgb(0, 0, 0); fill-opacity: 0;\"/><text class=\"annotation-text\" text-anchor=\"middle\" x=\"58.15625\" y=\"18\" style=\"font-family: 'Open Sans', verdana, arial, sans-serif; font-size: 16px; fill: rgb(42, 63, 95); fill-opacity: 1; white-space: pre;\">Customer age</text></g></g></g><g class=\"annotation\" data-index=\"1\" style=\"opacity: 1;\"><g class=\"annotation-text-g\" transform=\"rotate(0,600,88)\"><g class=\"cursor-pointer\" transform=\"translate(538,76)\"><rect class=\"bg\" x=\"0.5\" y=\"0.5\" width=\"124\" height=\"23\" style=\"stroke-width: 1px; stroke: rgb(0, 0, 0); stroke-opacity: 0; fill: rgb(0, 0, 0); fill-opacity: 0;\"/><text class=\"annotation-text\" text-anchor=\"middle\" x=\"62.46875\" y=\"18\" style=\"font-family: 'Open Sans', verdana, arial, sans-serif; font-size: 16px; fill: rgb(42, 63, 95); fill-opacity: 1; white-space: pre;\">Annual Income</text></g></g></g><g class=\"annotation\" data-index=\"2\" style=\"opacity: 1;\"><g class=\"annotation-text-g\" transform=\"rotate(0,969.7777777777778,88)\"><g class=\"cursor-pointer\" transform=\"translate(922,76)\"><rect class=\"bg\" x=\"0.5\" y=\"0.5\" width=\"95\" height=\"23\" style=\"stroke-width: 1px; stroke: rgb(0, 0, 0); stroke-opacity: 0; fill: rgb(0, 0, 0); fill-opacity: 0;\"/><text class=\"annotation-text\" text-anchor=\"middle\" x=\"47.765625\" y=\"18\" style=\"font-family: 'Open Sans', verdana, arial, sans-serif; font-size: 16px; fill: rgb(42, 63, 95); fill-opacity: 1; white-space: pre;\">Family Size</text></g></g></g></g></svg>"
      ]
     },
     "metadata": {},
     "output_type": "display_data"
    }
   ],
   "source": [
    "# Create subplots figure\n",
    "fig2 = make_subplots(\n",
    "    rows=1,\n",
    "    cols=3,\n",
    "    subplot_titles=(\"Customer age\", \"Annual Income\", \"Family Size\"),\n",
    ")\n",
    "\n",
    "# Plot 3 variables in their respective subplots\n",
    "numerical_subplot(df,fig2, \"age\", [1, 1])\n",
    "numerical_subplot(df,fig2, \"income\", [1, 2])\n",
    "numerical_subplot(df,fig2, \"family_size\", [1, 3])\n",
    "\n",
    "# Set x axis for each\n",
    "fig2.update_xaxes(title_text=\"Age\", row=1, col=1)\n",
    "fig2.update_xaxes(title_text=\"Annual income in Indian rupees\", row=1, col=2)\n",
    "fig2.update_xaxes(title_text=\"# of family members\", row=1, col=3)\n",
    "\n",
    "# Update yaxis properties\n",
    "fig2.update_yaxes(title_text=\"Count\", row=1, col=1)\n",
    "fig2.update_yaxes(title_text=\"Count\", row=2, col=1)\n",
    "\n",
    "# Adjust title and adjust figure height\n",
    "fig2.update_layout(\n",
    "    title_text=\"Numerical features breakdown\", height=450, showlegend=False\n",
    ")\n",
    "fig2.show('svg')"
   ]
  },
  {
   "cell_type": "markdown",
   "metadata": {},
   "source": [
    "As stated earlier our ages range from 25-35, with a large number of them being 28. Family size does take on a bell curve shape centered at 4-5 family members.  Annual income takes on a fairly wide range, but doesn't appear to be normally distributed even though it could converge to a more normal shape if our dataset were larger. We have a graphical representation of the data, but let's test the assumption that our incomes come from a normal distribution more rigorously. Doing so will help us get a sense of how representative of the general population of Indian workers in this age range our data is, because that could have implications for our travel deal products later on. We'll use the Shapiro-Wilk test for normality. "
   ]
  },
  {
   "cell_type": "markdown",
   "metadata": {},
   "source": [
    "#### Testing for Normality"
   ]
  },
  {
   "cell_type": "markdown",
   "metadata": {},
   "source": [
    "$H_0$ = data comes from a normal distribution<br>\n",
    "$H_1$ = data does not come from a normal distribution"
   ]
  },
  {
   "cell_type": "markdown",
   "metadata": {},
   "source": [
    "Now that we've established our hypotheses for this test, let's scale and run the hypothesis test. Though our income data is encoded as discrete rupee quantities, it should be possible to be paid in fractional rupee amounts, so we'll use standard scaling to place the data points along a continuous distribution before running Shapiro-Wilk."
   ]
  },
  {
   "cell_type": "code",
   "execution_count": 10,
   "metadata": {},
   "outputs": [
    {
     "data": {
      "text/html": [
       "<div>\n",
       "<style scoped>\n",
       "    .dataframe tbody tr th:only-of-type {\n",
       "        vertical-align: middle;\n",
       "    }\n",
       "\n",
       "    .dataframe tbody tr th {\n",
       "        vertical-align: top;\n",
       "    }\n",
       "\n",
       "    .dataframe thead th {\n",
       "        text-align: right;\n",
       "    }\n",
       "</style>\n",
       "<table border=\"1\" class=\"dataframe\">\n",
       "  <thead>\n",
       "    <tr style=\"text-align: right;\">\n",
       "      <th></th>\n",
       "      <th>None</th>\n",
       "      <th>values</th>\n",
       "    </tr>\n",
       "  </thead>\n",
       "  <tbody>\n",
       "    <tr>\n",
       "      <th>0</th>\n",
       "      <td>SP-test statistic</td>\n",
       "      <td>0.965</td>\n",
       "    </tr>\n",
       "    <tr>\n",
       "      <th>1</th>\n",
       "      <td>p-value</td>\n",
       "      <td>0.000</td>\n",
       "    </tr>\n",
       "  </tbody>\n",
       "</table>\n",
       "</div>"
      ],
      "text/plain": [
       "                None  values\n",
       "0  SP-test statistic   0.965\n",
       "1            p-value   0.000"
      ]
     },
     "execution_count": 10,
     "metadata": {},
     "output_type": "execute_result"
    }
   ],
   "source": [
    "# Copy income as a dataframe\n",
    "income = pd.DataFrame(df[\"income\"].copy())\n",
    "\n",
    "# Create standard scaler instance\n",
    "scaler = StandardScaler()\n",
    "\n",
    "# Scale income\n",
    "income_scaled = pd.Series(scaler.fit_transform(income).reshape(-1))\n",
    "\n",
    "# Conduct shapiro-wilk test for normality\n",
    "shapiro_wilk(income_scaled)"
   ]
  },
  {
   "cell_type": "markdown",
   "metadata": {},
   "source": [
    "Our p-value from this test is vanishingly small, so we have sufficient evidence to reject the null hypothesis and conclude that our income data is in fact not normally distributed. This reinforces the idea that our consumer base is distinct from the general population along this dimension, which we'll keep in mind as we continue our analysis. "
   ]
  },
  {
   "cell_type": "markdown",
   "metadata": {},
   "source": [
    "### Correlation across features"
   ]
  },
  {
   "cell_type": "markdown",
   "metadata": {},
   "source": [
    "Considering our mix of categorical and numerical variables, we'll have to consider correlations from a number of angles. In this section, we'll use Fisher's Exact test for categorical-categorical comparison, with Point-Biserial Correlation being our method for binary and numerical variable comparison. Let's first isolate a dataframe of just our binary variables. "
   ]
  },
  {
   "cell_type": "code",
   "execution_count": 11,
   "metadata": {},
   "outputs": [],
   "source": [
    "# Format all binary variables as 1/0\n",
    "binary_df = binary_formatter(df, \"binary\")\n",
    "\n",
    "# Drop non-binary variables\n",
    "binary_df = binary_df[\n",
    "    [\n",
    "        \"college_grad\",\n",
    "        \"conditions\",\n",
    "        \"frequent_traveler\",\n",
    "        \"first_trip\",\n",
    "        \"travel_insurance\",\n",
    "    ]\n",
    "]"
   ]
  },
  {
   "cell_type": "markdown",
   "metadata": {},
   "source": [
    "#### Point-Biserial Correlations"
   ]
  },
  {
   "cell_type": "markdown",
   "metadata": {},
   "source": [
    "Point-biserial correlations are a specific type of correlation used to measure the relationship between a binary variable and a continuous variable, and are mathematically equivalent to the Pearson correlation used more commonly.  The correlation statistic is calculated as follows: \n",
    "\n",
    "\\begin{align}\n",
    "r_{pb} = \\frac{M_1-M_0}{s_n}\\sqrt\\frac{n_1 \\cdot n_0}{n^2}\n",
    "\\end{align}\n",
    "\n",
    "Where:\n",
    "- M1 is the mean of the continuous variable for one class of the binary variable\n",
    "- M0 is the mean of the continuous variable for the other class of the binary variable \n",
    "- s is the standard deviation of the continuous variable\n",
    "- p is the proportion of cases in one group of the binary variable"
   ]
  },
  {
   "cell_type": "code",
   "execution_count": 12,
   "metadata": {},
   "outputs": [
    {
     "data": {
      "image/png": "[encoded data removed]",
      "text/plain": [
       "<Figure size 1400x600 with 2 Axes>"
      ]
     },
     "metadata": {},
     "output_type": "display_data"
    }
   ],
   "source": [
    "# Create dataframe for this correlation set\n",
    "continuous_variables = [\"age\", \"income\", \"family_size\"]\n",
    "array = np.zeros((len(binary_df.columns), len(continuous_variables)), dtype=int)\n",
    "pb_corr_df = pd.DataFrame(data=array, columns=continuous_variables).set_index(\n",
    "    binary_df.columns\n",
    ")\n",
    "\n",
    "# Calculate correlations and overwrite dataframe\n",
    "for col in pb_corr_df.columns:\n",
    "    pb_corr_df[col] = [\n",
    "        pointbiserialr(df[col], binary_df[x])[0] for x in binary_df.columns\n",
    "    ]\n",
    "\n",
    "# Show heatmap of correlations\n",
    "create_heatmap(pb_corr_df)"
   ]
  },
  {
   "cell_type": "markdown",
   "metadata": {},
   "source": [
    "From our heatmap we can see that our highest correlations are moderate, between income and travel_insurance, first_trip, and frequent_traveler features, which makes sense. Higher-income earners are more likely to travel frequently, however there are two potentially surprising correlations here. \n",
    "\n",
    "Income and first trip being suggested might point to a significant number of high-earners reaching a new level of wealth or status, and thus taking their first trip. This may mean that a signficant proportion of our dataset is comprised of new, higher-earning travelers, which behave differently than established, previously wealthy travelers when it comes to booking travel packages and interacting with airline rewards or deals. Income and travel_insurance being correlated suggests that higher income earners are more likely to purchase travel insurance, which could point to either their sentiments or trust toward airlines, or it could suggest that high earners on their first trip are more likely to buy travel insurance to protect their flight experience. \n",
    "\n",
    "We should take a closer look at the correlation between travel_insurance and first_trip to get a clearer picture. Let's move on to Fisher's Exact test to examine this and other potential correlations. "
   ]
  },
  {
   "cell_type": "markdown",
   "metadata": {},
   "source": [
    "#### Fisher's Exact Test"
   ]
  },
  {
   "cell_type": "markdown",
   "metadata": {},
   "source": [
    "\n",
    "We'll use Fisher's Exact Test to check for correlations between binary variables. More precisely, this test checks for non-random associations between pairs of categorical variables. The null and alternate hypotheses for this test go as follows: \n",
    "\n",
    "$H_0$ = The two categorical variables are independent. \n",
    "<br>$H_1$ = There is an association between the two categorical variables, i.e. they are not independent.\n",
    "<br>$\\alpha$ = 0.05"
   ]
  },
  {
   "cell_type": "markdown",
   "metadata": {},
   "source": [
    "For each pair of variables, this test calculates the probabilities for all permutations of observations in the 2X2 contingency table between variables and assigns p-values to those variables based on the assumption that $H_0$ is true. The following table is a heatmap of those p-values, with lower values meaning a higher likelihood of dependence between the variables.  "
   ]
  },
  {
   "cell_type": "code",
   "execution_count": 13,
   "metadata": {},
   "outputs": [
    {
     "data": {
      "image/png": "[encoded data removed]",
      "text/plain": [
       "<Figure size 1400x600 with 2 Axes>"
      ]
     },
     "metadata": {},
     "output_type": "display_data"
    }
   ],
   "source": [
    "fishers_p_values = create_fishers_array(binary_df)\n",
    "heatmap = create_heatmap(fishers_p_values, reversed=False)"
   ]
  },
  {
   "cell_type": "markdown",
   "metadata": {},
   "source": [
    "In this heatmap, the squares of note are all pistachio green, with the the most notable being p-values equal to zero that do not lie on the diagonal. First_trip and travel insurance are indeed correlated, as are college_grad and first_trip. First_trip and frequent_traveler are understandably correlated because by construction they cannot be true at the same time. Now that we've taken the time to understand our 9 variables within the dataset, let's preprocess our data so that we can get to modeling. "
   ]
  },
  {
   "cell_type": "markdown",
   "metadata": {},
   "source": [
    "### Feature Engineering/ Cleaning"
   ]
  },
  {
   "cell_type": "markdown",
   "metadata": {},
   "source": [
    "Let's clone our dataset, encoding employment as a categorical feature to match the others. Additionally we'll scale the data. "
   ]
  },
  {
   "cell_type": "code",
   "execution_count": 14,
   "metadata": {},
   "outputs": [],
   "source": [
    "# Before we make any changes, let's copy df so that we can make changes to it to prep for modeling\n",
    "model_df = df.copy()\n",
    "\n",
    "# Next let's encode employment as a binary variable\n",
    "model_df.employment = LabelEncoder().fit_transform(model_df[\"employment\"])\n",
    "\n",
    "model_df = pd.DataFrame(\n",
    "    MinMaxScaler().fit_transform(model_df), columns=model_df.columns\n",
    ")"
   ]
  },
  {
   "cell_type": "markdown",
   "metadata": {},
   "source": [
    "Now let's split the data into testing and training sets."
   ]
  },
  {
   "cell_type": "code",
   "execution_count": 15,
   "metadata": {},
   "outputs": [],
   "source": [
    "# Keep an overall X and y to use later\n",
    "X = model_df.drop(columns=\"travel_insurance\")\n",
    "Y = model_df[\"travel_insurance\"]\n",
    "\n",
    "# Split the set into training and testing data\n",
    "x_train, x_test, y_train, y_test = train_test_split(\n",
    "    X, Y, test_size=0.3, random_state=1, stratify=Y\n",
    ")"
   ]
  },
  {
   "cell_type": "code",
   "execution_count": 16,
   "metadata": {},
   "outputs": [
    {
     "data": {
      "text/html": [
       "<div>\n",
       "<style scoped>\n",
       "    .dataframe tbody tr th:only-of-type {\n",
       "        vertical-align: middle;\n",
       "    }\n",
       "\n",
       "    .dataframe tbody tr th {\n",
       "        vertical-align: top;\n",
       "    }\n",
       "\n",
       "    .dataframe thead th {\n",
       "        text-align: right;\n",
       "    }\n",
       "</style>\n",
       "<table border=\"1\" class=\"dataframe\">\n",
       "  <thead>\n",
       "    <tr style=\"text-align: right;\">\n",
       "      <th></th>\n",
       "      <th>y_train</th>\n",
       "      <th>y_test</th>\n",
       "      <th>training_proportion</th>\n",
       "      <th>testing_proportion</th>\n",
       "    </tr>\n",
       "    <tr>\n",
       "      <th>travel_insurance</th>\n",
       "      <th></th>\n",
       "      <th></th>\n",
       "      <th></th>\n",
       "      <th></th>\n",
       "    </tr>\n",
       "  </thead>\n",
       "  <tbody>\n",
       "    <tr>\n",
       "      <th>0.0</th>\n",
       "      <td>893</td>\n",
       "      <td>384</td>\n",
       "      <td>0.699</td>\n",
       "      <td>0.301</td>\n",
       "    </tr>\n",
       "    <tr>\n",
       "      <th>1.0</th>\n",
       "      <td>497</td>\n",
       "      <td>213</td>\n",
       "      <td>0.700</td>\n",
       "      <td>0.300</td>\n",
       "    </tr>\n",
       "  </tbody>\n",
       "</table>\n",
       "</div>"
      ],
      "text/plain": [
       "                  y_train  y_test  training_proportion  testing_proportion\n",
       "travel_insurance                                                          \n",
       "0.0                   893     384                0.699               0.301\n",
       "1.0                   497     213                0.700               0.300"
      ]
     },
     "execution_count": 16,
     "metadata": {},
     "output_type": "execute_result"
    }
   ],
   "source": [
    "# Before we continue let's check if stratification worked as intended \n",
    "y_strat=pd.concat([y_train.value_counts(),y_test.value_counts()],axis=1)\n",
    "y_strat.columns=['y_train','y_test']\n",
    "y_strat['training_proportion']=y_strat.y_train/(y_strat.y_train+y_strat.y_test)\n",
    "y_strat['testing_proportion']=y_strat.y_test/(y_strat.y_train+y_strat.y_test)\n",
    "y_strat\n"
   ]
  },
  {
   "cell_type": "markdown",
   "metadata": {},
   "source": [
    "Our stratify parameter in train_test_split worked as intended, balancing y-classes across training and testing sets, so we're good to go. Let's model. "
   ]
  },
  {
   "cell_type": "markdown",
   "metadata": {},
   "source": [
    "# Predictive modeling"
   ]
  },
  {
   "cell_type": "markdown",
   "metadata": {},
   "source": [
    "Now that we've prepped our data, we can discuss our model setup. We'll use the following 4 models:\n",
    "- Logistic Regression\n",
    "- K-Nearest Neighbors\n",
    "- Decision Tree\n",
    "- Naive Bayes\n",
    "\n",
    "For each, we'll conduct hyperparameter tuning for the model of interest, proceeding to cross-validation, and then to finally running the model on the test_set for validation. Each model will be assessed on accuracy and precision for their performance at classifying our data, but we will also calculate recall and f1-scores to have have a more complete picture of our classification at each step of the process. \n",
    "\n",
    "Once we've completed this process for each of these models, we'll take step of which models seem to be better for our data, before exploring options for ensemble models. "
   ]
  },
  {
   "cell_type": "markdown",
   "metadata": {},
   "source": [
    "## Logistic Regression"
   ]
  },
  {
   "cell_type": "markdown",
   "metadata": {},
   "source": [
    "We'll start with this model because it's one of the most widely used supervised model types, is pretty simple to interpret, and also is computationally efficient. Since there are many hyperparameter setups that we could end up with, we should start with tuning before we dive into model building. "
   ]
  },
  {
   "cell_type": "markdown",
   "metadata": {},
   "source": [
    "### Hyperparameter tuning"
   ]
  },
  {
   "cell_type": "markdown",
   "metadata": {},
   "source": [
    "We'll use grid search to find the best performing model setup, based on the available options for solvers and for penalty. We'll use different values for C to test different regularizations of our models, different penalty settings, and different solvers. "
   ]
  },
  {
   "cell_type": "code",
   "execution_count": 17,
   "metadata": {},
   "outputs": [
    {
     "name": "stdout",
     "output_type": "stream",
     "text": [
      "Best performing parameters  {'C': 0.1778279410038923, 'penalty': 'l1', 'solver': 'liblinear'}\n",
      "Model accuracy : 0.7712\n"
     ]
    }
   ],
   "source": [
    "# Specify the different options for hyperparameters\n",
    "grid = {\n",
    "    \"C\": np.logspace(-3, 3, 25),\n",
    "    \"penalty\": [\"l1\", \"l2\"],\n",
    "    \"solver\": [\"lbfgs\", \"sag\", \"saga\", \"newton-cg\", \"liblinear\"],\n",
    "}\n",
    "\n",
    "# Initialize model\n",
    "logr = LogisticRegression()\n",
    "\n",
    "# Conduct gridsearch\n",
    "logr_cv = GridSearchCV(logr, grid, cv=10)\n",
    "logr_cv.fit(x_train, y_train)\n",
    "logr_gridsearch_params = logr_cv.best_params_\n",
    "\n",
    "print(\"Best performing parameters \", logr_cv.best_params_)\n",
    "print(\"Model accuracy :\", np.round(logr_cv.best_score_, 4))"
   ]
  },
  {
   "cell_type": "markdown",
   "metadata": {},
   "source": [
    "Within grid search, these hyperparameters provided the more accurate model predictions. Now we'll cross validate this model and see how it performs along other metrics before testing it on our test set. "
   ]
  },
  {
   "cell_type": "markdown",
   "metadata": {},
   "source": [
    "### Cross-validation"
   ]
  },
  {
   "cell_type": "code",
   "execution_count": 18,
   "metadata": {},
   "outputs": [
    {
     "data": {
      "text/html": [
       "<div>\n",
       "<style scoped>\n",
       "    .dataframe tbody tr th:only-of-type {\n",
       "        vertical-align: middle;\n",
       "    }\n",
       "\n",
       "    .dataframe tbody tr th {\n",
       "        vertical-align: top;\n",
       "    }\n",
       "\n",
       "    .dataframe thead th {\n",
       "        text-align: right;\n",
       "    }\n",
       "</style>\n",
       "<table border=\"1\" class=\"dataframe\">\n",
       "  <thead>\n",
       "    <tr style=\"text-align: right;\">\n",
       "      <th></th>\n",
       "      <th>statistic</th>\n",
       "      <th>mean</th>\n",
       "      <th>std_deviation</th>\n",
       "      <th>confidence_interval</th>\n",
       "    </tr>\n",
       "  </thead>\n",
       "  <tbody>\n",
       "    <tr>\n",
       "      <th>accuracy</th>\n",
       "      <td>accuracy</td>\n",
       "      <td>0.768</td>\n",
       "      <td>0.035</td>\n",
       "      <td>[0.733, 0.835]</td>\n",
       "    </tr>\n",
       "    <tr>\n",
       "      <th>precision</th>\n",
       "      <td>precision</td>\n",
       "      <td>0.797</td>\n",
       "      <td>0.071</td>\n",
       "      <td>[0.727, 0.936]</td>\n",
       "    </tr>\n",
       "    <tr>\n",
       "      <th>recall</th>\n",
       "      <td>recall</td>\n",
       "      <td>0.471</td>\n",
       "      <td>0.061</td>\n",
       "      <td>[0.41, 0.591]</td>\n",
       "    </tr>\n",
       "    <tr>\n",
       "      <th>f1</th>\n",
       "      <td>f1</td>\n",
       "      <td>0.590</td>\n",
       "      <td>0.059</td>\n",
       "      <td>[0.532, 0.705]</td>\n",
       "    </tr>\n",
       "  </tbody>\n",
       "</table>\n",
       "</div>"
      ],
      "text/plain": [
       "           statistic   mean  std_deviation confidence_interval\n",
       "accuracy    accuracy  0.768          0.035      [0.733, 0.835]\n",
       "precision  precision  0.797          0.071      [0.727, 0.936]\n",
       "recall        recall  0.471          0.061       [0.41, 0.591]\n",
       "f1                f1  0.590          0.059      [0.532, 0.705]"
      ]
     },
     "execution_count": 18,
     "metadata": {},
     "output_type": "execute_result"
    }
   ],
   "source": [
    "# Initialize lists\n",
    "means = []\n",
    "stds = []\n",
    "intervals = []\n",
    "solvers = []\n",
    "metrics = []\n",
    "penalties = []\n",
    "\n",
    "# Create kfold instnace for cross_validation\n",
    "kfold = KFold(n_splits=10)\n",
    "\n",
    "# Save the tuned model parameters so that we can recreate it later\n",
    "tuned_logistic_model = LogisticRegression(\n",
    "    C=logr_gridsearch_params[\"C\"],\n",
    "    penalty=logr_gridsearch_params[\"penalty\"],\n",
    "    solver=logr_gridsearch_params[\"solver\"],\n",
    ")\n",
    "\n",
    "# Create new log_model from gridsearch specifications\n",
    "log_model_v1 = tuned_logistic_model\n",
    "\n",
    "# Create vector of evaluation scores\n",
    "for metric in scoring_metrics:\n",
    "    cv_vector = cross_val_score(\n",
    "        estimator=log_model_v1, X=x_train, y=y_train, cv=kfold, scoring=metric\n",
    "    )\n",
    "    # Calculate mean and standard deviation for vectors\n",
    "    cv_mean = cv_vector.mean()\n",
    "    cv_std = cv_vector.std()\n",
    "\n",
    "    # Update lists\n",
    "    means.append(cv_mean)\n",
    "    stds.append(cv_std)\n",
    "    intervals.append([(cv_mean - cv_std).round(3), (cv_mean + 1.96 * cv_std).round(3)])\n",
    "    metrics.append(metric)\n",
    "\n",
    "logit_scores = pd.DataFrame(\n",
    "    data={\n",
    "        \"statistic\": metrics,\n",
    "        \"mean\": means,\n",
    "        \"std_deviation\": stds,\n",
    "        \"confidence_interval\": limit_percentages(intervals),\n",
    "    },\n",
    "    index=scoring_metrics,\n",
    ")\n",
    "logit_scores"
   ]
  },
  {
   "cell_type": "markdown",
   "metadata": {},
   "source": [
    "Our tuned model performed pretty well. Now that we can see how our v1 model did in cross-validation, let's reshuffle the data, initialize a new model with our specifications, and then run the model on both training and test sets for validation. "
   ]
  },
  {
   "cell_type": "markdown",
   "metadata": {},
   "source": [
    "### Model Training and Testing"
   ]
  },
  {
   "cell_type": "code",
   "execution_count": 19,
   "metadata": {},
   "outputs": [],
   "source": [
    "# Initialize a new model with the grid search parameters\n",
    "logr_model_v2 = tuned_logistic_model\n",
    "\n",
    "# Resplit data and fit model\n",
    "x_train, x_test, y_train, y_test = resplit_data(X, Y)\n",
    "logr_model_v2.fit(x_train, y_train);"
   ]
  },
  {
   "cell_type": "code",
   "execution_count": 20,
   "metadata": {},
   "outputs": [
    {
     "data": {
      "text/html": [
       "<div>\n",
       "<style scoped>\n",
       "    .dataframe tbody tr th:only-of-type {\n",
       "        vertical-align: middle;\n",
       "    }\n",
       "\n",
       "    .dataframe tbody tr th {\n",
       "        vertical-align: top;\n",
       "    }\n",
       "\n",
       "    .dataframe thead th {\n",
       "        text-align: right;\n",
       "    }\n",
       "</style>\n",
       "<table border=\"1\" class=\"dataframe\">\n",
       "  <thead>\n",
       "    <tr style=\"text-align: right;\">\n",
       "      <th></th>\n",
       "      <th>logr_cv</th>\n",
       "      <th>v2:logr_training</th>\n",
       "      <th>v2:logr_testing</th>\n",
       "    </tr>\n",
       "  </thead>\n",
       "  <tbody>\n",
       "    <tr>\n",
       "      <th>accuracy</th>\n",
       "      <td>0.768</td>\n",
       "      <td>0.782</td>\n",
       "      <td>0.749</td>\n",
       "    </tr>\n",
       "    <tr>\n",
       "      <th>precision</th>\n",
       "      <td>0.797</td>\n",
       "      <td>0.813</td>\n",
       "      <td>0.752</td>\n",
       "    </tr>\n",
       "    <tr>\n",
       "      <th>recall</th>\n",
       "      <td>0.471</td>\n",
       "      <td>0.507</td>\n",
       "      <td>0.441</td>\n",
       "    </tr>\n",
       "    <tr>\n",
       "      <th>f1</th>\n",
       "      <td>0.590</td>\n",
       "      <td>0.625</td>\n",
       "      <td>0.556</td>\n",
       "    </tr>\n",
       "  </tbody>\n",
       "</table>\n",
       "</div>"
      ],
      "text/plain": [
       "           logr_cv  v2:logr_training  v2:logr_testing\n",
       "accuracy     0.768             0.782            0.749\n",
       "precision    0.797             0.813            0.752\n",
       "recall       0.471             0.507            0.441\n",
       "f1           0.590             0.625            0.556"
      ]
     },
     "execution_count": 20,
     "metadata": {},
     "output_type": "execute_result"
    }
   ],
   "source": [
    "# Calculate the predictions\n",
    "training_predictions = logr_model_v2.predict(x_train)\n",
    "testing_predictions = logr_model_v2.predict(x_test)\n",
    "\n",
    "# Calculate model performances\n",
    "v2_train = calculate_model_statistics(\n",
    "    confusion_matrix(y_train, training_predictions), \"v2:logr_training\"\n",
    ")\n",
    "v2_test = calculate_model_statistics(\n",
    "    confusion_matrix(y_test, testing_predictions), \"v2:logr_testing\"\n",
    ")\n",
    "\n",
    "# Consolidate model performances\n",
    "logr_performance_metrics = pd.concat(\n",
    "    [logit_scores.iloc[:, 1], v2_train, v2_test], axis=1\n",
    ").rename(columns={\"mean\": \"logr_cv\"})\n",
    "logr_performance_metrics"
   ]
  },
  {
   "cell_type": "markdown",
   "metadata": {},
   "source": [
    "Here we can see that our model is performing pretty consistently, sometimes even outperforming itself when testing data is introduced, so we don't have to worry about overfitting this time. \n",
    "As a final check, let's see if we can boost the efficacy of this model even more by passing our dataset through the KBest algorithm to select only the most influential features for predicting travel_insurance. We've tuned the hyperparameters for the model, but not yet verified our features. \n",
    "\n",
    "We'll create a pipeline to run through all numbers k in our dataset range, and then use grid search to find the optimal number of features k for our model. "
   ]
  },
  {
   "cell_type": "code",
   "execution_count": 21,
   "metadata": {},
   "outputs": [
    {
     "name": "stdout",
     "output_type": "stream",
     "text": [
      "The best performing model has 5 features.\n"
     ]
    }
   ],
   "source": [
    "# Initialize kbest\n",
    "kbest = SelectKBest(score_func=mutual_info_classif)\n",
    "\n",
    "# Define our k-features possibilities\n",
    "param = {\"kbest__k\": list(range(9))}\n",
    "\n",
    "# Initialize a new model\n",
    "logr_test = tuned_logistic_model\n",
    "\n",
    "# Create a pipeline  for kbest and logistic regression\n",
    "pipe = Pipeline([(\"kbest\", kbest), (\"v3\", logr_test)])\n",
    "\n",
    "# Pass the pipeline to Grid search\n",
    "model = GridSearchCV(pipe, param_grid=param, cv=10)\n",
    "model.fit(x_train, y_train)\n",
    "\n",
    "# Let's save our best performing k as a variable\n",
    "k = model.best_params_[\"kbest__k\"]\n",
    "\n",
    "# Get the best estimator from the grid search\n",
    "best_model = model.best_estimator_\n",
    "\n",
    "# Get the SelectKBest step from the pipeline\n",
    "select_step = best_model.named_steps['kbest']\n",
    "\n",
    "# Get the indices of the selected features\n",
    "selected_feature_indices = select_step.get_support(indices=True)\n",
    "\n",
    "# Get the feature names from the original X_train DataFrame\n",
    "kbest_features = x_train.columns[selected_feature_indices].tolist()\n",
    "\n",
    "print(f\"The best performing model has {k} features.\")"
   ]
  },
  {
   "cell_type": "markdown",
   "metadata": {},
   "source": [
    "Now that we've arrived our best performing model, let's fit a v3 version of our model using SelectKBest's chosen features to size how much more efficiency we get from this change.  "
   ]
  },
  {
   "cell_type": "code",
   "execution_count": 22,
   "metadata": {},
   "outputs": [],
   "source": [
    "# Limit features to the kbest output\n",
    "v3_columns = kbest_features\n",
    "v3_xtrain = x_train[v3_columns]\n",
    "v3_xtest = x_test[v3_columns]\n",
    "\n",
    "# Let's fit a logistic model from this set\n",
    "logr_v3_model = tuned_logistic_model\n",
    "logr_v3_model.fit(v3_xtrain, y_train);"
   ]
  },
  {
   "cell_type": "markdown",
   "metadata": {},
   "source": [
    "Now let's rerun our statistics using cross-validation, overall training_set, and then test-set to see how this more limited v3 model stacks up. "
   ]
  },
  {
   "cell_type": "code",
   "execution_count": 23,
   "metadata": {},
   "outputs": [
    {
     "data": {
      "text/html": [
       "<div>\n",
       "<style scoped>\n",
       "    .dataframe tbody tr th:only-of-type {\n",
       "        vertical-align: middle;\n",
       "    }\n",
       "\n",
       "    .dataframe tbody tr th {\n",
       "        vertical-align: top;\n",
       "    }\n",
       "\n",
       "    .dataframe thead th {\n",
       "        text-align: right;\n",
       "    }\n",
       "</style>\n",
       "<table border=\"1\" class=\"dataframe\">\n",
       "  <thead>\n",
       "    <tr style=\"text-align: right;\">\n",
       "      <th></th>\n",
       "      <th>logr_cv</th>\n",
       "      <th>v2:logr_training</th>\n",
       "      <th>v2:logr_testing</th>\n",
       "      <th>v3: kbest_train</th>\n",
       "      <th>v3: kbest_test</th>\n",
       "    </tr>\n",
       "  </thead>\n",
       "  <tbody>\n",
       "    <tr>\n",
       "      <th>accuracy</th>\n",
       "      <td>0.768</td>\n",
       "      <td>0.782</td>\n",
       "      <td>0.749</td>\n",
       "      <td>0.763</td>\n",
       "      <td>0.729</td>\n",
       "    </tr>\n",
       "    <tr>\n",
       "      <th>precision</th>\n",
       "      <td>0.797</td>\n",
       "      <td>0.813</td>\n",
       "      <td>0.752</td>\n",
       "      <td>0.799</td>\n",
       "      <td>0.722</td>\n",
       "    </tr>\n",
       "    <tr>\n",
       "      <th>recall</th>\n",
       "      <td>0.471</td>\n",
       "      <td>0.507</td>\n",
       "      <td>0.441</td>\n",
       "      <td>0.449</td>\n",
       "      <td>0.390</td>\n",
       "    </tr>\n",
       "    <tr>\n",
       "      <th>f1</th>\n",
       "      <td>0.590</td>\n",
       "      <td>0.625</td>\n",
       "      <td>0.556</td>\n",
       "      <td>0.575</td>\n",
       "      <td>0.506</td>\n",
       "    </tr>\n",
       "  </tbody>\n",
       "</table>\n",
       "</div>"
      ],
      "text/plain": [
       "           logr_cv  v2:logr_training  v2:logr_testing  v3: kbest_train  \\\n",
       "accuracy     0.768             0.782            0.749            0.763   \n",
       "precision    0.797             0.813            0.752            0.799   \n",
       "recall       0.471             0.507            0.441            0.449   \n",
       "f1           0.590             0.625            0.556            0.575   \n",
       "\n",
       "           v3: kbest_test  \n",
       "accuracy            0.729  \n",
       "precision           0.722  \n",
       "recall              0.390  \n",
       "f1                  0.506  "
      ]
     },
     "execution_count": 23,
     "metadata": {},
     "output_type": "execute_result"
    }
   ],
   "source": [
    "# Calculate predictions for training and test sets\n",
    "train_predictions = logr_v3_model.predict(v3_xtrain)\n",
    "test_predictions = logr_v3_model.predict(v3_xtest)\n",
    "\n",
    "# put this into a dataframe\n",
    "logr_performance_metrics[\"v3: kbest_train\"] = calculate_log_model_stats(\n",
    "    y_train, train_predictions\n",
    ")\n",
    "logr_performance_metrics[\"v3: kbest_test\"] = calculate_log_model_stats(\n",
    "    y_test, test_predictions\n",
    ")\n",
    "logr_performance_metrics"
   ]
  },
  {
   "cell_type": "markdown",
   "metadata": {},
   "source": [
    "From cross-validation to our v2 model we can see modest increases in our decently high accuracy. However, once we used the SelectKBest algorithm to restrict our features, we saw reductions on our model effectiveness. Considering how small our dataset is, and how few features we have, we appear to be hitting diminishing returns. Therefore, we can confidently say that our final model is the v2 model we fitted above. Let's display those coefficients here. "
   ]
  },
  {
   "cell_type": "code",
   "execution_count": 24,
   "metadata": {},
   "outputs": [
    {
     "data": {
      "text/html": [
       "<div>\n",
       "<style scoped>\n",
       "    .dataframe tbody tr th:only-of-type {\n",
       "        vertical-align: middle;\n",
       "    }\n",
       "\n",
       "    .dataframe tbody tr th {\n",
       "        vertical-align: top;\n",
       "    }\n",
       "\n",
       "    .dataframe thead th {\n",
       "        text-align: right;\n",
       "    }\n",
       "</style>\n",
       "<table border=\"1\" class=\"dataframe\">\n",
       "  <thead>\n",
       "    <tr style=\"text-align: right;\">\n",
       "      <th></th>\n",
       "      <th>coefficients</th>\n",
       "      <th>odds_increase</th>\n",
       "    </tr>\n",
       "  </thead>\n",
       "  <tbody>\n",
       "    <tr>\n",
       "      <th>age</th>\n",
       "      <td>0.295</td>\n",
       "      <td>1.343</td>\n",
       "    </tr>\n",
       "    <tr>\n",
       "      <th>income</th>\n",
       "      <td>2.026</td>\n",
       "      <td>7.584</td>\n",
       "    </tr>\n",
       "    <tr>\n",
       "      <th>family_size</th>\n",
       "      <td>0.442</td>\n",
       "      <td>1.556</td>\n",
       "    </tr>\n",
       "    <tr>\n",
       "      <th>conditions</th>\n",
       "      <td>-0.031</td>\n",
       "      <td>0.969</td>\n",
       "    </tr>\n",
       "    <tr>\n",
       "      <th>first_trip</th>\n",
       "      <td>1.709</td>\n",
       "      <td>5.525</td>\n",
       "    </tr>\n",
       "  </tbody>\n",
       "</table>\n",
       "</div>"
      ],
      "text/plain": [
       "             coefficients  odds_increase\n",
       "age                 0.295          1.343\n",
       "income              2.026          7.584\n",
       "family_size         0.442          1.556\n",
       "conditions         -0.031          0.969\n",
       "first_trip          1.709          5.525"
      ]
     },
     "execution_count": 24,
     "metadata": {},
     "output_type": "execute_result"
    }
   ],
   "source": [
    "coefs = logr_model_v2.coef_[0]\n",
    "logr_coefficients = pd.DataFrame(data={\"coefficients\": coefs}, index=kbest_features)\n",
    "logr_coefficients[\"odds_increase\"] = logr_coefficients.coefficients.apply(\n",
    "    lambda x: np.exp(x)\n",
    ")\n",
    "logr_coefficients"
   ]
  },
  {
   "cell_type": "markdown",
   "metadata": {},
   "source": [
    "For each variable here, the coefficient represents the impact to log-odds of quality_rating. The third colummn calculates the impact on the odds of a airline customer purchasing travel insurance when that variable increases by one unit, assuming all other variables are held constant."
   ]
  },
  {
   "cell_type": "markdown",
   "metadata": {},
   "source": [
    "## K - Nearest Neighbors"
   ]
  },
  {
   "cell_type": "markdown",
   "metadata": {},
   "source": [
    "Moving to KNN, we'll once again with a grid search across hyperparameters of interest for KNN classifiers. This model could come in handy since it is flexible and is simple to understand. Also, it's non-parametric, so it won't be less effective if our assumptions about linearity the distribution of the data do not hold. Let's first define our hyperparameter grid."
   ]
  },
  {
   "cell_type": "code",
   "execution_count": 25,
   "metadata": {},
   "outputs": [
    {
     "name": "stdout",
     "output_type": "stream",
     "text": [
      "{'algorithm': 'brute', 'n_neighbors': 30, 'weights': 'uniform'}\n"
     ]
    }
   ],
   "source": [
    "# Specify test space for grid search\n",
    "knn_grid = {\n",
    "    \"n_neighbors\": range(0, 50),\n",
    "    \"weights\": [\"uniform\", \"distance\"],\n",
    "    \"algorithm\": [\"auto\", \"ball_tree\", \"kd_tree\", \"brute\"],\n",
    "}\n",
    "\n",
    "# Conduct grid search on knn model\n",
    "knn_best_params, knn_cv_accuracy = conduct_grid_search_tuning(\n",
    "    \"knn\", knn_grid, x_train, y_train\n",
    ")\n",
    "print(knn_best_params)\n",
    "\n",
    "# Save our tuned KNN as a variable\n",
    "tuned_knn = KNeighborsClassifier(\n",
    "    algorithm=knn_best_params[\"algorithm\"],\n",
    "    n_neighbors=knn_best_params[\"n_neighbors\"],\n",
    "    weights=knn_best_params[\"weights\"],\n",
    ")\n",
    "# Initialize a knn instance\n",
    "knn_cross_val = tuned_knn"
   ]
  },
  {
   "cell_type": "markdown",
   "metadata": {},
   "source": [
    "### Cross-validation"
   ]
  },
  {
   "cell_type": "markdown",
   "metadata": {},
   "source": [
    "Now that we have a fitted model, let's assess our model along our performance metrics with cross-validation."
   ]
  },
  {
   "cell_type": "code",
   "execution_count": 26,
   "metadata": {},
   "outputs": [
    {
     "data": {
      "text/html": [
       "<div>\n",
       "<style scoped>\n",
       "    .dataframe tbody tr th:only-of-type {\n",
       "        vertical-align: middle;\n",
       "    }\n",
       "\n",
       "    .dataframe tbody tr th {\n",
       "        vertical-align: top;\n",
       "    }\n",
       "\n",
       "    .dataframe thead th {\n",
       "        text-align: right;\n",
       "    }\n",
       "</style>\n",
       "<table border=\"1\" class=\"dataframe\">\n",
       "  <thead>\n",
       "    <tr style=\"text-align: right;\">\n",
       "      <th></th>\n",
       "      <th>mean_score</th>\n",
       "      <th>standard_deviation</th>\n",
       "      <th>confidence_interval</th>\n",
       "    </tr>\n",
       "  </thead>\n",
       "  <tbody>\n",
       "    <tr>\n",
       "      <th>accuracy</th>\n",
       "      <td>0.796</td>\n",
       "      <td>0.027</td>\n",
       "      <td>[0.769, 0.822]</td>\n",
       "    </tr>\n",
       "    <tr>\n",
       "      <th>precision</th>\n",
       "      <td>0.837</td>\n",
       "      <td>0.025</td>\n",
       "      <td>[0.812, 0.862]</td>\n",
       "    </tr>\n",
       "    <tr>\n",
       "      <th>recall</th>\n",
       "      <td>0.529</td>\n",
       "      <td>0.061</td>\n",
       "      <td>[0.468, 0.591]</td>\n",
       "    </tr>\n",
       "    <tr>\n",
       "      <th>f1</th>\n",
       "      <td>0.647</td>\n",
       "      <td>0.049</td>\n",
       "      <td>[0.598, 0.695]</td>\n",
       "    </tr>\n",
       "  </tbody>\n",
       "</table>\n",
       "</div>"
      ],
      "text/plain": [
       "           mean_score  standard_deviation confidence_interval\n",
       "accuracy        0.796               0.027      [0.769, 0.822]\n",
       "precision       0.837               0.025      [0.812, 0.862]\n",
       "recall          0.529               0.061      [0.468, 0.591]\n",
       "f1              0.647               0.049      [0.598, 0.695]"
      ]
     },
     "execution_count": 26,
     "metadata": {},
     "output_type": "execute_result"
    }
   ],
   "source": [
    "knn_cv = conduct_cross_validation(knn_cross_val,x_train,y_train)\n",
    "knn_cv"
   ]
  },
  {
   "cell_type": "markdown",
   "metadata": {},
   "source": [
    "Our performance here is pretty strong for a first model, especially in terms of precision. Let's create a model trained on our training set and compare them before validating on the test_set as well. "
   ]
  },
  {
   "cell_type": "markdown",
   "metadata": {},
   "source": [
    "### Model Training and Testing"
   ]
  },
  {
   "cell_type": "code",
   "execution_count": 27,
   "metadata": {},
   "outputs": [
    {
     "data": {
      "text/html": [
       "<div>\n",
       "<style scoped>\n",
       "    .dataframe tbody tr th:only-of-type {\n",
       "        vertical-align: middle;\n",
       "    }\n",
       "\n",
       "    .dataframe tbody tr th {\n",
       "        vertical-align: top;\n",
       "    }\n",
       "\n",
       "    .dataframe thead th {\n",
       "        text-align: right;\n",
       "    }\n",
       "</style>\n",
       "<table border=\"1\" class=\"dataframe\">\n",
       "  <thead>\n",
       "    <tr style=\"text-align: right;\">\n",
       "      <th></th>\n",
       "      <th>v1: cross_val</th>\n",
       "      <th>v2: training</th>\n",
       "      <th>v2: testing</th>\n",
       "    </tr>\n",
       "  </thead>\n",
       "  <tbody>\n",
       "    <tr>\n",
       "      <th>accuracy</th>\n",
       "      <td>0.796</td>\n",
       "      <td>0.771</td>\n",
       "      <td>0.797</td>\n",
       "    </tr>\n",
       "    <tr>\n",
       "      <th>precision</th>\n",
       "      <td>0.837</td>\n",
       "      <td>0.820</td>\n",
       "      <td>0.865</td>\n",
       "    </tr>\n",
       "    <tr>\n",
       "      <th>recall</th>\n",
       "      <td>0.529</td>\n",
       "      <td>0.459</td>\n",
       "      <td>0.512</td>\n",
       "    </tr>\n",
       "    <tr>\n",
       "      <th>f1</th>\n",
       "      <td>0.647</td>\n",
       "      <td>0.588</td>\n",
       "      <td>0.643</td>\n",
       "    </tr>\n",
       "  </tbody>\n",
       "</table>\n",
       "</div>"
      ],
      "text/plain": [
       "           v1: cross_val  v2: training  v2: testing\n",
       "accuracy           0.796         0.771        0.797\n",
       "precision          0.837         0.820        0.865\n",
       "recall             0.529         0.459        0.512\n",
       "f1                 0.647         0.588        0.643"
      ]
     },
     "execution_count": 27,
     "metadata": {},
     "output_type": "execute_result"
    }
   ],
   "source": [
    "# Resplit data\n",
    "x_train, x_test, y_train, y_test = resplit_data(X, Y)\n",
    "\n",
    "# Create a knn model from our optimal grid search parameters\n",
    "knn = tuned_knn\n",
    "\n",
    "# Fit model, show parameters\n",
    "knn.fit(x_train, y_train)\n",
    "\n",
    "# Calculate training set stats for knn_v2\n",
    "knn_train_perf = calculate_v2_model_training_stats(knn, x_train, y_train)\n",
    "\n",
    "# Calculate test set stats for knn_v2\n",
    "knn_test_perf = calculate_v2_model_testing_stats(knn, x_test, y_test)\n",
    "\n",
    "# Assemble dataframe across models\n",
    "knn_performance_metrics = assemble_performance_metrics_df(\n",
    "    knn_cv, knn_train_perf, knn_test_perf\n",
    ")\n",
    "knn_performance_metrics"
   ]
  },
  {
   "cell_type": "markdown",
   "metadata": {},
   "source": [
    "Our v2 model is doing well compared to the cross-validation model. We've lost some precision, but have made gains in accuracy and recall. With the introduction of the test set, it looks like we have a reduction in accuracy, suggesting some slight overfitting to the training data. Considering how small our feature set is, these models are running pretty fast. We probably don't need need to worry about the curse of dimensionality here, and we don't have a terrible case of overfitting. Let's pause making further improvements here and look at decision trees. "
   ]
  },
  {
   "cell_type": "markdown",
   "metadata": {},
   "source": [
    "## Decision Trees"
   ]
  },
  {
   "cell_type": "markdown",
   "metadata": {},
   "source": [
    "This model is easy to visualize and interpret, and we can also control how deep we want the tree to go, or prune it back if we identify any overfitting."
   ]
  },
  {
   "cell_type": "markdown",
   "metadata": {},
   "source": [
    "### Hyperparameter Tuning"
   ]
  },
  {
   "cell_type": "code",
   "execution_count": 28,
   "metadata": {},
   "outputs": [],
   "source": [
    "dt_grid = {\n",
    "    \"criterion\": [\"gini\", \"entropy\", \"log_loss\"],\n",
    "    \"splitter\": [\"best\", \"random\"],\n",
    "    \"max_depth\": list(range(1, 11)),\n",
    "}\n",
    "# Grid search and save parameters\n",
    "dt_best_params, dt_cv_accuracy = conduct_grid_search_tuning(\"decision_tree\", dt_grid,x_train,y_train)\n",
    "tuned_dt = DecisionTreeClassifier(\n",
    "    criterion=dt_best_params[\"criterion\"],\n",
    "    max_depth=dt_best_params[\"max_depth\"],\n",
    "    splitter=dt_best_params[\"splitter\"],\n",
    "    random_state=1,\n",
    ")"
   ]
  },
  {
   "cell_type": "markdown",
   "metadata": {},
   "source": [
    "### Cross-validation\n",
    "Now that we have defined optimal model parameters, let's create a decision tree for cross-validation. "
   ]
  },
  {
   "cell_type": "code",
   "execution_count": 29,
   "metadata": {},
   "outputs": [
    {
     "data": {
      "text/html": [
       "<div>\n",
       "<style scoped>\n",
       "    .dataframe tbody tr th:only-of-type {\n",
       "        vertical-align: middle;\n",
       "    }\n",
       "\n",
       "    .dataframe tbody tr th {\n",
       "        vertical-align: top;\n",
       "    }\n",
       "\n",
       "    .dataframe thead th {\n",
       "        text-align: right;\n",
       "    }\n",
       "</style>\n",
       "<table border=\"1\" class=\"dataframe\">\n",
       "  <thead>\n",
       "    <tr style=\"text-align: right;\">\n",
       "      <th></th>\n",
       "      <th>mean_score</th>\n",
       "      <th>standard_deviation</th>\n",
       "      <th>confidence_interval</th>\n",
       "    </tr>\n",
       "  </thead>\n",
       "  <tbody>\n",
       "    <tr>\n",
       "      <th>accuracy</th>\n",
       "      <td>0.825</td>\n",
       "      <td>0.035</td>\n",
       "      <td>[0.79, 0.86]</td>\n",
       "    </tr>\n",
       "    <tr>\n",
       "      <th>precision</th>\n",
       "      <td>0.913</td>\n",
       "      <td>0.044</td>\n",
       "      <td>[0.868, 0.957]</td>\n",
       "    </tr>\n",
       "    <tr>\n",
       "      <th>recall</th>\n",
       "      <td>0.570</td>\n",
       "      <td>0.060</td>\n",
       "      <td>[0.509, 0.63]</td>\n",
       "    </tr>\n",
       "    <tr>\n",
       "      <th>f1</th>\n",
       "      <td>0.699</td>\n",
       "      <td>0.047</td>\n",
       "      <td>[0.652, 0.746]</td>\n",
       "    </tr>\n",
       "  </tbody>\n",
       "</table>\n",
       "</div>"
      ],
      "text/plain": [
       "           mean_score  standard_deviation confidence_interval\n",
       "accuracy        0.825               0.035        [0.79, 0.86]\n",
       "precision       0.913               0.044      [0.868, 0.957]\n",
       "recall          0.570               0.060       [0.509, 0.63]\n",
       "f1              0.699               0.047      [0.652, 0.746]"
      ]
     },
     "execution_count": 29,
     "metadata": {},
     "output_type": "execute_result"
    }
   ],
   "source": [
    "# Create a decision tree instance for cross_validation\n",
    "dt_v1 = tuned_dt\n",
    "\n",
    "# Run cross validation for the DT model\n",
    "dt_cv = conduct_cross_validation(dt_v1,x_train,y_train)\n",
    "dt_cv"
   ]
  },
  {
   "cell_type": "markdown",
   "metadata": {},
   "source": [
    "The starting performance for this model is already higher than the first two that we've seen so far, which could be interesting for our analysis, let's continue training and testing to dive deeper."
   ]
  },
  {
   "cell_type": "markdown",
   "metadata": {},
   "source": [
    "### Model Training and Testing"
   ]
  },
  {
   "cell_type": "code",
   "execution_count": 30,
   "metadata": {},
   "outputs": [
    {
     "data": {
      "text/html": [
       "<div>\n",
       "<style scoped>\n",
       "    .dataframe tbody tr th:only-of-type {\n",
       "        vertical-align: middle;\n",
       "    }\n",
       "\n",
       "    .dataframe tbody tr th {\n",
       "        vertical-align: top;\n",
       "    }\n",
       "\n",
       "    .dataframe thead th {\n",
       "        text-align: right;\n",
       "    }\n",
       "</style>\n",
       "<table border=\"1\" class=\"dataframe\">\n",
       "  <thead>\n",
       "    <tr style=\"text-align: right;\">\n",
       "      <th></th>\n",
       "      <th>v1: cross_val</th>\n",
       "      <th>v2: training</th>\n",
       "      <th>v2: testing</th>\n",
       "    </tr>\n",
       "  </thead>\n",
       "  <tbody>\n",
       "    <tr>\n",
       "      <th>accuracy</th>\n",
       "      <td>0.825</td>\n",
       "      <td>0.841</td>\n",
       "      <td>0.824</td>\n",
       "    </tr>\n",
       "    <tr>\n",
       "      <th>precision</th>\n",
       "      <td>0.913</td>\n",
       "      <td>0.918</td>\n",
       "      <td>0.943</td>\n",
       "    </tr>\n",
       "    <tr>\n",
       "      <th>recall</th>\n",
       "      <td>0.570</td>\n",
       "      <td>0.610</td>\n",
       "      <td>0.540</td>\n",
       "    </tr>\n",
       "    <tr>\n",
       "      <th>f1</th>\n",
       "      <td>0.699</td>\n",
       "      <td>0.733</td>\n",
       "      <td>0.687</td>\n",
       "    </tr>\n",
       "  </tbody>\n",
       "</table>\n",
       "</div>"
      ],
      "text/plain": [
       "           v1: cross_val  v2: training  v2: testing\n",
       "accuracy           0.825         0.841        0.824\n",
       "precision          0.913         0.918        0.943\n",
       "recall             0.570         0.610        0.540\n",
       "f1                 0.699         0.733        0.687"
      ]
     },
     "execution_count": 30,
     "metadata": {},
     "output_type": "execute_result"
    }
   ],
   "source": [
    "# Resplit data before creating model_v2\n",
    "x_train, x_test, y_train, y_test = resplit_data(X, Y)\n",
    "\n",
    "# Create v2 decision tree\n",
    "dt_v2 = tuned_dt\n",
    "\n",
    "# Fit model\n",
    "dt_v2.fit(x_train, y_train)\n",
    "\n",
    "# Calculate training and testing statistics\n",
    "dt_train = calculate_v2_model_training_stats(dt_v2, x_train, y_train)\n",
    "dt_test = calculate_v2_model_testing_stats(dt_v2, x_test, y_test)\n",
    "\n",
    "dt_performance_metrics = assemble_performance_metrics_df(dt_cv, dt_train, dt_test)\n",
    "dt_performance_metrics"
   ]
  },
  {
   "cell_type": "markdown",
   "metadata": {},
   "source": [
    "This model is working consistently well so far. Let's visualize this tree to take a closer look at the layers."
   ]
  },
  {
   "cell_type": "code",
   "execution_count": 31,
   "metadata": {},
   "outputs": [
    {
     "data": {
      "image/svg+xml": [
       "<?xml version=\"1.0\" encoding=\"UTF-8\" standalone=\"no\"?>\n",
       "<!DOCTYPE svg PUBLIC \"-//W3C//DTD SVG 1.1//EN\"\n",
       " \"http://www.w3.org/Graphics/SVG/1.1/DTD/svg11.dtd\">\n",
       "<!-- Generated by graphviz version 11.0.0 (20240428.1522)\n",
       " -->\n",
       "<!-- Title: Tree Pages: 1 -->\n",
       "<svg width=\"1755pt\" height=\"477pt\"\n",
       " viewBox=\"0.00 0.00 1754.50 477.00\" xmlns=\"http://www.w3.org/2000/svg\" xmlns:xlink=\"http://www.w3.org/1999/xlink\">\n",
       "<g id=\"graph0\" class=\"graph\" transform=\"scale(1 1) rotate(0) translate(4 473)\">\n",
       "<title>Tree</title>\n",
       "<polygon fill=\"white\" stroke=\"none\" points=\"-4,4 -4,-473 1750.5,-473 1750.5,4 -4,4\"/>\n",
       "<!-- 0 -->\n",
       "<g id=\"node1\" class=\"node\">\n",
       "<title>0</title>\n",
       "<polygon fill=\"#f3c7a7\" stroke=\"black\" points=\"1073.75,-469 949.75,-469 949.75,-401 1073.75,-401 1073.75,-469\"/>\n",
       "<text text-anchor=\"middle\" x=\"1011.75\" y=\"-451.7\" font-family=\"Helvetica,sans-Serif\" font-size=\"14.00\">income &lt;= 0.683</text>\n",
       "<text text-anchor=\"middle\" x=\"1011.75\" y=\"-436.7\" font-family=\"Helvetica,sans-Serif\" font-size=\"14.00\">entropy = 0.941</text>\n",
       "<text text-anchor=\"middle\" x=\"1011.75\" y=\"-421.7\" font-family=\"Helvetica,sans-Serif\" font-size=\"14.00\">samples = 1390</text>\n",
       "<text text-anchor=\"middle\" x=\"1011.75\" y=\"-406.7\" font-family=\"Helvetica,sans-Serif\" font-size=\"14.00\">value = [893, 497]</text>\n",
       "</g>\n",
       "<!-- 1 -->\n",
       "<g id=\"node2\" class=\"node\">\n",
       "<title>1</title>\n",
       "<polygon fill=\"#eda775\" stroke=\"black\" points=\"824.75,-365 700.75,-365 700.75,-297 824.75,-297 824.75,-365\"/>\n",
       "<text text-anchor=\"middle\" x=\"762.75\" y=\"-347.7\" font-family=\"Helvetica,sans-Serif\" font-size=\"14.00\">age &lt;= 0.75</text>\n",
       "<text text-anchor=\"middle\" x=\"762.75\" y=\"-332.7\" font-family=\"Helvetica,sans-Serif\" font-size=\"14.00\">entropy = 0.783</text>\n",
       "<text text-anchor=\"middle\" x=\"762.75\" y=\"-317.7\" font-family=\"Helvetica,sans-Serif\" font-size=\"14.00\">samples = 1133</text>\n",
       "<text text-anchor=\"middle\" x=\"762.75\" y=\"-302.7\" font-family=\"Helvetica,sans-Serif\" font-size=\"14.00\">value = [869, 264]</text>\n",
       "</g>\n",
       "<!-- 0&#45;&gt;1 -->\n",
       "<g id=\"edge1\" class=\"edge\">\n",
       "<title>0&#45;&gt;1</title>\n",
       "<path fill=\"none\" stroke=\"black\" d=\"M949.56,-408.52C914.95,-394.35 871.68,-376.62 835.5,-361.8\"/>\n",
       "<polygon fill=\"black\" stroke=\"black\" points=\"836.99,-358.63 826.41,-358.08 834.34,-365.11 836.99,-358.63\"/>\n",
       "<text text-anchor=\"middle\" x=\"834.67\" y=\"-374.76\" font-family=\"Helvetica,sans-Serif\" font-size=\"14.00\">True</text>\n",
       "</g>\n",
       "<!-- 16 -->\n",
       "<g id=\"node17\" class=\"node\">\n",
       "<title>16</title>\n",
       "<polygon fill=\"#4da7e8\" stroke=\"black\" points=\"1317,-365 1200.5,-365 1200.5,-297 1317,-297 1317,-365\"/>\n",
       "<text text-anchor=\"middle\" x=\"1258.75\" y=\"-347.7\" font-family=\"Helvetica,sans-Serif\" font-size=\"14.00\">income &lt;= 0.95</text>\n",
       "<text text-anchor=\"middle\" x=\"1258.75\" y=\"-332.7\" font-family=\"Helvetica,sans-Serif\" font-size=\"14.00\">entropy = 0.448</text>\n",
       "<text text-anchor=\"middle\" x=\"1258.75\" y=\"-317.7\" font-family=\"Helvetica,sans-Serif\" font-size=\"14.00\">samples = 257</text>\n",
       "<text text-anchor=\"middle\" x=\"1258.75\" y=\"-302.7\" font-family=\"Helvetica,sans-Serif\" font-size=\"14.00\">value = [24, 233]</text>\n",
       "</g>\n",
       "<!-- 0&#45;&gt;16 -->\n",
       "<g id=\"edge16\" class=\"edge\">\n",
       "<title>0&#45;&gt;16</title>\n",
       "<path fill=\"none\" stroke=\"black\" d=\"M1074.08,-408.26C1109.33,-393.7 1153.47,-375.47 1189.76,-360.49\"/>\n",
       "<polygon fill=\"black\" stroke=\"black\" points=\"1190.96,-363.78 1198.86,-356.73 1188.29,-357.31 1190.96,-363.78\"/>\n",
       "<text text-anchor=\"middle\" x=\"1190.67\" y=\"-373.44\" font-family=\"Helvetica,sans-Serif\" font-size=\"14.00\">False</text>\n",
       "</g>\n",
       "<!-- 2 -->\n",
       "<g id=\"node3\" class=\"node\">\n",
       "<title>2</title>\n",
       "<polygon fill=\"#eb9c64\" stroke=\"black\" points=\"445.75,-261 321.75,-261 321.75,-193 445.75,-193 445.75,-261\"/>\n",
       "<text text-anchor=\"middle\" x=\"383.75\" y=\"-243.7\" font-family=\"Helvetica,sans-Serif\" font-size=\"14.00\">income &lt;= 0.083</text>\n",
       "<text text-anchor=\"middle\" x=\"383.75\" y=\"-228.7\" font-family=\"Helvetica,sans-Serif\" font-size=\"14.00\">entropy = 0.677</text>\n",
       "<text text-anchor=\"middle\" x=\"383.75\" y=\"-213.7\" font-family=\"Helvetica,sans-Serif\" font-size=\"14.00\">samples = 863</text>\n",
       "<text text-anchor=\"middle\" x=\"383.75\" y=\"-198.7\" font-family=\"Helvetica,sans-Serif\" font-size=\"14.00\">value = [709, 154]</text>\n",
       "</g>\n",
       "<!-- 1&#45;&gt;2 -->\n",
       "<g id=\"edge2\" class=\"edge\">\n",
       "<title>1&#45;&gt;2</title>\n",
       "<path fill=\"none\" stroke=\"black\" d=\"M700.59,-313.27C633.81,-295.3 527.77,-266.76 456.99,-247.71\"/>\n",
       "<polygon fill=\"black\" stroke=\"black\" points=\"457.97,-244.35 447.41,-245.13 456.15,-251.11 457.97,-244.35\"/>\n",
       "</g>\n",
       "<!-- 9 -->\n",
       "<g id=\"node10\" class=\"node\">\n",
       "<title>9</title>\n",
       "<polygon fill=\"#f7d8c1\" stroke=\"black\" points=\"825.88,-261 699.62,-261 699.62,-193 825.88,-193 825.88,-261\"/>\n",
       "<text text-anchor=\"middle\" x=\"762.75\" y=\"-243.7\" font-family=\"Helvetica,sans-Serif\" font-size=\"14.00\">family_size &lt;= 0.5</text>\n",
       "<text text-anchor=\"middle\" x=\"762.75\" y=\"-228.7\" font-family=\"Helvetica,sans-Serif\" font-size=\"14.00\">entropy = 0.975</text>\n",
       "<text text-anchor=\"middle\" x=\"762.75\" y=\"-213.7\" font-family=\"Helvetica,sans-Serif\" font-size=\"14.00\">samples = 270</text>\n",
       "<text text-anchor=\"middle\" x=\"762.75\" y=\"-198.7\" font-family=\"Helvetica,sans-Serif\" font-size=\"14.00\">value = [160, 110]</text>\n",
       "</g>\n",
       "<!-- 1&#45;&gt;9 -->\n",
       "<g id=\"edge9\" class=\"edge\">\n",
       "<title>1&#45;&gt;9</title>\n",
       "<path fill=\"none\" stroke=\"black\" d=\"M762.75,-296.6C762.75,-289.03 762.75,-280.87 762.75,-272.9\"/>\n",
       "<polygon fill=\"black\" stroke=\"black\" points=\"766.25,-272.99 762.75,-262.99 759.25,-272.99 766.25,-272.99\"/>\n",
       "</g>\n",
       "<!-- 3 -->\n",
       "<g id=\"node4\" class=\"node\">\n",
       "<title>3</title>\n",
       "<polygon fill=\"#e78945\" stroke=\"black\" points=\"242.75,-157 106.75,-157 106.75,-89 242.75,-89 242.75,-157\"/>\n",
       "<text text-anchor=\"middle\" x=\"174.75\" y=\"-139.7\" font-family=\"Helvetica,sans-Serif\" font-size=\"14.00\">college_grad &lt;= 0.5</text>\n",
       "<text text-anchor=\"middle\" x=\"174.75\" y=\"-124.7\" font-family=\"Helvetica,sans-Serif\" font-size=\"14.00\">entropy = 0.325</text>\n",
       "<text text-anchor=\"middle\" x=\"174.75\" y=\"-109.7\" font-family=\"Helvetica,sans-Serif\" font-size=\"14.00\">samples = 118</text>\n",
       "<text text-anchor=\"middle\" x=\"174.75\" y=\"-94.7\" font-family=\"Helvetica,sans-Serif\" font-size=\"14.00\">value = [111, 7]</text>\n",
       "</g>\n",
       "<!-- 2&#45;&gt;3 -->\n",
       "<g id=\"edge3\" class=\"edge\">\n",
       "<title>2&#45;&gt;3</title>\n",
       "<path fill=\"none\" stroke=\"black\" d=\"M321.33,-195.53C299.94,-185.1 275.74,-173.29 253.25,-162.31\"/>\n",
       "<polygon fill=\"black\" stroke=\"black\" points=\"254.93,-159.24 244.41,-158 251.86,-165.53 254.93,-159.24\"/>\n",
       "</g>\n",
       "<!-- 6 -->\n",
       "<g id=\"node7\" class=\"node\">\n",
       "<title>6</title>\n",
       "<polygon fill=\"#eba06a\" stroke=\"black\" points=\"451.75,-157 315.75,-157 315.75,-89 451.75,-89 451.75,-157\"/>\n",
       "<text text-anchor=\"middle\" x=\"383.75\" y=\"-139.7\" font-family=\"Helvetica,sans-Serif\" font-size=\"14.00\">college_grad &lt;= 0.5</text>\n",
       "<text text-anchor=\"middle\" x=\"383.75\" y=\"-124.7\" font-family=\"Helvetica,sans-Serif\" font-size=\"14.00\">entropy = 0.717</text>\n",
       "<text text-anchor=\"middle\" x=\"383.75\" y=\"-109.7\" font-family=\"Helvetica,sans-Serif\" font-size=\"14.00\">samples = 745</text>\n",
       "<text text-anchor=\"middle\" x=\"383.75\" y=\"-94.7\" font-family=\"Helvetica,sans-Serif\" font-size=\"14.00\">value = [598, 147]</text>\n",
       "</g>\n",
       "<!-- 2&#45;&gt;6 -->\n",
       "<g id=\"edge6\" class=\"edge\">\n",
       "<title>2&#45;&gt;6</title>\n",
       "<path fill=\"none\" stroke=\"black\" d=\"M383.75,-192.6C383.75,-185.03 383.75,-176.87 383.75,-168.9\"/>\n",
       "<polygon fill=\"black\" stroke=\"black\" points=\"387.25,-168.99 383.75,-158.99 380.25,-168.99 387.25,-168.99\"/>\n",
       "</g>\n",
       "<!-- 4 -->\n",
       "<g id=\"node5\" class=\"node\">\n",
       "<title>4</title>\n",
       "<polygon fill=\"#e58139\" stroke=\"black\" points=\"101.5,-53 0,-53 0,0 101.5,0 101.5,-53\"/>\n",
       "<text text-anchor=\"middle\" x=\"50.75\" y=\"-35.7\" font-family=\"Helvetica,sans-Serif\" font-size=\"14.00\">entropy = 0.0</text>\n",
       "<text text-anchor=\"middle\" x=\"50.75\" y=\"-20.7\" font-family=\"Helvetica,sans-Serif\" font-size=\"14.00\">samples = 40</text>\n",
       "<text text-anchor=\"middle\" x=\"50.75\" y=\"-5.7\" font-family=\"Helvetica,sans-Serif\" font-size=\"14.00\">value = [40, 0]</text>\n",
       "</g>\n",
       "<!-- 3&#45;&gt;4 -->\n",
       "<g id=\"edge4\" class=\"edge\">\n",
       "<title>3&#45;&gt;4</title>\n",
       "<path fill=\"none\" stroke=\"black\" d=\"M131.03,-88.68C118.92,-79.45 105.78,-69.44 93.71,-60.24\"/>\n",
       "<polygon fill=\"black\" stroke=\"black\" points=\"96.01,-57.59 85.93,-54.31 91.76,-63.16 96.01,-57.59\"/>\n",
       "</g>\n",
       "<!-- 5 -->\n",
       "<g id=\"node6\" class=\"node\">\n",
       "<title>5</title>\n",
       "<polygon fill=\"#e88d4d\" stroke=\"black\" points=\"230,-53 119.5,-53 119.5,0 230,0 230,-53\"/>\n",
       "<text text-anchor=\"middle\" x=\"174.75\" y=\"-35.7\" font-family=\"Helvetica,sans-Serif\" font-size=\"14.00\">entropy = 0.436</text>\n",
       "<text text-anchor=\"middle\" x=\"174.75\" y=\"-20.7\" font-family=\"Helvetica,sans-Serif\" font-size=\"14.00\">samples = 78</text>\n",
       "<text text-anchor=\"middle\" x=\"174.75\" y=\"-5.7\" font-family=\"Helvetica,sans-Serif\" font-size=\"14.00\">value = [71, 7]</text>\n",
       "</g>\n",
       "<!-- 3&#45;&gt;5 -->\n",
       "<g id=\"edge5\" class=\"edge\">\n",
       "<title>3&#45;&gt;5</title>\n",
       "<path fill=\"none\" stroke=\"black\" d=\"M174.75,-88.68C174.75,-80.99 174.75,-72.76 174.75,-64.9\"/>\n",
       "<polygon fill=\"black\" stroke=\"black\" points=\"178.25,-64.91 174.75,-54.91 171.25,-64.91 178.25,-64.91\"/>\n",
       "</g>\n",
       "<!-- 7 -->\n",
       "<g id=\"node8\" class=\"node\">\n",
       "<title>7</title>\n",
       "<polygon fill=\"#efb286\" stroke=\"black\" points=\"359,-53 248.5,-53 248.5,0 359,0 359,-53\"/>\n",
       "<text text-anchor=\"middle\" x=\"303.75\" y=\"-35.7\" font-family=\"Helvetica,sans-Serif\" font-size=\"14.00\">entropy = 0.857</text>\n",
       "<text text-anchor=\"middle\" x=\"303.75\" y=\"-20.7\" font-family=\"Helvetica,sans-Serif\" font-size=\"14.00\">samples = 89</text>\n",
       "<text text-anchor=\"middle\" x=\"303.75\" y=\"-5.7\" font-family=\"Helvetica,sans-Serif\" font-size=\"14.00\">value = [64, 25]</text>\n",
       "</g>\n",
       "<!-- 6&#45;&gt;7 -->\n",
       "<g id=\"edge7\" class=\"edge\">\n",
       "<title>6&#45;&gt;7</title>\n",
       "<path fill=\"none\" stroke=\"black\" d=\"M355.54,-88.68C348.27,-80.09 340.42,-70.81 333.08,-62.15\"/>\n",
       "<polygon fill=\"black\" stroke=\"black\" points=\"335.78,-59.92 326.65,-54.55 330.44,-64.44 335.78,-59.92\"/>\n",
       "</g>\n",
       "<!-- 8 -->\n",
       "<g id=\"node9\" class=\"node\">\n",
       "<title>8</title>\n",
       "<polygon fill=\"#eb9e66\" stroke=\"black\" points=\"500.75,-53 376.75,-53 376.75,0 500.75,0 500.75,-53\"/>\n",
       "<text text-anchor=\"middle\" x=\"438.75\" y=\"-35.7\" font-family=\"Helvetica,sans-Serif\" font-size=\"14.00\">entropy = 0.693</text>\n",
       "<text text-anchor=\"middle\" x=\"438.75\" y=\"-20.7\" font-family=\"Helvetica,sans-Serif\" font-size=\"14.00\">samples = 656</text>\n",
       "<text text-anchor=\"middle\" x=\"438.75\" y=\"-5.7\" font-family=\"Helvetica,sans-Serif\" font-size=\"14.00\">value = [534, 122]</text>\n",
       "</g>\n",
       "<!-- 6&#45;&gt;8 -->\n",
       "<g id=\"edge8\" class=\"edge\">\n",
       "<title>6&#45;&gt;8</title>\n",
       "<path fill=\"none\" stroke=\"black\" d=\"M403.14,-88.68C407.93,-80.45 413.09,-71.59 417.95,-63.25\"/>\n",
       "<polygon fill=\"black\" stroke=\"black\" points=\"420.91,-65.11 422.92,-54.7 414.86,-61.58 420.91,-65.11\"/>\n",
       "</g>\n",
       "<!-- 10 -->\n",
       "<g id=\"node11\" class=\"node\">\n",
       "<title>10</title>\n",
       "<polygon fill=\"#eca26c\" stroke=\"black\" points=\"761.38,-157 620.12,-157 620.12,-89 761.38,-89 761.38,-157\"/>\n",
       "<text text-anchor=\"middle\" x=\"690.75\" y=\"-139.7\" font-family=\"Helvetica,sans-Serif\" font-size=\"14.00\">family_size &lt;= 0.071</text>\n",
       "<text text-anchor=\"middle\" x=\"690.75\" y=\"-124.7\" font-family=\"Helvetica,sans-Serif\" font-size=\"14.00\">entropy = 0.734</text>\n",
       "<text text-anchor=\"middle\" x=\"690.75\" y=\"-109.7\" font-family=\"Helvetica,sans-Serif\" font-size=\"14.00\">samples = 189</text>\n",
       "<text text-anchor=\"middle\" x=\"690.75\" y=\"-94.7\" font-family=\"Helvetica,sans-Serif\" font-size=\"14.00\">value = [150, 39]</text>\n",
       "</g>\n",
       "<!-- 9&#45;&gt;10 -->\n",
       "<g id=\"edge10\" class=\"edge\">\n",
       "<title>9&#45;&gt;10</title>\n",
       "<path fill=\"none\" stroke=\"black\" d=\"M739.17,-192.6C733.33,-184.32 726.99,-175.34 720.88,-166.69\"/>\n",
       "<polygon fill=\"black\" stroke=\"black\" points=\"723.88,-164.86 715.25,-158.71 718.16,-168.9 723.88,-164.86\"/>\n",
       "</g>\n",
       "<!-- 13 -->\n",
       "<g id=\"node14\" class=\"node\">\n",
       "<title>13</title>\n",
       "<polygon fill=\"#55abe9\" stroke=\"black\" points=\"890,-157 779.5,-157 779.5,-89 890,-89 890,-157\"/>\n",
       "<text text-anchor=\"middle\" x=\"834.75\" y=\"-139.7\" font-family=\"Helvetica,sans-Serif\" font-size=\"14.00\">income &lt;= 0.25</text>\n",
       "<text text-anchor=\"middle\" x=\"834.75\" y=\"-124.7\" font-family=\"Helvetica,sans-Serif\" font-size=\"14.00\">entropy = 0.539</text>\n",
       "<text text-anchor=\"middle\" x=\"834.75\" y=\"-109.7\" font-family=\"Helvetica,sans-Serif\" font-size=\"14.00\">samples = 81</text>\n",
       "<text text-anchor=\"middle\" x=\"834.75\" y=\"-94.7\" font-family=\"Helvetica,sans-Serif\" font-size=\"14.00\">value = [10, 71]</text>\n",
       "</g>\n",
       "<!-- 9&#45;&gt;13 -->\n",
       "<g id=\"edge13\" class=\"edge\">\n",
       "<title>9&#45;&gt;13</title>\n",
       "<path fill=\"none\" stroke=\"black\" d=\"M786.33,-192.6C792.17,-184.32 798.51,-175.34 804.62,-166.69\"/>\n",
       "<polygon fill=\"black\" stroke=\"black\" points=\"807.34,-168.9 810.25,-158.71 801.62,-164.86 807.34,-168.9\"/>\n",
       "</g>\n",
       "<!-- 11 -->\n",
       "<g id=\"node12\" class=\"node\">\n",
       "<title>11</title>\n",
       "<polygon fill=\"#e58139\" stroke=\"black\" points=\"620.5,-53 519,-53 519,0 620.5,0 620.5,-53\"/>\n",
       "<text text-anchor=\"middle\" x=\"569.75\" y=\"-35.7\" font-family=\"Helvetica,sans-Serif\" font-size=\"14.00\">entropy = 0.0</text>\n",
       "<text text-anchor=\"middle\" x=\"569.75\" y=\"-20.7\" font-family=\"Helvetica,sans-Serif\" font-size=\"14.00\">samples = 16</text>\n",
       "<text text-anchor=\"middle\" x=\"569.75\" y=\"-5.7\" font-family=\"Helvetica,sans-Serif\" font-size=\"14.00\">value = [16, 0]</text>\n",
       "</g>\n",
       "<!-- 10&#45;&gt;11 -->\n",
       "<g id=\"edge11\" class=\"edge\">\n",
       "<title>10&#45;&gt;11</title>\n",
       "<path fill=\"none\" stroke=\"black\" d=\"M648.09,-88.68C636.27,-79.45 623.45,-69.44 611.67,-60.24\"/>\n",
       "<polygon fill=\"black\" stroke=\"black\" points=\"614.13,-57.72 604.1,-54.33 609.82,-63.24 614.13,-57.72\"/>\n",
       "</g>\n",
       "<!-- 12 -->\n",
       "<g id=\"node13\" class=\"node\">\n",
       "<title>12</title>\n",
       "<polygon fill=\"#eda673\" stroke=\"black\" points=\"755,-53 638.5,-53 638.5,0 755,0 755,-53\"/>\n",
       "<text text-anchor=\"middle\" x=\"696.75\" y=\"-35.7\" font-family=\"Helvetica,sans-Serif\" font-size=\"14.00\">entropy = 0.77</text>\n",
       "<text text-anchor=\"middle\" x=\"696.75\" y=\"-20.7\" font-family=\"Helvetica,sans-Serif\" font-size=\"14.00\">samples = 173</text>\n",
       "<text text-anchor=\"middle\" x=\"696.75\" y=\"-5.7\" font-family=\"Helvetica,sans-Serif\" font-size=\"14.00\">value = [134, 39]</text>\n",
       "</g>\n",
       "<!-- 10&#45;&gt;12 -->\n",
       "<g id=\"edge12\" class=\"edge\">\n",
       "<title>10&#45;&gt;12</title>\n",
       "<path fill=\"none\" stroke=\"black\" d=\"M692.87,-88.68C693.36,-80.9 693.89,-72.56 694.39,-64.63\"/>\n",
       "<polygon fill=\"black\" stroke=\"black\" points=\"697.87,-65.11 695.01,-54.9 690.88,-64.66 697.87,-65.11\"/>\n",
       "</g>\n",
       "<!-- 14 -->\n",
       "<g id=\"node15\" class=\"node\">\n",
       "<title>14</title>\n",
       "<polygon fill=\"#9ccef2\" stroke=\"black\" points=\"884,-53 773.5,-53 773.5,0 884,0 884,-53\"/>\n",
       "<text text-anchor=\"middle\" x=\"828.75\" y=\"-35.7\" font-family=\"Helvetica,sans-Serif\" font-size=\"14.00\">entropy = 0.918</text>\n",
       "<text text-anchor=\"middle\" x=\"828.75\" y=\"-20.7\" font-family=\"Helvetica,sans-Serif\" font-size=\"14.00\">samples = 15</text>\n",
       "<text text-anchor=\"middle\" x=\"828.75\" y=\"-5.7\" font-family=\"Helvetica,sans-Serif\" font-size=\"14.00\">value = [5, 10]</text>\n",
       "</g>\n",
       "<!-- 13&#45;&gt;14 -->\n",
       "<g id=\"edge14\" class=\"edge\">\n",
       "<title>13&#45;&gt;14</title>\n",
       "<path fill=\"none\" stroke=\"black\" d=\"M832.63,-88.68C832.14,-80.9 831.61,-72.56 831.11,-64.63\"/>\n",
       "<polygon fill=\"black\" stroke=\"black\" points=\"834.62,-64.66 830.49,-54.9 827.63,-65.11 834.62,-64.66\"/>\n",
       "</g>\n",
       "<!-- 15 -->\n",
       "<g id=\"node16\" class=\"node\">\n",
       "<title>15</title>\n",
       "<polygon fill=\"#49a5e7\" stroke=\"black\" points=\"1013,-53 902.5,-53 902.5,0 1013,0 1013,-53\"/>\n",
       "<text text-anchor=\"middle\" x=\"957.75\" y=\"-35.7\" font-family=\"Helvetica,sans-Serif\" font-size=\"14.00\">entropy = 0.387</text>\n",
       "<text text-anchor=\"middle\" x=\"957.75\" y=\"-20.7\" font-family=\"Helvetica,sans-Serif\" font-size=\"14.00\">samples = 66</text>\n",
       "<text text-anchor=\"middle\" x=\"957.75\" y=\"-5.7\" font-family=\"Helvetica,sans-Serif\" font-size=\"14.00\">value = [5, 61]</text>\n",
       "</g>\n",
       "<!-- 13&#45;&gt;15 -->\n",
       "<g id=\"edge15\" class=\"edge\">\n",
       "<title>13&#45;&gt;15</title>\n",
       "<path fill=\"none\" stroke=\"black\" d=\"M878.12,-88.68C890.13,-79.45 903.16,-69.44 915.13,-60.24\"/>\n",
       "<polygon fill=\"black\" stroke=\"black\" points=\"917.05,-63.18 922.85,-54.32 912.78,-57.63 917.05,-63.18\"/>\n",
       "</g>\n",
       "<!-- 17 -->\n",
       "<g id=\"node18\" class=\"node\">\n",
       "<title>17</title>\n",
       "<polygon fill=\"#48a4e7\" stroke=\"black\" points=\"1326.75,-261 1190.75,-261 1190.75,-193 1326.75,-193 1326.75,-261\"/>\n",
       "<text text-anchor=\"middle\" x=\"1258.75\" y=\"-243.7\" font-family=\"Helvetica,sans-Serif\" font-size=\"14.00\">college_grad &lt;= 0.5</text>\n",
       "<text text-anchor=\"middle\" x=\"1258.75\" y=\"-228.7\" font-family=\"Helvetica,sans-Serif\" font-size=\"14.00\">entropy = 0.365</text>\n",
       "<text text-anchor=\"middle\" x=\"1258.75\" y=\"-213.7\" font-family=\"Helvetica,sans-Serif\" font-size=\"14.00\">samples = 244</text>\n",
       "<text text-anchor=\"middle\" x=\"1258.75\" y=\"-198.7\" font-family=\"Helvetica,sans-Serif\" font-size=\"14.00\">value = [17, 227]</text>\n",
       "</g>\n",
       "<!-- 16&#45;&gt;17 -->\n",
       "<g id=\"edge17\" class=\"edge\">\n",
       "<title>16&#45;&gt;17</title>\n",
       "<path fill=\"none\" stroke=\"black\" d=\"M1258.75,-296.6C1258.75,-289.03 1258.75,-280.87 1258.75,-272.9\"/>\n",
       "<polygon fill=\"black\" stroke=\"black\" points=\"1262.25,-272.99 1258.75,-262.99 1255.25,-272.99 1262.25,-272.99\"/>\n",
       "</g>\n",
       "<!-- 24 -->\n",
       "<g id=\"node25\" class=\"node\">\n",
       "<title>24</title>\n",
       "<polygon fill=\"#fbede3\" stroke=\"black\" points=\"1517,-261 1406.5,-261 1406.5,-193 1517,-193 1517,-261\"/>\n",
       "<text text-anchor=\"middle\" x=\"1461.75\" y=\"-243.7\" font-family=\"Helvetica,sans-Serif\" font-size=\"14.00\">age &lt;= 0.05</text>\n",
       "<text text-anchor=\"middle\" x=\"1461.75\" y=\"-228.7\" font-family=\"Helvetica,sans-Serif\" font-size=\"14.00\">entropy = 0.996</text>\n",
       "<text text-anchor=\"middle\" x=\"1461.75\" y=\"-213.7\" font-family=\"Helvetica,sans-Serif\" font-size=\"14.00\">samples = 13</text>\n",
       "<text text-anchor=\"middle\" x=\"1461.75\" y=\"-198.7\" font-family=\"Helvetica,sans-Serif\" font-size=\"14.00\">value = [7, 6]</text>\n",
       "</g>\n",
       "<!-- 16&#45;&gt;24 -->\n",
       "<g id=\"edge24\" class=\"edge\">\n",
       "<title>16&#45;&gt;24</title>\n",
       "<path fill=\"none\" stroke=\"black\" d=\"M1317.47,-300.5C1342.06,-288.14 1370.76,-273.72 1396.06,-261.01\"/>\n",
       "<polygon fill=\"black\" stroke=\"black\" points=\"1397.59,-264.16 1404.95,-256.54 1394.44,-257.9 1397.59,-264.16\"/>\n",
       "</g>\n",
       "<!-- 18 -->\n",
       "<g id=\"node19\" class=\"node\">\n",
       "<title>18</title>\n",
       "<polygon fill=\"#62b1ea\" stroke=\"black\" points=\"1259.88,-157 1133.62,-157 1133.62,-89 1259.88,-89 1259.88,-157\"/>\n",
       "<text text-anchor=\"middle\" x=\"1196.75\" y=\"-139.7\" font-family=\"Helvetica,sans-Serif\" font-size=\"14.00\">family_size &lt;= 0.5</text>\n",
       "<text text-anchor=\"middle\" x=\"1196.75\" y=\"-124.7\" font-family=\"Helvetica,sans-Serif\" font-size=\"14.00\">entropy = 0.661</text>\n",
       "<text text-anchor=\"middle\" x=\"1196.75\" y=\"-109.7\" font-family=\"Helvetica,sans-Serif\" font-size=\"14.00\">samples = 35</text>\n",
       "<text text-anchor=\"middle\" x=\"1196.75\" y=\"-94.7\" font-family=\"Helvetica,sans-Serif\" font-size=\"14.00\">value = [6.0, 29.0]</text>\n",
       "</g>\n",
       "<!-- 17&#45;&gt;18 -->\n",
       "<g id=\"edge18\" class=\"edge\">\n",
       "<title>17&#45;&gt;18</title>\n",
       "<path fill=\"none\" stroke=\"black\" d=\"M1238.45,-192.6C1233.52,-184.5 1228.19,-175.72 1223.03,-167.24\"/>\n",
       "<polygon fill=\"black\" stroke=\"black\" points=\"1226.07,-165.49 1217.88,-158.77 1220.09,-169.13 1226.07,-165.49\"/>\n",
       "</g>\n",
       "<!-- 21 -->\n",
       "<g id=\"node22\" class=\"node\">\n",
       "<title>21</title>\n",
       "<polygon fill=\"#44a2e6\" stroke=\"black\" points=\"1394,-157 1277.5,-157 1277.5,-89 1394,-89 1394,-157\"/>\n",
       "<text text-anchor=\"middle\" x=\"1335.75\" y=\"-139.7\" font-family=\"Helvetica,sans-Serif\" font-size=\"14.00\">income &lt;= 0.75</text>\n",
       "<text text-anchor=\"middle\" x=\"1335.75\" y=\"-124.7\" font-family=\"Helvetica,sans-Serif\" font-size=\"14.00\">entropy = 0.297</text>\n",
       "<text text-anchor=\"middle\" x=\"1335.75\" y=\"-109.7\" font-family=\"Helvetica,sans-Serif\" font-size=\"14.00\">samples = 209</text>\n",
       "<text text-anchor=\"middle\" x=\"1335.75\" y=\"-94.7\" font-family=\"Helvetica,sans-Serif\" font-size=\"14.00\">value = [11, 198]</text>\n",
       "</g>\n",
       "<!-- 17&#45;&gt;21 -->\n",
       "<g id=\"edge21\" class=\"edge\">\n",
       "<title>17&#45;&gt;21</title>\n",
       "<path fill=\"none\" stroke=\"black\" d=\"M1283.96,-192.6C1290.28,-184.24 1297.14,-175.15 1303.73,-166.41\"/>\n",
       "<polygon fill=\"black\" stroke=\"black\" points=\"1306.34,-168.77 1309.57,-158.68 1300.75,-164.55 1306.34,-168.77\"/>\n",
       "</g>\n",
       "<!-- 19 -->\n",
       "<g id=\"node20\" class=\"node\">\n",
       "<title>19</title>\n",
       "<polygon fill=\"#7bbeee\" stroke=\"black\" points=\"1142,-53 1031.5,-53 1031.5,0 1142,0 1142,-53\"/>\n",
       "<text text-anchor=\"middle\" x=\"1086.75\" y=\"-35.7\" font-family=\"Helvetica,sans-Serif\" font-size=\"14.00\">entropy = 0.811</text>\n",
       "<text text-anchor=\"middle\" x=\"1086.75\" y=\"-20.7\" font-family=\"Helvetica,sans-Serif\" font-size=\"14.00\">samples = 24</text>\n",
       "<text text-anchor=\"middle\" x=\"1086.75\" y=\"-5.7\" font-family=\"Helvetica,sans-Serif\" font-size=\"14.00\">value = [6, 18]</text>\n",
       "</g>\n",
       "<!-- 18&#45;&gt;19 -->\n",
       "<g id=\"edge19\" class=\"edge\">\n",
       "<title>18&#45;&gt;19</title>\n",
       "<path fill=\"none\" stroke=\"black\" d=\"M1157.97,-88.68C1147.43,-79.63 1136.03,-69.83 1125.49,-60.79\"/>\n",
       "<polygon fill=\"black\" stroke=\"black\" points=\"1127.91,-58.24 1118.04,-54.38 1123.34,-63.55 1127.91,-58.24\"/>\n",
       "</g>\n",
       "<!-- 20 -->\n",
       "<g id=\"node21\" class=\"node\">\n",
       "<title>20</title>\n",
       "<polygon fill=\"#399de5\" stroke=\"black\" points=\"1261.5,-53 1160,-53 1160,0 1261.5,0 1261.5,-53\"/>\n",
       "<text text-anchor=\"middle\" x=\"1210.75\" y=\"-35.7\" font-family=\"Helvetica,sans-Serif\" font-size=\"14.00\">entropy = 0.0</text>\n",
       "<text text-anchor=\"middle\" x=\"1210.75\" y=\"-20.7\" font-family=\"Helvetica,sans-Serif\" font-size=\"14.00\">samples = 11</text>\n",
       "<text text-anchor=\"middle\" x=\"1210.75\" y=\"-5.7\" font-family=\"Helvetica,sans-Serif\" font-size=\"14.00\">value = [0, 11]</text>\n",
       "</g>\n",
       "<!-- 18&#45;&gt;20 -->\n",
       "<g id=\"edge20\" class=\"edge\">\n",
       "<title>18&#45;&gt;20</title>\n",
       "<path fill=\"none\" stroke=\"black\" d=\"M1201.69,-88.68C1202.84,-80.9 1204.07,-72.56 1205.25,-64.63\"/>\n",
       "<polygon fill=\"black\" stroke=\"black\" points=\"1208.69,-65.3 1206.69,-54.89 1201.76,-64.27 1208.69,-65.3\"/>\n",
       "</g>\n",
       "<!-- 22 -->\n",
       "<g id=\"node23\" class=\"node\">\n",
       "<title>22</title>\n",
       "<polygon fill=\"#49a5e7\" stroke=\"black\" points=\"1390,-53 1279.5,-53 1279.5,0 1390,0 1390,-53\"/>\n",
       "<text text-anchor=\"middle\" x=\"1334.75\" y=\"-35.7\" font-family=\"Helvetica,sans-Serif\" font-size=\"14.00\">entropy = 0.387</text>\n",
       "<text text-anchor=\"middle\" x=\"1334.75\" y=\"-20.7\" font-family=\"Helvetica,sans-Serif\" font-size=\"14.00\">samples = 119</text>\n",
       "<text text-anchor=\"middle\" x=\"1334.75\" y=\"-5.7\" font-family=\"Helvetica,sans-Serif\" font-size=\"14.00\">value = [9, 110]</text>\n",
       "</g>\n",
       "<!-- 21&#45;&gt;22 -->\n",
       "<g id=\"edge22\" class=\"edge\">\n",
       "<title>21&#45;&gt;22</title>\n",
       "<path fill=\"none\" stroke=\"black\" d=\"M1335.4,-88.68C1335.32,-80.99 1335.23,-72.76 1335.15,-64.9\"/>\n",
       "<polygon fill=\"black\" stroke=\"black\" points=\"1338.65,-64.87 1335.04,-54.91 1331.65,-64.94 1338.65,-64.87\"/>\n",
       "</g>\n",
       "<!-- 23 -->\n",
       "<g id=\"node24\" class=\"node\">\n",
       "<title>23</title>\n",
       "<polygon fill=\"#3d9fe6\" stroke=\"black\" points=\"1519,-53 1408.5,-53 1408.5,0 1519,0 1519,-53\"/>\n",
       "<text text-anchor=\"middle\" x=\"1463.75\" y=\"-35.7\" font-family=\"Helvetica,sans-Serif\" font-size=\"14.00\">entropy = 0.154</text>\n",
       "<text text-anchor=\"middle\" x=\"1463.75\" y=\"-20.7\" font-family=\"Helvetica,sans-Serif\" font-size=\"14.00\">samples = 90</text>\n",
       "<text text-anchor=\"middle\" x=\"1463.75\" y=\"-5.7\" font-family=\"Helvetica,sans-Serif\" font-size=\"14.00\">value = [2, 88]</text>\n",
       "</g>\n",
       "<!-- 21&#45;&gt;23 -->\n",
       "<g id=\"edge23\" class=\"edge\">\n",
       "<title>21&#45;&gt;23</title>\n",
       "<path fill=\"none\" stroke=\"black\" d=\"M1380.88,-88.68C1393.5,-79.36 1407.21,-69.24 1419.77,-59.97\"/>\n",
       "<polygon fill=\"black\" stroke=\"black\" points=\"1421.49,-63.05 1427.46,-54.29 1417.34,-57.42 1421.49,-63.05\"/>\n",
       "</g>\n",
       "<!-- 25 -->\n",
       "<g id=\"node26\" class=\"node\">\n",
       "<title>25</title>\n",
       "<polygon fill=\"#399de5\" stroke=\"black\" points=\"1509.5,-149.5 1414,-149.5 1414,-96.5 1509.5,-96.5 1509.5,-149.5\"/>\n",
       "<text text-anchor=\"middle\" x=\"1461.75\" y=\"-132.2\" font-family=\"Helvetica,sans-Serif\" font-size=\"14.00\">entropy = 0.0</text>\n",
       "<text text-anchor=\"middle\" x=\"1461.75\" y=\"-117.2\" font-family=\"Helvetica,sans-Serif\" font-size=\"14.00\">samples = 5</text>\n",
       "<text text-anchor=\"middle\" x=\"1461.75\" y=\"-102.2\" font-family=\"Helvetica,sans-Serif\" font-size=\"14.00\">value = [0, 5]</text>\n",
       "</g>\n",
       "<!-- 24&#45;&gt;25 -->\n",
       "<g id=\"edge25\" class=\"edge\">\n",
       "<title>24&#45;&gt;25</title>\n",
       "<path fill=\"none\" stroke=\"black\" d=\"M1461.75,-192.6C1461.75,-182.47 1461.75,-171.28 1461.75,-160.93\"/>\n",
       "<polygon fill=\"black\" stroke=\"black\" points=\"1465.25,-161.22 1461.75,-151.22 1458.25,-161.22 1465.25,-161.22\"/>\n",
       "</g>\n",
       "<!-- 26 -->\n",
       "<g id=\"node27\" class=\"node\">\n",
       "<title>26</title>\n",
       "<polygon fill=\"#e99355\" stroke=\"black\" points=\"1640,-157 1529.5,-157 1529.5,-89 1640,-89 1640,-157\"/>\n",
       "<text text-anchor=\"middle\" x=\"1584.75\" y=\"-139.7\" font-family=\"Helvetica,sans-Serif\" font-size=\"14.00\">age &lt;= 0.75</text>\n",
       "<text text-anchor=\"middle\" x=\"1584.75\" y=\"-124.7\" font-family=\"Helvetica,sans-Serif\" font-size=\"14.00\">entropy = 0.544</text>\n",
       "<text text-anchor=\"middle\" x=\"1584.75\" y=\"-109.7\" font-family=\"Helvetica,sans-Serif\" font-size=\"14.00\">samples = 8</text>\n",
       "<text text-anchor=\"middle\" x=\"1584.75\" y=\"-94.7\" font-family=\"Helvetica,sans-Serif\" font-size=\"14.00\">value = [7, 1]</text>\n",
       "</g>\n",
       "<!-- 24&#45;&gt;26 -->\n",
       "<g id=\"edge26\" class=\"edge\">\n",
       "<title>24&#45;&gt;26</title>\n",
       "<path fill=\"none\" stroke=\"black\" d=\"M1502.02,-192.6C1512.75,-183.71 1524.46,-174 1535.6,-164.76\"/>\n",
       "<polygon fill=\"black\" stroke=\"black\" points=\"1537.76,-167.52 1543.22,-158.44 1533.29,-162.13 1537.76,-167.52\"/>\n",
       "</g>\n",
       "<!-- 27 -->\n",
       "<g id=\"node28\" class=\"node\">\n",
       "<title>27</title>\n",
       "<polygon fill=\"#e58139\" stroke=\"black\" points=\"1632.5,-53 1537,-53 1537,0 1632.5,0 1632.5,-53\"/>\n",
       "<text text-anchor=\"middle\" x=\"1584.75\" y=\"-35.7\" font-family=\"Helvetica,sans-Serif\" font-size=\"14.00\">entropy = 0.0</text>\n",
       "<text text-anchor=\"middle\" x=\"1584.75\" y=\"-20.7\" font-family=\"Helvetica,sans-Serif\" font-size=\"14.00\">samples = 6</text>\n",
       "<text text-anchor=\"middle\" x=\"1584.75\" y=\"-5.7\" font-family=\"Helvetica,sans-Serif\" font-size=\"14.00\">value = [6, 0]</text>\n",
       "</g>\n",
       "<!-- 26&#45;&gt;27 -->\n",
       "<g id=\"edge27\" class=\"edge\">\n",
       "<title>26&#45;&gt;27</title>\n",
       "<path fill=\"none\" stroke=\"black\" d=\"M1584.75,-88.68C1584.75,-80.99 1584.75,-72.76 1584.75,-64.9\"/>\n",
       "<polygon fill=\"black\" stroke=\"black\" points=\"1588.25,-64.91 1584.75,-54.91 1581.25,-64.91 1588.25,-64.91\"/>\n",
       "</g>\n",
       "<!-- 28 -->\n",
       "<g id=\"node29\" class=\"node\">\n",
       "<title>28</title>\n",
       "<polygon fill=\"#ffffff\" stroke=\"black\" points=\"1746.5,-53 1651,-53 1651,0 1746.5,0 1746.5,-53\"/>\n",
       "<text text-anchor=\"middle\" x=\"1698.75\" y=\"-35.7\" font-family=\"Helvetica,sans-Serif\" font-size=\"14.00\">entropy = 1.0</text>\n",
       "<text text-anchor=\"middle\" x=\"1698.75\" y=\"-20.7\" font-family=\"Helvetica,sans-Serif\" font-size=\"14.00\">samples = 2</text>\n",
       "<text text-anchor=\"middle\" x=\"1698.75\" y=\"-5.7\" font-family=\"Helvetica,sans-Serif\" font-size=\"14.00\">value = [1, 1]</text>\n",
       "</g>\n",
       "<!-- 26&#45;&gt;28 -->\n",
       "<g id=\"edge28\" class=\"edge\">\n",
       "<title>26&#45;&gt;28</title>\n",
       "<path fill=\"none\" stroke=\"black\" d=\"M1624.94,-88.68C1635.97,-79.54 1647.92,-69.64 1658.92,-60.51\"/>\n",
       "<polygon fill=\"black\" stroke=\"black\" points=\"1660.88,-63.44 1666.35,-54.36 1656.42,-58.05 1660.88,-63.44\"/>\n",
       "</g>\n",
       "</g>\n",
       "</svg>\n"
      ],
      "text/plain": [
       "<graphviz.sources.Source at 0x1673a79e0>"
      ]
     },
     "execution_count": 31,
     "metadata": {},
     "output_type": "execute_result"
    }
   ],
   "source": [
    "dot_data = tree.export_graphviz(\n",
    "    dt_v2, out_file=None, feature_names=x_train.columns, filled=True\n",
    ")\n",
    "graphviz.Source(dot_data, format=\"png\")"
   ]
  },
  {
   "cell_type": "markdown",
   "metadata": {},
   "source": [
    "In this decision tree diagram the colors represent the entropy of that node, with light colors being more equal in terms of balance between label classes, and the warmer/cooler colors corresponding to the label class that is more prevalent at that decision boundary. The main takeaway here is that we were about to get a reasonably strong model without having a really complex decision tree, which performed decently well across both training and testing sets."
   ]
  },
  {
   "cell_type": "markdown",
   "metadata": {},
   "source": [
    "## Naive Bayes\n"
   ]
  },
  {
   "cell_type": "markdown",
   "metadata": {},
   "source": [
    "From our correlations during the EDA phase of the project we know that the naive assumption of independence doesn't hold for our data, but NB classifiers still might prove useful since they are robust to the presence of non-essential features, and not too intensive in terms of calculations. Since our CategoricalNB Naive Bayes classifier works best with categorical data, we're going to use binning to discretize our income and age features into categorical groupings."
   ]
  },
  {
   "cell_type": "code",
   "execution_count": 32,
   "metadata": {},
   "outputs": [],
   "source": [
    "# Copy model_df\n",
    "nb_df = model_df.copy()\n",
    "\n",
    "# Transform the continuous features\n",
    "income_bins = KBinsDiscretizer(n_bins=3, encode=\"ordinal\", strategy=\"uniform\")\n",
    "nb_df[\"income_binned\"] = income_bins.fit_transform(nb_df[[\"income\"]])\n",
    "nb_df[\"age_binned\"] = income_bins.fit_transform(nb_df[[\"age\"]])\n",
    "\n",
    "# Drop unbinned columns\n",
    "nb_df.drop(columns=[\"age\", \"income\"], inplace=True)"
   ]
  },
  {
   "cell_type": "markdown",
   "metadata": {},
   "source": [
    "Now that we have our features binned we can resplit our data and proceed to tune our hyperparameters."
   ]
  },
  {
   "cell_type": "code",
   "execution_count": 33,
   "metadata": {},
   "outputs": [],
   "source": [
    "# Define X and Y\n",
    "NBX = nb_df.drop(columns=\"travel_insurance\") #Denote all binned x and y with NB prefix\n",
    "NBY = nb_df.travel_insurance\n",
    "\n",
    "# Split the set into training and testing data\n",
    "nbx_train, nbx_test, nby_train, nby_test = train_test_split(\n",
    "    NBX, NBY, test_size=0.3, random_state=24, stratify=nb_df[\"travel_insurance\"]\n",
    ")"
   ]
  },
  {
   "cell_type": "markdown",
   "metadata": {},
   "source": [
    "### Hyperparameter tuning"
   ]
  },
  {
   "cell_type": "code",
   "execution_count": 34,
   "metadata": {},
   "outputs": [
    {
     "name": "stdout",
     "output_type": "stream",
     "text": [
      "{'alpha': 10.0, 'fit_prior': True}\n"
     ]
    }
   ],
   "source": [
    "nb_grid = {\"alpha\": np.linspace(0, 10, num=100), \"fit_prior\": [True, False]}\n",
    "nb_params, nb_accuracy = conduct_grid_search_tuning(\"nb\", nb_grid, nbx_train, nby_train)\n",
    "print(nb_params)\n",
    "\n",
    "# Save tuned NB classifier settings\n",
    "tuned_NB = CategoricalNB(alpha=nb_params[\"alpha\"], fit_prior=nb_params[\"fit_prior\"])"
   ]
  },
  {
   "cell_type": "markdown",
   "metadata": {},
   "source": [
    "### Cross-validation"
   ]
  },
  {
   "cell_type": "code",
   "execution_count": 35,
   "metadata": {},
   "outputs": [
    {
     "data": {
      "text/html": [
       "<div>\n",
       "<style scoped>\n",
       "    .dataframe tbody tr th:only-of-type {\n",
       "        vertical-align: middle;\n",
       "    }\n",
       "\n",
       "    .dataframe tbody tr th {\n",
       "        vertical-align: top;\n",
       "    }\n",
       "\n",
       "    .dataframe thead th {\n",
       "        text-align: right;\n",
       "    }\n",
       "</style>\n",
       "<table border=\"1\" class=\"dataframe\">\n",
       "  <thead>\n",
       "    <tr style=\"text-align: right;\">\n",
       "      <th></th>\n",
       "      <th>mean_score</th>\n",
       "      <th>standard_deviation</th>\n",
       "      <th>confidence_interval</th>\n",
       "    </tr>\n",
       "  </thead>\n",
       "  <tbody>\n",
       "    <tr>\n",
       "      <th>accuracy</th>\n",
       "      <td>0.779</td>\n",
       "      <td>0.025</td>\n",
       "      <td>[0.754, 0.804]</td>\n",
       "    </tr>\n",
       "    <tr>\n",
       "      <th>precision</th>\n",
       "      <td>0.823</td>\n",
       "      <td>0.073</td>\n",
       "      <td>[0.75, 0.896]</td>\n",
       "    </tr>\n",
       "    <tr>\n",
       "      <th>recall</th>\n",
       "      <td>0.494</td>\n",
       "      <td>0.053</td>\n",
       "      <td>[0.441, 0.548]</td>\n",
       "    </tr>\n",
       "    <tr>\n",
       "      <th>f1</th>\n",
       "      <td>0.614</td>\n",
       "      <td>0.040</td>\n",
       "      <td>[0.574, 0.654]</td>\n",
       "    </tr>\n",
       "  </tbody>\n",
       "</table>\n",
       "</div>"
      ],
      "text/plain": [
       "           mean_score  standard_deviation confidence_interval\n",
       "accuracy        0.779               0.025      [0.754, 0.804]\n",
       "precision       0.823               0.073       [0.75, 0.896]\n",
       "recall          0.494               0.053      [0.441, 0.548]\n",
       "f1              0.614               0.040      [0.574, 0.654]"
      ]
     },
     "execution_count": 35,
     "metadata": {},
     "output_type": "execute_result"
    }
   ],
   "source": [
    "# Create nb classifier instance with default settings\n",
    "nb_v1 = tuned_NB\n",
    "\n",
    "#Fit model\n",
    "nb_v1.fit(nbx_train, nby_train)\n",
    "\n",
    "# Run cross validation for the DT model\n",
    "nb_cv = conduct_cross_validation(nb_v1,nbx_train,nby_train)\n",
    "nb_cv"
   ]
  },
  {
   "cell_type": "markdown",
   "metadata": {},
   "source": [
    "Accuracy and precision are in the 70s for this model, which makes sense given that our data doesn't really fit the naive assumption of full independence among the x variables. Let's take a look at the training and test sets still just so we can assess this one on equal footing with the models we've seen so far. "
   ]
  },
  {
   "cell_type": "code",
   "execution_count": 36,
   "metadata": {},
   "outputs": [
    {
     "data": {
      "text/html": [
       "<div>\n",
       "<style scoped>\n",
       "    .dataframe tbody tr th:only-of-type {\n",
       "        vertical-align: middle;\n",
       "    }\n",
       "\n",
       "    .dataframe tbody tr th {\n",
       "        vertical-align: top;\n",
       "    }\n",
       "\n",
       "    .dataframe thead th {\n",
       "        text-align: right;\n",
       "    }\n",
       "</style>\n",
       "<table border=\"1\" class=\"dataframe\">\n",
       "  <thead>\n",
       "    <tr style=\"text-align: right;\">\n",
       "      <th></th>\n",
       "      <th>v1: cross_val</th>\n",
       "      <th>v2: training</th>\n",
       "      <th>v2: testing</th>\n",
       "    </tr>\n",
       "  </thead>\n",
       "  <tbody>\n",
       "    <tr>\n",
       "      <th>accuracy</th>\n",
       "      <td>0.779</td>\n",
       "      <td>0.763</td>\n",
       "      <td>0.779</td>\n",
       "    </tr>\n",
       "    <tr>\n",
       "      <th>precision</th>\n",
       "      <td>0.823</td>\n",
       "      <td>0.774</td>\n",
       "      <td>0.814</td>\n",
       "    </tr>\n",
       "    <tr>\n",
       "      <th>recall</th>\n",
       "      <td>0.494</td>\n",
       "      <td>0.475</td>\n",
       "      <td>0.493</td>\n",
       "    </tr>\n",
       "    <tr>\n",
       "      <th>f1</th>\n",
       "      <td>0.614</td>\n",
       "      <td>0.589</td>\n",
       "      <td>0.614</td>\n",
       "    </tr>\n",
       "  </tbody>\n",
       "</table>\n",
       "</div>"
      ],
      "text/plain": [
       "           v1: cross_val  v2: training  v2: testing\n",
       "accuracy           0.779         0.763        0.779\n",
       "precision          0.823         0.774        0.814\n",
       "recall             0.494         0.475        0.493\n",
       "f1                 0.614         0.589        0.614"
      ]
     },
     "execution_count": 36,
     "metadata": {},
     "output_type": "execute_result"
    }
   ],
   "source": [
    "#Resplit data\n",
    "nbx_train, nbx_test, nby_train, nby_test = resplit_data(NBX,NBY)\n",
    "\n",
    "# Create a new classifier\n",
    "nb_v2 = tuned_NB\n",
    "\n",
    "# Fit model\n",
    "nb_v2.fit(nbx_train, nby_train)\n",
    "\n",
    "# Calculate statistics\n",
    "nbv2_train=calculate_v2_model_training_stats(nb_v2,nbx_train,nby_train)\n",
    "nbv2_test=calculate_v2_model_testing_stats(nb_v2,nbx_test,nby_test)\n",
    "\n",
    "# Create new dt performance metrics df\n",
    "nb_performance_metrics = assemble_performance_metrics_df(nb_cv,nbv2_train,nbv2_test)\n",
    "nb_performance_metrics"
   ]
  },
  {
   "cell_type": "markdown",
   "metadata": {},
   "source": [
    "This isn't the best model that we've seen so far, but it isn't particularly bad either. In the next section we'll get into ensembling, but before we do that we should take stock of our model performance against the ones that we've seen so far. Let's v2 model training performances so that we can assess them side-by-side. "
   ]
  },
  {
   "cell_type": "code",
   "execution_count": 37,
   "metadata": {},
   "outputs": [
    {
     "data": {
      "text/html": [
       "<div>\n",
       "<style scoped>\n",
       "    .dataframe tbody tr th:only-of-type {\n",
       "        vertical-align: middle;\n",
       "    }\n",
       "\n",
       "    .dataframe tbody tr th {\n",
       "        vertical-align: top;\n",
       "    }\n",
       "\n",
       "    .dataframe thead th {\n",
       "        text-align: right;\n",
       "    }\n",
       "</style>\n",
       "<table border=\"1\" class=\"dataframe\">\n",
       "  <thead>\n",
       "    <tr style=\"text-align: right;\">\n",
       "      <th></th>\n",
       "      <th>logistic_regression</th>\n",
       "      <th>k_nearest_neighbors</th>\n",
       "      <th>decision_tree</th>\n",
       "      <th>naive_bayes</th>\n",
       "    </tr>\n",
       "  </thead>\n",
       "  <tbody>\n",
       "    <tr>\n",
       "      <th>accuracy</th>\n",
       "      <td>0.782</td>\n",
       "      <td>0.771</td>\n",
       "      <td>0.841</td>\n",
       "      <td>0.763</td>\n",
       "    </tr>\n",
       "    <tr>\n",
       "      <th>precision</th>\n",
       "      <td>0.813</td>\n",
       "      <td>0.820</td>\n",
       "      <td>0.918</td>\n",
       "      <td>0.774</td>\n",
       "    </tr>\n",
       "    <tr>\n",
       "      <th>recall</th>\n",
       "      <td>0.507</td>\n",
       "      <td>0.459</td>\n",
       "      <td>0.610</td>\n",
       "      <td>0.475</td>\n",
       "    </tr>\n",
       "    <tr>\n",
       "      <th>f1</th>\n",
       "      <td>0.625</td>\n",
       "      <td>0.588</td>\n",
       "      <td>0.733</td>\n",
       "      <td>0.589</td>\n",
       "    </tr>\n",
       "  </tbody>\n",
       "</table>\n",
       "</div>"
      ],
      "text/plain": [
       "           logistic_regression  k_nearest_neighbors  decision_tree  \\\n",
       "accuracy                 0.782                0.771          0.841   \n",
       "precision                0.813                0.820          0.918   \n",
       "recall                   0.507                0.459          0.610   \n",
       "f1                       0.625                0.588          0.733   \n",
       "\n",
       "           naive_bayes  \n",
       "accuracy         0.763  \n",
       "precision        0.774  \n",
       "recall           0.475  \n",
       "f1               0.589  "
      ]
     },
     "execution_count": 37,
     "metadata": {},
     "output_type": "execute_result"
    }
   ],
   "source": [
    "models = [\n",
    "    logr_performance_metrics,\n",
    "    knn_performance_metrics,\n",
    "    dt_performance_metrics,\n",
    "    nb_performance_metrics,\n",
    "]\n",
    "\n",
    "# Pull stats from all cross-validation models so far\n",
    "single_models_df = consolidate_model_stats(models)\n",
    "single_models_df"
   ]
  },
  {
   "cell_type": "markdown",
   "metadata": {},
   "source": [
    "The Decision tree classifier is our strongest model so far, followed by Knn. The logistic regression was our most iterated model, but scores the lowest on accuracy and precision. In the next section we'll explore ensemble models since they could provide some modest boosts to accuracy, and we can use takeaways from this table to try out different iterations of ensembling now that we have a baseline view of how these models look when fitted to our data in isolation. Let's start with a random forest so that we can compare it to our single decision tree model here. "
   ]
  },
  {
   "cell_type": "markdown",
   "metadata": {},
   "source": [
    "# Ensemble Models\n",
    "## Random Forest"
   ]
  },
  {
   "cell_type": "markdown",
   "metadata": {},
   "source": [
    "### Hyperparameter tuning"
   ]
  },
  {
   "cell_type": "code",
   "execution_count": 38,
   "metadata": {},
   "outputs": [
    {
     "data": {
      "text/html": [
       "<div>\n",
       "<style scoped>\n",
       "    .dataframe tbody tr th:only-of-type {\n",
       "        vertical-align: middle;\n",
       "    }\n",
       "\n",
       "    .dataframe tbody tr th {\n",
       "        vertical-align: top;\n",
       "    }\n",
       "\n",
       "    .dataframe thead th {\n",
       "        text-align: right;\n",
       "    }\n",
       "</style>\n",
       "<table border=\"1\" class=\"dataframe\">\n",
       "  <thead>\n",
       "    <tr style=\"text-align: right;\">\n",
       "      <th></th>\n",
       "      <th>mean_score</th>\n",
       "      <th>standard_deviation</th>\n",
       "      <th>confidence_interval</th>\n",
       "    </tr>\n",
       "  </thead>\n",
       "  <tbody>\n",
       "    <tr>\n",
       "      <th>accuracy</th>\n",
       "      <td>0.826</td>\n",
       "      <td>0.028</td>\n",
       "      <td>[0.798, 0.854]</td>\n",
       "    </tr>\n",
       "    <tr>\n",
       "      <th>precision</th>\n",
       "      <td>0.877</td>\n",
       "      <td>0.070</td>\n",
       "      <td>[0.807, 0.948]</td>\n",
       "    </tr>\n",
       "    <tr>\n",
       "      <th>recall</th>\n",
       "      <td>0.595</td>\n",
       "      <td>0.078</td>\n",
       "      <td>[0.517, 0.672]</td>\n",
       "    </tr>\n",
       "    <tr>\n",
       "      <th>f1</th>\n",
       "      <td>0.705</td>\n",
       "      <td>0.062</td>\n",
       "      <td>[0.643, 0.768]</td>\n",
       "    </tr>\n",
       "  </tbody>\n",
       "</table>\n",
       "</div>"
      ],
      "text/plain": [
       "           mean_score  standard_deviation confidence_interval\n",
       "accuracy        0.826               0.028      [0.798, 0.854]\n",
       "precision       0.877               0.070      [0.807, 0.948]\n",
       "recall          0.595               0.078      [0.517, 0.672]\n",
       "f1              0.705               0.062      [0.643, 0.768]"
      ]
     },
     "execution_count": 38,
     "metadata": {},
     "output_type": "execute_result"
    }
   ],
   "source": [
    "# Define grid of hyperparameters\n",
    "RF_grid = {\n",
    "    \"criterion\": [\"gini\", \"entropy\", \"log_loss\"],\n",
    "    \"max_depth\": list(range(1, 11)),\n",
    "    \"max_features\": [\"sqrt\", \"log2\", None],\n",
    "}\n",
    "\n",
    "# Resplit data\n",
    "x_train, x_test, y_train, y_test = resplit_data(X, Y)\n",
    "\n",
    "# Conduct grid search on random forest model\n",
    "rf_best_params, rf_cv_accuracy = conduct_grid_search_tuning(\"random_forest\", RF_grid,x_train,y_train)\n",
    "\n",
    "# Save RF settings\n",
    "tuned_rf = RandomForestClassifier(\n",
    "    criterion=rf_best_params[\"criterion\"],\n",
    "    max_depth=rf_best_params[\"max_depth\"],\n",
    "    max_features=rf_best_params[\"max_features\"],\n",
    "    random_state=1\n",
    ")\n",
    "\n",
    "# Initialize model\n",
    "rf_v1 = tuned_rf\n",
    "\n",
    "# Run cross validation for the RF model\n",
    "rf_cv = conduct_cross_validation(rf_v1,x_train,y_train) \n",
    "rf_cv"
   ]
  },
  {
   "cell_type": "markdown",
   "metadata": {},
   "source": [
    "This 100 tree model performs really well right out the gate, with an accuracy level on par with the decision tree model, but with gains to precision. Let's take a look at the training and test set performance. "
   ]
  },
  {
   "cell_type": "code",
   "execution_count": 39,
   "metadata": {},
   "outputs": [
    {
     "data": {
      "text/html": [
       "<div>\n",
       "<style scoped>\n",
       "    .dataframe tbody tr th:only-of-type {\n",
       "        vertical-align: middle;\n",
       "    }\n",
       "\n",
       "    .dataframe tbody tr th {\n",
       "        vertical-align: top;\n",
       "    }\n",
       "\n",
       "    .dataframe thead th {\n",
       "        text-align: right;\n",
       "    }\n",
       "</style>\n",
       "<table border=\"1\" class=\"dataframe\">\n",
       "  <thead>\n",
       "    <tr style=\"text-align: right;\">\n",
       "      <th></th>\n",
       "      <th>v1: cross_val</th>\n",
       "      <th>v2: training</th>\n",
       "      <th>v2: testing</th>\n",
       "    </tr>\n",
       "  </thead>\n",
       "  <tbody>\n",
       "    <tr>\n",
       "      <th>accuracy</th>\n",
       "      <td>0.826</td>\n",
       "      <td>0.858</td>\n",
       "      <td>0.843</td>\n",
       "    </tr>\n",
       "    <tr>\n",
       "      <th>precision</th>\n",
       "      <td>0.877</td>\n",
       "      <td>0.955</td>\n",
       "      <td>0.976</td>\n",
       "    </tr>\n",
       "    <tr>\n",
       "      <th>recall</th>\n",
       "      <td>0.595</td>\n",
       "      <td>0.634</td>\n",
       "      <td>0.573</td>\n",
       "    </tr>\n",
       "    <tr>\n",
       "      <th>f1</th>\n",
       "      <td>0.705</td>\n",
       "      <td>0.762</td>\n",
       "      <td>0.722</td>\n",
       "    </tr>\n",
       "  </tbody>\n",
       "</table>\n",
       "</div>"
      ],
      "text/plain": [
       "           v1: cross_val  v2: training  v2: testing\n",
       "accuracy           0.826         0.858        0.843\n",
       "precision          0.877         0.955        0.976\n",
       "recall             0.595         0.634        0.573\n",
       "f1                 0.705         0.762        0.722"
      ]
     },
     "execution_count": 39,
     "metadata": {},
     "output_type": "execute_result"
    }
   ],
   "source": [
    "# Create v2 Random Forest\n",
    "rf_v2 = tuned_rf\n",
    "\n",
    "# Resplit data\n",
    "x_train, x_test, y_train, y_test = resplit_data(X, Y)\n",
    "\n",
    "# Fit model\n",
    "rf_v2.fit(x_train, y_train)\n",
    "\n",
    "# Calculate statistics\n",
    "rfv2_train = calculate_v2_model_training_stats(rf_v2, x_train, y_train)\n",
    "rfv2_test = calculate_v2_model_testing_stats(rf_v2, x_test, y_test)\n",
    "\n",
    "# Create new dt performance metrics df\n",
    "rf_performance_metrics_df = assemble_performance_metrics_df(\n",
    "    rf_cv, rfv2_train, rfv2_test\n",
    ")\n",
    "rf_performance_metrics_df"
   ]
  },
  {
   "cell_type": "markdown",
   "metadata": {},
   "source": [
    "### So how many trees do we need?"
   ]
  },
  {
   "cell_type": "markdown",
   "metadata": {},
   "source": [
    "The Random Forest classifier continues to be a really strong model for our predictive use case here. Let's see if we can eke out any more efficiency by adjusting the number of trees within the forest. Calculating so many trees can be computationally intensive, but there may be a balance between accuracy and trees needed. I'd assume that for such a small dataset we'd hit diminishing returns on our predictive power well before the default number of 100 decision tree classifiers, but let's see if that's the case for accuracy and precision on this data in particular. "
   ]
  },
  {
   "cell_type": "markdown",
   "metadata": {},
   "source": [
    "Let's use grid search to test the effectiveness of forests ranging from 1-125 trees. This is an arbitrary number, but it is higher than our current limit, and we'll be able to graph performance curves along the domain of 0-125 trees anyway. From there we'll investigate the outputs to see how much the accuracy score changes as the n_estimators adjusts across runs. "
   ]
  },
  {
   "cell_type": "code",
   "execution_count": 40,
   "metadata": {},
   "outputs": [],
   "source": [
    "# Set parameter range and conduct grid search\n",
    "tree_grid = {\"n_estimators\": np.linspace(1, 125, 125, dtype=\"int\")}\n",
    "\n",
    "scoring = {\n",
    "    \"accuracy\": 'accuracy',#make_scorer(accuracy_score),\n",
    "    \"precision\": 'precision',#make_scorer(precision_score),\n",
    "    'F1':'f1',#make_scorer(f1_score),\n",
    "    \"AUC\": \"roc_auc\"\n",
    "}  # sets scoring metrics of interest in the grid\n",
    "scoring_list = list(scoring.keys())\n",
    "\n",
    "grid_search = GridSearchCV(tuned_rf, tree_grid, scoring=scoring, refit=\"AUC\", cv=10)\n",
    "grid_search.fit(x_train, y_train);"
   ]
  },
  {
   "cell_type": "markdown",
   "metadata": {},
   "source": [
    "Now that we've conducted this grid search and fitted our values, let's pare down the total output to just our columns of interest before we do further analysis. "
   ]
  },
  {
   "cell_type": "code",
   "execution_count": 41,
   "metadata": {},
   "outputs": [
    {
     "data": {
      "text/html": [
       "<div>\n",
       "<style scoped>\n",
       "    .dataframe tbody tr th:only-of-type {\n",
       "        vertical-align: middle;\n",
       "    }\n",
       "\n",
       "    .dataframe tbody tr th {\n",
       "        vertical-align: top;\n",
       "    }\n",
       "\n",
       "    .dataframe thead th {\n",
       "        text-align: right;\n",
       "    }\n",
       "</style>\n",
       "<table border=\"1\" class=\"dataframe\">\n",
       "  <thead>\n",
       "    <tr style=\"text-align: right;\">\n",
       "      <th></th>\n",
       "      <th>split0_test_accuracy</th>\n",
       "      <th>split1_test_accuracy</th>\n",
       "      <th>split2_test_accuracy</th>\n",
       "      <th>split3_test_accuracy</th>\n",
       "      <th>split4_test_accuracy</th>\n",
       "      <th>split5_test_accuracy</th>\n",
       "      <th>split6_test_accuracy</th>\n",
       "      <th>split7_test_accuracy</th>\n",
       "      <th>split8_test_accuracy</th>\n",
       "      <th>split9_test_accuracy</th>\n",
       "      <th>...</th>\n",
       "      <th>split3_test_AUC</th>\n",
       "      <th>split4_test_AUC</th>\n",
       "      <th>split5_test_AUC</th>\n",
       "      <th>split6_test_AUC</th>\n",
       "      <th>split7_test_AUC</th>\n",
       "      <th>split8_test_AUC</th>\n",
       "      <th>split9_test_AUC</th>\n",
       "      <th>mean_test_AUC</th>\n",
       "      <th>std_test_AUC</th>\n",
       "      <th>rank_test_AUC</th>\n",
       "    </tr>\n",
       "  </thead>\n",
       "  <tbody>\n",
       "    <tr>\n",
       "      <th>122</th>\n",
       "      <td>0.799</td>\n",
       "      <td>0.835</td>\n",
       "      <td>0.813</td>\n",
       "      <td>0.806</td>\n",
       "      <td>0.763</td>\n",
       "      <td>0.863</td>\n",
       "      <td>0.856</td>\n",
       "      <td>0.799</td>\n",
       "      <td>0.799</td>\n",
       "      <td>0.878</td>\n",
       "      <td>...</td>\n",
       "      <td>0.777</td>\n",
       "      <td>0.747</td>\n",
       "      <td>0.851</td>\n",
       "      <td>0.850</td>\n",
       "      <td>0.753</td>\n",
       "      <td>0.788</td>\n",
       "      <td>0.895</td>\n",
       "      <td>0.796</td>\n",
       "      <td>0.050</td>\n",
       "      <td>88</td>\n",
       "    </tr>\n",
       "    <tr>\n",
       "      <th>48</th>\n",
       "      <td>0.791</td>\n",
       "      <td>0.835</td>\n",
       "      <td>0.813</td>\n",
       "      <td>0.820</td>\n",
       "      <td>0.770</td>\n",
       "      <td>0.863</td>\n",
       "      <td>0.856</td>\n",
       "      <td>0.799</td>\n",
       "      <td>0.806</td>\n",
       "      <td>0.878</td>\n",
       "      <td>...</td>\n",
       "      <td>0.779</td>\n",
       "      <td>0.759</td>\n",
       "      <td>0.859</td>\n",
       "      <td>0.854</td>\n",
       "      <td>0.752</td>\n",
       "      <td>0.794</td>\n",
       "      <td>0.893</td>\n",
       "      <td>0.800</td>\n",
       "      <td>0.050</td>\n",
       "      <td>10</td>\n",
       "    </tr>\n",
       "    <tr>\n",
       "      <th>31</th>\n",
       "      <td>0.791</td>\n",
       "      <td>0.842</td>\n",
       "      <td>0.806</td>\n",
       "      <td>0.820</td>\n",
       "      <td>0.770</td>\n",
       "      <td>0.856</td>\n",
       "      <td>0.856</td>\n",
       "      <td>0.791</td>\n",
       "      <td>0.799</td>\n",
       "      <td>0.878</td>\n",
       "      <td>...</td>\n",
       "      <td>0.783</td>\n",
       "      <td>0.761</td>\n",
       "      <td>0.857</td>\n",
       "      <td>0.852</td>\n",
       "      <td>0.749</td>\n",
       "      <td>0.792</td>\n",
       "      <td>0.893</td>\n",
       "      <td>0.799</td>\n",
       "      <td>0.051</td>\n",
       "      <td>31</td>\n",
       "    </tr>\n",
       "    <tr>\n",
       "      <th>66</th>\n",
       "      <td>0.791</td>\n",
       "      <td>0.835</td>\n",
       "      <td>0.820</td>\n",
       "      <td>0.813</td>\n",
       "      <td>0.770</td>\n",
       "      <td>0.863</td>\n",
       "      <td>0.856</td>\n",
       "      <td>0.799</td>\n",
       "      <td>0.806</td>\n",
       "      <td>0.878</td>\n",
       "      <td>...</td>\n",
       "      <td>0.775</td>\n",
       "      <td>0.754</td>\n",
       "      <td>0.851</td>\n",
       "      <td>0.850</td>\n",
       "      <td>0.755</td>\n",
       "      <td>0.795</td>\n",
       "      <td>0.893</td>\n",
       "      <td>0.798</td>\n",
       "      <td>0.049</td>\n",
       "      <td>44</td>\n",
       "    </tr>\n",
       "    <tr>\n",
       "      <th>35</th>\n",
       "      <td>0.791</td>\n",
       "      <td>0.842</td>\n",
       "      <td>0.806</td>\n",
       "      <td>0.820</td>\n",
       "      <td>0.770</td>\n",
       "      <td>0.856</td>\n",
       "      <td>0.856</td>\n",
       "      <td>0.799</td>\n",
       "      <td>0.799</td>\n",
       "      <td>0.878</td>\n",
       "      <td>...</td>\n",
       "      <td>0.786</td>\n",
       "      <td>0.757</td>\n",
       "      <td>0.857</td>\n",
       "      <td>0.851</td>\n",
       "      <td>0.749</td>\n",
       "      <td>0.792</td>\n",
       "      <td>0.897</td>\n",
       "      <td>0.799</td>\n",
       "      <td>0.052</td>\n",
       "      <td>24</td>\n",
       "    </tr>\n",
       "  </tbody>\n",
       "</table>\n",
       "<p>5 rows × 52 columns</p>\n",
       "</div>"
      ],
      "text/plain": [
       "     split0_test_accuracy  split1_test_accuracy  split2_test_accuracy  \\\n",
       "122                 0.799                 0.835                 0.813   \n",
       "48                  0.791                 0.835                 0.813   \n",
       "31                  0.791                 0.842                 0.806   \n",
       "66                  0.791                 0.835                 0.820   \n",
       "35                  0.791                 0.842                 0.806   \n",
       "\n",
       "     split3_test_accuracy  split4_test_accuracy  split5_test_accuracy  \\\n",
       "122                 0.806                 0.763                 0.863   \n",
       "48                  0.820                 0.770                 0.863   \n",
       "31                  0.820                 0.770                 0.856   \n",
       "66                  0.813                 0.770                 0.863   \n",
       "35                  0.820                 0.770                 0.856   \n",
       "\n",
       "     split6_test_accuracy  split7_test_accuracy  split8_test_accuracy  \\\n",
       "122                 0.856                 0.799                 0.799   \n",
       "48                  0.856                 0.799                 0.806   \n",
       "31                  0.856                 0.791                 0.799   \n",
       "66                  0.856                 0.799                 0.806   \n",
       "35                  0.856                 0.799                 0.799   \n",
       "\n",
       "     split9_test_accuracy  ...  split3_test_AUC  split4_test_AUC  \\\n",
       "122                 0.878  ...            0.777            0.747   \n",
       "48                  0.878  ...            0.779            0.759   \n",
       "31                  0.878  ...            0.783            0.761   \n",
       "66                  0.878  ...            0.775            0.754   \n",
       "35                  0.878  ...            0.786            0.757   \n",
       "\n",
       "     split5_test_AUC  split6_test_AUC  split7_test_AUC  split8_test_AUC  \\\n",
       "122            0.851            0.850            0.753            0.788   \n",
       "48             0.859            0.854            0.752            0.794   \n",
       "31             0.857            0.852            0.749            0.792   \n",
       "66             0.851            0.850            0.755            0.795   \n",
       "35             0.857            0.851            0.749            0.792   \n",
       "\n",
       "     split9_test_AUC  mean_test_AUC  std_test_AUC  rank_test_AUC  \n",
       "122            0.895          0.796         0.050             88  \n",
       "48             0.893          0.800         0.050             10  \n",
       "31             0.893          0.799         0.051             31  \n",
       "66             0.893          0.798         0.049             44  \n",
       "35             0.897          0.799         0.052             24  \n",
       "\n",
       "[5 rows x 52 columns]"
      ]
     },
     "execution_count": 41,
     "metadata": {},
     "output_type": "execute_result"
    }
   ],
   "source": [
    "# Pull result\n",
    "grid_search_results = pd.DataFrame(grid_search.cv_results_)\n",
    "\n",
    "# Calculate metrics ranges\n",
    "score_ranges = calculate_grid_search_ranges(grid_search_results, scoring_list)\n",
    "\n",
    "# Filter down grid_search_results df\n",
    "grid_search_results = restrict_grid_search_table(\n",
    "    grid_search_results, scoring_list, score_ranges\n",
    ")\n",
    "grid_search_results.sample(5)"
   ]
  },
  {
   "cell_type": "markdown",
   "metadata": {},
   "source": [
    "Now that we have our test runs data, let's isolate our best performing specifications across accuracy, precision, and AUC."
   ]
  },
  {
   "cell_type": "code",
   "execution_count": 42,
   "metadata": {},
   "outputs": [
    {
     "data": {
      "text/html": [
       "<div>\n",
       "<style scoped>\n",
       "    .dataframe tbody tr th:only-of-type {\n",
       "        vertical-align: middle;\n",
       "    }\n",
       "\n",
       "    .dataframe tbody tr th {\n",
       "        vertical-align: top;\n",
       "    }\n",
       "\n",
       "    .dataframe thead th {\n",
       "        text-align: right;\n",
       "    }\n",
       "</style>\n",
       "<table border=\"1\" class=\"dataframe\">\n",
       "  <thead>\n",
       "    <tr style=\"text-align: right;\">\n",
       "      <th></th>\n",
       "      <th>tree_number</th>\n",
       "      <th>mean_test_accuracy</th>\n",
       "      <th>std_test_accuracy</th>\n",
       "    </tr>\n",
       "  </thead>\n",
       "  <tbody>\n",
       "    <tr>\n",
       "      <th>99</th>\n",
       "      <td>99</td>\n",
       "      <td>0.824</td>\n",
       "      <td>0.035</td>\n",
       "    </tr>\n",
       "    <tr>\n",
       "      <th>105</th>\n",
       "      <td>105</td>\n",
       "      <td>0.824</td>\n",
       "      <td>0.034</td>\n",
       "    </tr>\n",
       "  </tbody>\n",
       "</table>\n",
       "</div>"
      ],
      "text/plain": [
       "     tree_number  mean_test_accuracy  std_test_accuracy\n",
       "99            99               0.824              0.035\n",
       "105          105               0.824              0.034"
      ]
     },
     "execution_count": 42,
     "metadata": {},
     "output_type": "execute_result"
    }
   ],
   "source": [
    "pull_rank_one_runs(grid_search_results,'accuracy')"
   ]
  },
  {
   "cell_type": "code",
   "execution_count": 43,
   "metadata": {},
   "outputs": [
    {
     "data": {
      "text/html": [
       "<div>\n",
       "<style scoped>\n",
       "    .dataframe tbody tr th:only-of-type {\n",
       "        vertical-align: middle;\n",
       "    }\n",
       "\n",
       "    .dataframe tbody tr th {\n",
       "        vertical-align: top;\n",
       "    }\n",
       "\n",
       "    .dataframe thead th {\n",
       "        text-align: right;\n",
       "    }\n",
       "</style>\n",
       "<table border=\"1\" class=\"dataframe\">\n",
       "  <thead>\n",
       "    <tr style=\"text-align: right;\">\n",
       "      <th></th>\n",
       "      <th>tree_number</th>\n",
       "      <th>mean_test_precision</th>\n",
       "      <th>std_test_precision</th>\n",
       "    </tr>\n",
       "  </thead>\n",
       "  <tbody>\n",
       "    <tr>\n",
       "      <th>43</th>\n",
       "      <td>43</td>\n",
       "      <td>0.882</td>\n",
       "      <td>0.04</td>\n",
       "    </tr>\n",
       "  </tbody>\n",
       "</table>\n",
       "</div>"
      ],
      "text/plain": [
       "    tree_number  mean_test_precision  std_test_precision\n",
       "43           43                0.882                0.04"
      ]
     },
     "execution_count": 43,
     "metadata": {},
     "output_type": "execute_result"
    }
   ],
   "source": [
    "pull_rank_one_runs(grid_search_results,'precision')"
   ]
  },
  {
   "cell_type": "code",
   "execution_count": 44,
   "metadata": {},
   "outputs": [
    {
     "data": {
      "text/html": [
       "<div>\n",
       "<style scoped>\n",
       "    .dataframe tbody tr th:only-of-type {\n",
       "        vertical-align: middle;\n",
       "    }\n",
       "\n",
       "    .dataframe tbody tr th {\n",
       "        vertical-align: top;\n",
       "    }\n",
       "\n",
       "    .dataframe thead th {\n",
       "        text-align: right;\n",
       "    }\n",
       "</style>\n",
       "<table border=\"1\" class=\"dataframe\">\n",
       "  <thead>\n",
       "    <tr style=\"text-align: right;\">\n",
       "      <th></th>\n",
       "      <th>tree_number</th>\n",
       "      <th>mean_test_AUC</th>\n",
       "      <th>std_test_AUC</th>\n",
       "    </tr>\n",
       "  </thead>\n",
       "  <tbody>\n",
       "    <tr>\n",
       "      <th>50</th>\n",
       "      <td>50</td>\n",
       "      <td>0.801</td>\n",
       "      <td>0.05</td>\n",
       "    </tr>\n",
       "  </tbody>\n",
       "</table>\n",
       "</div>"
      ],
      "text/plain": [
       "    tree_number  mean_test_AUC  std_test_AUC\n",
       "50           50          0.801          0.05"
      ]
     },
     "execution_count": 44,
     "metadata": {},
     "output_type": "execute_result"
    }
   ],
   "source": [
    "pull_rank_one_runs(grid_search_results,'AUC')"
   ]
  },
  {
   "cell_type": "code",
   "execution_count": 45,
   "metadata": {},
   "outputs": [
    {
     "data": {
      "text/html": [
       "<div>\n",
       "<style scoped>\n",
       "    .dataframe tbody tr th:only-of-type {\n",
       "        vertical-align: middle;\n",
       "    }\n",
       "\n",
       "    .dataframe tbody tr th {\n",
       "        vertical-align: top;\n",
       "    }\n",
       "\n",
       "    .dataframe thead th {\n",
       "        text-align: right;\n",
       "    }\n",
       "</style>\n",
       "<table border=\"1\" class=\"dataframe\">\n",
       "  <thead>\n",
       "    <tr style=\"text-align: right;\">\n",
       "      <th></th>\n",
       "      <th>tree_number</th>\n",
       "      <th>mean_test_F1</th>\n",
       "      <th>std_test_F1</th>\n",
       "    </tr>\n",
       "  </thead>\n",
       "  <tbody>\n",
       "    <tr>\n",
       "      <th>65</th>\n",
       "      <td>65</td>\n",
       "      <td>0.702</td>\n",
       "      <td>0.065</td>\n",
       "    </tr>\n",
       "  </tbody>\n",
       "</table>\n",
       "</div>"
      ],
      "text/plain": [
       "    tree_number  mean_test_F1  std_test_F1\n",
       "65           65         0.702        0.065"
      ]
     },
     "execution_count": 45,
     "metadata": {},
     "output_type": "execute_result"
    }
   ],
   "source": [
    "# Save the number of trees for best performing run\n",
    "F1_best = pull_rank_one_runs(grid_search_results, \"F1\")\n",
    "n_trees = F1_best.tree_number.iloc[0]\n",
    "F1_best"
   ]
  },
  {
   "cell_type": "markdown",
   "metadata": {},
   "source": [
    "The performance across each of these four metrics peaks at different numbers of trees, but all of them are well below the 100-tree default that we were working with before, and also the 125-tree limit I set in the grid search. Let's look at these metrics graphically to get a better sense of how the performance distributions are shaped."
   ]
  },
  {
   "cell_type": "code",
   "execution_count": 57,
   "metadata": {},
   "outputs": [
    {
     "data": {
      "image/svg+xml": [
       "<svg class=\"main-svg\" xmlns=\"http://www.w3.org/2000/svg\" xmlns:xlink=\"http://www.w3.org/1999/xlink\" width=\"950\" height=\"900\" style=\"\" viewBox=\"0 0 950 900\"><rect x=\"0\" y=\"0\" width=\"950\" height=\"900\" style=\"fill: rgb(255, 255, 255); fill-opacity: 1;\"/><defs id=\"defs-8e537f\"><g class=\"clips\"><clipPath id=\"clip8e537fxyplot\" class=\"plotclip\"><rect width=\"355.5\" height=\"112.5\"/></clipPath><clipPath id=\"clip8e537fx2y2plot\" class=\"plotclip\"><rect width=\"355.49999999999994\" height=\"112.5\"/></clipPath><clipPath id=\"clip8e537fx3y3plot\" class=\"plotclip\"><rect width=\"355.5\" height=\"112.5\"/></clipPath><clipPath id=\"clip8e537fx4y4plot\" class=\"plotclip\"><rect width=\"355.49999999999994\" height=\"112.5\"/></clipPath><clipPath id=\"clip8e537fx5y5plot\" class=\"plotclip\"><rect width=\"355.5\" height=\"112.5\"/></clipPath><clipPath id=\"clip8e537fx6y6plot\" class=\"plotclip\"><rect width=\"355.49999999999994\" height=\"112.5\"/></clipPath><clipPath id=\"clip8e537fx7y7plot\" class=\"plotclip\"><rect width=\"355.5\" height=\"112.5\"/></clipPath><clipPath id=\"clip8e537fx8y8plot\" class=\"plotclip\"><rect width=\"355.49999999999994\" height=\"112.5\"/></clipPath><clipPath class=\"axesclip\" id=\"clip8e537fx\"><rect x=\"80\" y=\"0\" width=\"355.5\" height=\"900\"/></clipPath><clipPath class=\"axesclip\" id=\"clip8e537fy\"><rect x=\"0\" y=\"100\" width=\"950\" height=\"112.5\"/></clipPath><clipPath class=\"axesclip\" id=\"clip8e537fxy\"><rect x=\"80\" y=\"100\" width=\"355.5\" height=\"112.5\"/></clipPath><clipPath class=\"axesclip\" id=\"clip8e537fy2\"><rect x=\"0\" y=\"100\" width=\"950\" height=\"112.5\"/></clipPath><clipPath class=\"axesclip\" id=\"clip8e537fxy2\"><rect x=\"80\" y=\"100\" width=\"355.5\" height=\"112.5\"/></clipPath><clipPath class=\"axesclip\" id=\"clip8e537fy3\"><rect x=\"0\" y=\"302.5\" width=\"950\" height=\"112.5\"/></clipPath><clipPath class=\"axesclip\" id=\"clip8e537fxy3\"><rect x=\"80\" y=\"302.5\" width=\"355.5\" height=\"112.5\"/></clipPath><clipPath class=\"axesclip\" id=\"clip8e537fy4\"><rect x=\"0\" y=\"302.5\" width=\"950\" height=\"112.5\"/></clipPath><clipPath class=\"axesclip\" id=\"clip8e537fxy4\"><rect x=\"80\" y=\"302.5\" width=\"355.5\" height=\"112.5\"/></clipPath><clipPath class=\"axesclip\" id=\"clip8e537fy5\"><rect x=\"0\" y=\"505\" width=\"950\" height=\"112.5\"/></clipPath><clipPath class=\"axesclip\" id=\"clip8e537fxy5\"><rect x=\"80\" y=\"505\" width=\"355.5\" height=\"112.5\"/></clipPath><clipPath class=\"axesclip\" id=\"clip8e537fy6\"><rect x=\"0\" y=\"505\" width=\"950\" height=\"112.5\"/></clipPath><clipPath class=\"axesclip\" id=\"clip8e537fxy6\"><rect x=\"80\" y=\"505\" width=\"355.5\" height=\"112.5\"/></clipPath><clipPath class=\"axesclip\" id=\"clip8e537fy7\"><rect x=\"0\" y=\"707.5\" width=\"950\" height=\"112.5\"/></clipPath><clipPath class=\"axesclip\" id=\"clip8e537fxy7\"><rect x=\"80\" y=\"707.5\" width=\"355.5\" height=\"112.5\"/></clipPath><clipPath class=\"axesclip\" id=\"clip8e537fy8\"><rect x=\"0\" y=\"707.5\" width=\"950\" height=\"112.5\"/></clipPath><clipPath class=\"axesclip\" id=\"clip8e537fxy8\"><rect x=\"80\" y=\"707.5\" width=\"355.5\" height=\"112.5\"/></clipPath><clipPath class=\"axesclip\" id=\"clip8e537fx2\"><rect x=\"514.5\" y=\"0\" width=\"355.49999999999994\" height=\"900\"/></clipPath><clipPath class=\"axesclip\" id=\"clip8e537fx2y\"><rect x=\"514.5\" y=\"100\" width=\"355.49999999999994\" height=\"112.5\"/></clipPath><clipPath class=\"axesclip\" id=\"clip8e537fx2y2\"><rect x=\"514.5\" y=\"100\" width=\"355.49999999999994\" height=\"112.5\"/></clipPath><clipPath class=\"axesclip\" id=\"clip8e537fx2y3\"><rect x=\"514.5\" y=\"302.5\" width=\"355.49999999999994\" height=\"112.5\"/></clipPath><clipPath class=\"axesclip\" id=\"clip8e537fx2y4\"><rect x=\"514.5\" y=\"302.5\" width=\"355.49999999999994\" height=\"112.5\"/></clipPath><clipPath class=\"axesclip\" id=\"clip8e537fx2y5\"><rect x=\"514.5\" y=\"505\" width=\"355.49999999999994\" height=\"112.5\"/></clipPath><clipPath class=\"axesclip\" id=\"clip8e537fx2y6\"><rect x=\"514.5\" y=\"505\" width=\"355.49999999999994\" height=\"112.5\"/></clipPath><clipPath class=\"axesclip\" id=\"clip8e537fx2y7\"><rect x=\"514.5\" y=\"707.5\" width=\"355.49999999999994\" height=\"112.5\"/></clipPath><clipPath class=\"axesclip\" id=\"clip8e537fx2y8\"><rect x=\"514.5\" y=\"707.5\" width=\"355.49999999999994\" height=\"112.5\"/></clipPath><clipPath class=\"axesclip\" id=\"clip8e537fx3\"><rect x=\"80\" y=\"0\" width=\"355.5\" height=\"900\"/></clipPath><clipPath class=\"axesclip\" id=\"clip8e537fx3y\"><rect x=\"80\" y=\"100\" width=\"355.5\" height=\"112.5\"/></clipPath><clipPath class=\"axesclip\" id=\"clip8e537fx3y2\"><rect x=\"80\" y=\"100\" width=\"355.5\" height=\"112.5\"/></clipPath><clipPath class=\"axesclip\" id=\"clip8e537fx3y3\"><rect x=\"80\" y=\"302.5\" width=\"355.5\" height=\"112.5\"/></clipPath><clipPath class=\"axesclip\" id=\"clip8e537fx3y4\"><rect x=\"80\" y=\"302.5\" width=\"355.5\" height=\"112.5\"/></clipPath><clipPath class=\"axesclip\" id=\"clip8e537fx3y5\"><rect x=\"80\" y=\"505\" width=\"355.5\" height=\"112.5\"/></clipPath><clipPath class=\"axesclip\" id=\"clip8e537fx3y6\"><rect x=\"80\" y=\"505\" width=\"355.5\" height=\"112.5\"/></clipPath><clipPath class=\"axesclip\" id=\"clip8e537fx3y7\"><rect x=\"80\" y=\"707.5\" width=\"355.5\" height=\"112.5\"/></clipPath><clipPath class=\"axesclip\" id=\"clip8e537fx3y8\"><rect x=\"80\" y=\"707.5\" width=\"355.5\" height=\"112.5\"/></clipPath><clipPath class=\"axesclip\" id=\"clip8e537fx4\"><rect x=\"514.5\" y=\"0\" width=\"355.49999999999994\" height=\"900\"/></clipPath><clipPath class=\"axesclip\" id=\"clip8e537fx4y\"><rect x=\"514.5\" y=\"100\" width=\"355.49999999999994\" height=\"112.5\"/></clipPath><clipPath class=\"axesclip\" id=\"clip8e537fx4y2\"><rect x=\"514.5\" y=\"100\" width=\"355.49999999999994\" height=\"112.5\"/></clipPath><clipPath class=\"axesclip\" id=\"clip8e537fx4y3\"><rect x=\"514.5\" y=\"302.5\" width=\"355.49999999999994\" height=\"112.5\"/></clipPath><clipPath class=\"axesclip\" id=\"clip8e537fx4y4\"><rect x=\"514.5\" y=\"302.5\" width=\"355.49999999999994\" height=\"112.5\"/></clipPath><clipPath class=\"axesclip\" id=\"clip8e537fx4y5\"><rect x=\"514.5\" y=\"505\" width=\"355.49999999999994\" height=\"112.5\"/></clipPath><clipPath class=\"axesclip\" id=\"clip8e537fx4y6\"><rect x=\"514.5\" y=\"505\" width=\"355.49999999999994\" height=\"112.5\"/></clipPath><clipPath class=\"axesclip\" id=\"clip8e537fx4y7\"><rect x=\"514.5\" y=\"707.5\" width=\"355.49999999999994\" height=\"112.5\"/></clipPath><clipPath class=\"axesclip\" id=\"clip8e537fx4y8\"><rect x=\"514.5\" y=\"707.5\" width=\"355.49999999999994\" height=\"112.5\"/></clipPath><clipPath class=\"axesclip\" id=\"clip8e537fx5\"><rect x=\"80\" y=\"0\" width=\"355.5\" height=\"900\"/></clipPath><clipPath class=\"axesclip\" id=\"clip8e537fx5y\"><rect x=\"80\" y=\"100\" width=\"355.5\" height=\"112.5\"/></clipPath><clipPath class=\"axesclip\" id=\"clip8e537fx5y2\"><rect x=\"80\" y=\"100\" width=\"355.5\" height=\"112.5\"/></clipPath><clipPath class=\"axesclip\" id=\"clip8e537fx5y3\"><rect x=\"80\" y=\"302.5\" width=\"355.5\" height=\"112.5\"/></clipPath><clipPath class=\"axesclip\" id=\"clip8e537fx5y4\"><rect x=\"80\" y=\"302.5\" width=\"355.5\" height=\"112.5\"/></clipPath><clipPath class=\"axesclip\" id=\"clip8e537fx5y5\"><rect x=\"80\" y=\"505\" width=\"355.5\" height=\"112.5\"/></clipPath><clipPath class=\"axesclip\" id=\"clip8e537fx5y6\"><rect x=\"80\" y=\"505\" width=\"355.5\" height=\"112.5\"/></clipPath><clipPath class=\"axesclip\" id=\"clip8e537fx5y7\"><rect x=\"80\" y=\"707.5\" width=\"355.5\" height=\"112.5\"/></clipPath><clipPath class=\"axesclip\" id=\"clip8e537fx5y8\"><rect x=\"80\" y=\"707.5\" width=\"355.5\" height=\"112.5\"/></clipPath><clipPath class=\"axesclip\" id=\"clip8e537fx6\"><rect x=\"514.5\" y=\"0\" width=\"355.49999999999994\" height=\"900\"/></clipPath><clipPath class=\"axesclip\" id=\"clip8e537fx6y\"><rect x=\"514.5\" y=\"100\" width=\"355.49999999999994\" height=\"112.5\"/></clipPath><clipPath class=\"axesclip\" id=\"clip8e537fx6y2\"><rect x=\"514.5\" y=\"100\" width=\"355.49999999999994\" height=\"112.5\"/></clipPath><clipPath class=\"axesclip\" id=\"clip8e537fx6y3\"><rect x=\"514.5\" y=\"302.5\" width=\"355.49999999999994\" height=\"112.5\"/></clipPath><clipPath class=\"axesclip\" id=\"clip8e537fx6y4\"><rect x=\"514.5\" y=\"302.5\" width=\"355.49999999999994\" height=\"112.5\"/></clipPath><clipPath class=\"axesclip\" id=\"clip8e537fx6y5\"><rect x=\"514.5\" y=\"505\" width=\"355.49999999999994\" height=\"112.5\"/></clipPath><clipPath class=\"axesclip\" id=\"clip8e537fx6y6\"><rect x=\"514.5\" y=\"505\" width=\"355.49999999999994\" height=\"112.5\"/></clipPath><clipPath class=\"axesclip\" id=\"clip8e537fx6y7\"><rect x=\"514.5\" y=\"707.5\" width=\"355.49999999999994\" height=\"112.5\"/></clipPath><clipPath class=\"axesclip\" id=\"clip8e537fx6y8\"><rect x=\"514.5\" y=\"707.5\" width=\"355.49999999999994\" height=\"112.5\"/></clipPath><clipPath class=\"axesclip\" id=\"clip8e537fx7\"><rect x=\"80\" y=\"0\" width=\"355.5\" height=\"900\"/></clipPath><clipPath class=\"axesclip\" id=\"clip8e537fx7y\"><rect x=\"80\" y=\"100\" width=\"355.5\" height=\"112.5\"/></clipPath><clipPath class=\"axesclip\" id=\"clip8e537fx7y2\"><rect x=\"80\" y=\"100\" width=\"355.5\" height=\"112.5\"/></clipPath><clipPath class=\"axesclip\" id=\"clip8e537fx7y3\"><rect x=\"80\" y=\"302.5\" width=\"355.5\" height=\"112.5\"/></clipPath><clipPath class=\"axesclip\" id=\"clip8e537fx7y4\"><rect x=\"80\" y=\"302.5\" width=\"355.5\" height=\"112.5\"/></clipPath><clipPath class=\"axesclip\" id=\"clip8e537fx7y5\"><rect x=\"80\" y=\"505\" width=\"355.5\" height=\"112.5\"/></clipPath><clipPath class=\"axesclip\" id=\"clip8e537fx7y6\"><rect x=\"80\" y=\"505\" width=\"355.5\" height=\"112.5\"/></clipPath><clipPath class=\"axesclip\" id=\"clip8e537fx7y7\"><rect x=\"80\" y=\"707.5\" width=\"355.5\" height=\"112.5\"/></clipPath><clipPath class=\"axesclip\" id=\"clip8e537fx7y8\"><rect x=\"80\" y=\"707.5\" width=\"355.5\" height=\"112.5\"/></clipPath><clipPath class=\"axesclip\" id=\"clip8e537fx8\"><rect x=\"514.5\" y=\"0\" width=\"355.49999999999994\" height=\"900\"/></clipPath><clipPath class=\"axesclip\" id=\"clip8e537fx8y\"><rect x=\"514.5\" y=\"100\" width=\"355.49999999999994\" height=\"112.5\"/></clipPath><clipPath class=\"axesclip\" id=\"clip8e537fx8y2\"><rect x=\"514.5\" y=\"100\" width=\"355.49999999999994\" height=\"112.5\"/></clipPath><clipPath class=\"axesclip\" id=\"clip8e537fx8y3\"><rect x=\"514.5\" y=\"302.5\" width=\"355.49999999999994\" height=\"112.5\"/></clipPath><clipPath class=\"axesclip\" id=\"clip8e537fx8y4\"><rect x=\"514.5\" y=\"302.5\" width=\"355.49999999999994\" height=\"112.5\"/></clipPath><clipPath class=\"axesclip\" id=\"clip8e537fx8y5\"><rect x=\"514.5\" y=\"505\" width=\"355.49999999999994\" height=\"112.5\"/></clipPath><clipPath class=\"axesclip\" id=\"clip8e537fx8y6\"><rect x=\"514.5\" y=\"505\" width=\"355.49999999999994\" height=\"112.5\"/></clipPath><clipPath class=\"axesclip\" id=\"clip8e537fx8y7\"><rect x=\"514.5\" y=\"707.5\" width=\"355.49999999999994\" height=\"112.5\"/></clipPath><clipPath class=\"axesclip\" id=\"clip8e537fx8y8\"><rect x=\"514.5\" y=\"707.5\" width=\"355.49999999999994\" height=\"112.5\"/></clipPath></g><g class=\"gradients\"/><g class=\"patterns\"/></defs><g class=\"bglayer\"><rect class=\"bg\" x=\"80\" y=\"100\" width=\"355.5\" height=\"112.5\" style=\"fill: rgb(229, 236, 246); fill-opacity: 1; stroke-width: 0;\"/><rect class=\"bg\" x=\"514.5\" y=\"100\" width=\"355.49999999999994\" height=\"112.5\" style=\"fill: rgb(229, 236, 246); fill-opacity: 1; stroke-width: 0;\"/><rect class=\"bg\" x=\"80\" y=\"302.5\" width=\"355.5\" height=\"112.5\" style=\"fill: rgb(229, 236, 246); fill-opacity: 1; stroke-width: 0;\"/><rect class=\"bg\" x=\"514.5\" y=\"302.5\" width=\"355.49999999999994\" height=\"112.5\" style=\"fill: rgb(229, 236, 246); fill-opacity: 1; stroke-width: 0;\"/><rect class=\"bg\" x=\"80\" y=\"505\" width=\"355.5\" height=\"112.5\" style=\"fill: rgb(229, 236, 246); fill-opacity: 1; stroke-width: 0;\"/><rect class=\"bg\" x=\"514.5\" y=\"505\" width=\"355.49999999999994\" height=\"112.5\" style=\"fill: rgb(229, 236, 246); fill-opacity: 1; stroke-width: 0;\"/><rect class=\"bg\" x=\"80\" y=\"707.5\" width=\"355.5\" height=\"112.5\" style=\"fill: rgb(229, 236, 246); fill-opacity: 1; stroke-width: 0;\"/><rect class=\"bg\" x=\"514.5\" y=\"707.5\" width=\"355.49999999999994\" height=\"112.5\" style=\"fill: rgb(229, 236, 246); fill-opacity: 1; stroke-width: 0;\"/></g><g class=\"layer-below\"><g class=\"imagelayer\"/><g class=\"shapelayer\"/></g><g class=\"cartesianlayer\"><g class=\"subplot xy\"><g class=\"layer-subplot\"><g class=\"shapelayer\"/><g class=\"imagelayer\"/></g><g class=\"minor-gridlayer\"><g class=\"x\"/><g class=\"y\"/></g><g class=\"gridlayer\"><g class=\"x\"><path class=\"xgrid crisp\" transform=\"translate(227.51,0)\" d=\"M0,100v112.5\" style=\"stroke: rgb(255, 255, 255); stroke-opacity: 1; stroke-width: 1px;\"/><path class=\"xgrid crisp\" transform=\"translate(353.5,0)\" d=\"M0,100v112.5\" style=\"stroke: rgb(255, 255, 255); stroke-opacity: 1; stroke-width: 1px;\"/></g><g class=\"y\"><path class=\"ygrid crisp\" transform=\"translate(0,199.9)\" d=\"M80,0h355.5\" style=\"stroke: rgb(255, 255, 255); stroke-opacity: 1; stroke-width: 1px;\"/><path class=\"ygrid crisp\" transform=\"translate(0,159.18)\" d=\"M80,0h355.5\" style=\"stroke: rgb(255, 255, 255); stroke-opacity: 1; stroke-width: 1px;\"/><path class=\"ygrid crisp\" transform=\"translate(0,118.46000000000001)\" d=\"M80,0h355.5\" style=\"stroke: rgb(255, 255, 255); stroke-opacity: 1; stroke-width: 1px;\"/></g></g><g class=\"zerolinelayer\"><path class=\"xzl zl crisp\" transform=\"translate(101.53,0)\" d=\"M0,100v112.5\" style=\"stroke: rgb(255, 255, 255); stroke-opacity: 1; stroke-width: 2px;\"/></g><path class=\"xlines-below\"/><path class=\"ylines-below\"/><g class=\"overlines-below\"/><g class=\"xaxislayer-below\"/><g class=\"yaxislayer-below\"/><g class=\"overaxes-below\"/><g class=\"plot\" transform=\"translate(80,100)\" clip-path=\"url(#clip8e537fxyplot)\"><g class=\"scatterlayer mlayer\"><g class=\"trace scatter trace94aa2b\" style=\"stroke-miterlimit: 2; opacity: 1;\"><g class=\"fills\"/><g class=\"errorbars\"/><g class=\"lines\"><path class=\"js-line\" d=\"M21.53,82.62L24.04,103.13L26.56,38.67L29.08,46L31.6,28.42L34.12,32.81L36.64,18.16L39.16,28.42L41.68,21.09L44.2,21.09L46.72,18.16L49.24,24.02L51.76,15.23L54.28,21.09L56.8,19.63L59.32,24.02L61.84,21.09L64.36,21.09L66.88,24.02L69.4,25.49L71.92,21.09L74.44,21.09L76.96,19.63L79.48,24.02L82,21.09L84.52,18.16L87.04,18.16L89.56,13.77L92.08,16.7L94.6,16.7L97.12,12.3L99.64,16.7L102.16,18.16L104.68,18.16L107.2,16.7L109.72,15.23L112.24,16.7L119.8,12.3L122.32,13.77L124.84,12.3L127.35,13.77L129.87,10.84L132.39,12.3L134.91,12.3L137.43,13.77L139.95,15.23L142.47,12.3L144.99,15.23L147.51,13.77L150.03,15.23L152.55,13.77L155.07,12.3L157.59,13.77L165.15,13.77L167.67,12.3L170.19,13.77L172.71,13.77L177.75,13.77L180.27,15.23L182.79,12.3L185.31,10.84L187.83,12.3L190.35,12.3L192.87,12.3L195.39,13.77L197.91,13.77L200.43,15.23L202.95,15.23L205.47,13.77L210.51,13.77L213.03,12.3L215.55,13.77L218.07,12.3L220.59,15.23L223.11,16.7L225.63,18.16L228.15,16.7L230.66,16.7L233.18,15.23L245.78,15.23L248.3,13.77L250.82,15.23L253.34,15.23L255.86,15.23L258.38,13.77L260.9,15.23L263.42,12.3L265.94,10.84L268.46,12.3L270.98,9.38L273.5,12.3L276.02,13.77L278.54,12.3L281.06,13.77L283.58,13.77L286.1,9.38L288.62,10.84L291.14,10.84L293.66,12.3L303.74,12.3L306.26,16.7L308.78,13.77L311.3,15.23L313.82,15.23L316.34,13.77L318.86,15.23L321.38,15.23L323.9,15.23L326.42,16.7L333.98,16.7\" style=\"vector-effect: none; fill: none; stroke: rgb(51, 102, 204); stroke-opacity: 1; stroke-width: 2px; opacity: 1;\"/></g><g class=\"points\"><path class=\"point\" transform=\"translate(21.53,82.62)\" d=\"M3,0A3,3 0 1,1 0,-3A3,3 0 0,1 3,0Z\" style=\"opacity: 1; stroke-width: 0px; fill: rgb(51, 102, 204); fill-opacity: 1;\"/><path class=\"point\" transform=\"translate(24.04,103.13)\" d=\"M3,0A3,3 0 1,1 0,-3A3,3 0 0,1 3,0Z\" style=\"opacity: 1; stroke-width: 0px; fill: rgb(51, 102, 204); fill-opacity: 1;\"/><path class=\"point\" transform=\"translate(26.56,38.67)\" d=\"M3,0A3,3 0 1,1 0,-3A3,3 0 0,1 3,0Z\" style=\"opacity: 1; stroke-width: 0px; fill: rgb(51, 102, 204); fill-opacity: 1;\"/><path class=\"point\" transform=\"translate(29.08,46)\" d=\"M3,0A3,3 0 1,1 0,-3A3,3 0 0,1 3,0Z\" style=\"opacity: 1; stroke-width: 0px; fill: rgb(51, 102, 204); fill-opacity: 1;\"/><path class=\"point\" transform=\"translate(31.6,28.42)\" d=\"M3,0A3,3 0 1,1 0,-3A3,3 0 0,1 3,0Z\" style=\"opacity: 1; stroke-width: 0px; fill: rgb(51, 102, 204); fill-opacity: 1;\"/><path class=\"point\" transform=\"translate(34.12,32.81)\" d=\"M3,0A3,3 0 1,1 0,-3A3,3 0 0,1 3,0Z\" style=\"opacity: 1; stroke-width: 0px; fill: rgb(51, 102, 204); fill-opacity: 1;\"/><path class=\"point\" transform=\"translate(36.64,18.16)\" d=\"M3,0A3,3 0 1,1 0,-3A3,3 0 0,1 3,0Z\" style=\"opacity: 1; stroke-width: 0px; fill: rgb(51, 102, 204); fill-opacity: 1;\"/><path class=\"point\" transform=\"translate(39.16,28.42)\" d=\"M3,0A3,3 0 1,1 0,-3A3,3 0 0,1 3,0Z\" style=\"opacity: 1; stroke-width: 0px; fill: rgb(51, 102, 204); fill-opacity: 1;\"/><path class=\"point\" transform=\"translate(41.68,21.09)\" d=\"M3,0A3,3 0 1,1 0,-3A3,3 0 0,1 3,0Z\" style=\"opacity: 1; stroke-width: 0px; fill: rgb(51, 102, 204); fill-opacity: 1;\"/><path class=\"point\" transform=\"translate(44.2,21.09)\" d=\"M3,0A3,3 0 1,1 0,-3A3,3 0 0,1 3,0Z\" style=\"opacity: 1; stroke-width: 0px; fill: rgb(51, 102, 204); fill-opacity: 1;\"/><path class=\"point\" transform=\"translate(46.72,18.16)\" d=\"M3,0A3,3 0 1,1 0,-3A3,3 0 0,1 3,0Z\" style=\"opacity: 1; stroke-width: 0px; fill: rgb(51, 102, 204); fill-opacity: 1;\"/><path class=\"point\" transform=\"translate(49.24,24.02)\" d=\"M3,0A3,3 0 1,1 0,-3A3,3 0 0,1 3,0Z\" style=\"opacity: 1; stroke-width: 0px; fill: rgb(51, 102, 204); fill-opacity: 1;\"/><path class=\"point\" transform=\"translate(51.76,15.23)\" d=\"M3,0A3,3 0 1,1 0,-3A3,3 0 0,1 3,0Z\" style=\"opacity: 1; stroke-width: 0px; fill: rgb(51, 102, 204); fill-opacity: 1;\"/><path class=\"point\" transform=\"translate(54.28,21.09)\" d=\"M3,0A3,3 0 1,1 0,-3A3,3 0 0,1 3,0Z\" style=\"opacity: 1; stroke-width: 0px; fill: rgb(51, 102, 204); fill-opacity: 1;\"/><path class=\"point\" transform=\"translate(56.8,19.63)\" d=\"M3,0A3,3 0 1,1 0,-3A3,3 0 0,1 3,0Z\" style=\"opacity: 1; stroke-width: 0px; fill: rgb(51, 102, 204); fill-opacity: 1;\"/><path class=\"point\" transform=\"translate(59.32,24.02)\" d=\"M3,0A3,3 0 1,1 0,-3A3,3 0 0,1 3,0Z\" style=\"opacity: 1; stroke-width: 0px; fill: rgb(51, 102, 204); fill-opacity: 1;\"/><path class=\"point\" transform=\"translate(61.84,21.09)\" d=\"M3,0A3,3 0 1,1 0,-3A3,3 0 0,1 3,0Z\" style=\"opacity: 1; stroke-width: 0px; fill: rgb(51, 102, 204); fill-opacity: 1;\"/><path class=\"point\" transform=\"translate(64.36,21.09)\" d=\"M3,0A3,3 0 1,1 0,-3A3,3 0 0,1 3,0Z\" style=\"opacity: 1; stroke-width: 0px; fill: rgb(51, 102, 204); fill-opacity: 1;\"/><path class=\"point\" transform=\"translate(66.88,24.02)\" d=\"M3,0A3,3 0 1,1 0,-3A3,3 0 0,1 3,0Z\" style=\"opacity: 1; stroke-width: 0px; fill: rgb(51, 102, 204); fill-opacity: 1;\"/><path class=\"point\" transform=\"translate(69.4,25.49)\" d=\"M3,0A3,3 0 1,1 0,-3A3,3 0 0,1 3,0Z\" style=\"opacity: 1; stroke-width: 0px; fill: rgb(51, 102, 204); fill-opacity: 1;\"/><path class=\"point\" transform=\"translate(71.92,21.09)\" d=\"M3,0A3,3 0 1,1 0,-3A3,3 0 0,1 3,0Z\" style=\"opacity: 1; stroke-width: 0px; fill: rgb(51, 102, 204); fill-opacity: 1;\"/><path class=\"point\" transform=\"translate(74.44,21.09)\" d=\"M3,0A3,3 0 1,1 0,-3A3,3 0 0,1 3,0Z\" style=\"opacity: 1; stroke-width: 0px; fill: rgb(51, 102, 204); fill-opacity: 1;\"/><path class=\"point\" transform=\"translate(76.96,19.63)\" d=\"M3,0A3,3 0 1,1 0,-3A3,3 0 0,1 3,0Z\" style=\"opacity: 1; stroke-width: 0px; fill: rgb(51, 102, 204); fill-opacity: 1;\"/><path class=\"point\" transform=\"translate(79.48,24.02)\" d=\"M3,0A3,3 0 1,1 0,-3A3,3 0 0,1 3,0Z\" style=\"opacity: 1; stroke-width: 0px; fill: rgb(51, 102, 204); fill-opacity: 1;\"/><path class=\"point\" transform=\"translate(82,21.09)\" d=\"M3,0A3,3 0 1,1 0,-3A3,3 0 0,1 3,0Z\" style=\"opacity: 1; stroke-width: 0px; fill: rgb(51, 102, 204); fill-opacity: 1;\"/><path class=\"point\" transform=\"translate(84.52,18.16)\" d=\"M3,0A3,3 0 1,1 0,-3A3,3 0 0,1 3,0Z\" style=\"opacity: 1; stroke-width: 0px; fill: rgb(51, 102, 204); fill-opacity: 1;\"/><path class=\"point\" transform=\"translate(87.04,18.16)\" d=\"M3,0A3,3 0 1,1 0,-3A3,3 0 0,1 3,0Z\" style=\"opacity: 1; stroke-width: 0px; fill: rgb(51, 102, 204); fill-opacity: 1;\"/><path class=\"point\" transform=\"translate(89.56,13.77)\" d=\"M3,0A3,3 0 1,1 0,-3A3,3 0 0,1 3,0Z\" style=\"opacity: 1; stroke-width: 0px; fill: rgb(51, 102, 204); fill-opacity: 1;\"/><path class=\"point\" transform=\"translate(92.08,16.7)\" d=\"M3,0A3,3 0 1,1 0,-3A3,3 0 0,1 3,0Z\" style=\"opacity: 1; stroke-width: 0px; fill: rgb(51, 102, 204); fill-opacity: 1;\"/><path class=\"point\" transform=\"translate(94.6,16.7)\" d=\"M3,0A3,3 0 1,1 0,-3A3,3 0 0,1 3,0Z\" style=\"opacity: 1; stroke-width: 0px; fill: rgb(51, 102, 204); fill-opacity: 1;\"/><path class=\"point\" transform=\"translate(97.12,12.3)\" d=\"M3,0A3,3 0 1,1 0,-3A3,3 0 0,1 3,0Z\" style=\"opacity: 1; stroke-width: 0px; fill: rgb(51, 102, 204); fill-opacity: 1;\"/><path class=\"point\" transform=\"translate(99.64,16.7)\" d=\"M3,0A3,3 0 1,1 0,-3A3,3 0 0,1 3,0Z\" style=\"opacity: 1; stroke-width: 0px; fill: rgb(51, 102, 204); fill-opacity: 1;\"/><path class=\"point\" transform=\"translate(102.16,18.16)\" d=\"M3,0A3,3 0 1,1 0,-3A3,3 0 0,1 3,0Z\" style=\"opacity: 1; stroke-width: 0px; fill: rgb(51, 102, 204); fill-opacity: 1;\"/><path class=\"point\" transform=\"translate(104.68,18.16)\" d=\"M3,0A3,3 0 1,1 0,-3A3,3 0 0,1 3,0Z\" style=\"opacity: 1; stroke-width: 0px; fill: rgb(51, 102, 204); fill-opacity: 1;\"/><path class=\"point\" transform=\"translate(107.2,16.7)\" d=\"M3,0A3,3 0 1,1 0,-3A3,3 0 0,1 3,0Z\" style=\"opacity: 1; stroke-width: 0px; fill: rgb(51, 102, 204); fill-opacity: 1;\"/><path class=\"point\" transform=\"translate(109.72,15.23)\" d=\"M3,0A3,3 0 1,1 0,-3A3,3 0 0,1 3,0Z\" style=\"opacity: 1; stroke-width: 0px; fill: rgb(51, 102, 204); fill-opacity: 1;\"/><path class=\"point\" transform=\"translate(112.24,16.7)\" d=\"M3,0A3,3 0 1,1 0,-3A3,3 0 0,1 3,0Z\" style=\"opacity: 1; stroke-width: 0px; fill: rgb(51, 102, 204); fill-opacity: 1;\"/><path class=\"point\" transform=\"translate(114.76,15.23)\" d=\"M3,0A3,3 0 1,1 0,-3A3,3 0 0,1 3,0Z\" style=\"opacity: 1; stroke-width: 0px; fill: rgb(51, 102, 204); fill-opacity: 1;\"/><path class=\"point\" transform=\"translate(117.28,13.77)\" d=\"M3,0A3,3 0 1,1 0,-3A3,3 0 0,1 3,0Z\" style=\"opacity: 1; stroke-width: 0px; fill: rgb(51, 102, 204); fill-opacity: 1;\"/><path class=\"point\" transform=\"translate(119.8,12.3)\" d=\"M3,0A3,3 0 1,1 0,-3A3,3 0 0,1 3,0Z\" style=\"opacity: 1; stroke-width: 0px; fill: rgb(51, 102, 204); fill-opacity: 1;\"/><path class=\"point\" transform=\"translate(122.32,13.77)\" d=\"M3,0A3,3 0 1,1 0,-3A3,3 0 0,1 3,0Z\" style=\"opacity: 1; stroke-width: 0px; fill: rgb(51, 102, 204); fill-opacity: 1;\"/><path class=\"point\" transform=\"translate(124.84,12.3)\" d=\"M3,0A3,3 0 1,1 0,-3A3,3 0 0,1 3,0Z\" style=\"opacity: 1; stroke-width: 0px; fill: rgb(51, 102, 204); fill-opacity: 1;\"/><path class=\"point\" transform=\"translate(127.35,13.77)\" d=\"M3,0A3,3 0 1,1 0,-3A3,3 0 0,1 3,0Z\" style=\"opacity: 1; stroke-width: 0px; fill: rgb(51, 102, 204); fill-opacity: 1;\"/><path class=\"point\" transform=\"translate(129.87,10.84)\" d=\"M3,0A3,3 0 1,1 0,-3A3,3 0 0,1 3,0Z\" style=\"opacity: 1; stroke-width: 0px; fill: rgb(51, 102, 204); fill-opacity: 1;\"/><path class=\"point\" transform=\"translate(132.39,12.3)\" d=\"M3,0A3,3 0 1,1 0,-3A3,3 0 0,1 3,0Z\" style=\"opacity: 1; stroke-width: 0px; fill: rgb(51, 102, 204); fill-opacity: 1;\"/><path class=\"point\" transform=\"translate(134.91,12.3)\" d=\"M3,0A3,3 0 1,1 0,-3A3,3 0 0,1 3,0Z\" style=\"opacity: 1; stroke-width: 0px; fill: rgb(51, 102, 204); fill-opacity: 1;\"/><path class=\"point\" transform=\"translate(137.43,13.77)\" d=\"M3,0A3,3 0 1,1 0,-3A3,3 0 0,1 3,0Z\" style=\"opacity: 1; stroke-width: 0px; fill: rgb(51, 102, 204); fill-opacity: 1;\"/><path class=\"point\" transform=\"translate(139.95,15.23)\" d=\"M3,0A3,3 0 1,1 0,-3A3,3 0 0,1 3,0Z\" style=\"opacity: 1; stroke-width: 0px; fill: rgb(51, 102, 204); fill-opacity: 1;\"/><path class=\"point\" transform=\"translate(142.47,12.3)\" d=\"M3,0A3,3 0 1,1 0,-3A3,3 0 0,1 3,0Z\" style=\"opacity: 1; stroke-width: 0px; fill: rgb(51, 102, 204); fill-opacity: 1;\"/><path class=\"point\" transform=\"translate(144.99,15.23)\" d=\"M3,0A3,3 0 1,1 0,-3A3,3 0 0,1 3,0Z\" style=\"opacity: 1; stroke-width: 0px; fill: rgb(51, 102, 204); fill-opacity: 1;\"/><path class=\"point\" transform=\"translate(147.51,13.77)\" d=\"M3,0A3,3 0 1,1 0,-3A3,3 0 0,1 3,0Z\" style=\"opacity: 1; stroke-width: 0px; fill: rgb(51, 102, 204); fill-opacity: 1;\"/><path class=\"point\" transform=\"translate(150.03,15.23)\" d=\"M3,0A3,3 0 1,1 0,-3A3,3 0 0,1 3,0Z\" style=\"opacity: 1; stroke-width: 0px; fill: rgb(51, 102, 204); fill-opacity: 1;\"/><path class=\"point\" transform=\"translate(152.55,13.77)\" d=\"M3,0A3,3 0 1,1 0,-3A3,3 0 0,1 3,0Z\" style=\"opacity: 1; stroke-width: 0px; fill: rgb(51, 102, 204); fill-opacity: 1;\"/><path class=\"point\" transform=\"translate(155.07,12.3)\" d=\"M3,0A3,3 0 1,1 0,-3A3,3 0 0,1 3,0Z\" style=\"opacity: 1; stroke-width: 0px; fill: rgb(51, 102, 204); fill-opacity: 1;\"/><path class=\"point\" transform=\"translate(157.59,13.77)\" d=\"M3,0A3,3 0 1,1 0,-3A3,3 0 0,1 3,0Z\" style=\"opacity: 1; stroke-width: 0px; fill: rgb(51, 102, 204); fill-opacity: 1;\"/><path class=\"point\" transform=\"translate(160.11,13.77)\" d=\"M3,0A3,3 0 1,1 0,-3A3,3 0 0,1 3,0Z\" style=\"opacity: 1; stroke-width: 0px; fill: rgb(51, 102, 204); fill-opacity: 1;\"/><path class=\"point\" transform=\"translate(162.63,13.77)\" d=\"M3,0A3,3 0 1,1 0,-3A3,3 0 0,1 3,0Z\" style=\"opacity: 1; stroke-width: 0px; fill: rgb(51, 102, 204); fill-opacity: 1;\"/><path class=\"point\" transform=\"translate(165.15,13.77)\" d=\"M3,0A3,3 0 1,1 0,-3A3,3 0 0,1 3,0Z\" style=\"opacity: 1; stroke-width: 0px; fill: rgb(51, 102, 204); fill-opacity: 1;\"/><path class=\"point\" transform=\"translate(167.67,12.3)\" d=\"M3,0A3,3 0 1,1 0,-3A3,3 0 0,1 3,0Z\" style=\"opacity: 1; stroke-width: 0px; fill: rgb(51, 102, 204); fill-opacity: 1;\"/><path class=\"point\" transform=\"translate(170.19,13.77)\" d=\"M3,0A3,3 0 1,1 0,-3A3,3 0 0,1 3,0Z\" style=\"opacity: 1; stroke-width: 0px; fill: rgb(51, 102, 204); fill-opacity: 1;\"/><path class=\"point\" transform=\"translate(172.71,13.77)\" d=\"M3,0A3,3 0 1,1 0,-3A3,3 0 0,1 3,0Z\" style=\"opacity: 1; stroke-width: 0px; fill: rgb(51, 102, 204); fill-opacity: 1;\"/><path class=\"point\" transform=\"translate(175.23,13.77)\" d=\"M3,0A3,3 0 1,1 0,-3A3,3 0 0,1 3,0Z\" style=\"opacity: 1; stroke-width: 0px; fill: rgb(51, 102, 204); fill-opacity: 1;\"/><path class=\"point\" transform=\"translate(177.75,13.77)\" d=\"M3,0A3,3 0 1,1 0,-3A3,3 0 0,1 3,0Z\" style=\"opacity: 1; stroke-width: 0px; fill: rgb(51, 102, 204); fill-opacity: 1;\"/><path class=\"point\" transform=\"translate(180.27,15.23)\" d=\"M3,0A3,3 0 1,1 0,-3A3,3 0 0,1 3,0Z\" style=\"opacity: 1; stroke-width: 0px; fill: rgb(51, 102, 204); fill-opacity: 1;\"/><path class=\"point\" transform=\"translate(182.79,12.3)\" d=\"M3,0A3,3 0 1,1 0,-3A3,3 0 0,1 3,0Z\" style=\"opacity: 1; stroke-width: 0px; fill: rgb(51, 102, 204); fill-opacity: 1;\"/><path class=\"point\" transform=\"translate(185.31,10.84)\" d=\"M3,0A3,3 0 1,1 0,-3A3,3 0 0,1 3,0Z\" style=\"opacity: 1; stroke-width: 0px; fill: rgb(51, 102, 204); fill-opacity: 1;\"/><path class=\"point\" transform=\"translate(187.83,12.3)\" d=\"M3,0A3,3 0 1,1 0,-3A3,3 0 0,1 3,0Z\" style=\"opacity: 1; stroke-width: 0px; fill: rgb(51, 102, 204); fill-opacity: 1;\"/><path class=\"point\" transform=\"translate(190.35,12.3)\" d=\"M3,0A3,3 0 1,1 0,-3A3,3 0 0,1 3,0Z\" style=\"opacity: 1; stroke-width: 0px; fill: rgb(51, 102, 204); fill-opacity: 1;\"/><path class=\"point\" transform=\"translate(192.87,12.3)\" d=\"M3,0A3,3 0 1,1 0,-3A3,3 0 0,1 3,0Z\" style=\"opacity: 1; stroke-width: 0px; fill: rgb(51, 102, 204); fill-opacity: 1;\"/><path class=\"point\" transform=\"translate(195.39,13.77)\" d=\"M3,0A3,3 0 1,1 0,-3A3,3 0 0,1 3,0Z\" style=\"opacity: 1; stroke-width: 0px; fill: rgb(51, 102, 204); fill-opacity: 1;\"/><path class=\"point\" transform=\"translate(197.91,13.77)\" d=\"M3,0A3,3 0 1,1 0,-3A3,3 0 0,1 3,0Z\" style=\"opacity: 1; stroke-width: 0px; fill: rgb(51, 102, 204); fill-opacity: 1;\"/><path class=\"point\" transform=\"translate(200.43,15.23)\" d=\"M3,0A3,3 0 1,1 0,-3A3,3 0 0,1 3,0Z\" style=\"opacity: 1; stroke-width: 0px; fill: rgb(51, 102, 204); fill-opacity: 1;\"/><path class=\"point\" transform=\"translate(202.95,15.23)\" d=\"M3,0A3,3 0 1,1 0,-3A3,3 0 0,1 3,0Z\" style=\"opacity: 1; stroke-width: 0px; fill: rgb(51, 102, 204); fill-opacity: 1;\"/><path class=\"point\" transform=\"translate(205.47,13.77)\" d=\"M3,0A3,3 0 1,1 0,-3A3,3 0 0,1 3,0Z\" style=\"opacity: 1; stroke-width: 0px; fill: rgb(51, 102, 204); fill-opacity: 1;\"/><path class=\"point\" transform=\"translate(207.99,13.77)\" d=\"M3,0A3,3 0 1,1 0,-3A3,3 0 0,1 3,0Z\" style=\"opacity: 1; stroke-width: 0px; fill: rgb(51, 102, 204); fill-opacity: 1;\"/><path class=\"point\" transform=\"translate(210.51,13.77)\" d=\"M3,0A3,3 0 1,1 0,-3A3,3 0 0,1 3,0Z\" style=\"opacity: 1; stroke-width: 0px; fill: rgb(51, 102, 204); fill-opacity: 1;\"/><path class=\"point\" transform=\"translate(213.03,12.3)\" d=\"M3,0A3,3 0 1,1 0,-3A3,3 0 0,1 3,0Z\" style=\"opacity: 1; stroke-width: 0px; fill: rgb(51, 102, 204); fill-opacity: 1;\"/><path class=\"point\" transform=\"translate(215.55,13.77)\" d=\"M3,0A3,3 0 1,1 0,-3A3,3 0 0,1 3,0Z\" style=\"opacity: 1; stroke-width: 0px; fill: rgb(51, 102, 204); fill-opacity: 1;\"/><path class=\"point\" transform=\"translate(218.07,12.3)\" d=\"M3,0A3,3 0 1,1 0,-3A3,3 0 0,1 3,0Z\" style=\"opacity: 1; stroke-width: 0px; fill: rgb(51, 102, 204); fill-opacity: 1;\"/><path class=\"point\" transform=\"translate(220.59,15.23)\" d=\"M3,0A3,3 0 1,1 0,-3A3,3 0 0,1 3,0Z\" style=\"opacity: 1; stroke-width: 0px; fill: rgb(51, 102, 204); fill-opacity: 1;\"/><path class=\"point\" transform=\"translate(223.11,16.7)\" d=\"M3,0A3,3 0 1,1 0,-3A3,3 0 0,1 3,0Z\" style=\"opacity: 1; stroke-width: 0px; fill: rgb(51, 102, 204); fill-opacity: 1;\"/><path class=\"point\" transform=\"translate(225.63,18.16)\" d=\"M3,0A3,3 0 1,1 0,-3A3,3 0 0,1 3,0Z\" style=\"opacity: 1; stroke-width: 0px; fill: rgb(51, 102, 204); fill-opacity: 1;\"/><path class=\"point\" transform=\"translate(228.15,16.7)\" d=\"M3,0A3,3 0 1,1 0,-3A3,3 0 0,1 3,0Z\" style=\"opacity: 1; stroke-width: 0px; fill: rgb(51, 102, 204); fill-opacity: 1;\"/><path class=\"point\" transform=\"translate(230.66,16.7)\" d=\"M3,0A3,3 0 1,1 0,-3A3,3 0 0,1 3,0Z\" style=\"opacity: 1; stroke-width: 0px; fill: rgb(51, 102, 204); fill-opacity: 1;\"/><path class=\"point\" transform=\"translate(233.18,15.23)\" d=\"M3,0A3,3 0 1,1 0,-3A3,3 0 0,1 3,0Z\" style=\"opacity: 1; stroke-width: 0px; fill: rgb(51, 102, 204); fill-opacity: 1;\"/><path class=\"point\" transform=\"translate(235.7,15.23)\" d=\"M3,0A3,3 0 1,1 0,-3A3,3 0 0,1 3,0Z\" style=\"opacity: 1; stroke-width: 0px; fill: rgb(51, 102, 204); fill-opacity: 1;\"/><path class=\"point\" transform=\"translate(238.22,15.23)\" d=\"M3,0A3,3 0 1,1 0,-3A3,3 0 0,1 3,0Z\" style=\"opacity: 1; stroke-width: 0px; fill: rgb(51, 102, 204); fill-opacity: 1;\"/><path class=\"point\" transform=\"translate(240.74,15.23)\" d=\"M3,0A3,3 0 1,1 0,-3A3,3 0 0,1 3,0Z\" style=\"opacity: 1; stroke-width: 0px; fill: rgb(51, 102, 204); fill-opacity: 1;\"/><path class=\"point\" transform=\"translate(243.26,15.23)\" d=\"M3,0A3,3 0 1,1 0,-3A3,3 0 0,1 3,0Z\" style=\"opacity: 1; stroke-width: 0px; fill: rgb(51, 102, 204); fill-opacity: 1;\"/><path class=\"point\" transform=\"translate(245.78,15.23)\" d=\"M3,0A3,3 0 1,1 0,-3A3,3 0 0,1 3,0Z\" style=\"opacity: 1; stroke-width: 0px; fill: rgb(51, 102, 204); fill-opacity: 1;\"/><path class=\"point\" transform=\"translate(248.3,13.77)\" d=\"M3,0A3,3 0 1,1 0,-3A3,3 0 0,1 3,0Z\" style=\"opacity: 1; stroke-width: 0px; fill: rgb(51, 102, 204); fill-opacity: 1;\"/><path class=\"point\" transform=\"translate(250.82,15.23)\" d=\"M3,0A3,3 0 1,1 0,-3A3,3 0 0,1 3,0Z\" style=\"opacity: 1; stroke-width: 0px; fill: rgb(51, 102, 204); fill-opacity: 1;\"/><path class=\"point\" transform=\"translate(253.34,15.23)\" d=\"M3,0A3,3 0 1,1 0,-3A3,3 0 0,1 3,0Z\" style=\"opacity: 1; stroke-width: 0px; fill: rgb(51, 102, 204); fill-opacity: 1;\"/><path class=\"point\" transform=\"translate(255.86,15.23)\" d=\"M3,0A3,3 0 1,1 0,-3A3,3 0 0,1 3,0Z\" style=\"opacity: 1; stroke-width: 0px; fill: rgb(51, 102, 204); fill-opacity: 1;\"/><path class=\"point\" transform=\"translate(258.38,13.77)\" d=\"M3,0A3,3 0 1,1 0,-3A3,3 0 0,1 3,0Z\" style=\"opacity: 1; stroke-width: 0px; fill: rgb(51, 102, 204); fill-opacity: 1;\"/><path class=\"point\" transform=\"translate(260.9,15.23)\" d=\"M3,0A3,3 0 1,1 0,-3A3,3 0 0,1 3,0Z\" style=\"opacity: 1; stroke-width: 0px; fill: rgb(51, 102, 204); fill-opacity: 1;\"/><path class=\"point\" transform=\"translate(263.42,12.3)\" d=\"M3,0A3,3 0 1,1 0,-3A3,3 0 0,1 3,0Z\" style=\"opacity: 1; stroke-width: 0px; fill: rgb(51, 102, 204); fill-opacity: 1;\"/><path class=\"point\" transform=\"translate(265.94,10.84)\" d=\"M3,0A3,3 0 1,1 0,-3A3,3 0 0,1 3,0Z\" style=\"opacity: 1; stroke-width: 0px; fill: rgb(51, 102, 204); fill-opacity: 1;\"/><path class=\"point\" transform=\"translate(268.46,12.3)\" d=\"M3,0A3,3 0 1,1 0,-3A3,3 0 0,1 3,0Z\" style=\"opacity: 1; stroke-width: 0px; fill: rgb(51, 102, 204); fill-opacity: 1;\"/><path class=\"point\" transform=\"translate(270.98,9.38)\" d=\"M3,0A3,3 0 1,1 0,-3A3,3 0 0,1 3,0Z\" style=\"opacity: 1; stroke-width: 0px; fill: rgb(51, 102, 204); fill-opacity: 1;\"/><path class=\"point\" transform=\"translate(273.5,12.3)\" d=\"M3,0A3,3 0 1,1 0,-3A3,3 0 0,1 3,0Z\" style=\"opacity: 1; stroke-width: 0px; fill: rgb(51, 102, 204); fill-opacity: 1;\"/><path class=\"point\" transform=\"translate(276.02,13.77)\" d=\"M3,0A3,3 0 1,1 0,-3A3,3 0 0,1 3,0Z\" style=\"opacity: 1; stroke-width: 0px; fill: rgb(51, 102, 204); fill-opacity: 1;\"/><path class=\"point\" transform=\"translate(278.54,12.3)\" d=\"M3,0A3,3 0 1,1 0,-3A3,3 0 0,1 3,0Z\" style=\"opacity: 1; stroke-width: 0px; fill: rgb(51, 102, 204); fill-opacity: 1;\"/><path class=\"point\" transform=\"translate(281.06,13.77)\" d=\"M3,0A3,3 0 1,1 0,-3A3,3 0 0,1 3,0Z\" style=\"opacity: 1; stroke-width: 0px; fill: rgb(51, 102, 204); fill-opacity: 1;\"/><path class=\"point\" transform=\"translate(283.58,13.77)\" d=\"M3,0A3,3 0 1,1 0,-3A3,3 0 0,1 3,0Z\" style=\"opacity: 1; stroke-width: 0px; fill: rgb(51, 102, 204); fill-opacity: 1;\"/><path class=\"point\" transform=\"translate(286.1,9.38)\" d=\"M3,0A3,3 0 1,1 0,-3A3,3 0 0,1 3,0Z\" style=\"opacity: 1; stroke-width: 0px; fill: rgb(51, 102, 204); fill-opacity: 1;\"/><path class=\"point\" transform=\"translate(288.62,10.84)\" d=\"M3,0A3,3 0 1,1 0,-3A3,3 0 0,1 3,0Z\" style=\"opacity: 1; stroke-width: 0px; fill: rgb(51, 102, 204); fill-opacity: 1;\"/><path class=\"point\" transform=\"translate(291.14,10.84)\" d=\"M3,0A3,3 0 1,1 0,-3A3,3 0 0,1 3,0Z\" style=\"opacity: 1; stroke-width: 0px; fill: rgb(51, 102, 204); fill-opacity: 1;\"/><path class=\"point\" transform=\"translate(293.66,12.3)\" d=\"M3,0A3,3 0 1,1 0,-3A3,3 0 0,1 3,0Z\" style=\"opacity: 1; stroke-width: 0px; fill: rgb(51, 102, 204); fill-opacity: 1;\"/><path class=\"point\" transform=\"translate(296.18,12.3)\" d=\"M3,0A3,3 0 1,1 0,-3A3,3 0 0,1 3,0Z\" style=\"opacity: 1; stroke-width: 0px; fill: rgb(51, 102, 204); fill-opacity: 1;\"/><path class=\"point\" transform=\"translate(298.7,12.3)\" d=\"M3,0A3,3 0 1,1 0,-3A3,3 0 0,1 3,0Z\" style=\"opacity: 1; stroke-width: 0px; fill: rgb(51, 102, 204); fill-opacity: 1;\"/><path class=\"point\" transform=\"translate(301.22,12.3)\" d=\"M3,0A3,3 0 1,1 0,-3A3,3 0 0,1 3,0Z\" style=\"opacity: 1; stroke-width: 0px; fill: rgb(51, 102, 204); fill-opacity: 1;\"/><path class=\"point\" transform=\"translate(303.74,12.3)\" d=\"M3,0A3,3 0 1,1 0,-3A3,3 0 0,1 3,0Z\" style=\"opacity: 1; stroke-width: 0px; fill: rgb(51, 102, 204); fill-opacity: 1;\"/><path class=\"point\" transform=\"translate(306.26,16.7)\" d=\"M3,0A3,3 0 1,1 0,-3A3,3 0 0,1 3,0Z\" style=\"opacity: 1; stroke-width: 0px; fill: rgb(51, 102, 204); fill-opacity: 1;\"/><path class=\"point\" transform=\"translate(308.78,13.77)\" d=\"M3,0A3,3 0 1,1 0,-3A3,3 0 0,1 3,0Z\" style=\"opacity: 1; stroke-width: 0px; fill: rgb(51, 102, 204); fill-opacity: 1;\"/><path class=\"point\" transform=\"translate(311.3,15.23)\" d=\"M3,0A3,3 0 1,1 0,-3A3,3 0 0,1 3,0Z\" style=\"opacity: 1; stroke-width: 0px; fill: rgb(51, 102, 204); fill-opacity: 1;\"/><path class=\"point\" transform=\"translate(313.82,15.23)\" d=\"M3,0A3,3 0 1,1 0,-3A3,3 0 0,1 3,0Z\" style=\"opacity: 1; stroke-width: 0px; fill: rgb(51, 102, 204); fill-opacity: 1;\"/><path class=\"point\" transform=\"translate(316.34,13.77)\" d=\"M3,0A3,3 0 1,1 0,-3A3,3 0 0,1 3,0Z\" style=\"opacity: 1; stroke-width: 0px; fill: rgb(51, 102, 204); fill-opacity: 1;\"/><path class=\"point\" transform=\"translate(318.86,15.23)\" d=\"M3,0A3,3 0 1,1 0,-3A3,3 0 0,1 3,0Z\" style=\"opacity: 1; stroke-width: 0px; fill: rgb(51, 102, 204); fill-opacity: 1;\"/><path class=\"point\" transform=\"translate(321.38,15.23)\" d=\"M3,0A3,3 0 1,1 0,-3A3,3 0 0,1 3,0Z\" style=\"opacity: 1; stroke-width: 0px; fill: rgb(51, 102, 204); fill-opacity: 1;\"/><path class=\"point\" transform=\"translate(323.9,15.23)\" d=\"M3,0A3,3 0 1,1 0,-3A3,3 0 0,1 3,0Z\" style=\"opacity: 1; stroke-width: 0px; fill: rgb(51, 102, 204); fill-opacity: 1;\"/><path class=\"point\" transform=\"translate(326.42,16.7)\" d=\"M3,0A3,3 0 1,1 0,-3A3,3 0 0,1 3,0Z\" style=\"opacity: 1; stroke-width: 0px; fill: rgb(51, 102, 204); fill-opacity: 1;\"/><path class=\"point\" transform=\"translate(328.94,16.7)\" d=\"M3,0A3,3 0 1,1 0,-3A3,3 0 0,1 3,0Z\" style=\"opacity: 1; stroke-width: 0px; fill: rgb(51, 102, 204); fill-opacity: 1;\"/><path class=\"point\" transform=\"translate(331.46,16.7)\" d=\"M3,0A3,3 0 1,1 0,-3A3,3 0 0,1 3,0Z\" style=\"opacity: 1; stroke-width: 0px; fill: rgb(51, 102, 204); fill-opacity: 1;\"/><path class=\"point\" transform=\"translate(333.98,16.7)\" d=\"M3,0A3,3 0 1,1 0,-3A3,3 0 0,1 3,0Z\" style=\"opacity: 1; stroke-width: 0px; fill: rgb(51, 102, 204); fill-opacity: 1;\"/></g><g class=\"text\"/></g></g></g><g class=\"overplot\"/><path class=\"xlines-above crisp\" d=\"M0,0\" style=\"fill: none;\"/><path class=\"ylines-above crisp\" d=\"M0,0\" style=\"fill: none;\"/><g class=\"overlines-above\"/><g class=\"xaxislayer-above\"><g class=\"xtick\"><text text-anchor=\"middle\" x=\"0\" y=\"225.5\" transform=\"translate(101.53,0)\" style=\"font-family: 'Open Sans', verdana, arial, sans-serif; font-size: 12px; fill: rgb(42, 63, 95); fill-opacity: 1; white-space: pre; opacity: 1;\">0</text></g><g class=\"xtick\"><text text-anchor=\"middle\" x=\"0\" y=\"225.5\" style=\"font-family: 'Open Sans', verdana, arial, sans-serif; font-size: 12px; fill: rgb(42, 63, 95); fill-opacity: 1; white-space: pre; opacity: 1;\" transform=\"translate(227.51,0)\">50</text></g><g class=\"xtick\"><text text-anchor=\"middle\" x=\"0\" y=\"225.5\" style=\"font-family: 'Open Sans', verdana, arial, sans-serif; font-size: 12px; fill: rgb(42, 63, 95); fill-opacity: 1; white-space: pre; opacity: 1;\" transform=\"translate(353.5,0)\">100</text></g></g><g class=\"yaxislayer-above\"><g class=\"ytick\"><text text-anchor=\"end\" x=\"79\" y=\"4.199999999999999\" transform=\"translate(0,199.9)\" style=\"font-family: 'Open Sans', verdana, arial, sans-serif; font-size: 12px; fill: rgb(42, 63, 95); fill-opacity: 1; white-space: pre; opacity: 1;\">0.78</text></g><g class=\"ytick\"><text text-anchor=\"end\" x=\"79\" y=\"4.199999999999999\" style=\"font-family: 'Open Sans', verdana, arial, sans-serif; font-size: 12px; fill: rgb(42, 63, 95); fill-opacity: 1; white-space: pre; opacity: 1;\" transform=\"translate(0,159.18)\">0.8</text></g><g class=\"ytick\"><text text-anchor=\"end\" x=\"79\" y=\"4.199999999999999\" style=\"font-family: 'Open Sans', verdana, arial, sans-serif; font-size: 12px; fill: rgb(42, 63, 95); fill-opacity: 1; white-space: pre; opacity: 1;\" transform=\"translate(0,118.46000000000001)\">0.82</text></g></g><g class=\"overaxes-above\"/></g><g class=\"subplot x2y2\"><g class=\"layer-subplot\"><g class=\"shapelayer\"/><g class=\"imagelayer\"/></g><g class=\"minor-gridlayer\"><g class=\"x2\"/><g class=\"y2\"/></g><g class=\"gridlayer\"><g class=\"x2\"><path class=\"x2grid crisp\" transform=\"translate(662.01,0)\" d=\"M0,100v112.5\" style=\"stroke: rgb(255, 255, 255); stroke-opacity: 1; stroke-width: 1px;\"/><path class=\"x2grid crisp\" transform=\"translate(788,0)\" d=\"M0,100v112.5\" style=\"stroke: rgb(255, 255, 255); stroke-opacity: 1; stroke-width: 1px;\"/></g><g class=\"y2\"><path class=\"y2grid crisp\" transform=\"translate(0,192.5)\" d=\"M514.5,0h355.49999999999994\" style=\"stroke: rgb(255, 255, 255); stroke-opacity: 1; stroke-width: 1px;\"/><path class=\"y2grid crisp\" transform=\"translate(0,153.39)\" d=\"M514.5,0h355.49999999999994\" style=\"stroke: rgb(255, 255, 255); stroke-opacity: 1; stroke-width: 1px;\"/><path class=\"y2grid crisp\" transform=\"translate(0,114.28)\" d=\"M514.5,0h355.49999999999994\" style=\"stroke: rgb(255, 255, 255); stroke-opacity: 1; stroke-width: 1px;\"/></g></g><g class=\"zerolinelayer\"><path class=\"x2zl zl crisp\" transform=\"translate(536.03,0)\" d=\"M0,100v112.5\" style=\"stroke: rgb(255, 255, 255); stroke-opacity: 1; stroke-width: 2px;\"/></g><path class=\"xlines-below\"/><path class=\"ylines-below\"/><g class=\"overlines-below\"/><g class=\"xaxislayer-below\"/><g class=\"yaxislayer-below\"/><g class=\"overaxes-below\"/><g class=\"plot\" transform=\"translate(514.5,100)\" clip-path=\"url(#clip8e537fx2y2plot)\"><g class=\"scatterlayer mlayer\"><g class=\"trace scatter trace41feab\" style=\"stroke-miterlimit: 2; opacity: 1;\"><g class=\"fills\"/><g class=\"errorbars\"/><g class=\"lines\"><path class=\"js-line\" d=\"M21.53,62.97L24.04,84.73L26.56,58.22L29.08,9.38L31.6,97.82L34.12,83.16L36.64,95.14L39.16,89.68L41.68,77.01L44.2,75.75L46.72,83.16L49.24,37.8L51.76,65.87L54.28,47.15L56.8,60.29L59.32,80.33L61.84,64.66L64.36,82.13L66.88,69.04L69.4,103.13L71.92,67.08L74.44,87.35L76.96,68.73L79.48,69.04L82,67.08L84.52,64.42L87.04,64.42L89.56,72.93L92.08,55.59L94.6,62.67L97.12,64.18L99.64,65.08L102.16,74.24L104.68,70.51L107.2,65.08L109.72,69.53L112.24,60.29L114.76,58.69L117.28,65.56L119.8,53.55L122.32,69.22L124.84,61.78L127.35,69.22L129.87,53.49L132.39,61.78L134.91,61.78L137.43,69.22L139.95,75.75L142.47,71.5L144.99,72L147.51,65.56L150.03,72L152.55,65.56L155.07,71.5L157.59,65.56L160.11,70.45L162.63,65.56L165.15,65.56L167.67,71.5L170.19,77.96L172.71,72.93L175.23,72.93L177.75,65.56L180.27,72L182.79,73.99L185.31,80.26L187.83,71.5L192.87,71.5L195.39,61.96L197.91,61.96L200.43,56.34L202.95,56.34L205.47,49.13L210.51,49.13L213.03,41.1L215.55,49.13L218.07,41.1L220.59,46.02L223.11,53.26L225.63,52.63L228.15,53.26L230.66,53.26L233.18,46.02L243.26,46.02L245.78,49.42L248.3,51.42L250.82,49.42L255.86,49.42L258.38,63.15L260.9,49.42L263.42,66.6L265.94,59.34L268.46,55.88L270.98,57.05L273.5,55.88L276.02,53.73L278.54,55.88L281.06,53.73L283.58,53.73L286.1,60.59L288.62,56.99L291.14,56.99L293.66,55.88L298.7,55.88L301.22,66.6L303.74,57.05L306.26,60.29L308.78,44.61L311.3,52.86L313.82,52.86L316.34,56.05L318.86,52.86L321.38,63.45L323.9,63.45L326.42,60.29L333.98,60.29\" style=\"vector-effect: none; fill: none; stroke: rgb(51, 102, 204); stroke-opacity: 1; stroke-width: 2px; opacity: 1;\"/></g><g class=\"points\"><path class=\"point\" transform=\"translate(21.53,62.97)\" d=\"M3,0A3,3 0 1,1 0,-3A3,3 0 0,1 3,0Z\" style=\"opacity: 1; stroke-width: 0px; fill: rgb(51, 102, 204); fill-opacity: 1;\"/><path class=\"point\" transform=\"translate(24.04,84.73)\" d=\"M3,0A3,3 0 1,1 0,-3A3,3 0 0,1 3,0Z\" style=\"opacity: 1; stroke-width: 0px; fill: rgb(51, 102, 204); fill-opacity: 1;\"/><path class=\"point\" transform=\"translate(26.56,58.22)\" d=\"M3,0A3,3 0 1,1 0,-3A3,3 0 0,1 3,0Z\" style=\"opacity: 1; stroke-width: 0px; fill: rgb(51, 102, 204); fill-opacity: 1;\"/><path class=\"point\" transform=\"translate(29.08,9.38)\" d=\"M3,0A3,3 0 1,1 0,-3A3,3 0 0,1 3,0Z\" style=\"opacity: 1; stroke-width: 0px; fill: rgb(51, 102, 204); fill-opacity: 1;\"/><path class=\"point\" transform=\"translate(31.6,97.82)\" d=\"M3,0A3,3 0 1,1 0,-3A3,3 0 0,1 3,0Z\" style=\"opacity: 1; stroke-width: 0px; fill: rgb(51, 102, 204); fill-opacity: 1;\"/><path class=\"point\" transform=\"translate(34.12,83.16)\" d=\"M3,0A3,3 0 1,1 0,-3A3,3 0 0,1 3,0Z\" style=\"opacity: 1; stroke-width: 0px; fill: rgb(51, 102, 204); fill-opacity: 1;\"/><path class=\"point\" transform=\"translate(36.64,95.14)\" d=\"M3,0A3,3 0 1,1 0,-3A3,3 0 0,1 3,0Z\" style=\"opacity: 1; stroke-width: 0px; fill: rgb(51, 102, 204); fill-opacity: 1;\"/><path class=\"point\" transform=\"translate(39.16,89.68)\" d=\"M3,0A3,3 0 1,1 0,-3A3,3 0 0,1 3,0Z\" style=\"opacity: 1; stroke-width: 0px; fill: rgb(51, 102, 204); fill-opacity: 1;\"/><path class=\"point\" transform=\"translate(41.68,77.01)\" d=\"M3,0A3,3 0 1,1 0,-3A3,3 0 0,1 3,0Z\" style=\"opacity: 1; stroke-width: 0px; fill: rgb(51, 102, 204); fill-opacity: 1;\"/><path class=\"point\" transform=\"translate(44.2,75.75)\" d=\"M3,0A3,3 0 1,1 0,-3A3,3 0 0,1 3,0Z\" style=\"opacity: 1; stroke-width: 0px; fill: rgb(51, 102, 204); fill-opacity: 1;\"/><path class=\"point\" transform=\"translate(46.72,83.16)\" d=\"M3,0A3,3 0 1,1 0,-3A3,3 0 0,1 3,0Z\" style=\"opacity: 1; stroke-width: 0px; fill: rgb(51, 102, 204); fill-opacity: 1;\"/><path class=\"point\" transform=\"translate(49.24,37.8)\" d=\"M3,0A3,3 0 1,1 0,-3A3,3 0 0,1 3,0Z\" style=\"opacity: 1; stroke-width: 0px; fill: rgb(51, 102, 204); fill-opacity: 1;\"/><path class=\"point\" transform=\"translate(51.76,65.87)\" d=\"M3,0A3,3 0 1,1 0,-3A3,3 0 0,1 3,0Z\" style=\"opacity: 1; stroke-width: 0px; fill: rgb(51, 102, 204); fill-opacity: 1;\"/><path class=\"point\" transform=\"translate(54.28,47.15)\" d=\"M3,0A3,3 0 1,1 0,-3A3,3 0 0,1 3,0Z\" style=\"opacity: 1; stroke-width: 0px; fill: rgb(51, 102, 204); fill-opacity: 1;\"/><path class=\"point\" transform=\"translate(56.8,60.29)\" d=\"M3,0A3,3 0 1,1 0,-3A3,3 0 0,1 3,0Z\" style=\"opacity: 1; stroke-width: 0px; fill: rgb(51, 102, 204); fill-opacity: 1;\"/><path class=\"point\" transform=\"translate(59.32,80.33)\" d=\"M3,0A3,3 0 1,1 0,-3A3,3 0 0,1 3,0Z\" style=\"opacity: 1; stroke-width: 0px; fill: rgb(51, 102, 204); fill-opacity: 1;\"/><path class=\"point\" transform=\"translate(61.84,64.66)\" d=\"M3,0A3,3 0 1,1 0,-3A3,3 0 0,1 3,0Z\" style=\"opacity: 1; stroke-width: 0px; fill: rgb(51, 102, 204); fill-opacity: 1;\"/><path class=\"point\" transform=\"translate(64.36,82.13)\" d=\"M3,0A3,3 0 1,1 0,-3A3,3 0 0,1 3,0Z\" style=\"opacity: 1; stroke-width: 0px; fill: rgb(51, 102, 204); fill-opacity: 1;\"/><path class=\"point\" transform=\"translate(66.88,69.04)\" d=\"M3,0A3,3 0 1,1 0,-3A3,3 0 0,1 3,0Z\" style=\"opacity: 1; stroke-width: 0px; fill: rgb(51, 102, 204); fill-opacity: 1;\"/><path class=\"point\" transform=\"translate(69.4,103.13)\" d=\"M3,0A3,3 0 1,1 0,-3A3,3 0 0,1 3,0Z\" style=\"opacity: 1; stroke-width: 0px; fill: rgb(51, 102, 204); fill-opacity: 1;\"/><path class=\"point\" transform=\"translate(71.92,67.08)\" d=\"M3,0A3,3 0 1,1 0,-3A3,3 0 0,1 3,0Z\" style=\"opacity: 1; stroke-width: 0px; fill: rgb(51, 102, 204); fill-opacity: 1;\"/><path class=\"point\" transform=\"translate(74.44,87.35)\" d=\"M3,0A3,3 0 1,1 0,-3A3,3 0 0,1 3,0Z\" style=\"opacity: 1; stroke-width: 0px; fill: rgb(51, 102, 204); fill-opacity: 1;\"/><path class=\"point\" transform=\"translate(76.96,68.73)\" d=\"M3,0A3,3 0 1,1 0,-3A3,3 0 0,1 3,0Z\" style=\"opacity: 1; stroke-width: 0px; fill: rgb(51, 102, 204); fill-opacity: 1;\"/><path class=\"point\" transform=\"translate(79.48,69.04)\" d=\"M3,0A3,3 0 1,1 0,-3A3,3 0 0,1 3,0Z\" style=\"opacity: 1; stroke-width: 0px; fill: rgb(51, 102, 204); fill-opacity: 1;\"/><path class=\"point\" transform=\"translate(82,67.08)\" d=\"M3,0A3,3 0 1,1 0,-3A3,3 0 0,1 3,0Z\" style=\"opacity: 1; stroke-width: 0px; fill: rgb(51, 102, 204); fill-opacity: 1;\"/><path class=\"point\" transform=\"translate(84.52,64.42)\" d=\"M3,0A3,3 0 1,1 0,-3A3,3 0 0,1 3,0Z\" style=\"opacity: 1; stroke-width: 0px; fill: rgb(51, 102, 204); fill-opacity: 1;\"/><path class=\"point\" transform=\"translate(87.04,64.42)\" d=\"M3,0A3,3 0 1,1 0,-3A3,3 0 0,1 3,0Z\" style=\"opacity: 1; stroke-width: 0px; fill: rgb(51, 102, 204); fill-opacity: 1;\"/><path class=\"point\" transform=\"translate(89.56,72.93)\" d=\"M3,0A3,3 0 1,1 0,-3A3,3 0 0,1 3,0Z\" style=\"opacity: 1; stroke-width: 0px; fill: rgb(51, 102, 204); fill-opacity: 1;\"/><path class=\"point\" transform=\"translate(92.08,55.59)\" d=\"M3,0A3,3 0 1,1 0,-3A3,3 0 0,1 3,0Z\" style=\"opacity: 1; stroke-width: 0px; fill: rgb(51, 102, 204); fill-opacity: 1;\"/><path class=\"point\" transform=\"translate(94.6,62.67)\" d=\"M3,0A3,3 0 1,1 0,-3A3,3 0 0,1 3,0Z\" style=\"opacity: 1; stroke-width: 0px; fill: rgb(51, 102, 204); fill-opacity: 1;\"/><path class=\"point\" transform=\"translate(97.12,64.18)\" d=\"M3,0A3,3 0 1,1 0,-3A3,3 0 0,1 3,0Z\" style=\"opacity: 1; stroke-width: 0px; fill: rgb(51, 102, 204); fill-opacity: 1;\"/><path class=\"point\" transform=\"translate(99.64,65.08)\" d=\"M3,0A3,3 0 1,1 0,-3A3,3 0 0,1 3,0Z\" style=\"opacity: 1; stroke-width: 0px; fill: rgb(51, 102, 204); fill-opacity: 1;\"/><path class=\"point\" transform=\"translate(102.16,74.24)\" d=\"M3,0A3,3 0 1,1 0,-3A3,3 0 0,1 3,0Z\" style=\"opacity: 1; stroke-width: 0px; fill: rgb(51, 102, 204); fill-opacity: 1;\"/><path class=\"point\" transform=\"translate(104.68,70.51)\" d=\"M3,0A3,3 0 1,1 0,-3A3,3 0 0,1 3,0Z\" style=\"opacity: 1; stroke-width: 0px; fill: rgb(51, 102, 204); fill-opacity: 1;\"/><path class=\"point\" transform=\"translate(107.2,65.08)\" d=\"M3,0A3,3 0 1,1 0,-3A3,3 0 0,1 3,0Z\" style=\"opacity: 1; stroke-width: 0px; fill: rgb(51, 102, 204); fill-opacity: 1;\"/><path class=\"point\" transform=\"translate(109.72,69.53)\" d=\"M3,0A3,3 0 1,1 0,-3A3,3 0 0,1 3,0Z\" style=\"opacity: 1; stroke-width: 0px; fill: rgb(51, 102, 204); fill-opacity: 1;\"/><path class=\"point\" transform=\"translate(112.24,60.29)\" d=\"M3,0A3,3 0 1,1 0,-3A3,3 0 0,1 3,0Z\" style=\"opacity: 1; stroke-width: 0px; fill: rgb(51, 102, 204); fill-opacity: 1;\"/><path class=\"point\" transform=\"translate(114.76,58.69)\" d=\"M3,0A3,3 0 1,1 0,-3A3,3 0 0,1 3,0Z\" style=\"opacity: 1; stroke-width: 0px; fill: rgb(51, 102, 204); fill-opacity: 1;\"/><path class=\"point\" transform=\"translate(117.28,65.56)\" d=\"M3,0A3,3 0 1,1 0,-3A3,3 0 0,1 3,0Z\" style=\"opacity: 1; stroke-width: 0px; fill: rgb(51, 102, 204); fill-opacity: 1;\"/><path class=\"point\" transform=\"translate(119.8,53.55)\" d=\"M3,0A3,3 0 1,1 0,-3A3,3 0 0,1 3,0Z\" style=\"opacity: 1; stroke-width: 0px; fill: rgb(51, 102, 204); fill-opacity: 1;\"/><path class=\"point\" transform=\"translate(122.32,69.22)\" d=\"M3,0A3,3 0 1,1 0,-3A3,3 0 0,1 3,0Z\" style=\"opacity: 1; stroke-width: 0px; fill: rgb(51, 102, 204); fill-opacity: 1;\"/><path class=\"point\" transform=\"translate(124.84,61.78)\" d=\"M3,0A3,3 0 1,1 0,-3A3,3 0 0,1 3,0Z\" style=\"opacity: 1; stroke-width: 0px; fill: rgb(51, 102, 204); fill-opacity: 1;\"/><path class=\"point\" transform=\"translate(127.35,69.22)\" d=\"M3,0A3,3 0 1,1 0,-3A3,3 0 0,1 3,0Z\" style=\"opacity: 1; stroke-width: 0px; fill: rgb(51, 102, 204); fill-opacity: 1;\"/><path class=\"point\" transform=\"translate(129.87,53.49)\" d=\"M3,0A3,3 0 1,1 0,-3A3,3 0 0,1 3,0Z\" style=\"opacity: 1; stroke-width: 0px; fill: rgb(51, 102, 204); fill-opacity: 1;\"/><path class=\"point\" transform=\"translate(132.39,61.78)\" d=\"M3,0A3,3 0 1,1 0,-3A3,3 0 0,1 3,0Z\" style=\"opacity: 1; stroke-width: 0px; fill: rgb(51, 102, 204); fill-opacity: 1;\"/><path class=\"point\" transform=\"translate(134.91,61.78)\" d=\"M3,0A3,3 0 1,1 0,-3A3,3 0 0,1 3,0Z\" style=\"opacity: 1; stroke-width: 0px; fill: rgb(51, 102, 204); fill-opacity: 1;\"/><path class=\"point\" transform=\"translate(137.43,69.22)\" d=\"M3,0A3,3 0 1,1 0,-3A3,3 0 0,1 3,0Z\" style=\"opacity: 1; stroke-width: 0px; fill: rgb(51, 102, 204); fill-opacity: 1;\"/><path class=\"point\" transform=\"translate(139.95,75.75)\" d=\"M3,0A3,3 0 1,1 0,-3A3,3 0 0,1 3,0Z\" style=\"opacity: 1; stroke-width: 0px; fill: rgb(51, 102, 204); fill-opacity: 1;\"/><path class=\"point\" transform=\"translate(142.47,71.5)\" d=\"M3,0A3,3 0 1,1 0,-3A3,3 0 0,1 3,0Z\" style=\"opacity: 1; stroke-width: 0px; fill: rgb(51, 102, 204); fill-opacity: 1;\"/><path class=\"point\" transform=\"translate(144.99,72)\" d=\"M3,0A3,3 0 1,1 0,-3A3,3 0 0,1 3,0Z\" style=\"opacity: 1; stroke-width: 0px; fill: rgb(51, 102, 204); fill-opacity: 1;\"/><path class=\"point\" transform=\"translate(147.51,65.56)\" d=\"M3,0A3,3 0 1,1 0,-3A3,3 0 0,1 3,0Z\" style=\"opacity: 1; stroke-width: 0px; fill: rgb(51, 102, 204); fill-opacity: 1;\"/><path class=\"point\" transform=\"translate(150.03,72)\" d=\"M3,0A3,3 0 1,1 0,-3A3,3 0 0,1 3,0Z\" style=\"opacity: 1; stroke-width: 0px; fill: rgb(51, 102, 204); fill-opacity: 1;\"/><path class=\"point\" transform=\"translate(152.55,65.56)\" d=\"M3,0A3,3 0 1,1 0,-3A3,3 0 0,1 3,0Z\" style=\"opacity: 1; stroke-width: 0px; fill: rgb(51, 102, 204); fill-opacity: 1;\"/><path class=\"point\" transform=\"translate(155.07,71.5)\" d=\"M3,0A3,3 0 1,1 0,-3A3,3 0 0,1 3,0Z\" style=\"opacity: 1; stroke-width: 0px; fill: rgb(51, 102, 204); fill-opacity: 1;\"/><path class=\"point\" transform=\"translate(157.59,65.56)\" d=\"M3,0A3,3 0 1,1 0,-3A3,3 0 0,1 3,0Z\" style=\"opacity: 1; stroke-width: 0px; fill: rgb(51, 102, 204); fill-opacity: 1;\"/><path class=\"point\" transform=\"translate(160.11,70.45)\" d=\"M3,0A3,3 0 1,1 0,-3A3,3 0 0,1 3,0Z\" style=\"opacity: 1; stroke-width: 0px; fill: rgb(51, 102, 204); fill-opacity: 1;\"/><path class=\"point\" transform=\"translate(162.63,65.56)\" d=\"M3,0A3,3 0 1,1 0,-3A3,3 0 0,1 3,0Z\" style=\"opacity: 1; stroke-width: 0px; fill: rgb(51, 102, 204); fill-opacity: 1;\"/><path class=\"point\" transform=\"translate(165.15,65.56)\" d=\"M3,0A3,3 0 1,1 0,-3A3,3 0 0,1 3,0Z\" style=\"opacity: 1; stroke-width: 0px; fill: rgb(51, 102, 204); fill-opacity: 1;\"/><path class=\"point\" transform=\"translate(167.67,71.5)\" d=\"M3,0A3,3 0 1,1 0,-3A3,3 0 0,1 3,0Z\" style=\"opacity: 1; stroke-width: 0px; fill: rgb(51, 102, 204); fill-opacity: 1;\"/><path class=\"point\" transform=\"translate(170.19,77.96)\" d=\"M3,0A3,3 0 1,1 0,-3A3,3 0 0,1 3,0Z\" style=\"opacity: 1; stroke-width: 0px; fill: rgb(51, 102, 204); fill-opacity: 1;\"/><path class=\"point\" transform=\"translate(172.71,72.93)\" d=\"M3,0A3,3 0 1,1 0,-3A3,3 0 0,1 3,0Z\" style=\"opacity: 1; stroke-width: 0px; fill: rgb(51, 102, 204); fill-opacity: 1;\"/><path class=\"point\" transform=\"translate(175.23,72.93)\" d=\"M3,0A3,3 0 1,1 0,-3A3,3 0 0,1 3,0Z\" style=\"opacity: 1; stroke-width: 0px; fill: rgb(51, 102, 204); fill-opacity: 1;\"/><path class=\"point\" transform=\"translate(177.75,65.56)\" d=\"M3,0A3,3 0 1,1 0,-3A3,3 0 0,1 3,0Z\" style=\"opacity: 1; stroke-width: 0px; fill: rgb(51, 102, 204); fill-opacity: 1;\"/><path class=\"point\" transform=\"translate(180.27,72)\" d=\"M3,0A3,3 0 1,1 0,-3A3,3 0 0,1 3,0Z\" style=\"opacity: 1; stroke-width: 0px; fill: rgb(51, 102, 204); fill-opacity: 1;\"/><path class=\"point\" transform=\"translate(182.79,73.99)\" d=\"M3,0A3,3 0 1,1 0,-3A3,3 0 0,1 3,0Z\" style=\"opacity: 1; stroke-width: 0px; fill: rgb(51, 102, 204); fill-opacity: 1;\"/><path class=\"point\" transform=\"translate(185.31,80.26)\" d=\"M3,0A3,3 0 1,1 0,-3A3,3 0 0,1 3,0Z\" style=\"opacity: 1; stroke-width: 0px; fill: rgb(51, 102, 204); fill-opacity: 1;\"/><path class=\"point\" transform=\"translate(187.83,71.5)\" d=\"M3,0A3,3 0 1,1 0,-3A3,3 0 0,1 3,0Z\" style=\"opacity: 1; stroke-width: 0px; fill: rgb(51, 102, 204); fill-opacity: 1;\"/><path class=\"point\" transform=\"translate(190.35,71.5)\" d=\"M3,0A3,3 0 1,1 0,-3A3,3 0 0,1 3,0Z\" style=\"opacity: 1; stroke-width: 0px; fill: rgb(51, 102, 204); fill-opacity: 1;\"/><path class=\"point\" transform=\"translate(192.87,71.5)\" d=\"M3,0A3,3 0 1,1 0,-3A3,3 0 0,1 3,0Z\" style=\"opacity: 1; stroke-width: 0px; fill: rgb(51, 102, 204); fill-opacity: 1;\"/><path class=\"point\" transform=\"translate(195.39,61.96)\" d=\"M3,0A3,3 0 1,1 0,-3A3,3 0 0,1 3,0Z\" style=\"opacity: 1; stroke-width: 0px; fill: rgb(51, 102, 204); fill-opacity: 1;\"/><path class=\"point\" transform=\"translate(197.91,61.96)\" d=\"M3,0A3,3 0 1,1 0,-3A3,3 0 0,1 3,0Z\" style=\"opacity: 1; stroke-width: 0px; fill: rgb(51, 102, 204); fill-opacity: 1;\"/><path class=\"point\" transform=\"translate(200.43,56.34)\" d=\"M3,0A3,3 0 1,1 0,-3A3,3 0 0,1 3,0Z\" style=\"opacity: 1; stroke-width: 0px; fill: rgb(51, 102, 204); fill-opacity: 1;\"/><path class=\"point\" transform=\"translate(202.95,56.34)\" d=\"M3,0A3,3 0 1,1 0,-3A3,3 0 0,1 3,0Z\" style=\"opacity: 1; stroke-width: 0px; fill: rgb(51, 102, 204); fill-opacity: 1;\"/><path class=\"point\" transform=\"translate(205.47,49.13)\" d=\"M3,0A3,3 0 1,1 0,-3A3,3 0 0,1 3,0Z\" style=\"opacity: 1; stroke-width: 0px; fill: rgb(51, 102, 204); fill-opacity: 1;\"/><path class=\"point\" transform=\"translate(207.99,49.13)\" d=\"M3,0A3,3 0 1,1 0,-3A3,3 0 0,1 3,0Z\" style=\"opacity: 1; stroke-width: 0px; fill: rgb(51, 102, 204); fill-opacity: 1;\"/><path class=\"point\" transform=\"translate(210.51,49.13)\" d=\"M3,0A3,3 0 1,1 0,-3A3,3 0 0,1 3,0Z\" style=\"opacity: 1; stroke-width: 0px; fill: rgb(51, 102, 204); fill-opacity: 1;\"/><path class=\"point\" transform=\"translate(213.03,41.1)\" d=\"M3,0A3,3 0 1,1 0,-3A3,3 0 0,1 3,0Z\" style=\"opacity: 1; stroke-width: 0px; fill: rgb(51, 102, 204); fill-opacity: 1;\"/><path class=\"point\" transform=\"translate(215.55,49.13)\" d=\"M3,0A3,3 0 1,1 0,-3A3,3 0 0,1 3,0Z\" style=\"opacity: 1; stroke-width: 0px; fill: rgb(51, 102, 204); fill-opacity: 1;\"/><path class=\"point\" transform=\"translate(218.07,41.1)\" d=\"M3,0A3,3 0 1,1 0,-3A3,3 0 0,1 3,0Z\" style=\"opacity: 1; stroke-width: 0px; fill: rgb(51, 102, 204); fill-opacity: 1;\"/><path class=\"point\" transform=\"translate(220.59,46.02)\" d=\"M3,0A3,3 0 1,1 0,-3A3,3 0 0,1 3,0Z\" style=\"opacity: 1; stroke-width: 0px; fill: rgb(51, 102, 204); fill-opacity: 1;\"/><path class=\"point\" transform=\"translate(223.11,53.26)\" d=\"M3,0A3,3 0 1,1 0,-3A3,3 0 0,1 3,0Z\" style=\"opacity: 1; stroke-width: 0px; fill: rgb(51, 102, 204); fill-opacity: 1;\"/><path class=\"point\" transform=\"translate(225.63,52.63)\" d=\"M3,0A3,3 0 1,1 0,-3A3,3 0 0,1 3,0Z\" style=\"opacity: 1; stroke-width: 0px; fill: rgb(51, 102, 204); fill-opacity: 1;\"/><path class=\"point\" transform=\"translate(228.15,53.26)\" d=\"M3,0A3,3 0 1,1 0,-3A3,3 0 0,1 3,0Z\" style=\"opacity: 1; stroke-width: 0px; fill: rgb(51, 102, 204); fill-opacity: 1;\"/><path class=\"point\" transform=\"translate(230.66,53.26)\" d=\"M3,0A3,3 0 1,1 0,-3A3,3 0 0,1 3,0Z\" style=\"opacity: 1; stroke-width: 0px; fill: rgb(51, 102, 204); fill-opacity: 1;\"/><path class=\"point\" transform=\"translate(233.18,46.02)\" d=\"M3,0A3,3 0 1,1 0,-3A3,3 0 0,1 3,0Z\" style=\"opacity: 1; stroke-width: 0px; fill: rgb(51, 102, 204); fill-opacity: 1;\"/><path class=\"point\" transform=\"translate(235.7,46.02)\" d=\"M3,0A3,3 0 1,1 0,-3A3,3 0 0,1 3,0Z\" style=\"opacity: 1; stroke-width: 0px; fill: rgb(51, 102, 204); fill-opacity: 1;\"/><path class=\"point\" transform=\"translate(238.22,46.02)\" d=\"M3,0A3,3 0 1,1 0,-3A3,3 0 0,1 3,0Z\" style=\"opacity: 1; stroke-width: 0px; fill: rgb(51, 102, 204); fill-opacity: 1;\"/><path class=\"point\" transform=\"translate(240.74,46.02)\" d=\"M3,0A3,3 0 1,1 0,-3A3,3 0 0,1 3,0Z\" style=\"opacity: 1; stroke-width: 0px; fill: rgb(51, 102, 204); fill-opacity: 1;\"/><path class=\"point\" transform=\"translate(243.26,46.02)\" d=\"M3,0A3,3 0 1,1 0,-3A3,3 0 0,1 3,0Z\" style=\"opacity: 1; stroke-width: 0px; fill: rgb(51, 102, 204); fill-opacity: 1;\"/><path class=\"point\" transform=\"translate(245.78,49.42)\" d=\"M3,0A3,3 0 1,1 0,-3A3,3 0 0,1 3,0Z\" style=\"opacity: 1; stroke-width: 0px; fill: rgb(51, 102, 204); fill-opacity: 1;\"/><path class=\"point\" transform=\"translate(248.3,51.42)\" d=\"M3,0A3,3 0 1,1 0,-3A3,3 0 0,1 3,0Z\" style=\"opacity: 1; stroke-width: 0px; fill: rgb(51, 102, 204); fill-opacity: 1;\"/><path class=\"point\" transform=\"translate(250.82,49.42)\" d=\"M3,0A3,3 0 1,1 0,-3A3,3 0 0,1 3,0Z\" style=\"opacity: 1; stroke-width: 0px; fill: rgb(51, 102, 204); fill-opacity: 1;\"/><path class=\"point\" transform=\"translate(253.34,49.42)\" d=\"M3,0A3,3 0 1,1 0,-3A3,3 0 0,1 3,0Z\" style=\"opacity: 1; stroke-width: 0px; fill: rgb(51, 102, 204); fill-opacity: 1;\"/><path class=\"point\" transform=\"translate(255.86,49.42)\" d=\"M3,0A3,3 0 1,1 0,-3A3,3 0 0,1 3,0Z\" style=\"opacity: 1; stroke-width: 0px; fill: rgb(51, 102, 204); fill-opacity: 1;\"/><path class=\"point\" transform=\"translate(258.38,63.15)\" d=\"M3,0A3,3 0 1,1 0,-3A3,3 0 0,1 3,0Z\" style=\"opacity: 1; stroke-width: 0px; fill: rgb(51, 102, 204); fill-opacity: 1;\"/><path class=\"point\" transform=\"translate(260.9,49.42)\" d=\"M3,0A3,3 0 1,1 0,-3A3,3 0 0,1 3,0Z\" style=\"opacity: 1; stroke-width: 0px; fill: rgb(51, 102, 204); fill-opacity: 1;\"/><path class=\"point\" transform=\"translate(263.42,66.6)\" d=\"M3,0A3,3 0 1,1 0,-3A3,3 0 0,1 3,0Z\" style=\"opacity: 1; stroke-width: 0px; fill: rgb(51, 102, 204); fill-opacity: 1;\"/><path class=\"point\" transform=\"translate(265.94,59.34)\" d=\"M3,0A3,3 0 1,1 0,-3A3,3 0 0,1 3,0Z\" style=\"opacity: 1; stroke-width: 0px; fill: rgb(51, 102, 204); fill-opacity: 1;\"/><path class=\"point\" transform=\"translate(268.46,55.88)\" d=\"M3,0A3,3 0 1,1 0,-3A3,3 0 0,1 3,0Z\" style=\"opacity: 1; stroke-width: 0px; fill: rgb(51, 102, 204); fill-opacity: 1;\"/><path class=\"point\" transform=\"translate(270.98,57.05)\" d=\"M3,0A3,3 0 1,1 0,-3A3,3 0 0,1 3,0Z\" style=\"opacity: 1; stroke-width: 0px; fill: rgb(51, 102, 204); fill-opacity: 1;\"/><path class=\"point\" transform=\"translate(273.5,55.88)\" d=\"M3,0A3,3 0 1,1 0,-3A3,3 0 0,1 3,0Z\" style=\"opacity: 1; stroke-width: 0px; fill: rgb(51, 102, 204); fill-opacity: 1;\"/><path class=\"point\" transform=\"translate(276.02,53.73)\" d=\"M3,0A3,3 0 1,1 0,-3A3,3 0 0,1 3,0Z\" style=\"opacity: 1; stroke-width: 0px; fill: rgb(51, 102, 204); fill-opacity: 1;\"/><path class=\"point\" transform=\"translate(278.54,55.88)\" d=\"M3,0A3,3 0 1,1 0,-3A3,3 0 0,1 3,0Z\" style=\"opacity: 1; stroke-width: 0px; fill: rgb(51, 102, 204); fill-opacity: 1;\"/><path class=\"point\" transform=\"translate(281.06,53.73)\" d=\"M3,0A3,3 0 1,1 0,-3A3,3 0 0,1 3,0Z\" style=\"opacity: 1; stroke-width: 0px; fill: rgb(51, 102, 204); fill-opacity: 1;\"/><path class=\"point\" transform=\"translate(283.58,53.73)\" d=\"M3,0A3,3 0 1,1 0,-3A3,3 0 0,1 3,0Z\" style=\"opacity: 1; stroke-width: 0px; fill: rgb(51, 102, 204); fill-opacity: 1;\"/><path class=\"point\" transform=\"translate(286.1,60.59)\" d=\"M3,0A3,3 0 1,1 0,-3A3,3 0 0,1 3,0Z\" style=\"opacity: 1; stroke-width: 0px; fill: rgb(51, 102, 204); fill-opacity: 1;\"/><path class=\"point\" transform=\"translate(288.62,56.99)\" d=\"M3,0A3,3 0 1,1 0,-3A3,3 0 0,1 3,0Z\" style=\"opacity: 1; stroke-width: 0px; fill: rgb(51, 102, 204); fill-opacity: 1;\"/><path class=\"point\" transform=\"translate(291.14,56.99)\" d=\"M3,0A3,3 0 1,1 0,-3A3,3 0 0,1 3,0Z\" style=\"opacity: 1; stroke-width: 0px; fill: rgb(51, 102, 204); fill-opacity: 1;\"/><path class=\"point\" transform=\"translate(293.66,55.88)\" d=\"M3,0A3,3 0 1,1 0,-3A3,3 0 0,1 3,0Z\" style=\"opacity: 1; stroke-width: 0px; fill: rgb(51, 102, 204); fill-opacity: 1;\"/><path class=\"point\" transform=\"translate(296.18,55.88)\" d=\"M3,0A3,3 0 1,1 0,-3A3,3 0 0,1 3,0Z\" style=\"opacity: 1; stroke-width: 0px; fill: rgb(51, 102, 204); fill-opacity: 1;\"/><path class=\"point\" transform=\"translate(298.7,55.88)\" d=\"M3,0A3,3 0 1,1 0,-3A3,3 0 0,1 3,0Z\" style=\"opacity: 1; stroke-width: 0px; fill: rgb(51, 102, 204); fill-opacity: 1;\"/><path class=\"point\" transform=\"translate(301.22,66.6)\" d=\"M3,0A3,3 0 1,1 0,-3A3,3 0 0,1 3,0Z\" style=\"opacity: 1; stroke-width: 0px; fill: rgb(51, 102, 204); fill-opacity: 1;\"/><path class=\"point\" transform=\"translate(303.74,57.05)\" d=\"M3,0A3,3 0 1,1 0,-3A3,3 0 0,1 3,0Z\" style=\"opacity: 1; stroke-width: 0px; fill: rgb(51, 102, 204); fill-opacity: 1;\"/><path class=\"point\" transform=\"translate(306.26,60.29)\" d=\"M3,0A3,3 0 1,1 0,-3A3,3 0 0,1 3,0Z\" style=\"opacity: 1; stroke-width: 0px; fill: rgb(51, 102, 204); fill-opacity: 1;\"/><path class=\"point\" transform=\"translate(308.78,44.61)\" d=\"M3,0A3,3 0 1,1 0,-3A3,3 0 0,1 3,0Z\" style=\"opacity: 1; stroke-width: 0px; fill: rgb(51, 102, 204); fill-opacity: 1;\"/><path class=\"point\" transform=\"translate(311.3,52.86)\" d=\"M3,0A3,3 0 1,1 0,-3A3,3 0 0,1 3,0Z\" style=\"opacity: 1; stroke-width: 0px; fill: rgb(51, 102, 204); fill-opacity: 1;\"/><path class=\"point\" transform=\"translate(313.82,52.86)\" d=\"M3,0A3,3 0 1,1 0,-3A3,3 0 0,1 3,0Z\" style=\"opacity: 1; stroke-width: 0px; fill: rgb(51, 102, 204); fill-opacity: 1;\"/><path class=\"point\" transform=\"translate(316.34,56.05)\" d=\"M3,0A3,3 0 1,1 0,-3A3,3 0 0,1 3,0Z\" style=\"opacity: 1; stroke-width: 0px; fill: rgb(51, 102, 204); fill-opacity: 1;\"/><path class=\"point\" transform=\"translate(318.86,52.86)\" d=\"M3,0A3,3 0 1,1 0,-3A3,3 0 0,1 3,0Z\" style=\"opacity: 1; stroke-width: 0px; fill: rgb(51, 102, 204); fill-opacity: 1;\"/><path class=\"point\" transform=\"translate(321.38,63.45)\" d=\"M3,0A3,3 0 1,1 0,-3A3,3 0 0,1 3,0Z\" style=\"opacity: 1; stroke-width: 0px; fill: rgb(51, 102, 204); fill-opacity: 1;\"/><path class=\"point\" transform=\"translate(323.9,63.45)\" d=\"M3,0A3,3 0 1,1 0,-3A3,3 0 0,1 3,0Z\" style=\"opacity: 1; stroke-width: 0px; fill: rgb(51, 102, 204); fill-opacity: 1;\"/><path class=\"point\" transform=\"translate(326.42,60.29)\" d=\"M3,0A3,3 0 1,1 0,-3A3,3 0 0,1 3,0Z\" style=\"opacity: 1; stroke-width: 0px; fill: rgb(51, 102, 204); fill-opacity: 1;\"/><path class=\"point\" transform=\"translate(328.94,60.29)\" d=\"M3,0A3,3 0 1,1 0,-3A3,3 0 0,1 3,0Z\" style=\"opacity: 1; stroke-width: 0px; fill: rgb(51, 102, 204); fill-opacity: 1;\"/><path class=\"point\" transform=\"translate(331.46,60.29)\" d=\"M3,0A3,3 0 1,1 0,-3A3,3 0 0,1 3,0Z\" style=\"opacity: 1; stroke-width: 0px; fill: rgb(51, 102, 204); fill-opacity: 1;\"/><path class=\"point\" transform=\"translate(333.98,60.29)\" d=\"M3,0A3,3 0 1,1 0,-3A3,3 0 0,1 3,0Z\" style=\"opacity: 1; stroke-width: 0px; fill: rgb(51, 102, 204); fill-opacity: 1;\"/></g><g class=\"text\"/></g></g></g><g class=\"overplot\"/><path class=\"xlines-above crisp\" d=\"M0,0\" style=\"fill: none;\"/><path class=\"ylines-above crisp\" d=\"M0,0\" style=\"fill: none;\"/><g class=\"overlines-above\"/><g class=\"xaxislayer-above\"><g class=\"x2tick\"><text text-anchor=\"middle\" x=\"0\" y=\"225.5\" transform=\"translate(536.03,0)\" style=\"font-family: 'Open Sans', verdana, arial, sans-serif; font-size: 12px; fill: rgb(42, 63, 95); fill-opacity: 1; white-space: pre; opacity: 1;\">0</text></g><g class=\"x2tick\"><text text-anchor=\"middle\" x=\"0\" y=\"225.5\" style=\"font-family: 'Open Sans', verdana, arial, sans-serif; font-size: 12px; fill: rgb(42, 63, 95); fill-opacity: 1; white-space: pre; opacity: 1;\" transform=\"translate(662.01,0)\">50</text></g><g class=\"x2tick\"><text text-anchor=\"middle\" x=\"0\" y=\"225.5\" style=\"font-family: 'Open Sans', verdana, arial, sans-serif; font-size: 12px; fill: rgb(42, 63, 95); fill-opacity: 1; white-space: pre; opacity: 1;\" transform=\"translate(788,0)\">100</text></g></g><g class=\"yaxislayer-above\"><g class=\"y2tick\"><text text-anchor=\"end\" x=\"513.5\" y=\"4.199999999999999\" transform=\"translate(0,192.5)\" style=\"font-family: 'Open Sans', verdana, arial, sans-serif; font-size: 12px; fill: rgb(42, 63, 95); fill-opacity: 1; white-space: pre; opacity: 1;\">0.03</text></g><g class=\"y2tick\"><text text-anchor=\"end\" x=\"513.5\" y=\"4.199999999999999\" style=\"font-family: 'Open Sans', verdana, arial, sans-serif; font-size: 12px; fill: rgb(42, 63, 95); fill-opacity: 1; white-space: pre; opacity: 1;\" transform=\"translate(0,153.39)\">0.035</text></g><g class=\"y2tick\"><text text-anchor=\"end\" x=\"513.5\" y=\"4.199999999999999\" style=\"font-family: 'Open Sans', verdana, arial, sans-serif; font-size: 12px; fill: rgb(42, 63, 95); fill-opacity: 1; white-space: pre; opacity: 1;\" transform=\"translate(0,114.28)\">0.04</text></g></g><g class=\"overaxes-above\"/></g><g class=\"subplot x3y3\"><g class=\"layer-subplot\"><g class=\"shapelayer\"/><g class=\"imagelayer\"/></g><g class=\"minor-gridlayer\"><g class=\"x3\"/><g class=\"y3\"/></g><g class=\"gridlayer\"><g class=\"x3\"><path class=\"x3grid crisp\" transform=\"translate(227.51,0)\" d=\"M0,302.5v112.5\" style=\"stroke: rgb(255, 255, 255); stroke-opacity: 1; stroke-width: 1px;\"/><path class=\"x3grid crisp\" transform=\"translate(353.5,0)\" d=\"M0,302.5v112.5\" style=\"stroke: rgb(255, 255, 255); stroke-opacity: 1; stroke-width: 1px;\"/></g><g class=\"y3\"><path class=\"y3grid crisp\" transform=\"translate(0,393.57)\" d=\"M80,0h355.5\" style=\"stroke: rgb(255, 255, 255); stroke-opacity: 1; stroke-width: 1px;\"/><path class=\"y3grid crisp\" transform=\"translate(0,343.87)\" d=\"M80,0h355.5\" style=\"stroke: rgb(255, 255, 255); stroke-opacity: 1; stroke-width: 1px;\"/></g></g><g class=\"zerolinelayer\"><path class=\"x3zl zl crisp\" transform=\"translate(101.53,0)\" d=\"M0,302.5v112.5\" style=\"stroke: rgb(255, 255, 255); stroke-opacity: 1; stroke-width: 2px;\"/></g><path class=\"xlines-below\"/><path class=\"ylines-below\"/><g class=\"overlines-below\"/><g class=\"xaxislayer-below\"/><g class=\"yaxislayer-below\"/><g class=\"overaxes-below\"/><g class=\"plot\" transform=\"translate(80,302.5)\" clip-path=\"url(#clip8e537fx3y3plot)\"><g class=\"scatterlayer mlayer\"><g class=\"trace scatter trace07862f\" style=\"stroke-miterlimit: 2; opacity: 1;\"><g class=\"fills\"/><g class=\"errorbars\"/><g class=\"lines\"><path class=\"js-line\" d=\"M21.53,102.8L24.04,103.12L26.56,49.98L29.08,59.09L31.6,41.5L36.64,22.16L39.16,23.77L41.68,23.35L44.2,15.41L46.72,14.77L49.24,17.51L51.76,12.22L54.28,14.35L56.8,17.94L59.32,18.83L64.36,19.69L66.88,26.44L71.92,17.92L74.44,17.4L79.48,20.45L82,19.72L84.52,12.91L87.04,14.72L89.56,10.8L92.08,11.32L94.6,13.68L97.12,10.49L99.64,18.82L102.16,18.8L104.68,18.9L107.2,16.78L109.72,14.39L112.24,14.84L114.76,16.48L117.28,14L119.8,11.89L122.32,13.85L124.84,11.67L127.35,13.85L129.87,9.38L132.39,11.67L134.91,11.67L137.43,13.85L139.95,15.93L142.47,13.51L144.99,16.08L147.51,15.85L152.55,15.85L155.07,13.51L157.59,14L160.11,16.59L162.63,14L165.15,14L167.67,13.51L170.19,15.59L175.23,15.76L177.75,16.76L180.27,18.84L182.79,16.15L185.31,15.66L187.83,16.27L197.91,16.93L200.43,15.49L202.95,17.42L205.47,15.24L207.99,15.24L210.51,13.14L218.07,12.94L220.59,15.74L223.11,17.92L225.63,18.24L228.15,17.92L230.66,15.16L233.18,15.74L235.7,12.97L255.86,12.83L258.38,14.21L260.9,12.83L263.42,13.78L265.94,11.6L268.46,12.03L270.98,11.33L273.5,12.03L281.06,12.37L283.58,12.37L286.1,11.28L288.62,11.71L296.18,11.95L298.7,14.79L301.22,11.78L303.74,14.71L306.26,15.71L308.78,13.16L313.82,13.36L316.34,12.94L318.86,13.36L321.38,15.28L333.98,15.71\" style=\"vector-effect: none; fill: none; stroke: rgb(255, 127, 3); stroke-opacity: 1; stroke-width: 2px; opacity: 1;\"/></g><g class=\"points\"><path class=\"point\" transform=\"translate(21.53,102.8)\" d=\"M3,0A3,3 0 1,1 0,-3A3,3 0 0,1 3,0Z\" style=\"opacity: 1; stroke-width: 0px; fill: rgb(255, 127, 3); fill-opacity: 1;\"/><path class=\"point\" transform=\"translate(24.04,103.12)\" d=\"M3,0A3,3 0 1,1 0,-3A3,3 0 0,1 3,0Z\" style=\"opacity: 1; stroke-width: 0px; fill: rgb(255, 127, 3); fill-opacity: 1;\"/><path class=\"point\" transform=\"translate(26.56,49.98)\" d=\"M3,0A3,3 0 1,1 0,-3A3,3 0 0,1 3,0Z\" style=\"opacity: 1; stroke-width: 0px; fill: rgb(255, 127, 3); fill-opacity: 1;\"/><path class=\"point\" transform=\"translate(29.08,59.09)\" d=\"M3,0A3,3 0 1,1 0,-3A3,3 0 0,1 3,0Z\" style=\"opacity: 1; stroke-width: 0px; fill: rgb(255, 127, 3); fill-opacity: 1;\"/><path class=\"point\" transform=\"translate(31.6,41.5)\" d=\"M3,0A3,3 0 1,1 0,-3A3,3 0 0,1 3,0Z\" style=\"opacity: 1; stroke-width: 0px; fill: rgb(255, 127, 3); fill-opacity: 1;\"/><path class=\"point\" transform=\"translate(34.12,32.07)\" d=\"M3,0A3,3 0 1,1 0,-3A3,3 0 0,1 3,0Z\" style=\"opacity: 1; stroke-width: 0px; fill: rgb(255, 127, 3); fill-opacity: 1;\"/><path class=\"point\" transform=\"translate(36.64,22.16)\" d=\"M3,0A3,3 0 1,1 0,-3A3,3 0 0,1 3,0Z\" style=\"opacity: 1; stroke-width: 0px; fill: rgb(255, 127, 3); fill-opacity: 1;\"/><path class=\"point\" transform=\"translate(39.16,23.77)\" d=\"M3,0A3,3 0 1,1 0,-3A3,3 0 0,1 3,0Z\" style=\"opacity: 1; stroke-width: 0px; fill: rgb(255, 127, 3); fill-opacity: 1;\"/><path class=\"point\" transform=\"translate(41.68,23.35)\" d=\"M3,0A3,3 0 1,1 0,-3A3,3 0 0,1 3,0Z\" style=\"opacity: 1; stroke-width: 0px; fill: rgb(255, 127, 3); fill-opacity: 1;\"/><path class=\"point\" transform=\"translate(44.2,15.41)\" d=\"M3,0A3,3 0 1,1 0,-3A3,3 0 0,1 3,0Z\" style=\"opacity: 1; stroke-width: 0px; fill: rgb(255, 127, 3); fill-opacity: 1;\"/><path class=\"point\" transform=\"translate(46.72,14.77)\" d=\"M3,0A3,3 0 1,1 0,-3A3,3 0 0,1 3,0Z\" style=\"opacity: 1; stroke-width: 0px; fill: rgb(255, 127, 3); fill-opacity: 1;\"/><path class=\"point\" transform=\"translate(49.24,17.51)\" d=\"M3,0A3,3 0 1,1 0,-3A3,3 0 0,1 3,0Z\" style=\"opacity: 1; stroke-width: 0px; fill: rgb(255, 127, 3); fill-opacity: 1;\"/><path class=\"point\" transform=\"translate(51.76,12.22)\" d=\"M3,0A3,3 0 1,1 0,-3A3,3 0 0,1 3,0Z\" style=\"opacity: 1; stroke-width: 0px; fill: rgb(255, 127, 3); fill-opacity: 1;\"/><path class=\"point\" transform=\"translate(54.28,14.35)\" d=\"M3,0A3,3 0 1,1 0,-3A3,3 0 0,1 3,0Z\" style=\"opacity: 1; stroke-width: 0px; fill: rgb(255, 127, 3); fill-opacity: 1;\"/><path class=\"point\" transform=\"translate(56.8,17.94)\" d=\"M3,0A3,3 0 1,1 0,-3A3,3 0 0,1 3,0Z\" style=\"opacity: 1; stroke-width: 0px; fill: rgb(255, 127, 3); fill-opacity: 1;\"/><path class=\"point\" transform=\"translate(59.32,18.83)\" d=\"M3,0A3,3 0 1,1 0,-3A3,3 0 0,1 3,0Z\" style=\"opacity: 1; stroke-width: 0px; fill: rgb(255, 127, 3); fill-opacity: 1;\"/><path class=\"point\" transform=\"translate(61.84,19.65)\" d=\"M3,0A3,3 0 1,1 0,-3A3,3 0 0,1 3,0Z\" style=\"opacity: 1; stroke-width: 0px; fill: rgb(255, 127, 3); fill-opacity: 1;\"/><path class=\"point\" transform=\"translate(64.36,19.69)\" d=\"M3,0A3,3 0 1,1 0,-3A3,3 0 0,1 3,0Z\" style=\"opacity: 1; stroke-width: 0px; fill: rgb(255, 127, 3); fill-opacity: 1;\"/><path class=\"point\" transform=\"translate(66.88,26.44)\" d=\"M3,0A3,3 0 1,1 0,-3A3,3 0 0,1 3,0Z\" style=\"opacity: 1; stroke-width: 0px; fill: rgb(255, 127, 3); fill-opacity: 1;\"/><path class=\"point\" transform=\"translate(69.4,22.41)\" d=\"M3,0A3,3 0 1,1 0,-3A3,3 0 0,1 3,0Z\" style=\"opacity: 1; stroke-width: 0px; fill: rgb(255, 127, 3); fill-opacity: 1;\"/><path class=\"point\" transform=\"translate(71.92,17.92)\" d=\"M3,0A3,3 0 1,1 0,-3A3,3 0 0,1 3,0Z\" style=\"opacity: 1; stroke-width: 0px; fill: rgb(255, 127, 3); fill-opacity: 1;\"/><path class=\"point\" transform=\"translate(74.44,17.4)\" d=\"M3,0A3,3 0 1,1 0,-3A3,3 0 0,1 3,0Z\" style=\"opacity: 1; stroke-width: 0px; fill: rgb(255, 127, 3); fill-opacity: 1;\"/><path class=\"point\" transform=\"translate(76.96,19.38)\" d=\"M3,0A3,3 0 1,1 0,-3A3,3 0 0,1 3,0Z\" style=\"opacity: 1; stroke-width: 0px; fill: rgb(255, 127, 3); fill-opacity: 1;\"/><path class=\"point\" transform=\"translate(79.48,20.45)\" d=\"M3,0A3,3 0 1,1 0,-3A3,3 0 0,1 3,0Z\" style=\"opacity: 1; stroke-width: 0px; fill: rgb(255, 127, 3); fill-opacity: 1;\"/><path class=\"point\" transform=\"translate(82,19.72)\" d=\"M3,0A3,3 0 1,1 0,-3A3,3 0 0,1 3,0Z\" style=\"opacity: 1; stroke-width: 0px; fill: rgb(255, 127, 3); fill-opacity: 1;\"/><path class=\"point\" transform=\"translate(84.52,12.91)\" d=\"M3,0A3,3 0 1,1 0,-3A3,3 0 0,1 3,0Z\" style=\"opacity: 1; stroke-width: 0px; fill: rgb(255, 127, 3); fill-opacity: 1;\"/><path class=\"point\" transform=\"translate(87.04,14.72)\" d=\"M3,0A3,3 0 1,1 0,-3A3,3 0 0,1 3,0Z\" style=\"opacity: 1; stroke-width: 0px; fill: rgb(255, 127, 3); fill-opacity: 1;\"/><path class=\"point\" transform=\"translate(89.56,10.8)\" d=\"M3,0A3,3 0 1,1 0,-3A3,3 0 0,1 3,0Z\" style=\"opacity: 1; stroke-width: 0px; fill: rgb(255, 127, 3); fill-opacity: 1;\"/><path class=\"point\" transform=\"translate(92.08,11.32)\" d=\"M3,0A3,3 0 1,1 0,-3A3,3 0 0,1 3,0Z\" style=\"opacity: 1; stroke-width: 0px; fill: rgb(255, 127, 3); fill-opacity: 1;\"/><path class=\"point\" transform=\"translate(94.6,13.68)\" d=\"M3,0A3,3 0 1,1 0,-3A3,3 0 0,1 3,0Z\" style=\"opacity: 1; stroke-width: 0px; fill: rgb(255, 127, 3); fill-opacity: 1;\"/><path class=\"point\" transform=\"translate(97.12,10.49)\" d=\"M3,0A3,3 0 1,1 0,-3A3,3 0 0,1 3,0Z\" style=\"opacity: 1; stroke-width: 0px; fill: rgb(255, 127, 3); fill-opacity: 1;\"/><path class=\"point\" transform=\"translate(99.64,18.82)\" d=\"M3,0A3,3 0 1,1 0,-3A3,3 0 0,1 3,0Z\" style=\"opacity: 1; stroke-width: 0px; fill: rgb(255, 127, 3); fill-opacity: 1;\"/><path class=\"point\" transform=\"translate(102.16,18.8)\" d=\"M3,0A3,3 0 1,1 0,-3A3,3 0 0,1 3,0Z\" style=\"opacity: 1; stroke-width: 0px; fill: rgb(255, 127, 3); fill-opacity: 1;\"/><path class=\"point\" transform=\"translate(104.68,18.9)\" d=\"M3,0A3,3 0 1,1 0,-3A3,3 0 0,1 3,0Z\" style=\"opacity: 1; stroke-width: 0px; fill: rgb(255, 127, 3); fill-opacity: 1;\"/><path class=\"point\" transform=\"translate(107.2,16.78)\" d=\"M3,0A3,3 0 1,1 0,-3A3,3 0 0,1 3,0Z\" style=\"opacity: 1; stroke-width: 0px; fill: rgb(255, 127, 3); fill-opacity: 1;\"/><path class=\"point\" transform=\"translate(109.72,14.39)\" d=\"M3,0A3,3 0 1,1 0,-3A3,3 0 0,1 3,0Z\" style=\"opacity: 1; stroke-width: 0px; fill: rgb(255, 127, 3); fill-opacity: 1;\"/><path class=\"point\" transform=\"translate(112.24,14.84)\" d=\"M3,0A3,3 0 1,1 0,-3A3,3 0 0,1 3,0Z\" style=\"opacity: 1; stroke-width: 0px; fill: rgb(255, 127, 3); fill-opacity: 1;\"/><path class=\"point\" transform=\"translate(114.76,16.48)\" d=\"M3,0A3,3 0 1,1 0,-3A3,3 0 0,1 3,0Z\" style=\"opacity: 1; stroke-width: 0px; fill: rgb(255, 127, 3); fill-opacity: 1;\"/><path class=\"point\" transform=\"translate(117.28,14)\" d=\"M3,0A3,3 0 1,1 0,-3A3,3 0 0,1 3,0Z\" style=\"opacity: 1; stroke-width: 0px; fill: rgb(255, 127, 3); fill-opacity: 1;\"/><path class=\"point\" transform=\"translate(119.8,11.89)\" d=\"M3,0A3,3 0 1,1 0,-3A3,3 0 0,1 3,0Z\" style=\"opacity: 1; stroke-width: 0px; fill: rgb(255, 127, 3); fill-opacity: 1;\"/><path class=\"point\" transform=\"translate(122.32,13.85)\" d=\"M3,0A3,3 0 1,1 0,-3A3,3 0 0,1 3,0Z\" style=\"opacity: 1; stroke-width: 0px; fill: rgb(255, 127, 3); fill-opacity: 1;\"/><path class=\"point\" transform=\"translate(124.84,11.67)\" d=\"M3,0A3,3 0 1,1 0,-3A3,3 0 0,1 3,0Z\" style=\"opacity: 1; stroke-width: 0px; fill: rgb(255, 127, 3); fill-opacity: 1;\"/><path class=\"point\" transform=\"translate(127.35,13.85)\" d=\"M3,0A3,3 0 1,1 0,-3A3,3 0 0,1 3,0Z\" style=\"opacity: 1; stroke-width: 0px; fill: rgb(255, 127, 3); fill-opacity: 1;\"/><path class=\"point\" transform=\"translate(129.87,9.38)\" d=\"M3,0A3,3 0 1,1 0,-3A3,3 0 0,1 3,0Z\" style=\"opacity: 1; stroke-width: 0px; fill: rgb(255, 127, 3); fill-opacity: 1;\"/><path class=\"point\" transform=\"translate(132.39,11.67)\" d=\"M3,0A3,3 0 1,1 0,-3A3,3 0 0,1 3,0Z\" style=\"opacity: 1; stroke-width: 0px; fill: rgb(255, 127, 3); fill-opacity: 1;\"/><path class=\"point\" transform=\"translate(134.91,11.67)\" d=\"M3,0A3,3 0 1,1 0,-3A3,3 0 0,1 3,0Z\" style=\"opacity: 1; stroke-width: 0px; fill: rgb(255, 127, 3); fill-opacity: 1;\"/><path class=\"point\" transform=\"translate(137.43,13.85)\" d=\"M3,0A3,3 0 1,1 0,-3A3,3 0 0,1 3,0Z\" style=\"opacity: 1; stroke-width: 0px; fill: rgb(255, 127, 3); fill-opacity: 1;\"/><path class=\"point\" transform=\"translate(139.95,15.93)\" d=\"M3,0A3,3 0 1,1 0,-3A3,3 0 0,1 3,0Z\" style=\"opacity: 1; stroke-width: 0px; fill: rgb(255, 127, 3); fill-opacity: 1;\"/><path class=\"point\" transform=\"translate(142.47,13.51)\" d=\"M3,0A3,3 0 1,1 0,-3A3,3 0 0,1 3,0Z\" style=\"opacity: 1; stroke-width: 0px; fill: rgb(255, 127, 3); fill-opacity: 1;\"/><path class=\"point\" transform=\"translate(144.99,16.08)\" d=\"M3,0A3,3 0 1,1 0,-3A3,3 0 0,1 3,0Z\" style=\"opacity: 1; stroke-width: 0px; fill: rgb(255, 127, 3); fill-opacity: 1;\"/><path class=\"point\" transform=\"translate(147.51,15.85)\" d=\"M3,0A3,3 0 1,1 0,-3A3,3 0 0,1 3,0Z\" style=\"opacity: 1; stroke-width: 0px; fill: rgb(255, 127, 3); fill-opacity: 1;\"/><path class=\"point\" transform=\"translate(150.03,16.08)\" d=\"M3,0A3,3 0 1,1 0,-3A3,3 0 0,1 3,0Z\" style=\"opacity: 1; stroke-width: 0px; fill: rgb(255, 127, 3); fill-opacity: 1;\"/><path class=\"point\" transform=\"translate(152.55,15.85)\" d=\"M3,0A3,3 0 1,1 0,-3A3,3 0 0,1 3,0Z\" style=\"opacity: 1; stroke-width: 0px; fill: rgb(255, 127, 3); fill-opacity: 1;\"/><path class=\"point\" transform=\"translate(155.07,13.51)\" d=\"M3,0A3,3 0 1,1 0,-3A3,3 0 0,1 3,0Z\" style=\"opacity: 1; stroke-width: 0px; fill: rgb(255, 127, 3); fill-opacity: 1;\"/><path class=\"point\" transform=\"translate(157.59,14)\" d=\"M3,0A3,3 0 1,1 0,-3A3,3 0 0,1 3,0Z\" style=\"opacity: 1; stroke-width: 0px; fill: rgb(255, 127, 3); fill-opacity: 1;\"/><path class=\"point\" transform=\"translate(160.11,16.59)\" d=\"M3,0A3,3 0 1,1 0,-3A3,3 0 0,1 3,0Z\" style=\"opacity: 1; stroke-width: 0px; fill: rgb(255, 127, 3); fill-opacity: 1;\"/><path class=\"point\" transform=\"translate(162.63,14)\" d=\"M3,0A3,3 0 1,1 0,-3A3,3 0 0,1 3,0Z\" style=\"opacity: 1; stroke-width: 0px; fill: rgb(255, 127, 3); fill-opacity: 1;\"/><path class=\"point\" transform=\"translate(165.15,14)\" d=\"M3,0A3,3 0 1,1 0,-3A3,3 0 0,1 3,0Z\" style=\"opacity: 1; stroke-width: 0px; fill: rgb(255, 127, 3); fill-opacity: 1;\"/><path class=\"point\" transform=\"translate(167.67,13.51)\" d=\"M3,0A3,3 0 1,1 0,-3A3,3 0 0,1 3,0Z\" style=\"opacity: 1; stroke-width: 0px; fill: rgb(255, 127, 3); fill-opacity: 1;\"/><path class=\"point\" transform=\"translate(170.19,15.59)\" d=\"M3,0A3,3 0 1,1 0,-3A3,3 0 0,1 3,0Z\" style=\"opacity: 1; stroke-width: 0px; fill: rgb(255, 127, 3); fill-opacity: 1;\"/><path class=\"point\" transform=\"translate(172.71,15.76)\" d=\"M3,0A3,3 0 1,1 0,-3A3,3 0 0,1 3,0Z\" style=\"opacity: 1; stroke-width: 0px; fill: rgb(255, 127, 3); fill-opacity: 1;\"/><path class=\"point\" transform=\"translate(175.23,15.76)\" d=\"M3,0A3,3 0 1,1 0,-3A3,3 0 0,1 3,0Z\" style=\"opacity: 1; stroke-width: 0px; fill: rgb(255, 127, 3); fill-opacity: 1;\"/><path class=\"point\" transform=\"translate(177.75,16.76)\" d=\"M3,0A3,3 0 1,1 0,-3A3,3 0 0,1 3,0Z\" style=\"opacity: 1; stroke-width: 0px; fill: rgb(255, 127, 3); fill-opacity: 1;\"/><path class=\"point\" transform=\"translate(180.27,18.84)\" d=\"M3,0A3,3 0 1,1 0,-3A3,3 0 0,1 3,0Z\" style=\"opacity: 1; stroke-width: 0px; fill: rgb(255, 127, 3); fill-opacity: 1;\"/><path class=\"point\" transform=\"translate(182.79,16.15)\" d=\"M3,0A3,3 0 1,1 0,-3A3,3 0 0,1 3,0Z\" style=\"opacity: 1; stroke-width: 0px; fill: rgb(255, 127, 3); fill-opacity: 1;\"/><path class=\"point\" transform=\"translate(185.31,15.66)\" d=\"M3,0A3,3 0 1,1 0,-3A3,3 0 0,1 3,0Z\" style=\"opacity: 1; stroke-width: 0px; fill: rgb(255, 127, 3); fill-opacity: 1;\"/><path class=\"point\" transform=\"translate(187.83,16.27)\" d=\"M3,0A3,3 0 1,1 0,-3A3,3 0 0,1 3,0Z\" style=\"opacity: 1; stroke-width: 0px; fill: rgb(255, 127, 3); fill-opacity: 1;\"/><path class=\"point\" transform=\"translate(190.35,16.27)\" d=\"M3,0A3,3 0 1,1 0,-3A3,3 0 0,1 3,0Z\" style=\"opacity: 1; stroke-width: 0px; fill: rgb(255, 127, 3); fill-opacity: 1;\"/><path class=\"point\" transform=\"translate(192.87,16.27)\" d=\"M3,0A3,3 0 1,1 0,-3A3,3 0 0,1 3,0Z\" style=\"opacity: 1; stroke-width: 0px; fill: rgb(255, 127, 3); fill-opacity: 1;\"/><path class=\"point\" transform=\"translate(195.39,16.93)\" d=\"M3,0A3,3 0 1,1 0,-3A3,3 0 0,1 3,0Z\" style=\"opacity: 1; stroke-width: 0px; fill: rgb(255, 127, 3); fill-opacity: 1;\"/><path class=\"point\" transform=\"translate(197.91,16.93)\" d=\"M3,0A3,3 0 1,1 0,-3A3,3 0 0,1 3,0Z\" style=\"opacity: 1; stroke-width: 0px; fill: rgb(255, 127, 3); fill-opacity: 1;\"/><path class=\"point\" transform=\"translate(200.43,15.49)\" d=\"M3,0A3,3 0 1,1 0,-3A3,3 0 0,1 3,0Z\" style=\"opacity: 1; stroke-width: 0px; fill: rgb(255, 127, 3); fill-opacity: 1;\"/><path class=\"point\" transform=\"translate(202.95,17.42)\" d=\"M3,0A3,3 0 1,1 0,-3A3,3 0 0,1 3,0Z\" style=\"opacity: 1; stroke-width: 0px; fill: rgb(255, 127, 3); fill-opacity: 1;\"/><path class=\"point\" transform=\"translate(205.47,15.24)\" d=\"M3,0A3,3 0 1,1 0,-3A3,3 0 0,1 3,0Z\" style=\"opacity: 1; stroke-width: 0px; fill: rgb(255, 127, 3); fill-opacity: 1;\"/><path class=\"point\" transform=\"translate(207.99,15.24)\" d=\"M3,0A3,3 0 1,1 0,-3A3,3 0 0,1 3,0Z\" style=\"opacity: 1; stroke-width: 0px; fill: rgb(255, 127, 3); fill-opacity: 1;\"/><path class=\"point\" transform=\"translate(210.51,13.14)\" d=\"M3,0A3,3 0 1,1 0,-3A3,3 0 0,1 3,0Z\" style=\"opacity: 1; stroke-width: 0px; fill: rgb(255, 127, 3); fill-opacity: 1;\"/><path class=\"point\" transform=\"translate(213.03,12.94)\" d=\"M3,0A3,3 0 1,1 0,-3A3,3 0 0,1 3,0Z\" style=\"opacity: 1; stroke-width: 0px; fill: rgb(255, 127, 3); fill-opacity: 1;\"/><path class=\"point\" transform=\"translate(215.55,13.14)\" d=\"M3,0A3,3 0 1,1 0,-3A3,3 0 0,1 3,0Z\" style=\"opacity: 1; stroke-width: 0px; fill: rgb(255, 127, 3); fill-opacity: 1;\"/><path class=\"point\" transform=\"translate(218.07,12.94)\" d=\"M3,0A3,3 0 1,1 0,-3A3,3 0 0,1 3,0Z\" style=\"opacity: 1; stroke-width: 0px; fill: rgb(255, 127, 3); fill-opacity: 1;\"/><path class=\"point\" transform=\"translate(220.59,15.74)\" d=\"M3,0A3,3 0 1,1 0,-3A3,3 0 0,1 3,0Z\" style=\"opacity: 1; stroke-width: 0px; fill: rgb(255, 127, 3); fill-opacity: 1;\"/><path class=\"point\" transform=\"translate(223.11,17.92)\" d=\"M3,0A3,3 0 1,1 0,-3A3,3 0 0,1 3,0Z\" style=\"opacity: 1; stroke-width: 0px; fill: rgb(255, 127, 3); fill-opacity: 1;\"/><path class=\"point\" transform=\"translate(225.63,18.24)\" d=\"M3,0A3,3 0 1,1 0,-3A3,3 0 0,1 3,0Z\" style=\"opacity: 1; stroke-width: 0px; fill: rgb(255, 127, 3); fill-opacity: 1;\"/><path class=\"point\" transform=\"translate(228.15,17.92)\" d=\"M3,0A3,3 0 1,1 0,-3A3,3 0 0,1 3,0Z\" style=\"opacity: 1; stroke-width: 0px; fill: rgb(255, 127, 3); fill-opacity: 1;\"/><path class=\"point\" transform=\"translate(230.66,15.16)\" d=\"M3,0A3,3 0 1,1 0,-3A3,3 0 0,1 3,0Z\" style=\"opacity: 1; stroke-width: 0px; fill: rgb(255, 127, 3); fill-opacity: 1;\"/><path class=\"point\" transform=\"translate(233.18,15.74)\" d=\"M3,0A3,3 0 1,1 0,-3A3,3 0 0,1 3,0Z\" style=\"opacity: 1; stroke-width: 0px; fill: rgb(255, 127, 3); fill-opacity: 1;\"/><path class=\"point\" transform=\"translate(235.7,12.97)\" d=\"M3,0A3,3 0 1,1 0,-3A3,3 0 0,1 3,0Z\" style=\"opacity: 1; stroke-width: 0px; fill: rgb(255, 127, 3); fill-opacity: 1;\"/><path class=\"point\" transform=\"translate(238.22,12.97)\" d=\"M3,0A3,3 0 1,1 0,-3A3,3 0 0,1 3,0Z\" style=\"opacity: 1; stroke-width: 0px; fill: rgb(255, 127, 3); fill-opacity: 1;\"/><path class=\"point\" transform=\"translate(240.74,12.97)\" d=\"M3,0A3,3 0 1,1 0,-3A3,3 0 0,1 3,0Z\" style=\"opacity: 1; stroke-width: 0px; fill: rgb(255, 127, 3); fill-opacity: 1;\"/><path class=\"point\" transform=\"translate(243.26,12.97)\" d=\"M3,0A3,3 0 1,1 0,-3A3,3 0 0,1 3,0Z\" style=\"opacity: 1; stroke-width: 0px; fill: rgb(255, 127, 3); fill-opacity: 1;\"/><path class=\"point\" transform=\"translate(245.78,12.83)\" d=\"M3,0A3,3 0 1,1 0,-3A3,3 0 0,1 3,0Z\" style=\"opacity: 1; stroke-width: 0px; fill: rgb(255, 127, 3); fill-opacity: 1;\"/><path class=\"point\" transform=\"translate(248.3,12.48)\" d=\"M3,0A3,3 0 1,1 0,-3A3,3 0 0,1 3,0Z\" style=\"opacity: 1; stroke-width: 0px; fill: rgb(255, 127, 3); fill-opacity: 1;\"/><path class=\"point\" transform=\"translate(250.82,12.83)\" d=\"M3,0A3,3 0 1,1 0,-3A3,3 0 0,1 3,0Z\" style=\"opacity: 1; stroke-width: 0px; fill: rgb(255, 127, 3); fill-opacity: 1;\"/><path class=\"point\" transform=\"translate(253.34,12.83)\" d=\"M3,0A3,3 0 1,1 0,-3A3,3 0 0,1 3,0Z\" style=\"opacity: 1; stroke-width: 0px; fill: rgb(255, 127, 3); fill-opacity: 1;\"/><path class=\"point\" transform=\"translate(255.86,12.83)\" d=\"M3,0A3,3 0 1,1 0,-3A3,3 0 0,1 3,0Z\" style=\"opacity: 1; stroke-width: 0px; fill: rgb(255, 127, 3); fill-opacity: 1;\"/><path class=\"point\" transform=\"translate(258.38,14.21)\" d=\"M3,0A3,3 0 1,1 0,-3A3,3 0 0,1 3,0Z\" style=\"opacity: 1; stroke-width: 0px; fill: rgb(255, 127, 3); fill-opacity: 1;\"/><path class=\"point\" transform=\"translate(260.9,12.83)\" d=\"M3,0A3,3 0 1,1 0,-3A3,3 0 0,1 3,0Z\" style=\"opacity: 1; stroke-width: 0px; fill: rgb(255, 127, 3); fill-opacity: 1;\"/><path class=\"point\" transform=\"translate(263.42,13.78)\" d=\"M3,0A3,3 0 1,1 0,-3A3,3 0 0,1 3,0Z\" style=\"opacity: 1; stroke-width: 0px; fill: rgb(255, 127, 3); fill-opacity: 1;\"/><path class=\"point\" transform=\"translate(265.94,11.6)\" d=\"M3,0A3,3 0 1,1 0,-3A3,3 0 0,1 3,0Z\" style=\"opacity: 1; stroke-width: 0px; fill: rgb(255, 127, 3); fill-opacity: 1;\"/><path class=\"point\" transform=\"translate(268.46,12.03)\" d=\"M3,0A3,3 0 1,1 0,-3A3,3 0 0,1 3,0Z\" style=\"opacity: 1; stroke-width: 0px; fill: rgb(255, 127, 3); fill-opacity: 1;\"/><path class=\"point\" transform=\"translate(270.98,11.33)\" d=\"M3,0A3,3 0 1,1 0,-3A3,3 0 0,1 3,0Z\" style=\"opacity: 1; stroke-width: 0px; fill: rgb(255, 127, 3); fill-opacity: 1;\"/><path class=\"point\" transform=\"translate(273.5,12.03)\" d=\"M3,0A3,3 0 1,1 0,-3A3,3 0 0,1 3,0Z\" style=\"opacity: 1; stroke-width: 0px; fill: rgb(255, 127, 3); fill-opacity: 1;\"/><path class=\"point\" transform=\"translate(276.02,12.37)\" d=\"M3,0A3,3 0 1,1 0,-3A3,3 0 0,1 3,0Z\" style=\"opacity: 1; stroke-width: 0px; fill: rgb(255, 127, 3); fill-opacity: 1;\"/><path class=\"point\" transform=\"translate(278.54,12.03)\" d=\"M3,0A3,3 0 1,1 0,-3A3,3 0 0,1 3,0Z\" style=\"opacity: 1; stroke-width: 0px; fill: rgb(255, 127, 3); fill-opacity: 1;\"/><path class=\"point\" transform=\"translate(281.06,12.37)\" d=\"M3,0A3,3 0 1,1 0,-3A3,3 0 0,1 3,0Z\" style=\"opacity: 1; stroke-width: 0px; fill: rgb(255, 127, 3); fill-opacity: 1;\"/><path class=\"point\" transform=\"translate(283.58,12.37)\" d=\"M3,0A3,3 0 1,1 0,-3A3,3 0 0,1 3,0Z\" style=\"opacity: 1; stroke-width: 0px; fill: rgb(255, 127, 3); fill-opacity: 1;\"/><path class=\"point\" transform=\"translate(286.1,11.28)\" d=\"M3,0A3,3 0 1,1 0,-3A3,3 0 0,1 3,0Z\" style=\"opacity: 1; stroke-width: 0px; fill: rgb(255, 127, 3); fill-opacity: 1;\"/><path class=\"point\" transform=\"translate(288.62,11.71)\" d=\"M3,0A3,3 0 1,1 0,-3A3,3 0 0,1 3,0Z\" style=\"opacity: 1; stroke-width: 0px; fill: rgb(255, 127, 3); fill-opacity: 1;\"/><path class=\"point\" transform=\"translate(291.14,11.71)\" d=\"M3,0A3,3 0 1,1 0,-3A3,3 0 0,1 3,0Z\" style=\"opacity: 1; stroke-width: 0px; fill: rgb(255, 127, 3); fill-opacity: 1;\"/><path class=\"point\" transform=\"translate(293.66,11.95)\" d=\"M3,0A3,3 0 1,1 0,-3A3,3 0 0,1 3,0Z\" style=\"opacity: 1; stroke-width: 0px; fill: rgb(255, 127, 3); fill-opacity: 1;\"/><path class=\"point\" transform=\"translate(296.18,11.95)\" d=\"M3,0A3,3 0 1,1 0,-3A3,3 0 0,1 3,0Z\" style=\"opacity: 1; stroke-width: 0px; fill: rgb(255, 127, 3); fill-opacity: 1;\"/><path class=\"point\" transform=\"translate(298.7,14.79)\" d=\"M3,0A3,3 0 1,1 0,-3A3,3 0 0,1 3,0Z\" style=\"opacity: 1; stroke-width: 0px; fill: rgb(255, 127, 3); fill-opacity: 1;\"/><path class=\"point\" transform=\"translate(301.22,11.78)\" d=\"M3,0A3,3 0 1,1 0,-3A3,3 0 0,1 3,0Z\" style=\"opacity: 1; stroke-width: 0px; fill: rgb(255, 127, 3); fill-opacity: 1;\"/><path class=\"point\" transform=\"translate(303.74,14.71)\" d=\"M3,0A3,3 0 1,1 0,-3A3,3 0 0,1 3,0Z\" style=\"opacity: 1; stroke-width: 0px; fill: rgb(255, 127, 3); fill-opacity: 1;\"/><path class=\"point\" transform=\"translate(306.26,15.71)\" d=\"M3,0A3,3 0 1,1 0,-3A3,3 0 0,1 3,0Z\" style=\"opacity: 1; stroke-width: 0px; fill: rgb(255, 127, 3); fill-opacity: 1;\"/><path class=\"point\" transform=\"translate(308.78,13.16)\" d=\"M3,0A3,3 0 1,1 0,-3A3,3 0 0,1 3,0Z\" style=\"opacity: 1; stroke-width: 0px; fill: rgb(255, 127, 3); fill-opacity: 1;\"/><path class=\"point\" transform=\"translate(311.3,13.36)\" d=\"M3,0A3,3 0 1,1 0,-3A3,3 0 0,1 3,0Z\" style=\"opacity: 1; stroke-width: 0px; fill: rgb(255, 127, 3); fill-opacity: 1;\"/><path class=\"point\" transform=\"translate(313.82,13.36)\" d=\"M3,0A3,3 0 1,1 0,-3A3,3 0 0,1 3,0Z\" style=\"opacity: 1; stroke-width: 0px; fill: rgb(255, 127, 3); fill-opacity: 1;\"/><path class=\"point\" transform=\"translate(316.34,12.94)\" d=\"M3,0A3,3 0 1,1 0,-3A3,3 0 0,1 3,0Z\" style=\"opacity: 1; stroke-width: 0px; fill: rgb(255, 127, 3); fill-opacity: 1;\"/><path class=\"point\" transform=\"translate(318.86,13.36)\" d=\"M3,0A3,3 0 1,1 0,-3A3,3 0 0,1 3,0Z\" style=\"opacity: 1; stroke-width: 0px; fill: rgb(255, 127, 3); fill-opacity: 1;\"/><path class=\"point\" transform=\"translate(321.38,15.28)\" d=\"M3,0A3,3 0 1,1 0,-3A3,3 0 0,1 3,0Z\" style=\"opacity: 1; stroke-width: 0px; fill: rgb(255, 127, 3); fill-opacity: 1;\"/><path class=\"point\" transform=\"translate(323.9,15.28)\" d=\"M3,0A3,3 0 1,1 0,-3A3,3 0 0,1 3,0Z\" style=\"opacity: 1; stroke-width: 0px; fill: rgb(255, 127, 3); fill-opacity: 1;\"/><path class=\"point\" transform=\"translate(326.42,15.71)\" d=\"M3,0A3,3 0 1,1 0,-3A3,3 0 0,1 3,0Z\" style=\"opacity: 1; stroke-width: 0px; fill: rgb(255, 127, 3); fill-opacity: 1;\"/><path class=\"point\" transform=\"translate(328.94,15.71)\" d=\"M3,0A3,3 0 1,1 0,-3A3,3 0 0,1 3,0Z\" style=\"opacity: 1; stroke-width: 0px; fill: rgb(255, 127, 3); fill-opacity: 1;\"/><path class=\"point\" transform=\"translate(331.46,15.71)\" d=\"M3,0A3,3 0 1,1 0,-3A3,3 0 0,1 3,0Z\" style=\"opacity: 1; stroke-width: 0px; fill: rgb(255, 127, 3); fill-opacity: 1;\"/><path class=\"point\" transform=\"translate(333.98,15.71)\" d=\"M3,0A3,3 0 1,1 0,-3A3,3 0 0,1 3,0Z\" style=\"opacity: 1; stroke-width: 0px; fill: rgb(255, 127, 3); fill-opacity: 1;\"/></g><g class=\"text\"/></g></g></g><g class=\"overplot\"/><path class=\"xlines-above crisp\" d=\"M0,0\" style=\"fill: none;\"/><path class=\"ylines-above crisp\" d=\"M0,0\" style=\"fill: none;\"/><g class=\"overlines-above\"/><g class=\"xaxislayer-above\"><g class=\"x3tick\"><text text-anchor=\"middle\" x=\"0\" y=\"428\" transform=\"translate(101.53,0)\" style=\"font-family: 'Open Sans', verdana, arial, sans-serif; font-size: 12px; fill: rgb(42, 63, 95); fill-opacity: 1; white-space: pre; opacity: 1;\">0</text></g><g class=\"x3tick\"><text text-anchor=\"middle\" x=\"0\" y=\"428\" style=\"font-family: 'Open Sans', verdana, arial, sans-serif; font-size: 12px; fill: rgb(42, 63, 95); fill-opacity: 1; white-space: pre; opacity: 1;\" transform=\"translate(227.51,0)\">50</text></g><g class=\"x3tick\"><text text-anchor=\"middle\" x=\"0\" y=\"428\" style=\"font-family: 'Open Sans', verdana, arial, sans-serif; font-size: 12px; fill: rgb(42, 63, 95); fill-opacity: 1; white-space: pre; opacity: 1;\" transform=\"translate(353.5,0)\">100</text></g></g><g class=\"yaxislayer-above\"><g class=\"y3tick\"><text text-anchor=\"end\" x=\"79\" y=\"4.199999999999999\" transform=\"translate(0,393.57)\" style=\"font-family: 'Open Sans', verdana, arial, sans-serif; font-size: 12px; fill: rgb(42, 63, 95); fill-opacity: 1; white-space: pre; opacity: 1;\">0.8</text></g><g class=\"y3tick\"><text text-anchor=\"end\" x=\"79\" y=\"4.199999999999999\" style=\"font-family: 'Open Sans', verdana, arial, sans-serif; font-size: 12px; fill: rgb(42, 63, 95); fill-opacity: 1; white-space: pre; opacity: 1;\" transform=\"translate(0,343.87)\">0.85</text></g></g><g class=\"overaxes-above\"/></g><g class=\"subplot x4y4\"><g class=\"layer-subplot\"><g class=\"shapelayer\"/><g class=\"imagelayer\"/></g><g class=\"minor-gridlayer\"><g class=\"x4\"/><g class=\"y4\"/></g><g class=\"gridlayer\"><g class=\"x4\"><path class=\"x4grid crisp\" transform=\"translate(662.01,0)\" d=\"M0,302.5v112.5\" style=\"stroke: rgb(255, 255, 255); stroke-opacity: 1; stroke-width: 1px;\"/><path class=\"x4grid crisp\" transform=\"translate(788,0)\" d=\"M0,302.5v112.5\" style=\"stroke: rgb(255, 255, 255); stroke-opacity: 1; stroke-width: 1px;\"/></g><g class=\"y4\"><path class=\"y4grid crisp\" transform=\"translate(0,391.97)\" d=\"M514.5,0h355.49999999999994\" style=\"stroke: rgb(255, 255, 255); stroke-opacity: 1; stroke-width: 1px;\"/><path class=\"y4grid crisp\" transform=\"translate(0,369.17)\" d=\"M514.5,0h355.49999999999994\" style=\"stroke: rgb(255, 255, 255); stroke-opacity: 1; stroke-width: 1px;\"/><path class=\"y4grid crisp\" transform=\"translate(0,346.38)\" d=\"M514.5,0h355.49999999999994\" style=\"stroke: rgb(255, 255, 255); stroke-opacity: 1; stroke-width: 1px;\"/><path class=\"y4grid crisp\" transform=\"translate(0,323.58)\" d=\"M514.5,0h355.49999999999994\" style=\"stroke: rgb(255, 255, 255); stroke-opacity: 1; stroke-width: 1px;\"/></g></g><g class=\"zerolinelayer\"><path class=\"x4zl zl crisp\" transform=\"translate(536.03,0)\" d=\"M0,302.5v112.5\" style=\"stroke: rgb(255, 255, 255); stroke-opacity: 1; stroke-width: 2px;\"/></g><path class=\"xlines-below\"/><path class=\"ylines-below\"/><g class=\"overlines-below\"/><g class=\"xaxislayer-below\"/><g class=\"yaxislayer-below\"/><g class=\"overaxes-below\"/><g class=\"plot\" transform=\"translate(514.5,302.5)\" clip-path=\"url(#clip8e537fx4y4plot)\"><g class=\"scatterlayer mlayer\"><g class=\"trace scatter trace2f22ec\" style=\"stroke-miterlimit: 2; opacity: 1;\"><g class=\"fills\"/><g class=\"errorbars\"/><g class=\"lines\"><path class=\"js-line\" d=\"M21.53,9.38L24.04,46.94L26.56,38.14L29.08,26.55L31.6,54.86L36.64,87.14L39.16,74.47L41.68,74.79L44.2,85.97L46.72,101.57L49.24,77.06L51.76,95.5L54.28,79.79L56.8,90.26L59.32,82.62L61.84,74.72L64.36,92.94L66.88,68.78L69.4,88.58L71.92,87.42L74.44,92.15L76.96,85.92L79.48,86.49L82,86.42L84.52,90L87.04,88.45L89.56,82.38L92.08,67.34L94.6,73L97.12,71.85L99.64,78.53L102.16,86.82L104.68,82.31L107.2,83.37L109.72,92.8L112.24,92.83L114.76,83.34L117.28,93.47L119.8,92.02L122.32,94.43L124.84,93.09L127.35,94.43L129.87,89L132.39,93.09L134.91,93.09L137.43,94.43L139.95,93.3L142.47,94.01L144.99,92.37L147.51,91.81L150.03,92.37L152.55,91.81L155.07,94.01L157.59,93.47L160.11,101.61L162.63,93.47L165.15,93.47L167.67,94.01L170.19,92.84L172.71,91.88L175.23,91.88L177.75,100.55L180.27,99.73L182.79,102.6L185.31,103.13L187.83,101.05L190.35,101.05L192.87,101.05L195.39,98.63L197.91,98.63L200.43,96.64L202.95,98.17L205.47,96.28L207.99,96.28L210.51,92.08L213.03,91.57L215.55,92.08L218.07,91.57L220.59,95.21L223.11,97.14L225.63,97.71L228.15,97.14L230.66,90.14L233.18,95.21L235.7,88.7L243.26,88.7L245.78,89.61L248.3,89.23L250.82,89.61L255.86,89.61L258.38,90.96L260.9,89.61L263.42,91.18L265.94,89.89L268.46,89.62L273.5,89.62L276.02,90L278.54,89.62L281.06,90L286.1,89.5L288.62,89.22L296.18,89.93L298.7,96.04L301.22,90.47L303.74,96.71L306.26,97.37L308.78,92.23L313.82,92.75L316.34,92.99L318.86,92.75L321.38,97.57L333.98,97.37\" style=\"vector-effect: none; fill: none; stroke: rgb(255, 127, 3); stroke-opacity: 1; stroke-width: 2px; opacity: 1;\"/></g><g class=\"points\"><path class=\"point\" transform=\"translate(21.53,9.38)\" d=\"M3,0A3,3 0 1,1 0,-3A3,3 0 0,1 3,0Z\" style=\"opacity: 1; stroke-width: 0px; fill: rgb(255, 127, 3); fill-opacity: 1;\"/><path class=\"point\" transform=\"translate(24.04,46.94)\" d=\"M3,0A3,3 0 1,1 0,-3A3,3 0 0,1 3,0Z\" style=\"opacity: 1; stroke-width: 0px; fill: rgb(255, 127, 3); fill-opacity: 1;\"/><path class=\"point\" transform=\"translate(26.56,38.14)\" d=\"M3,0A3,3 0 1,1 0,-3A3,3 0 0,1 3,0Z\" style=\"opacity: 1; stroke-width: 0px; fill: rgb(255, 127, 3); fill-opacity: 1;\"/><path class=\"point\" transform=\"translate(29.08,26.55)\" d=\"M3,0A3,3 0 1,1 0,-3A3,3 0 0,1 3,0Z\" style=\"opacity: 1; stroke-width: 0px; fill: rgb(255, 127, 3); fill-opacity: 1;\"/><path class=\"point\" transform=\"translate(31.6,54.86)\" d=\"M3,0A3,3 0 1,1 0,-3A3,3 0 0,1 3,0Z\" style=\"opacity: 1; stroke-width: 0px; fill: rgb(255, 127, 3); fill-opacity: 1;\"/><path class=\"point\" transform=\"translate(34.12,72.84)\" d=\"M3,0A3,3 0 1,1 0,-3A3,3 0 0,1 3,0Z\" style=\"opacity: 1; stroke-width: 0px; fill: rgb(255, 127, 3); fill-opacity: 1;\"/><path class=\"point\" transform=\"translate(36.64,87.14)\" d=\"M3,0A3,3 0 1,1 0,-3A3,3 0 0,1 3,0Z\" style=\"opacity: 1; stroke-width: 0px; fill: rgb(255, 127, 3); fill-opacity: 1;\"/><path class=\"point\" transform=\"translate(39.16,74.47)\" d=\"M3,0A3,3 0 1,1 0,-3A3,3 0 0,1 3,0Z\" style=\"opacity: 1; stroke-width: 0px; fill: rgb(255, 127, 3); fill-opacity: 1;\"/><path class=\"point\" transform=\"translate(41.68,74.79)\" d=\"M3,0A3,3 0 1,1 0,-3A3,3 0 0,1 3,0Z\" style=\"opacity: 1; stroke-width: 0px; fill: rgb(255, 127, 3); fill-opacity: 1;\"/><path class=\"point\" transform=\"translate(44.2,85.97)\" d=\"M3,0A3,3 0 1,1 0,-3A3,3 0 0,1 3,0Z\" style=\"opacity: 1; stroke-width: 0px; fill: rgb(255, 127, 3); fill-opacity: 1;\"/><path class=\"point\" transform=\"translate(46.72,101.57)\" d=\"M3,0A3,3 0 1,1 0,-3A3,3 0 0,1 3,0Z\" style=\"opacity: 1; stroke-width: 0px; fill: rgb(255, 127, 3); fill-opacity: 1;\"/><path class=\"point\" transform=\"translate(49.24,77.06)\" d=\"M3,0A3,3 0 1,1 0,-3A3,3 0 0,1 3,0Z\" style=\"opacity: 1; stroke-width: 0px; fill: rgb(255, 127, 3); fill-opacity: 1;\"/><path class=\"point\" transform=\"translate(51.76,95.5)\" d=\"M3,0A3,3 0 1,1 0,-3A3,3 0 0,1 3,0Z\" style=\"opacity: 1; stroke-width: 0px; fill: rgb(255, 127, 3); fill-opacity: 1;\"/><path class=\"point\" transform=\"translate(54.28,79.79)\" d=\"M3,0A3,3 0 1,1 0,-3A3,3 0 0,1 3,0Z\" style=\"opacity: 1; stroke-width: 0px; fill: rgb(255, 127, 3); fill-opacity: 1;\"/><path class=\"point\" transform=\"translate(56.8,90.26)\" d=\"M3,0A3,3 0 1,1 0,-3A3,3 0 0,1 3,0Z\" style=\"opacity: 1; stroke-width: 0px; fill: rgb(255, 127, 3); fill-opacity: 1;\"/><path class=\"point\" transform=\"translate(59.32,82.62)\" d=\"M3,0A3,3 0 1,1 0,-3A3,3 0 0,1 3,0Z\" style=\"opacity: 1; stroke-width: 0px; fill: rgb(255, 127, 3); fill-opacity: 1;\"/><path class=\"point\" transform=\"translate(61.84,74.72)\" d=\"M3,0A3,3 0 1,1 0,-3A3,3 0 0,1 3,0Z\" style=\"opacity: 1; stroke-width: 0px; fill: rgb(255, 127, 3); fill-opacity: 1;\"/><path class=\"point\" transform=\"translate(64.36,92.94)\" d=\"M3,0A3,3 0 1,1 0,-3A3,3 0 0,1 3,0Z\" style=\"opacity: 1; stroke-width: 0px; fill: rgb(255, 127, 3); fill-opacity: 1;\"/><path class=\"point\" transform=\"translate(66.88,68.78)\" d=\"M3,0A3,3 0 1,1 0,-3A3,3 0 0,1 3,0Z\" style=\"opacity: 1; stroke-width: 0px; fill: rgb(255, 127, 3); fill-opacity: 1;\"/><path class=\"point\" transform=\"translate(69.4,88.58)\" d=\"M3,0A3,3 0 1,1 0,-3A3,3 0 0,1 3,0Z\" style=\"opacity: 1; stroke-width: 0px; fill: rgb(255, 127, 3); fill-opacity: 1;\"/><path class=\"point\" transform=\"translate(71.92,87.42)\" d=\"M3,0A3,3 0 1,1 0,-3A3,3 0 0,1 3,0Z\" style=\"opacity: 1; stroke-width: 0px; fill: rgb(255, 127, 3); fill-opacity: 1;\"/><path class=\"point\" transform=\"translate(74.44,92.15)\" d=\"M3,0A3,3 0 1,1 0,-3A3,3 0 0,1 3,0Z\" style=\"opacity: 1; stroke-width: 0px; fill: rgb(255, 127, 3); fill-opacity: 1;\"/><path class=\"point\" transform=\"translate(76.96,85.92)\" d=\"M3,0A3,3 0 1,1 0,-3A3,3 0 0,1 3,0Z\" style=\"opacity: 1; stroke-width: 0px; fill: rgb(255, 127, 3); fill-opacity: 1;\"/><path class=\"point\" transform=\"translate(79.48,86.49)\" d=\"M3,0A3,3 0 1,1 0,-3A3,3 0 0,1 3,0Z\" style=\"opacity: 1; stroke-width: 0px; fill: rgb(255, 127, 3); fill-opacity: 1;\"/><path class=\"point\" transform=\"translate(82,86.42)\" d=\"M3,0A3,3 0 1,1 0,-3A3,3 0 0,1 3,0Z\" style=\"opacity: 1; stroke-width: 0px; fill: rgb(255, 127, 3); fill-opacity: 1;\"/><path class=\"point\" transform=\"translate(84.52,90)\" d=\"M3,0A3,3 0 1,1 0,-3A3,3 0 0,1 3,0Z\" style=\"opacity: 1; stroke-width: 0px; fill: rgb(255, 127, 3); fill-opacity: 1;\"/><path class=\"point\" transform=\"translate(87.04,88.45)\" d=\"M3,0A3,3 0 1,1 0,-3A3,3 0 0,1 3,0Z\" style=\"opacity: 1; stroke-width: 0px; fill: rgb(255, 127, 3); fill-opacity: 1;\"/><path class=\"point\" transform=\"translate(89.56,82.38)\" d=\"M3,0A3,3 0 1,1 0,-3A3,3 0 0,1 3,0Z\" style=\"opacity: 1; stroke-width: 0px; fill: rgb(255, 127, 3); fill-opacity: 1;\"/><path class=\"point\" transform=\"translate(92.08,67.34)\" d=\"M3,0A3,3 0 1,1 0,-3A3,3 0 0,1 3,0Z\" style=\"opacity: 1; stroke-width: 0px; fill: rgb(255, 127, 3); fill-opacity: 1;\"/><path class=\"point\" transform=\"translate(94.6,73)\" d=\"M3,0A3,3 0 1,1 0,-3A3,3 0 0,1 3,0Z\" style=\"opacity: 1; stroke-width: 0px; fill: rgb(255, 127, 3); fill-opacity: 1;\"/><path class=\"point\" transform=\"translate(97.12,71.85)\" d=\"M3,0A3,3 0 1,1 0,-3A3,3 0 0,1 3,0Z\" style=\"opacity: 1; stroke-width: 0px; fill: rgb(255, 127, 3); fill-opacity: 1;\"/><path class=\"point\" transform=\"translate(99.64,78.53)\" d=\"M3,0A3,3 0 1,1 0,-3A3,3 0 0,1 3,0Z\" style=\"opacity: 1; stroke-width: 0px; fill: rgb(255, 127, 3); fill-opacity: 1;\"/><path class=\"point\" transform=\"translate(102.16,86.82)\" d=\"M3,0A3,3 0 1,1 0,-3A3,3 0 0,1 3,0Z\" style=\"opacity: 1; stroke-width: 0px; fill: rgb(255, 127, 3); fill-opacity: 1;\"/><path class=\"point\" transform=\"translate(104.68,82.31)\" d=\"M3,0A3,3 0 1,1 0,-3A3,3 0 0,1 3,0Z\" style=\"opacity: 1; stroke-width: 0px; fill: rgb(255, 127, 3); fill-opacity: 1;\"/><path class=\"point\" transform=\"translate(107.2,83.37)\" d=\"M3,0A3,3 0 1,1 0,-3A3,3 0 0,1 3,0Z\" style=\"opacity: 1; stroke-width: 0px; fill: rgb(255, 127, 3); fill-opacity: 1;\"/><path class=\"point\" transform=\"translate(109.72,92.8)\" d=\"M3,0A3,3 0 1,1 0,-3A3,3 0 0,1 3,0Z\" style=\"opacity: 1; stroke-width: 0px; fill: rgb(255, 127, 3); fill-opacity: 1;\"/><path class=\"point\" transform=\"translate(112.24,92.83)\" d=\"M3,0A3,3 0 1,1 0,-3A3,3 0 0,1 3,0Z\" style=\"opacity: 1; stroke-width: 0px; fill: rgb(255, 127, 3); fill-opacity: 1;\"/><path class=\"point\" transform=\"translate(114.76,83.34)\" d=\"M3,0A3,3 0 1,1 0,-3A3,3 0 0,1 3,0Z\" style=\"opacity: 1; stroke-width: 0px; fill: rgb(255, 127, 3); fill-opacity: 1;\"/><path class=\"point\" transform=\"translate(117.28,93.47)\" d=\"M3,0A3,3 0 1,1 0,-3A3,3 0 0,1 3,0Z\" style=\"opacity: 1; stroke-width: 0px; fill: rgb(255, 127, 3); fill-opacity: 1;\"/><path class=\"point\" transform=\"translate(119.8,92.02)\" d=\"M3,0A3,3 0 1,1 0,-3A3,3 0 0,1 3,0Z\" style=\"opacity: 1; stroke-width: 0px; fill: rgb(255, 127, 3); fill-opacity: 1;\"/><path class=\"point\" transform=\"translate(122.32,94.43)\" d=\"M3,0A3,3 0 1,1 0,-3A3,3 0 0,1 3,0Z\" style=\"opacity: 1; stroke-width: 0px; fill: rgb(255, 127, 3); fill-opacity: 1;\"/><path class=\"point\" transform=\"translate(124.84,93.09)\" d=\"M3,0A3,3 0 1,1 0,-3A3,3 0 0,1 3,0Z\" style=\"opacity: 1; stroke-width: 0px; fill: rgb(255, 127, 3); fill-opacity: 1;\"/><path class=\"point\" transform=\"translate(127.35,94.43)\" d=\"M3,0A3,3 0 1,1 0,-3A3,3 0 0,1 3,0Z\" style=\"opacity: 1; stroke-width: 0px; fill: rgb(255, 127, 3); fill-opacity: 1;\"/><path class=\"point\" transform=\"translate(129.87,89)\" d=\"M3,0A3,3 0 1,1 0,-3A3,3 0 0,1 3,0Z\" style=\"opacity: 1; stroke-width: 0px; fill: rgb(255, 127, 3); fill-opacity: 1;\"/><path class=\"point\" transform=\"translate(132.39,93.09)\" d=\"M3,0A3,3 0 1,1 0,-3A3,3 0 0,1 3,0Z\" style=\"opacity: 1; stroke-width: 0px; fill: rgb(255, 127, 3); fill-opacity: 1;\"/><path class=\"point\" transform=\"translate(134.91,93.09)\" d=\"M3,0A3,3 0 1,1 0,-3A3,3 0 0,1 3,0Z\" style=\"opacity: 1; stroke-width: 0px; fill: rgb(255, 127, 3); fill-opacity: 1;\"/><path class=\"point\" transform=\"translate(137.43,94.43)\" d=\"M3,0A3,3 0 1,1 0,-3A3,3 0 0,1 3,0Z\" style=\"opacity: 1; stroke-width: 0px; fill: rgb(255, 127, 3); fill-opacity: 1;\"/><path class=\"point\" transform=\"translate(139.95,93.3)\" d=\"M3,0A3,3 0 1,1 0,-3A3,3 0 0,1 3,0Z\" style=\"opacity: 1; stroke-width: 0px; fill: rgb(255, 127, 3); fill-opacity: 1;\"/><path class=\"point\" transform=\"translate(142.47,94.01)\" d=\"M3,0A3,3 0 1,1 0,-3A3,3 0 0,1 3,0Z\" style=\"opacity: 1; stroke-width: 0px; fill: rgb(255, 127, 3); fill-opacity: 1;\"/><path class=\"point\" transform=\"translate(144.99,92.37)\" d=\"M3,0A3,3 0 1,1 0,-3A3,3 0 0,1 3,0Z\" style=\"opacity: 1; stroke-width: 0px; fill: rgb(255, 127, 3); fill-opacity: 1;\"/><path class=\"point\" transform=\"translate(147.51,91.81)\" d=\"M3,0A3,3 0 1,1 0,-3A3,3 0 0,1 3,0Z\" style=\"opacity: 1; stroke-width: 0px; fill: rgb(255, 127, 3); fill-opacity: 1;\"/><path class=\"point\" transform=\"translate(150.03,92.37)\" d=\"M3,0A3,3 0 1,1 0,-3A3,3 0 0,1 3,0Z\" style=\"opacity: 1; stroke-width: 0px; fill: rgb(255, 127, 3); fill-opacity: 1;\"/><path class=\"point\" transform=\"translate(152.55,91.81)\" d=\"M3,0A3,3 0 1,1 0,-3A3,3 0 0,1 3,0Z\" style=\"opacity: 1; stroke-width: 0px; fill: rgb(255, 127, 3); fill-opacity: 1;\"/><path class=\"point\" transform=\"translate(155.07,94.01)\" d=\"M3,0A3,3 0 1,1 0,-3A3,3 0 0,1 3,0Z\" style=\"opacity: 1; stroke-width: 0px; fill: rgb(255, 127, 3); fill-opacity: 1;\"/><path class=\"point\" transform=\"translate(157.59,93.47)\" d=\"M3,0A3,3 0 1,1 0,-3A3,3 0 0,1 3,0Z\" style=\"opacity: 1; stroke-width: 0px; fill: rgb(255, 127, 3); fill-opacity: 1;\"/><path class=\"point\" transform=\"translate(160.11,101.61)\" d=\"M3,0A3,3 0 1,1 0,-3A3,3 0 0,1 3,0Z\" style=\"opacity: 1; stroke-width: 0px; fill: rgb(255, 127, 3); fill-opacity: 1;\"/><path class=\"point\" transform=\"translate(162.63,93.47)\" d=\"M3,0A3,3 0 1,1 0,-3A3,3 0 0,1 3,0Z\" style=\"opacity: 1; stroke-width: 0px; fill: rgb(255, 127, 3); fill-opacity: 1;\"/><path class=\"point\" transform=\"translate(165.15,93.47)\" d=\"M3,0A3,3 0 1,1 0,-3A3,3 0 0,1 3,0Z\" style=\"opacity: 1; stroke-width: 0px; fill: rgb(255, 127, 3); fill-opacity: 1;\"/><path class=\"point\" transform=\"translate(167.67,94.01)\" d=\"M3,0A3,3 0 1,1 0,-3A3,3 0 0,1 3,0Z\" style=\"opacity: 1; stroke-width: 0px; fill: rgb(255, 127, 3); fill-opacity: 1;\"/><path class=\"point\" transform=\"translate(170.19,92.84)\" d=\"M3,0A3,3 0 1,1 0,-3A3,3 0 0,1 3,0Z\" style=\"opacity: 1; stroke-width: 0px; fill: rgb(255, 127, 3); fill-opacity: 1;\"/><path class=\"point\" transform=\"translate(172.71,91.88)\" d=\"M3,0A3,3 0 1,1 0,-3A3,3 0 0,1 3,0Z\" style=\"opacity: 1; stroke-width: 0px; fill: rgb(255, 127, 3); fill-opacity: 1;\"/><path class=\"point\" transform=\"translate(175.23,91.88)\" d=\"M3,0A3,3 0 1,1 0,-3A3,3 0 0,1 3,0Z\" style=\"opacity: 1; stroke-width: 0px; fill: rgb(255, 127, 3); fill-opacity: 1;\"/><path class=\"point\" transform=\"translate(177.75,100.55)\" d=\"M3,0A3,3 0 1,1 0,-3A3,3 0 0,1 3,0Z\" style=\"opacity: 1; stroke-width: 0px; fill: rgb(255, 127, 3); fill-opacity: 1;\"/><path class=\"point\" transform=\"translate(180.27,99.73)\" d=\"M3,0A3,3 0 1,1 0,-3A3,3 0 0,1 3,0Z\" style=\"opacity: 1; stroke-width: 0px; fill: rgb(255, 127, 3); fill-opacity: 1;\"/><path class=\"point\" transform=\"translate(182.79,102.6)\" d=\"M3,0A3,3 0 1,1 0,-3A3,3 0 0,1 3,0Z\" style=\"opacity: 1; stroke-width: 0px; fill: rgb(255, 127, 3); fill-opacity: 1;\"/><path class=\"point\" transform=\"translate(185.31,103.13)\" d=\"M3,0A3,3 0 1,1 0,-3A3,3 0 0,1 3,0Z\" style=\"opacity: 1; stroke-width: 0px; fill: rgb(255, 127, 3); fill-opacity: 1;\"/><path class=\"point\" transform=\"translate(187.83,101.05)\" d=\"M3,0A3,3 0 1,1 0,-3A3,3 0 0,1 3,0Z\" style=\"opacity: 1; stroke-width: 0px; fill: rgb(255, 127, 3); fill-opacity: 1;\"/><path class=\"point\" transform=\"translate(190.35,101.05)\" d=\"M3,0A3,3 0 1,1 0,-3A3,3 0 0,1 3,0Z\" style=\"opacity: 1; stroke-width: 0px; fill: rgb(255, 127, 3); fill-opacity: 1;\"/><path class=\"point\" transform=\"translate(192.87,101.05)\" d=\"M3,0A3,3 0 1,1 0,-3A3,3 0 0,1 3,0Z\" style=\"opacity: 1; stroke-width: 0px; fill: rgb(255, 127, 3); fill-opacity: 1;\"/><path class=\"point\" transform=\"translate(195.39,98.63)\" d=\"M3,0A3,3 0 1,1 0,-3A3,3 0 0,1 3,0Z\" style=\"opacity: 1; stroke-width: 0px; fill: rgb(255, 127, 3); fill-opacity: 1;\"/><path class=\"point\" transform=\"translate(197.91,98.63)\" d=\"M3,0A3,3 0 1,1 0,-3A3,3 0 0,1 3,0Z\" style=\"opacity: 1; stroke-width: 0px; fill: rgb(255, 127, 3); fill-opacity: 1;\"/><path class=\"point\" transform=\"translate(200.43,96.64)\" d=\"M3,0A3,3 0 1,1 0,-3A3,3 0 0,1 3,0Z\" style=\"opacity: 1; stroke-width: 0px; fill: rgb(255, 127, 3); fill-opacity: 1;\"/><path class=\"point\" transform=\"translate(202.95,98.17)\" d=\"M3,0A3,3 0 1,1 0,-3A3,3 0 0,1 3,0Z\" style=\"opacity: 1; stroke-width: 0px; fill: rgb(255, 127, 3); fill-opacity: 1;\"/><path class=\"point\" transform=\"translate(205.47,96.28)\" d=\"M3,0A3,3 0 1,1 0,-3A3,3 0 0,1 3,0Z\" style=\"opacity: 1; stroke-width: 0px; fill: rgb(255, 127, 3); fill-opacity: 1;\"/><path class=\"point\" transform=\"translate(207.99,96.28)\" d=\"M3,0A3,3 0 1,1 0,-3A3,3 0 0,1 3,0Z\" style=\"opacity: 1; stroke-width: 0px; fill: rgb(255, 127, 3); fill-opacity: 1;\"/><path class=\"point\" transform=\"translate(210.51,92.08)\" d=\"M3,0A3,3 0 1,1 0,-3A3,3 0 0,1 3,0Z\" style=\"opacity: 1; stroke-width: 0px; fill: rgb(255, 127, 3); fill-opacity: 1;\"/><path class=\"point\" transform=\"translate(213.03,91.57)\" d=\"M3,0A3,3 0 1,1 0,-3A3,3 0 0,1 3,0Z\" style=\"opacity: 1; stroke-width: 0px; fill: rgb(255, 127, 3); fill-opacity: 1;\"/><path class=\"point\" transform=\"translate(215.55,92.08)\" d=\"M3,0A3,3 0 1,1 0,-3A3,3 0 0,1 3,0Z\" style=\"opacity: 1; stroke-width: 0px; fill: rgb(255, 127, 3); fill-opacity: 1;\"/><path class=\"point\" transform=\"translate(218.07,91.57)\" d=\"M3,0A3,3 0 1,1 0,-3A3,3 0 0,1 3,0Z\" style=\"opacity: 1; stroke-width: 0px; fill: rgb(255, 127, 3); fill-opacity: 1;\"/><path class=\"point\" transform=\"translate(220.59,95.21)\" d=\"M3,0A3,3 0 1,1 0,-3A3,3 0 0,1 3,0Z\" style=\"opacity: 1; stroke-width: 0px; fill: rgb(255, 127, 3); fill-opacity: 1;\"/><path class=\"point\" transform=\"translate(223.11,97.14)\" d=\"M3,0A3,3 0 1,1 0,-3A3,3 0 0,1 3,0Z\" style=\"opacity: 1; stroke-width: 0px; fill: rgb(255, 127, 3); fill-opacity: 1;\"/><path class=\"point\" transform=\"translate(225.63,97.71)\" d=\"M3,0A3,3 0 1,1 0,-3A3,3 0 0,1 3,0Z\" style=\"opacity: 1; stroke-width: 0px; fill: rgb(255, 127, 3); fill-opacity: 1;\"/><path class=\"point\" transform=\"translate(228.15,97.14)\" d=\"M3,0A3,3 0 1,1 0,-3A3,3 0 0,1 3,0Z\" style=\"opacity: 1; stroke-width: 0px; fill: rgb(255, 127, 3); fill-opacity: 1;\"/><path class=\"point\" transform=\"translate(230.66,90.14)\" d=\"M3,0A3,3 0 1,1 0,-3A3,3 0 0,1 3,0Z\" style=\"opacity: 1; stroke-width: 0px; fill: rgb(255, 127, 3); fill-opacity: 1;\"/><path class=\"point\" transform=\"translate(233.18,95.21)\" d=\"M3,0A3,3 0 1,1 0,-3A3,3 0 0,1 3,0Z\" style=\"opacity: 1; stroke-width: 0px; fill: rgb(255, 127, 3); fill-opacity: 1;\"/><path class=\"point\" transform=\"translate(235.7,88.7)\" d=\"M3,0A3,3 0 1,1 0,-3A3,3 0 0,1 3,0Z\" style=\"opacity: 1; stroke-width: 0px; fill: rgb(255, 127, 3); fill-opacity: 1;\"/><path class=\"point\" transform=\"translate(238.22,88.7)\" d=\"M3,0A3,3 0 1,1 0,-3A3,3 0 0,1 3,0Z\" style=\"opacity: 1; stroke-width: 0px; fill: rgb(255, 127, 3); fill-opacity: 1;\"/><path class=\"point\" transform=\"translate(240.74,88.7)\" d=\"M3,0A3,3 0 1,1 0,-3A3,3 0 0,1 3,0Z\" style=\"opacity: 1; stroke-width: 0px; fill: rgb(255, 127, 3); fill-opacity: 1;\"/><path class=\"point\" transform=\"translate(243.26,88.7)\" d=\"M3,0A3,3 0 1,1 0,-3A3,3 0 0,1 3,0Z\" style=\"opacity: 1; stroke-width: 0px; fill: rgb(255, 127, 3); fill-opacity: 1;\"/><path class=\"point\" transform=\"translate(245.78,89.61)\" d=\"M3,0A3,3 0 1,1 0,-3A3,3 0 0,1 3,0Z\" style=\"opacity: 1; stroke-width: 0px; fill: rgb(255, 127, 3); fill-opacity: 1;\"/><path class=\"point\" transform=\"translate(248.3,89.23)\" d=\"M3,0A3,3 0 1,1 0,-3A3,3 0 0,1 3,0Z\" style=\"opacity: 1; stroke-width: 0px; fill: rgb(255, 127, 3); fill-opacity: 1;\"/><path class=\"point\" transform=\"translate(250.82,89.61)\" d=\"M3,0A3,3 0 1,1 0,-3A3,3 0 0,1 3,0Z\" style=\"opacity: 1; stroke-width: 0px; fill: rgb(255, 127, 3); fill-opacity: 1;\"/><path class=\"point\" transform=\"translate(253.34,89.61)\" d=\"M3,0A3,3 0 1,1 0,-3A3,3 0 0,1 3,0Z\" style=\"opacity: 1; stroke-width: 0px; fill: rgb(255, 127, 3); fill-opacity: 1;\"/><path class=\"point\" transform=\"translate(255.86,89.61)\" d=\"M3,0A3,3 0 1,1 0,-3A3,3 0 0,1 3,0Z\" style=\"opacity: 1; stroke-width: 0px; fill: rgb(255, 127, 3); fill-opacity: 1;\"/><path class=\"point\" transform=\"translate(258.38,90.96)\" d=\"M3,0A3,3 0 1,1 0,-3A3,3 0 0,1 3,0Z\" style=\"opacity: 1; stroke-width: 0px; fill: rgb(255, 127, 3); fill-opacity: 1;\"/><path class=\"point\" transform=\"translate(260.9,89.61)\" d=\"M3,0A3,3 0 1,1 0,-3A3,3 0 0,1 3,0Z\" style=\"opacity: 1; stroke-width: 0px; fill: rgb(255, 127, 3); fill-opacity: 1;\"/><path class=\"point\" transform=\"translate(263.42,91.18)\" d=\"M3,0A3,3 0 1,1 0,-3A3,3 0 0,1 3,0Z\" style=\"opacity: 1; stroke-width: 0px; fill: rgb(255, 127, 3); fill-opacity: 1;\"/><path class=\"point\" transform=\"translate(265.94,89.89)\" d=\"M3,0A3,3 0 1,1 0,-3A3,3 0 0,1 3,0Z\" style=\"opacity: 1; stroke-width: 0px; fill: rgb(255, 127, 3); fill-opacity: 1;\"/><path class=\"point\" transform=\"translate(268.46,89.62)\" d=\"M3,0A3,3 0 1,1 0,-3A3,3 0 0,1 3,0Z\" style=\"opacity: 1; stroke-width: 0px; fill: rgb(255, 127, 3); fill-opacity: 1;\"/><path class=\"point\" transform=\"translate(270.98,89.43)\" d=\"M3,0A3,3 0 1,1 0,-3A3,3 0 0,1 3,0Z\" style=\"opacity: 1; stroke-width: 0px; fill: rgb(255, 127, 3); fill-opacity: 1;\"/><path class=\"point\" transform=\"translate(273.5,89.62)\" d=\"M3,0A3,3 0 1,1 0,-3A3,3 0 0,1 3,0Z\" style=\"opacity: 1; stroke-width: 0px; fill: rgb(255, 127, 3); fill-opacity: 1;\"/><path class=\"point\" transform=\"translate(276.02,90)\" d=\"M3,0A3,3 0 1,1 0,-3A3,3 0 0,1 3,0Z\" style=\"opacity: 1; stroke-width: 0px; fill: rgb(255, 127, 3); fill-opacity: 1;\"/><path class=\"point\" transform=\"translate(278.54,89.62)\" d=\"M3,0A3,3 0 1,1 0,-3A3,3 0 0,1 3,0Z\" style=\"opacity: 1; stroke-width: 0px; fill: rgb(255, 127, 3); fill-opacity: 1;\"/><path class=\"point\" transform=\"translate(281.06,90)\" d=\"M3,0A3,3 0 1,1 0,-3A3,3 0 0,1 3,0Z\" style=\"opacity: 1; stroke-width: 0px; fill: rgb(255, 127, 3); fill-opacity: 1;\"/><path class=\"point\" transform=\"translate(283.58,90)\" d=\"M3,0A3,3 0 1,1 0,-3A3,3 0 0,1 3,0Z\" style=\"opacity: 1; stroke-width: 0px; fill: rgb(255, 127, 3); fill-opacity: 1;\"/><path class=\"point\" transform=\"translate(286.1,89.5)\" d=\"M3,0A3,3 0 1,1 0,-3A3,3 0 0,1 3,0Z\" style=\"opacity: 1; stroke-width: 0px; fill: rgb(255, 127, 3); fill-opacity: 1;\"/><path class=\"point\" transform=\"translate(288.62,89.22)\" d=\"M3,0A3,3 0 1,1 0,-3A3,3 0 0,1 3,0Z\" style=\"opacity: 1; stroke-width: 0px; fill: rgb(255, 127, 3); fill-opacity: 1;\"/><path class=\"point\" transform=\"translate(291.14,89.22)\" d=\"M3,0A3,3 0 1,1 0,-3A3,3 0 0,1 3,0Z\" style=\"opacity: 1; stroke-width: 0px; fill: rgb(255, 127, 3); fill-opacity: 1;\"/><path class=\"point\" transform=\"translate(293.66,89.93)\" d=\"M3,0A3,3 0 1,1 0,-3A3,3 0 0,1 3,0Z\" style=\"opacity: 1; stroke-width: 0px; fill: rgb(255, 127, 3); fill-opacity: 1;\"/><path class=\"point\" transform=\"translate(296.18,89.93)\" d=\"M3,0A3,3 0 1,1 0,-3A3,3 0 0,1 3,0Z\" style=\"opacity: 1; stroke-width: 0px; fill: rgb(255, 127, 3); fill-opacity: 1;\"/><path class=\"point\" transform=\"translate(298.7,96.04)\" d=\"M3,0A3,3 0 1,1 0,-3A3,3 0 0,1 3,0Z\" style=\"opacity: 1; stroke-width: 0px; fill: rgb(255, 127, 3); fill-opacity: 1;\"/><path class=\"point\" transform=\"translate(301.22,90.47)\" d=\"M3,0A3,3 0 1,1 0,-3A3,3 0 0,1 3,0Z\" style=\"opacity: 1; stroke-width: 0px; fill: rgb(255, 127, 3); fill-opacity: 1;\"/><path class=\"point\" transform=\"translate(303.74,96.71)\" d=\"M3,0A3,3 0 1,1 0,-3A3,3 0 0,1 3,0Z\" style=\"opacity: 1; stroke-width: 0px; fill: rgb(255, 127, 3); fill-opacity: 1;\"/><path class=\"point\" transform=\"translate(306.26,97.37)\" d=\"M3,0A3,3 0 1,1 0,-3A3,3 0 0,1 3,0Z\" style=\"opacity: 1; stroke-width: 0px; fill: rgb(255, 127, 3); fill-opacity: 1;\"/><path class=\"point\" transform=\"translate(308.78,92.23)\" d=\"M3,0A3,3 0 1,1 0,-3A3,3 0 0,1 3,0Z\" style=\"opacity: 1; stroke-width: 0px; fill: rgb(255, 127, 3); fill-opacity: 1;\"/><path class=\"point\" transform=\"translate(311.3,92.75)\" d=\"M3,0A3,3 0 1,1 0,-3A3,3 0 0,1 3,0Z\" style=\"opacity: 1; stroke-width: 0px; fill: rgb(255, 127, 3); fill-opacity: 1;\"/><path class=\"point\" transform=\"translate(313.82,92.75)\" d=\"M3,0A3,3 0 1,1 0,-3A3,3 0 0,1 3,0Z\" style=\"opacity: 1; stroke-width: 0px; fill: rgb(255, 127, 3); fill-opacity: 1;\"/><path class=\"point\" transform=\"translate(316.34,92.99)\" d=\"M3,0A3,3 0 1,1 0,-3A3,3 0 0,1 3,0Z\" style=\"opacity: 1; stroke-width: 0px; fill: rgb(255, 127, 3); fill-opacity: 1;\"/><path class=\"point\" transform=\"translate(318.86,92.75)\" d=\"M3,0A3,3 0 1,1 0,-3A3,3 0 0,1 3,0Z\" style=\"opacity: 1; stroke-width: 0px; fill: rgb(255, 127, 3); fill-opacity: 1;\"/><path class=\"point\" transform=\"translate(321.38,97.57)\" d=\"M3,0A3,3 0 1,1 0,-3A3,3 0 0,1 3,0Z\" style=\"opacity: 1; stroke-width: 0px; fill: rgb(255, 127, 3); fill-opacity: 1;\"/><path class=\"point\" transform=\"translate(323.9,97.57)\" d=\"M3,0A3,3 0 1,1 0,-3A3,3 0 0,1 3,0Z\" style=\"opacity: 1; stroke-width: 0px; fill: rgb(255, 127, 3); fill-opacity: 1;\"/><path class=\"point\" transform=\"translate(326.42,97.37)\" d=\"M3,0A3,3 0 1,1 0,-3A3,3 0 0,1 3,0Z\" style=\"opacity: 1; stroke-width: 0px; fill: rgb(255, 127, 3); fill-opacity: 1;\"/><path class=\"point\" transform=\"translate(328.94,97.37)\" d=\"M3,0A3,3 0 1,1 0,-3A3,3 0 0,1 3,0Z\" style=\"opacity: 1; stroke-width: 0px; fill: rgb(255, 127, 3); fill-opacity: 1;\"/><path class=\"point\" transform=\"translate(331.46,97.37)\" d=\"M3,0A3,3 0 1,1 0,-3A3,3 0 0,1 3,0Z\" style=\"opacity: 1; stroke-width: 0px; fill: rgb(255, 127, 3); fill-opacity: 1;\"/><path class=\"point\" transform=\"translate(333.98,97.37)\" d=\"M3,0A3,3 0 1,1 0,-3A3,3 0 0,1 3,0Z\" style=\"opacity: 1; stroke-width: 0px; fill: rgb(255, 127, 3); fill-opacity: 1;\"/></g><g class=\"text\"/></g></g></g><g class=\"overplot\"/><path class=\"xlines-above crisp\" d=\"M0,0\" style=\"fill: none;\"/><path class=\"ylines-above crisp\" d=\"M0,0\" style=\"fill: none;\"/><g class=\"overlines-above\"/><g class=\"xaxislayer-above\"><g class=\"x4tick\"><text text-anchor=\"middle\" x=\"0\" y=\"428\" transform=\"translate(536.03,0)\" style=\"font-family: 'Open Sans', verdana, arial, sans-serif; font-size: 12px; fill: rgb(42, 63, 95); fill-opacity: 1; white-space: pre; opacity: 1;\">0</text></g><g class=\"x4tick\"><text text-anchor=\"middle\" x=\"0\" y=\"428\" style=\"font-family: 'Open Sans', verdana, arial, sans-serif; font-size: 12px; fill: rgb(42, 63, 95); fill-opacity: 1; white-space: pre; opacity: 1;\" transform=\"translate(662.01,0)\">50</text></g><g class=\"x4tick\"><text text-anchor=\"middle\" x=\"0\" y=\"428\" style=\"font-family: 'Open Sans', verdana, arial, sans-serif; font-size: 12px; fill: rgb(42, 63, 95); fill-opacity: 1; white-space: pre; opacity: 1;\" transform=\"translate(788,0)\">100</text></g></g><g class=\"yaxislayer-above\"><g class=\"y4tick\"><text text-anchor=\"end\" x=\"513.5\" y=\"4.199999999999999\" transform=\"translate(0,414.77)\" style=\"font-family: 'Open Sans', verdana, arial, sans-serif; font-size: 12px; fill: rgb(42, 63, 95); fill-opacity: 1; white-space: pre; opacity: 1;\">0.03</text></g><g class=\"y4tick\"><text text-anchor=\"end\" x=\"513.5\" y=\"4.199999999999999\" style=\"font-family: 'Open Sans', verdana, arial, sans-serif; font-size: 12px; fill: rgb(42, 63, 95); fill-opacity: 1; white-space: pre; opacity: 1;\" transform=\"translate(0,391.97)\">0.04</text></g><g class=\"y4tick\"><text text-anchor=\"end\" x=\"513.5\" y=\"4.199999999999999\" style=\"font-family: 'Open Sans', verdana, arial, sans-serif; font-size: 12px; fill: rgb(42, 63, 95); fill-opacity: 1; white-space: pre; opacity: 1;\" transform=\"translate(0,369.17)\">0.05</text></g><g class=\"y4tick\"><text text-anchor=\"end\" x=\"513.5\" y=\"4.199999999999999\" style=\"font-family: 'Open Sans', verdana, arial, sans-serif; font-size: 12px; fill: rgb(42, 63, 95); fill-opacity: 1; white-space: pre; opacity: 1;\" transform=\"translate(0,346.38)\">0.06</text></g><g class=\"y4tick\"><text text-anchor=\"end\" x=\"513.5\" y=\"4.199999999999999\" style=\"font-family: 'Open Sans', verdana, arial, sans-serif; font-size: 12px; fill: rgb(42, 63, 95); fill-opacity: 1; white-space: pre; opacity: 1;\" transform=\"translate(0,323.58)\">0.07</text></g></g><g class=\"overaxes-above\"/></g><g class=\"subplot x5y5\"><g class=\"layer-subplot\"><g class=\"shapelayer\"/><g class=\"imagelayer\"/></g><g class=\"minor-gridlayer\"><g class=\"x5\"/><g class=\"y5\"/></g><g class=\"gridlayer\"><g class=\"x5\"><path class=\"x5grid crisp\" transform=\"translate(227.51,0)\" d=\"M0,505v112.5\" style=\"stroke: rgb(255, 255, 255); stroke-opacity: 1; stroke-width: 1px;\"/><path class=\"x5grid crisp\" transform=\"translate(353.5,0)\" d=\"M0,505v112.5\" style=\"stroke: rgb(255, 255, 255); stroke-opacity: 1; stroke-width: 1px;\"/></g><g class=\"y5\"><path class=\"y5grid crisp\" transform=\"translate(0,605.35)\" d=\"M80,0h355.5\" style=\"stroke: rgb(255, 255, 255); stroke-opacity: 1; stroke-width: 1px;\"/><path class=\"y5grid crisp\" transform=\"translate(0,575.34)\" d=\"M80,0h355.5\" style=\"stroke: rgb(255, 255, 255); stroke-opacity: 1; stroke-width: 1px;\"/><path class=\"y5grid crisp\" transform=\"translate(0,545.33)\" d=\"M80,0h355.5\" style=\"stroke: rgb(255, 255, 255); stroke-opacity: 1; stroke-width: 1px;\"/><path class=\"y5grid crisp\" transform=\"translate(0,515.33)\" d=\"M80,0h355.5\" style=\"stroke: rgb(255, 255, 255); stroke-opacity: 1; stroke-width: 1px;\"/></g></g><g class=\"zerolinelayer\"><path class=\"x5zl zl crisp\" transform=\"translate(101.53,0)\" d=\"M0,505v112.5\" style=\"stroke: rgb(255, 255, 255); stroke-opacity: 1; stroke-width: 2px;\"/></g><path class=\"xlines-below\"/><path class=\"ylines-below\"/><g class=\"overlines-below\"/><g class=\"xaxislayer-below\"/><g class=\"yaxislayer-below\"/><g class=\"overaxes-below\"/><g class=\"plot\" transform=\"translate(80,505)\" clip-path=\"url(#clip8e537fx5y5plot)\"><g class=\"scatterlayer mlayer\"><g class=\"trace scatter trace60c481\" style=\"stroke-miterlimit: 2; opacity: 1;\"><g class=\"fills\"/><g class=\"errorbars\"/><g class=\"lines\"><path class=\"js-line\" d=\"M21.53,103.13L24.04,40.5L26.56,35.83L29.08,34.51L31.6,26.64L34.12,28.14L36.64,30.88L41.68,18.76L44.2,13.87L46.72,13.73L49.24,10.5L54.28,13.12L56.8,11.91L59.32,13.02L61.84,16.05L64.36,12.41L66.88,10.39L71.92,11.14L74.44,11.52L76.96,11.76L79.48,13.3L84.52,14.21L87.04,13.53L89.56,13.6L92.08,12.83L94.6,14.41L97.12,13.91L99.64,12.44L102.16,12.15L104.68,11.6L107.2,12.13L112.24,11.39L114.76,12.01L117.28,13.26L119.8,11.59L122.32,11.9L124.84,11.23L127.35,12.02L129.87,10.74L134.91,9.56L137.43,10.61L142.47,10.9L144.99,10.02L147.51,9.37L150.03,9.78L155.07,12.42L157.59,12.45L170.19,14.41L172.71,13.49L175.23,14.44L177.75,13.12L182.79,14.05L185.31,13.68L195.39,12.96L197.91,13.32L200.43,13.57L202.95,14.59L205.47,15.09L207.99,14.42L218.07,13.78L220.59,14.56L223.11,15.27L225.63,15L235.7,15.46L238.22,15.09L240.74,15.88L243.26,15.2L248.3,16.56L250.82,16.39L253.34,17.21L255.86,16.71L260.9,16.89L263.42,15.94L265.94,16.64L268.46,16.33L270.98,17.15L273.5,16.84L276.02,17.11L278.54,18.23L281.06,18.77L283.58,18.31L291.14,19.46L293.66,18.31L306.26,16.89L308.78,17.2L313.82,17.77L316.34,16.83L326.42,15.72L328.94,16.43L333.98,16.6\" style=\"vector-effect: none; fill: none; stroke: rgb(18, 165, 121); stroke-opacity: 1; stroke-width: 2px; opacity: 1;\"/></g><g class=\"points\"><path class=\"point\" transform=\"translate(21.53,103.13)\" d=\"M3,0A3,3 0 1,1 0,-3A3,3 0 0,1 3,0Z\" style=\"opacity: 1; stroke-width: 0px; fill: rgb(18, 165, 121); fill-opacity: 1;\"/><path class=\"point\" transform=\"translate(24.04,40.5)\" d=\"M3,0A3,3 0 1,1 0,-3A3,3 0 0,1 3,0Z\" style=\"opacity: 1; stroke-width: 0px; fill: rgb(18, 165, 121); fill-opacity: 1;\"/><path class=\"point\" transform=\"translate(26.56,35.83)\" d=\"M3,0A3,3 0 1,1 0,-3A3,3 0 0,1 3,0Z\" style=\"opacity: 1; stroke-width: 0px; fill: rgb(18, 165, 121); fill-opacity: 1;\"/><path class=\"point\" transform=\"translate(29.08,34.51)\" d=\"M3,0A3,3 0 1,1 0,-3A3,3 0 0,1 3,0Z\" style=\"opacity: 1; stroke-width: 0px; fill: rgb(18, 165, 121); fill-opacity: 1;\"/><path class=\"point\" transform=\"translate(31.6,26.64)\" d=\"M3,0A3,3 0 1,1 0,-3A3,3 0 0,1 3,0Z\" style=\"opacity: 1; stroke-width: 0px; fill: rgb(18, 165, 121); fill-opacity: 1;\"/><path class=\"point\" transform=\"translate(34.12,28.14)\" d=\"M3,0A3,3 0 1,1 0,-3A3,3 0 0,1 3,0Z\" style=\"opacity: 1; stroke-width: 0px; fill: rgb(18, 165, 121); fill-opacity: 1;\"/><path class=\"point\" transform=\"translate(36.64,30.88)\" d=\"M3,0A3,3 0 1,1 0,-3A3,3 0 0,1 3,0Z\" style=\"opacity: 1; stroke-width: 0px; fill: rgb(18, 165, 121); fill-opacity: 1;\"/><path class=\"point\" transform=\"translate(39.16,24.21)\" d=\"M3,0A3,3 0 1,1 0,-3A3,3 0 0,1 3,0Z\" style=\"opacity: 1; stroke-width: 0px; fill: rgb(18, 165, 121); fill-opacity: 1;\"/><path class=\"point\" transform=\"translate(41.68,18.76)\" d=\"M3,0A3,3 0 1,1 0,-3A3,3 0 0,1 3,0Z\" style=\"opacity: 1; stroke-width: 0px; fill: rgb(18, 165, 121); fill-opacity: 1;\"/><path class=\"point\" transform=\"translate(44.2,13.87)\" d=\"M3,0A3,3 0 1,1 0,-3A3,3 0 0,1 3,0Z\" style=\"opacity: 1; stroke-width: 0px; fill: rgb(18, 165, 121); fill-opacity: 1;\"/><path class=\"point\" transform=\"translate(46.72,13.73)\" d=\"M3,0A3,3 0 1,1 0,-3A3,3 0 0,1 3,0Z\" style=\"opacity: 1; stroke-width: 0px; fill: rgb(18, 165, 121); fill-opacity: 1;\"/><path class=\"point\" transform=\"translate(49.24,10.5)\" d=\"M3,0A3,3 0 1,1 0,-3A3,3 0 0,1 3,0Z\" style=\"opacity: 1; stroke-width: 0px; fill: rgb(18, 165, 121); fill-opacity: 1;\"/><path class=\"point\" transform=\"translate(51.76,11.87)\" d=\"M3,0A3,3 0 1,1 0,-3A3,3 0 0,1 3,0Z\" style=\"opacity: 1; stroke-width: 0px; fill: rgb(18, 165, 121); fill-opacity: 1;\"/><path class=\"point\" transform=\"translate(54.28,13.12)\" d=\"M3,0A3,3 0 1,1 0,-3A3,3 0 0,1 3,0Z\" style=\"opacity: 1; stroke-width: 0px; fill: rgb(18, 165, 121); fill-opacity: 1;\"/><path class=\"point\" transform=\"translate(56.8,11.91)\" d=\"M3,0A3,3 0 1,1 0,-3A3,3 0 0,1 3,0Z\" style=\"opacity: 1; stroke-width: 0px; fill: rgb(18, 165, 121); fill-opacity: 1;\"/><path class=\"point\" transform=\"translate(59.32,13.02)\" d=\"M3,0A3,3 0 1,1 0,-3A3,3 0 0,1 3,0Z\" style=\"opacity: 1; stroke-width: 0px; fill: rgb(18, 165, 121); fill-opacity: 1;\"/><path class=\"point\" transform=\"translate(61.84,16.05)\" d=\"M3,0A3,3 0 1,1 0,-3A3,3 0 0,1 3,0Z\" style=\"opacity: 1; stroke-width: 0px; fill: rgb(18, 165, 121); fill-opacity: 1;\"/><path class=\"point\" transform=\"translate(64.36,12.41)\" d=\"M3,0A3,3 0 1,1 0,-3A3,3 0 0,1 3,0Z\" style=\"opacity: 1; stroke-width: 0px; fill: rgb(18, 165, 121); fill-opacity: 1;\"/><path class=\"point\" transform=\"translate(66.88,10.39)\" d=\"M3,0A3,3 0 1,1 0,-3A3,3 0 0,1 3,0Z\" style=\"opacity: 1; stroke-width: 0px; fill: rgb(18, 165, 121); fill-opacity: 1;\"/><path class=\"point\" transform=\"translate(69.4,11.09)\" d=\"M3,0A3,3 0 1,1 0,-3A3,3 0 0,1 3,0Z\" style=\"opacity: 1; stroke-width: 0px; fill: rgb(18, 165, 121); fill-opacity: 1;\"/><path class=\"point\" transform=\"translate(71.92,11.14)\" d=\"M3,0A3,3 0 1,1 0,-3A3,3 0 0,1 3,0Z\" style=\"opacity: 1; stroke-width: 0px; fill: rgb(18, 165, 121); fill-opacity: 1;\"/><path class=\"point\" transform=\"translate(74.44,11.52)\" d=\"M3,0A3,3 0 1,1 0,-3A3,3 0 0,1 3,0Z\" style=\"opacity: 1; stroke-width: 0px; fill: rgb(18, 165, 121); fill-opacity: 1;\"/><path class=\"point\" transform=\"translate(76.96,11.76)\" d=\"M3,0A3,3 0 1,1 0,-3A3,3 0 0,1 3,0Z\" style=\"opacity: 1; stroke-width: 0px; fill: rgb(18, 165, 121); fill-opacity: 1;\"/><path class=\"point\" transform=\"translate(79.48,13.3)\" d=\"M3,0A3,3 0 1,1 0,-3A3,3 0 0,1 3,0Z\" style=\"opacity: 1; stroke-width: 0px; fill: rgb(18, 165, 121); fill-opacity: 1;\"/><path class=\"point\" transform=\"translate(82,13.88)\" d=\"M3,0A3,3 0 1,1 0,-3A3,3 0 0,1 3,0Z\" style=\"opacity: 1; stroke-width: 0px; fill: rgb(18, 165, 121); fill-opacity: 1;\"/><path class=\"point\" transform=\"translate(84.52,14.21)\" d=\"M3,0A3,3 0 1,1 0,-3A3,3 0 0,1 3,0Z\" style=\"opacity: 1; stroke-width: 0px; fill: rgb(18, 165, 121); fill-opacity: 1;\"/><path class=\"point\" transform=\"translate(87.04,13.53)\" d=\"M3,0A3,3 0 1,1 0,-3A3,3 0 0,1 3,0Z\" style=\"opacity: 1; stroke-width: 0px; fill: rgb(18, 165, 121); fill-opacity: 1;\"/><path class=\"point\" transform=\"translate(89.56,13.6)\" d=\"M3,0A3,3 0 1,1 0,-3A3,3 0 0,1 3,0Z\" style=\"opacity: 1; stroke-width: 0px; fill: rgb(18, 165, 121); fill-opacity: 1;\"/><path class=\"point\" transform=\"translate(92.08,12.83)\" d=\"M3,0A3,3 0 1,1 0,-3A3,3 0 0,1 3,0Z\" style=\"opacity: 1; stroke-width: 0px; fill: rgb(18, 165, 121); fill-opacity: 1;\"/><path class=\"point\" transform=\"translate(94.6,14.41)\" d=\"M3,0A3,3 0 1,1 0,-3A3,3 0 0,1 3,0Z\" style=\"opacity: 1; stroke-width: 0px; fill: rgb(18, 165, 121); fill-opacity: 1;\"/><path class=\"point\" transform=\"translate(97.12,13.91)\" d=\"M3,0A3,3 0 1,1 0,-3A3,3 0 0,1 3,0Z\" style=\"opacity: 1; stroke-width: 0px; fill: rgb(18, 165, 121); fill-opacity: 1;\"/><path class=\"point\" transform=\"translate(99.64,12.44)\" d=\"M3,0A3,3 0 1,1 0,-3A3,3 0 0,1 3,0Z\" style=\"opacity: 1; stroke-width: 0px; fill: rgb(18, 165, 121); fill-opacity: 1;\"/><path class=\"point\" transform=\"translate(102.16,12.15)\" d=\"M3,0A3,3 0 1,1 0,-3A3,3 0 0,1 3,0Z\" style=\"opacity: 1; stroke-width: 0px; fill: rgb(18, 165, 121); fill-opacity: 1;\"/><path class=\"point\" transform=\"translate(104.68,11.6)\" d=\"M3,0A3,3 0 1,1 0,-3A3,3 0 0,1 3,0Z\" style=\"opacity: 1; stroke-width: 0px; fill: rgb(18, 165, 121); fill-opacity: 1;\"/><path class=\"point\" transform=\"translate(107.2,12.13)\" d=\"M3,0A3,3 0 1,1 0,-3A3,3 0 0,1 3,0Z\" style=\"opacity: 1; stroke-width: 0px; fill: rgb(18, 165, 121); fill-opacity: 1;\"/><path class=\"point\" transform=\"translate(109.72,11.94)\" d=\"M3,0A3,3 0 1,1 0,-3A3,3 0 0,1 3,0Z\" style=\"opacity: 1; stroke-width: 0px; fill: rgb(18, 165, 121); fill-opacity: 1;\"/><path class=\"point\" transform=\"translate(112.24,11.39)\" d=\"M3,0A3,3 0 1,1 0,-3A3,3 0 0,1 3,0Z\" style=\"opacity: 1; stroke-width: 0px; fill: rgb(18, 165, 121); fill-opacity: 1;\"/><path class=\"point\" transform=\"translate(114.76,12.01)\" d=\"M3,0A3,3 0 1,1 0,-3A3,3 0 0,1 3,0Z\" style=\"opacity: 1; stroke-width: 0px; fill: rgb(18, 165, 121); fill-opacity: 1;\"/><path class=\"point\" transform=\"translate(117.28,13.26)\" d=\"M3,0A3,3 0 1,1 0,-3A3,3 0 0,1 3,0Z\" style=\"opacity: 1; stroke-width: 0px; fill: rgb(18, 165, 121); fill-opacity: 1;\"/><path class=\"point\" transform=\"translate(119.8,11.59)\" d=\"M3,0A3,3 0 1,1 0,-3A3,3 0 0,1 3,0Z\" style=\"opacity: 1; stroke-width: 0px; fill: rgb(18, 165, 121); fill-opacity: 1;\"/><path class=\"point\" transform=\"translate(122.32,11.9)\" d=\"M3,0A3,3 0 1,1 0,-3A3,3 0 0,1 3,0Z\" style=\"opacity: 1; stroke-width: 0px; fill: rgb(18, 165, 121); fill-opacity: 1;\"/><path class=\"point\" transform=\"translate(124.84,11.23)\" d=\"M3,0A3,3 0 1,1 0,-3A3,3 0 0,1 3,0Z\" style=\"opacity: 1; stroke-width: 0px; fill: rgb(18, 165, 121); fill-opacity: 1;\"/><path class=\"point\" transform=\"translate(127.35,12.02)\" d=\"M3,0A3,3 0 1,1 0,-3A3,3 0 0,1 3,0Z\" style=\"opacity: 1; stroke-width: 0px; fill: rgb(18, 165, 121); fill-opacity: 1;\"/><path class=\"point\" transform=\"translate(129.87,10.74)\" d=\"M3,0A3,3 0 1,1 0,-3A3,3 0 0,1 3,0Z\" style=\"opacity: 1; stroke-width: 0px; fill: rgb(18, 165, 121); fill-opacity: 1;\"/><path class=\"point\" transform=\"translate(132.39,10)\" d=\"M3,0A3,3 0 1,1 0,-3A3,3 0 0,1 3,0Z\" style=\"opacity: 1; stroke-width: 0px; fill: rgb(18, 165, 121); fill-opacity: 1;\"/><path class=\"point\" transform=\"translate(134.91,9.56)\" d=\"M3,0A3,3 0 1,1 0,-3A3,3 0 0,1 3,0Z\" style=\"opacity: 1; stroke-width: 0px; fill: rgb(18, 165, 121); fill-opacity: 1;\"/><path class=\"point\" transform=\"translate(137.43,10.61)\" d=\"M3,0A3,3 0 1,1 0,-3A3,3 0 0,1 3,0Z\" style=\"opacity: 1; stroke-width: 0px; fill: rgb(18, 165, 121); fill-opacity: 1;\"/><path class=\"point\" transform=\"translate(139.95,11.06)\" d=\"M3,0A3,3 0 1,1 0,-3A3,3 0 0,1 3,0Z\" style=\"opacity: 1; stroke-width: 0px; fill: rgb(18, 165, 121); fill-opacity: 1;\"/><path class=\"point\" transform=\"translate(142.47,10.9)\" d=\"M3,0A3,3 0 1,1 0,-3A3,3 0 0,1 3,0Z\" style=\"opacity: 1; stroke-width: 0px; fill: rgb(18, 165, 121); fill-opacity: 1;\"/><path class=\"point\" transform=\"translate(144.99,10.02)\" d=\"M3,0A3,3 0 1,1 0,-3A3,3 0 0,1 3,0Z\" style=\"opacity: 1; stroke-width: 0px; fill: rgb(18, 165, 121); fill-opacity: 1;\"/><path class=\"point\" transform=\"translate(147.51,9.37)\" d=\"M3,0A3,3 0 1,1 0,-3A3,3 0 0,1 3,0Z\" style=\"opacity: 1; stroke-width: 0px; fill: rgb(18, 165, 121); fill-opacity: 1;\"/><path class=\"point\" transform=\"translate(150.03,9.78)\" d=\"M3,0A3,3 0 1,1 0,-3A3,3 0 0,1 3,0Z\" style=\"opacity: 1; stroke-width: 0px; fill: rgb(18, 165, 121); fill-opacity: 1;\"/><path class=\"point\" transform=\"translate(152.55,11.03)\" d=\"M3,0A3,3 0 1,1 0,-3A3,3 0 0,1 3,0Z\" style=\"opacity: 1; stroke-width: 0px; fill: rgb(18, 165, 121); fill-opacity: 1;\"/><path class=\"point\" transform=\"translate(155.07,12.42)\" d=\"M3,0A3,3 0 1,1 0,-3A3,3 0 0,1 3,0Z\" style=\"opacity: 1; stroke-width: 0px; fill: rgb(18, 165, 121); fill-opacity: 1;\"/><path class=\"point\" transform=\"translate(157.59,12.45)\" d=\"M3,0A3,3 0 1,1 0,-3A3,3 0 0,1 3,0Z\" style=\"opacity: 1; stroke-width: 0px; fill: rgb(18, 165, 121); fill-opacity: 1;\"/><path class=\"point\" transform=\"translate(160.11,12.85)\" d=\"M3,0A3,3 0 1,1 0,-3A3,3 0 0,1 3,0Z\" style=\"opacity: 1; stroke-width: 0px; fill: rgb(18, 165, 121); fill-opacity: 1;\"/><path class=\"point\" transform=\"translate(162.63,12.58)\" d=\"M3,0A3,3 0 1,1 0,-3A3,3 0 0,1 3,0Z\" style=\"opacity: 1; stroke-width: 0px; fill: rgb(18, 165, 121); fill-opacity: 1;\"/><path class=\"point\" transform=\"translate(165.15,13.46)\" d=\"M3,0A3,3 0 1,1 0,-3A3,3 0 0,1 3,0Z\" style=\"opacity: 1; stroke-width: 0px; fill: rgb(18, 165, 121); fill-opacity: 1;\"/><path class=\"point\" transform=\"translate(167.67,13.97)\" d=\"M3,0A3,3 0 1,1 0,-3A3,3 0 0,1 3,0Z\" style=\"opacity: 1; stroke-width: 0px; fill: rgb(18, 165, 121); fill-opacity: 1;\"/><path class=\"point\" transform=\"translate(170.19,14.41)\" d=\"M3,0A3,3 0 1,1 0,-3A3,3 0 0,1 3,0Z\" style=\"opacity: 1; stroke-width: 0px; fill: rgb(18, 165, 121); fill-opacity: 1;\"/><path class=\"point\" transform=\"translate(172.71,13.49)\" d=\"M3,0A3,3 0 1,1 0,-3A3,3 0 0,1 3,0Z\" style=\"opacity: 1; stroke-width: 0px; fill: rgb(18, 165, 121); fill-opacity: 1;\"/><path class=\"point\" transform=\"translate(175.23,14.44)\" d=\"M3,0A3,3 0 1,1 0,-3A3,3 0 0,1 3,0Z\" style=\"opacity: 1; stroke-width: 0px; fill: rgb(18, 165, 121); fill-opacity: 1;\"/><path class=\"point\" transform=\"translate(177.75,13.12)\" d=\"M3,0A3,3 0 1,1 0,-3A3,3 0 0,1 3,0Z\" style=\"opacity: 1; stroke-width: 0px; fill: rgb(18, 165, 121); fill-opacity: 1;\"/><path class=\"point\" transform=\"translate(180.27,13.7)\" d=\"M3,0A3,3 0 1,1 0,-3A3,3 0 0,1 3,0Z\" style=\"opacity: 1; stroke-width: 0px; fill: rgb(18, 165, 121); fill-opacity: 1;\"/><path class=\"point\" transform=\"translate(182.79,14.05)\" d=\"M3,0A3,3 0 1,1 0,-3A3,3 0 0,1 3,0Z\" style=\"opacity: 1; stroke-width: 0px; fill: rgb(18, 165, 121); fill-opacity: 1;\"/><path class=\"point\" transform=\"translate(185.31,13.68)\" d=\"M3,0A3,3 0 1,1 0,-3A3,3 0 0,1 3,0Z\" style=\"opacity: 1; stroke-width: 0px; fill: rgb(18, 165, 121); fill-opacity: 1;\"/><path class=\"point\" transform=\"translate(187.83,13.4)\" d=\"M3,0A3,3 0 1,1 0,-3A3,3 0 0,1 3,0Z\" style=\"opacity: 1; stroke-width: 0px; fill: rgb(18, 165, 121); fill-opacity: 1;\"/><path class=\"point\" transform=\"translate(190.35,13.4)\" d=\"M3,0A3,3 0 1,1 0,-3A3,3 0 0,1 3,0Z\" style=\"opacity: 1; stroke-width: 0px; fill: rgb(18, 165, 121); fill-opacity: 1;\"/><path class=\"point\" transform=\"translate(192.87,12.63)\" d=\"M3,0A3,3 0 1,1 0,-3A3,3 0 0,1 3,0Z\" style=\"opacity: 1; stroke-width: 0px; fill: rgb(18, 165, 121); fill-opacity: 1;\"/><path class=\"point\" transform=\"translate(195.39,12.96)\" d=\"M3,0A3,3 0 1,1 0,-3A3,3 0 0,1 3,0Z\" style=\"opacity: 1; stroke-width: 0px; fill: rgb(18, 165, 121); fill-opacity: 1;\"/><path class=\"point\" transform=\"translate(197.91,13.32)\" d=\"M3,0A3,3 0 1,1 0,-3A3,3 0 0,1 3,0Z\" style=\"opacity: 1; stroke-width: 0px; fill: rgb(18, 165, 121); fill-opacity: 1;\"/><path class=\"point\" transform=\"translate(200.43,13.57)\" d=\"M3,0A3,3 0 1,1 0,-3A3,3 0 0,1 3,0Z\" style=\"opacity: 1; stroke-width: 0px; fill: rgb(18, 165, 121); fill-opacity: 1;\"/><path class=\"point\" transform=\"translate(202.95,14.59)\" d=\"M3,0A3,3 0 1,1 0,-3A3,3 0 0,1 3,0Z\" style=\"opacity: 1; stroke-width: 0px; fill: rgb(18, 165, 121); fill-opacity: 1;\"/><path class=\"point\" transform=\"translate(205.47,15.09)\" d=\"M3,0A3,3 0 1,1 0,-3A3,3 0 0,1 3,0Z\" style=\"opacity: 1; stroke-width: 0px; fill: rgb(18, 165, 121); fill-opacity: 1;\"/><path class=\"point\" transform=\"translate(207.99,14.42)\" d=\"M3,0A3,3 0 1,1 0,-3A3,3 0 0,1 3,0Z\" style=\"opacity: 1; stroke-width: 0px; fill: rgb(18, 165, 121); fill-opacity: 1;\"/><path class=\"point\" transform=\"translate(210.51,14.32)\" d=\"M3,0A3,3 0 1,1 0,-3A3,3 0 0,1 3,0Z\" style=\"opacity: 1; stroke-width: 0px; fill: rgb(18, 165, 121); fill-opacity: 1;\"/><path class=\"point\" transform=\"translate(213.03,14.29)\" d=\"M3,0A3,3 0 1,1 0,-3A3,3 0 0,1 3,0Z\" style=\"opacity: 1; stroke-width: 0px; fill: rgb(18, 165, 121); fill-opacity: 1;\"/><path class=\"point\" transform=\"translate(215.55,14.29)\" d=\"M3,0A3,3 0 1,1 0,-3A3,3 0 0,1 3,0Z\" style=\"opacity: 1; stroke-width: 0px; fill: rgb(18, 165, 121); fill-opacity: 1;\"/><path class=\"point\" transform=\"translate(218.07,13.78)\" d=\"M3,0A3,3 0 1,1 0,-3A3,3 0 0,1 3,0Z\" style=\"opacity: 1; stroke-width: 0px; fill: rgb(18, 165, 121); fill-opacity: 1;\"/><path class=\"point\" transform=\"translate(220.59,14.56)\" d=\"M3,0A3,3 0 1,1 0,-3A3,3 0 0,1 3,0Z\" style=\"opacity: 1; stroke-width: 0px; fill: rgb(18, 165, 121); fill-opacity: 1;\"/><path class=\"point\" transform=\"translate(223.11,15.27)\" d=\"M3,0A3,3 0 1,1 0,-3A3,3 0 0,1 3,0Z\" style=\"opacity: 1; stroke-width: 0px; fill: rgb(18, 165, 121); fill-opacity: 1;\"/><path class=\"point\" transform=\"translate(225.63,15)\" d=\"M3,0A3,3 0 1,1 0,-3A3,3 0 0,1 3,0Z\" style=\"opacity: 1; stroke-width: 0px; fill: rgb(18, 165, 121); fill-opacity: 1;\"/><path class=\"point\" transform=\"translate(228.15,15.17)\" d=\"M3,0A3,3 0 1,1 0,-3A3,3 0 0,1 3,0Z\" style=\"opacity: 1; stroke-width: 0px; fill: rgb(18, 165, 121); fill-opacity: 1;\"/><path class=\"point\" transform=\"translate(230.66,15.24)\" d=\"M3,0A3,3 0 1,1 0,-3A3,3 0 0,1 3,0Z\" style=\"opacity: 1; stroke-width: 0px; fill: rgb(18, 165, 121); fill-opacity: 1;\"/><path class=\"point\" transform=\"translate(233.18,15.37)\" d=\"M3,0A3,3 0 1,1 0,-3A3,3 0 0,1 3,0Z\" style=\"opacity: 1; stroke-width: 0px; fill: rgb(18, 165, 121); fill-opacity: 1;\"/><path class=\"point\" transform=\"translate(235.7,15.46)\" d=\"M3,0A3,3 0 1,1 0,-3A3,3 0 0,1 3,0Z\" style=\"opacity: 1; stroke-width: 0px; fill: rgb(18, 165, 121); fill-opacity: 1;\"/><path class=\"point\" transform=\"translate(238.22,15.09)\" d=\"M3,0A3,3 0 1,1 0,-3A3,3 0 0,1 3,0Z\" style=\"opacity: 1; stroke-width: 0px; fill: rgb(18, 165, 121); fill-opacity: 1;\"/><path class=\"point\" transform=\"translate(240.74,15.88)\" d=\"M3,0A3,3 0 1,1 0,-3A3,3 0 0,1 3,0Z\" style=\"opacity: 1; stroke-width: 0px; fill: rgb(18, 165, 121); fill-opacity: 1;\"/><path class=\"point\" transform=\"translate(243.26,15.2)\" d=\"M3,0A3,3 0 1,1 0,-3A3,3 0 0,1 3,0Z\" style=\"opacity: 1; stroke-width: 0px; fill: rgb(18, 165, 121); fill-opacity: 1;\"/><path class=\"point\" transform=\"translate(245.78,16.02)\" d=\"M3,0A3,3 0 1,1 0,-3A3,3 0 0,1 3,0Z\" style=\"opacity: 1; stroke-width: 0px; fill: rgb(18, 165, 121); fill-opacity: 1;\"/><path class=\"point\" transform=\"translate(248.3,16.56)\" d=\"M3,0A3,3 0 1,1 0,-3A3,3 0 0,1 3,0Z\" style=\"opacity: 1; stroke-width: 0px; fill: rgb(18, 165, 121); fill-opacity: 1;\"/><path class=\"point\" transform=\"translate(250.82,16.39)\" d=\"M3,0A3,3 0 1,1 0,-3A3,3 0 0,1 3,0Z\" style=\"opacity: 1; stroke-width: 0px; fill: rgb(18, 165, 121); fill-opacity: 1;\"/><path class=\"point\" transform=\"translate(253.34,17.21)\" d=\"M3,0A3,3 0 1,1 0,-3A3,3 0 0,1 3,0Z\" style=\"opacity: 1; stroke-width: 0px; fill: rgb(18, 165, 121); fill-opacity: 1;\"/><path class=\"point\" transform=\"translate(255.86,16.71)\" d=\"M3,0A3,3 0 1,1 0,-3A3,3 0 0,1 3,0Z\" style=\"opacity: 1; stroke-width: 0px; fill: rgb(18, 165, 121); fill-opacity: 1;\"/><path class=\"point\" transform=\"translate(258.38,16.99)\" d=\"M3,0A3,3 0 1,1 0,-3A3,3 0 0,1 3,0Z\" style=\"opacity: 1; stroke-width: 0px; fill: rgb(18, 165, 121); fill-opacity: 1;\"/><path class=\"point\" transform=\"translate(260.9,16.89)\" d=\"M3,0A3,3 0 1,1 0,-3A3,3 0 0,1 3,0Z\" style=\"opacity: 1; stroke-width: 0px; fill: rgb(18, 165, 121); fill-opacity: 1;\"/><path class=\"point\" transform=\"translate(263.42,15.94)\" d=\"M3,0A3,3 0 1,1 0,-3A3,3 0 0,1 3,0Z\" style=\"opacity: 1; stroke-width: 0px; fill: rgb(18, 165, 121); fill-opacity: 1;\"/><path class=\"point\" transform=\"translate(265.94,16.64)\" d=\"M3,0A3,3 0 1,1 0,-3A3,3 0 0,1 3,0Z\" style=\"opacity: 1; stroke-width: 0px; fill: rgb(18, 165, 121); fill-opacity: 1;\"/><path class=\"point\" transform=\"translate(268.46,16.33)\" d=\"M3,0A3,3 0 1,1 0,-3A3,3 0 0,1 3,0Z\" style=\"opacity: 1; stroke-width: 0px; fill: rgb(18, 165, 121); fill-opacity: 1;\"/><path class=\"point\" transform=\"translate(270.98,17.15)\" d=\"M3,0A3,3 0 1,1 0,-3A3,3 0 0,1 3,0Z\" style=\"opacity: 1; stroke-width: 0px; fill: rgb(18, 165, 121); fill-opacity: 1;\"/><path class=\"point\" transform=\"translate(273.5,16.84)\" d=\"M3,0A3,3 0 1,1 0,-3A3,3 0 0,1 3,0Z\" style=\"opacity: 1; stroke-width: 0px; fill: rgb(18, 165, 121); fill-opacity: 1;\"/><path class=\"point\" transform=\"translate(276.02,17.11)\" d=\"M3,0A3,3 0 1,1 0,-3A3,3 0 0,1 3,0Z\" style=\"opacity: 1; stroke-width: 0px; fill: rgb(18, 165, 121); fill-opacity: 1;\"/><path class=\"point\" transform=\"translate(278.54,18.23)\" d=\"M3,0A3,3 0 1,1 0,-3A3,3 0 0,1 3,0Z\" style=\"opacity: 1; stroke-width: 0px; fill: rgb(18, 165, 121); fill-opacity: 1;\"/><path class=\"point\" transform=\"translate(281.06,18.77)\" d=\"M3,0A3,3 0 1,1 0,-3A3,3 0 0,1 3,0Z\" style=\"opacity: 1; stroke-width: 0px; fill: rgb(18, 165, 121); fill-opacity: 1;\"/><path class=\"point\" transform=\"translate(283.58,18.31)\" d=\"M3,0A3,3 0 1,1 0,-3A3,3 0 0,1 3,0Z\" style=\"opacity: 1; stroke-width: 0px; fill: rgb(18, 165, 121); fill-opacity: 1;\"/><path class=\"point\" transform=\"translate(286.1,18.82)\" d=\"M3,0A3,3 0 1,1 0,-3A3,3 0 0,1 3,0Z\" style=\"opacity: 1; stroke-width: 0px; fill: rgb(18, 165, 121); fill-opacity: 1;\"/><path class=\"point\" transform=\"translate(288.62,19.5)\" d=\"M3,0A3,3 0 1,1 0,-3A3,3 0 0,1 3,0Z\" style=\"opacity: 1; stroke-width: 0px; fill: rgb(18, 165, 121); fill-opacity: 1;\"/><path class=\"point\" transform=\"translate(291.14,19.46)\" d=\"M3,0A3,3 0 1,1 0,-3A3,3 0 0,1 3,0Z\" style=\"opacity: 1; stroke-width: 0px; fill: rgb(18, 165, 121); fill-opacity: 1;\"/><path class=\"point\" transform=\"translate(293.66,18.31)\" d=\"M3,0A3,3 0 1,1 0,-3A3,3 0 0,1 3,0Z\" style=\"opacity: 1; stroke-width: 0px; fill: rgb(18, 165, 121); fill-opacity: 1;\"/><path class=\"point\" transform=\"translate(296.18,18.08)\" d=\"M3,0A3,3 0 1,1 0,-3A3,3 0 0,1 3,0Z\" style=\"opacity: 1; stroke-width: 0px; fill: rgb(18, 165, 121); fill-opacity: 1;\"/><path class=\"point\" transform=\"translate(298.7,17.94)\" d=\"M3,0A3,3 0 1,1 0,-3A3,3 0 0,1 3,0Z\" style=\"opacity: 1; stroke-width: 0px; fill: rgb(18, 165, 121); fill-opacity: 1;\"/><path class=\"point\" transform=\"translate(301.22,17.44)\" d=\"M3,0A3,3 0 1,1 0,-3A3,3 0 0,1 3,0Z\" style=\"opacity: 1; stroke-width: 0px; fill: rgb(18, 165, 121); fill-opacity: 1;\"/><path class=\"point\" transform=\"translate(303.74,16.73)\" d=\"M3,0A3,3 0 1,1 0,-3A3,3 0 0,1 3,0Z\" style=\"opacity: 1; stroke-width: 0px; fill: rgb(18, 165, 121); fill-opacity: 1;\"/><path class=\"point\" transform=\"translate(306.26,16.89)\" d=\"M3,0A3,3 0 1,1 0,-3A3,3 0 0,1 3,0Z\" style=\"opacity: 1; stroke-width: 0px; fill: rgb(18, 165, 121); fill-opacity: 1;\"/><path class=\"point\" transform=\"translate(308.78,17.2)\" d=\"M3,0A3,3 0 1,1 0,-3A3,3 0 0,1 3,0Z\" style=\"opacity: 1; stroke-width: 0px; fill: rgb(18, 165, 121); fill-opacity: 1;\"/><path class=\"point\" transform=\"translate(311.3,17.4)\" d=\"M3,0A3,3 0 1,1 0,-3A3,3 0 0,1 3,0Z\" style=\"opacity: 1; stroke-width: 0px; fill: rgb(18, 165, 121); fill-opacity: 1;\"/><path class=\"point\" transform=\"translate(313.82,17.77)\" d=\"M3,0A3,3 0 1,1 0,-3A3,3 0 0,1 3,0Z\" style=\"opacity: 1; stroke-width: 0px; fill: rgb(18, 165, 121); fill-opacity: 1;\"/><path class=\"point\" transform=\"translate(316.34,16.83)\" d=\"M3,0A3,3 0 1,1 0,-3A3,3 0 0,1 3,0Z\" style=\"opacity: 1; stroke-width: 0px; fill: rgb(18, 165, 121); fill-opacity: 1;\"/><path class=\"point\" transform=\"translate(318.86,16.52)\" d=\"M3,0A3,3 0 1,1 0,-3A3,3 0 0,1 3,0Z\" style=\"opacity: 1; stroke-width: 0px; fill: rgb(18, 165, 121); fill-opacity: 1;\"/><path class=\"point\" transform=\"translate(321.38,16.06)\" d=\"M3,0A3,3 0 1,1 0,-3A3,3 0 0,1 3,0Z\" style=\"opacity: 1; stroke-width: 0px; fill: rgb(18, 165, 121); fill-opacity: 1;\"/><path class=\"point\" transform=\"translate(323.9,16.37)\" d=\"M3,0A3,3 0 1,1 0,-3A3,3 0 0,1 3,0Z\" style=\"opacity: 1; stroke-width: 0px; fill: rgb(18, 165, 121); fill-opacity: 1;\"/><path class=\"point\" transform=\"translate(326.42,15.72)\" d=\"M3,0A3,3 0 1,1 0,-3A3,3 0 0,1 3,0Z\" style=\"opacity: 1; stroke-width: 0px; fill: rgb(18, 165, 121); fill-opacity: 1;\"/><path class=\"point\" transform=\"translate(328.94,16.43)\" d=\"M3,0A3,3 0 1,1 0,-3A3,3 0 0,1 3,0Z\" style=\"opacity: 1; stroke-width: 0px; fill: rgb(18, 165, 121); fill-opacity: 1;\"/><path class=\"point\" transform=\"translate(331.46,16.73)\" d=\"M3,0A3,3 0 1,1 0,-3A3,3 0 0,1 3,0Z\" style=\"opacity: 1; stroke-width: 0px; fill: rgb(18, 165, 121); fill-opacity: 1;\"/><path class=\"point\" transform=\"translate(333.98,16.6)\" d=\"M3,0A3,3 0 1,1 0,-3A3,3 0 0,1 3,0Z\" style=\"opacity: 1; stroke-width: 0px; fill: rgb(18, 165, 121); fill-opacity: 1;\"/></g><g class=\"text\"/></g></g></g><g class=\"overplot\"/><path class=\"xlines-above crisp\" d=\"M0,0\" style=\"fill: none;\"/><path class=\"ylines-above crisp\" d=\"M0,0\" style=\"fill: none;\"/><g class=\"overlines-above\"/><g class=\"xaxislayer-above\"><g class=\"x5tick\"><text text-anchor=\"middle\" x=\"0\" y=\"630.5\" transform=\"translate(101.53,0)\" style=\"font-family: 'Open Sans', verdana, arial, sans-serif; font-size: 12px; fill: rgb(42, 63, 95); fill-opacity: 1; white-space: pre; opacity: 1;\">0</text></g><g class=\"x5tick\"><text text-anchor=\"middle\" x=\"0\" y=\"630.5\" style=\"font-family: 'Open Sans', verdana, arial, sans-serif; font-size: 12px; fill: rgb(42, 63, 95); fill-opacity: 1; white-space: pre; opacity: 1;\" transform=\"translate(227.51,0)\">50</text></g><g class=\"x5tick\"><text text-anchor=\"middle\" x=\"0\" y=\"630.5\" style=\"font-family: 'Open Sans', verdana, arial, sans-serif; font-size: 12px; fill: rgb(42, 63, 95); fill-opacity: 1; white-space: pre; opacity: 1;\" transform=\"translate(353.5,0)\">100</text></g></g><g class=\"yaxislayer-above\"><g class=\"y5tick\"><text text-anchor=\"end\" x=\"79\" y=\"4.199999999999999\" transform=\"translate(0,605.35)\" style=\"font-family: 'Open Sans', verdana, arial, sans-serif; font-size: 12px; fill: rgb(42, 63, 95); fill-opacity: 1; white-space: pre; opacity: 1;\">0.74</text></g><g class=\"y5tick\"><text text-anchor=\"end\" x=\"79\" y=\"4.199999999999999\" style=\"font-family: 'Open Sans', verdana, arial, sans-serif; font-size: 12px; fill: rgb(42, 63, 95); fill-opacity: 1; white-space: pre; opacity: 1;\" transform=\"translate(0,575.34)\">0.76</text></g><g class=\"y5tick\"><text text-anchor=\"end\" x=\"79\" y=\"4.199999999999999\" style=\"font-family: 'Open Sans', verdana, arial, sans-serif; font-size: 12px; fill: rgb(42, 63, 95); fill-opacity: 1; white-space: pre; opacity: 1;\" transform=\"translate(0,545.33)\">0.78</text></g><g class=\"y5tick\"><text text-anchor=\"end\" x=\"79\" y=\"4.199999999999999\" style=\"font-family: 'Open Sans', verdana, arial, sans-serif; font-size: 12px; fill: rgb(42, 63, 95); fill-opacity: 1; white-space: pre; opacity: 1;\" transform=\"translate(0,515.33)\">0.8</text></g></g><g class=\"overaxes-above\"/></g><g class=\"subplot x6y6\"><g class=\"layer-subplot\"><g class=\"shapelayer\"/><g class=\"imagelayer\"/></g><g class=\"minor-gridlayer\"><g class=\"x6\"/><g class=\"y6\"/></g><g class=\"gridlayer\"><g class=\"x6\"><path class=\"x6grid crisp\" transform=\"translate(662.01,0)\" d=\"M0,505v112.5\" style=\"stroke: rgb(255, 255, 255); stroke-opacity: 1; stroke-width: 1px;\"/><path class=\"x6grid crisp\" transform=\"translate(788,0)\" d=\"M0,505v112.5\" style=\"stroke: rgb(255, 255, 255); stroke-opacity: 1; stroke-width: 1px;\"/></g><g class=\"y6\"><path class=\"y6grid crisp\" transform=\"translate(0,607.37)\" d=\"M514.5,0h355.49999999999994\" style=\"stroke: rgb(255, 255, 255); stroke-opacity: 1; stroke-width: 1px;\"/><path class=\"y6grid crisp\" transform=\"translate(0,572.73)\" d=\"M514.5,0h355.49999999999994\" style=\"stroke: rgb(255, 255, 255); stroke-opacity: 1; stroke-width: 1px;\"/><path class=\"y6grid crisp\" transform=\"translate(0,538.08)\" d=\"M514.5,0h355.49999999999994\" style=\"stroke: rgb(255, 255, 255); stroke-opacity: 1; stroke-width: 1px;\"/></g></g><g class=\"zerolinelayer\"><path class=\"x6zl zl crisp\" transform=\"translate(536.03,0)\" d=\"M0,505v112.5\" style=\"stroke: rgb(255, 255, 255); stroke-opacity: 1; stroke-width: 2px;\"/></g><path class=\"xlines-below\"/><path class=\"ylines-below\"/><g class=\"overlines-below\"/><g class=\"xaxislayer-below\"/><g class=\"yaxislayer-below\"/><g class=\"overaxes-below\"/><g class=\"plot\" transform=\"translate(514.5,505)\" clip-path=\"url(#clip8e537fx6y6plot)\"><g class=\"scatterlayer mlayer\"><g class=\"trace scatter traced459f4\" style=\"stroke-miterlimit: 2; opacity: 1;\"><g class=\"fills\"/><g class=\"errorbars\"/><g class=\"lines\"><path class=\"js-line\" d=\"M21.53,16.46L24.04,67.58L26.56,60.46L29.08,103.13L31.6,61.35L34.12,72.72L36.64,37.19L39.16,40.34L41.68,52.07L44.2,52.65L46.72,30.77L49.24,30.34L51.76,43.85L54.28,46.18L56.8,40.86L59.32,20.51L61.84,28.25L64.36,34.44L66.88,28.06L69.4,24.87L71.92,29.48L74.44,23.82L76.96,9.38L79.48,11.09L82,22.2L84.52,22.84L87.04,15.86L89.56,17.39L92.08,16.6L94.6,19.41L97.12,18.17L99.64,22.81L102.16,23.82L104.68,26.02L107.2,21.65L109.72,21.32L112.24,26.06L114.76,28.43L117.28,33.22L119.8,25.9L122.32,22.57L124.84,21.55L127.35,22.5L132.39,29.27L134.91,29.07L137.43,31.33L139.95,28.7L142.47,31.89L144.99,32.45L150.03,31.87L152.55,30.6L155.07,33L157.59,31.15L162.63,31.85L165.15,35.96L167.67,34.19L170.19,34.83L172.71,37.18L175.23,35.98L177.75,33.74L180.27,35.63L182.79,38.11L185.31,36.95L187.83,38.51L190.35,37.97L192.87,42.32L195.39,40.73L200.43,41.5L202.95,39.66L205.47,39.05L207.99,37.54L210.51,36.94L213.03,38.75L215.55,37.86L218.07,39.47L220.59,37.83L223.11,37.58L225.63,35.01L228.15,37.16L230.66,34.03L233.18,35.73L235.7,33.68L238.22,37.72L240.74,35.38L243.26,34.32L245.78,33.99L248.3,31.79L253.34,29.61L255.86,31.8L258.38,31.73L260.9,33.61L265.94,32.87L268.46,40.66L270.98,36.94L273.5,35.51L276.02,37.1L278.54,37.06L283.58,35.69L286.1,34.08L288.62,33.67L291.14,35.18L293.66,36.15L296.18,34.63L298.7,37.15L301.22,38.5L303.74,38.31L306.26,36.51L308.78,34.27L311.3,34.05L316.34,37.13L318.86,36.31L321.38,36.16L323.9,35.02L326.42,32.07L328.94,31.66L331.46,32.37L333.98,32.25\" style=\"vector-effect: none; fill: none; stroke: rgb(18, 165, 121); stroke-opacity: 1; stroke-width: 2px; opacity: 1;\"/></g><g class=\"points\"><path class=\"point\" transform=\"translate(21.53,16.46)\" d=\"M3,0A3,3 0 1,1 0,-3A3,3 0 0,1 3,0Z\" style=\"opacity: 1; stroke-width: 0px; fill: rgb(18, 165, 121); fill-opacity: 1;\"/><path class=\"point\" transform=\"translate(24.04,67.58)\" d=\"M3,0A3,3 0 1,1 0,-3A3,3 0 0,1 3,0Z\" style=\"opacity: 1; stroke-width: 0px; fill: rgb(18, 165, 121); fill-opacity: 1;\"/><path class=\"point\" transform=\"translate(26.56,60.46)\" d=\"M3,0A3,3 0 1,1 0,-3A3,3 0 0,1 3,0Z\" style=\"opacity: 1; stroke-width: 0px; fill: rgb(18, 165, 121); fill-opacity: 1;\"/><path class=\"point\" transform=\"translate(29.08,103.13)\" d=\"M3,0A3,3 0 1,1 0,-3A3,3 0 0,1 3,0Z\" style=\"opacity: 1; stroke-width: 0px; fill: rgb(18, 165, 121); fill-opacity: 1;\"/><path class=\"point\" transform=\"translate(31.6,61.35)\" d=\"M3,0A3,3 0 1,1 0,-3A3,3 0 0,1 3,0Z\" style=\"opacity: 1; stroke-width: 0px; fill: rgb(18, 165, 121); fill-opacity: 1;\"/><path class=\"point\" transform=\"translate(34.12,72.72)\" d=\"M3,0A3,3 0 1,1 0,-3A3,3 0 0,1 3,0Z\" style=\"opacity: 1; stroke-width: 0px; fill: rgb(18, 165, 121); fill-opacity: 1;\"/><path class=\"point\" transform=\"translate(36.64,37.19)\" d=\"M3,0A3,3 0 1,1 0,-3A3,3 0 0,1 3,0Z\" style=\"opacity: 1; stroke-width: 0px; fill: rgb(18, 165, 121); fill-opacity: 1;\"/><path class=\"point\" transform=\"translate(39.16,40.34)\" d=\"M3,0A3,3 0 1,1 0,-3A3,3 0 0,1 3,0Z\" style=\"opacity: 1; stroke-width: 0px; fill: rgb(18, 165, 121); fill-opacity: 1;\"/><path class=\"point\" transform=\"translate(41.68,52.07)\" d=\"M3,0A3,3 0 1,1 0,-3A3,3 0 0,1 3,0Z\" style=\"opacity: 1; stroke-width: 0px; fill: rgb(18, 165, 121); fill-opacity: 1;\"/><path class=\"point\" transform=\"translate(44.2,52.65)\" d=\"M3,0A3,3 0 1,1 0,-3A3,3 0 0,1 3,0Z\" style=\"opacity: 1; stroke-width: 0px; fill: rgb(18, 165, 121); fill-opacity: 1;\"/><path class=\"point\" transform=\"translate(46.72,30.77)\" d=\"M3,0A3,3 0 1,1 0,-3A3,3 0 0,1 3,0Z\" style=\"opacity: 1; stroke-width: 0px; fill: rgb(18, 165, 121); fill-opacity: 1;\"/><path class=\"point\" transform=\"translate(49.24,30.34)\" d=\"M3,0A3,3 0 1,1 0,-3A3,3 0 0,1 3,0Z\" style=\"opacity: 1; stroke-width: 0px; fill: rgb(18, 165, 121); fill-opacity: 1;\"/><path class=\"point\" transform=\"translate(51.76,43.85)\" d=\"M3,0A3,3 0 1,1 0,-3A3,3 0 0,1 3,0Z\" style=\"opacity: 1; stroke-width: 0px; fill: rgb(18, 165, 121); fill-opacity: 1;\"/><path class=\"point\" transform=\"translate(54.28,46.18)\" d=\"M3,0A3,3 0 1,1 0,-3A3,3 0 0,1 3,0Z\" style=\"opacity: 1; stroke-width: 0px; fill: rgb(18, 165, 121); fill-opacity: 1;\"/><path class=\"point\" transform=\"translate(56.8,40.86)\" d=\"M3,0A3,3 0 1,1 0,-3A3,3 0 0,1 3,0Z\" style=\"opacity: 1; stroke-width: 0px; fill: rgb(18, 165, 121); fill-opacity: 1;\"/><path class=\"point\" transform=\"translate(59.32,20.51)\" d=\"M3,0A3,3 0 1,1 0,-3A3,3 0 0,1 3,0Z\" style=\"opacity: 1; stroke-width: 0px; fill: rgb(18, 165, 121); fill-opacity: 1;\"/><path class=\"point\" transform=\"translate(61.84,28.25)\" d=\"M3,0A3,3 0 1,1 0,-3A3,3 0 0,1 3,0Z\" style=\"opacity: 1; stroke-width: 0px; fill: rgb(18, 165, 121); fill-opacity: 1;\"/><path class=\"point\" transform=\"translate(64.36,34.44)\" d=\"M3,0A3,3 0 1,1 0,-3A3,3 0 0,1 3,0Z\" style=\"opacity: 1; stroke-width: 0px; fill: rgb(18, 165, 121); fill-opacity: 1;\"/><path class=\"point\" transform=\"translate(66.88,28.06)\" d=\"M3,0A3,3 0 1,1 0,-3A3,3 0 0,1 3,0Z\" style=\"opacity: 1; stroke-width: 0px; fill: rgb(18, 165, 121); fill-opacity: 1;\"/><path class=\"point\" transform=\"translate(69.4,24.87)\" d=\"M3,0A3,3 0 1,1 0,-3A3,3 0 0,1 3,0Z\" style=\"opacity: 1; stroke-width: 0px; fill: rgb(18, 165, 121); fill-opacity: 1;\"/><path class=\"point\" transform=\"translate(71.92,29.48)\" d=\"M3,0A3,3 0 1,1 0,-3A3,3 0 0,1 3,0Z\" style=\"opacity: 1; stroke-width: 0px; fill: rgb(18, 165, 121); fill-opacity: 1;\"/><path class=\"point\" transform=\"translate(74.44,23.82)\" d=\"M3,0A3,3 0 1,1 0,-3A3,3 0 0,1 3,0Z\" style=\"opacity: 1; stroke-width: 0px; fill: rgb(18, 165, 121); fill-opacity: 1;\"/><path class=\"point\" transform=\"translate(76.96,9.38)\" d=\"M3,0A3,3 0 1,1 0,-3A3,3 0 0,1 3,0Z\" style=\"opacity: 1; stroke-width: 0px; fill: rgb(18, 165, 121); fill-opacity: 1;\"/><path class=\"point\" transform=\"translate(79.48,11.09)\" d=\"M3,0A3,3 0 1,1 0,-3A3,3 0 0,1 3,0Z\" style=\"opacity: 1; stroke-width: 0px; fill: rgb(18, 165, 121); fill-opacity: 1;\"/><path class=\"point\" transform=\"translate(82,22.2)\" d=\"M3,0A3,3 0 1,1 0,-3A3,3 0 0,1 3,0Z\" style=\"opacity: 1; stroke-width: 0px; fill: rgb(18, 165, 121); fill-opacity: 1;\"/><path class=\"point\" transform=\"translate(84.52,22.84)\" d=\"M3,0A3,3 0 1,1 0,-3A3,3 0 0,1 3,0Z\" style=\"opacity: 1; stroke-width: 0px; fill: rgb(18, 165, 121); fill-opacity: 1;\"/><path class=\"point\" transform=\"translate(87.04,15.86)\" d=\"M3,0A3,3 0 1,1 0,-3A3,3 0 0,1 3,0Z\" style=\"opacity: 1; stroke-width: 0px; fill: rgb(18, 165, 121); fill-opacity: 1;\"/><path class=\"point\" transform=\"translate(89.56,17.39)\" d=\"M3,0A3,3 0 1,1 0,-3A3,3 0 0,1 3,0Z\" style=\"opacity: 1; stroke-width: 0px; fill: rgb(18, 165, 121); fill-opacity: 1;\"/><path class=\"point\" transform=\"translate(92.08,16.6)\" d=\"M3,0A3,3 0 1,1 0,-3A3,3 0 0,1 3,0Z\" style=\"opacity: 1; stroke-width: 0px; fill: rgb(18, 165, 121); fill-opacity: 1;\"/><path class=\"point\" transform=\"translate(94.6,19.41)\" d=\"M3,0A3,3 0 1,1 0,-3A3,3 0 0,1 3,0Z\" style=\"opacity: 1; stroke-width: 0px; fill: rgb(18, 165, 121); fill-opacity: 1;\"/><path class=\"point\" transform=\"translate(97.12,18.17)\" d=\"M3,0A3,3 0 1,1 0,-3A3,3 0 0,1 3,0Z\" style=\"opacity: 1; stroke-width: 0px; fill: rgb(18, 165, 121); fill-opacity: 1;\"/><path class=\"point\" transform=\"translate(99.64,22.81)\" d=\"M3,0A3,3 0 1,1 0,-3A3,3 0 0,1 3,0Z\" style=\"opacity: 1; stroke-width: 0px; fill: rgb(18, 165, 121); fill-opacity: 1;\"/><path class=\"point\" transform=\"translate(102.16,23.82)\" d=\"M3,0A3,3 0 1,1 0,-3A3,3 0 0,1 3,0Z\" style=\"opacity: 1; stroke-width: 0px; fill: rgb(18, 165, 121); fill-opacity: 1;\"/><path class=\"point\" transform=\"translate(104.68,26.02)\" d=\"M3,0A3,3 0 1,1 0,-3A3,3 0 0,1 3,0Z\" style=\"opacity: 1; stroke-width: 0px; fill: rgb(18, 165, 121); fill-opacity: 1;\"/><path class=\"point\" transform=\"translate(107.2,21.65)\" d=\"M3,0A3,3 0 1,1 0,-3A3,3 0 0,1 3,0Z\" style=\"opacity: 1; stroke-width: 0px; fill: rgb(18, 165, 121); fill-opacity: 1;\"/><path class=\"point\" transform=\"translate(109.72,21.32)\" d=\"M3,0A3,3 0 1,1 0,-3A3,3 0 0,1 3,0Z\" style=\"opacity: 1; stroke-width: 0px; fill: rgb(18, 165, 121); fill-opacity: 1;\"/><path class=\"point\" transform=\"translate(112.24,26.06)\" d=\"M3,0A3,3 0 1,1 0,-3A3,3 0 0,1 3,0Z\" style=\"opacity: 1; stroke-width: 0px; fill: rgb(18, 165, 121); fill-opacity: 1;\"/><path class=\"point\" transform=\"translate(114.76,28.43)\" d=\"M3,0A3,3 0 1,1 0,-3A3,3 0 0,1 3,0Z\" style=\"opacity: 1; stroke-width: 0px; fill: rgb(18, 165, 121); fill-opacity: 1;\"/><path class=\"point\" transform=\"translate(117.28,33.22)\" d=\"M3,0A3,3 0 1,1 0,-3A3,3 0 0,1 3,0Z\" style=\"opacity: 1; stroke-width: 0px; fill: rgb(18, 165, 121); fill-opacity: 1;\"/><path class=\"point\" transform=\"translate(119.8,25.9)\" d=\"M3,0A3,3 0 1,1 0,-3A3,3 0 0,1 3,0Z\" style=\"opacity: 1; stroke-width: 0px; fill: rgb(18, 165, 121); fill-opacity: 1;\"/><path class=\"point\" transform=\"translate(122.32,22.57)\" d=\"M3,0A3,3 0 1,1 0,-3A3,3 0 0,1 3,0Z\" style=\"opacity: 1; stroke-width: 0px; fill: rgb(18, 165, 121); fill-opacity: 1;\"/><path class=\"point\" transform=\"translate(124.84,21.55)\" d=\"M3,0A3,3 0 1,1 0,-3A3,3 0 0,1 3,0Z\" style=\"opacity: 1; stroke-width: 0px; fill: rgb(18, 165, 121); fill-opacity: 1;\"/><path class=\"point\" transform=\"translate(127.35,22.5)\" d=\"M3,0A3,3 0 1,1 0,-3A3,3 0 0,1 3,0Z\" style=\"opacity: 1; stroke-width: 0px; fill: rgb(18, 165, 121); fill-opacity: 1;\"/><path class=\"point\" transform=\"translate(129.87,25.92)\" d=\"M3,0A3,3 0 1,1 0,-3A3,3 0 0,1 3,0Z\" style=\"opacity: 1; stroke-width: 0px; fill: rgb(18, 165, 121); fill-opacity: 1;\"/><path class=\"point\" transform=\"translate(132.39,29.27)\" d=\"M3,0A3,3 0 1,1 0,-3A3,3 0 0,1 3,0Z\" style=\"opacity: 1; stroke-width: 0px; fill: rgb(18, 165, 121); fill-opacity: 1;\"/><path class=\"point\" transform=\"translate(134.91,29.07)\" d=\"M3,0A3,3 0 1,1 0,-3A3,3 0 0,1 3,0Z\" style=\"opacity: 1; stroke-width: 0px; fill: rgb(18, 165, 121); fill-opacity: 1;\"/><path class=\"point\" transform=\"translate(137.43,31.33)\" d=\"M3,0A3,3 0 1,1 0,-3A3,3 0 0,1 3,0Z\" style=\"opacity: 1; stroke-width: 0px; fill: rgb(18, 165, 121); fill-opacity: 1;\"/><path class=\"point\" transform=\"translate(139.95,28.7)\" d=\"M3,0A3,3 0 1,1 0,-3A3,3 0 0,1 3,0Z\" style=\"opacity: 1; stroke-width: 0px; fill: rgb(18, 165, 121); fill-opacity: 1;\"/><path class=\"point\" transform=\"translate(142.47,31.89)\" d=\"M3,0A3,3 0 1,1 0,-3A3,3 0 0,1 3,0Z\" style=\"opacity: 1; stroke-width: 0px; fill: rgb(18, 165, 121); fill-opacity: 1;\"/><path class=\"point\" transform=\"translate(144.99,32.45)\" d=\"M3,0A3,3 0 1,1 0,-3A3,3 0 0,1 3,0Z\" style=\"opacity: 1; stroke-width: 0px; fill: rgb(18, 165, 121); fill-opacity: 1;\"/><path class=\"point\" transform=\"translate(147.51,32.08)\" d=\"M3,0A3,3 0 1,1 0,-3A3,3 0 0,1 3,0Z\" style=\"opacity: 1; stroke-width: 0px; fill: rgb(18, 165, 121); fill-opacity: 1;\"/><path class=\"point\" transform=\"translate(150.03,31.87)\" d=\"M3,0A3,3 0 1,1 0,-3A3,3 0 0,1 3,0Z\" style=\"opacity: 1; stroke-width: 0px; fill: rgb(18, 165, 121); fill-opacity: 1;\"/><path class=\"point\" transform=\"translate(152.55,30.6)\" d=\"M3,0A3,3 0 1,1 0,-3A3,3 0 0,1 3,0Z\" style=\"opacity: 1; stroke-width: 0px; fill: rgb(18, 165, 121); fill-opacity: 1;\"/><path class=\"point\" transform=\"translate(155.07,33)\" d=\"M3,0A3,3 0 1,1 0,-3A3,3 0 0,1 3,0Z\" style=\"opacity: 1; stroke-width: 0px; fill: rgb(18, 165, 121); fill-opacity: 1;\"/><path class=\"point\" transform=\"translate(157.59,31.15)\" d=\"M3,0A3,3 0 1,1 0,-3A3,3 0 0,1 3,0Z\" style=\"opacity: 1; stroke-width: 0px; fill: rgb(18, 165, 121); fill-opacity: 1;\"/><path class=\"point\" transform=\"translate(160.11,31.26)\" d=\"M3,0A3,3 0 1,1 0,-3A3,3 0 0,1 3,0Z\" style=\"opacity: 1; stroke-width: 0px; fill: rgb(18, 165, 121); fill-opacity: 1;\"/><path class=\"point\" transform=\"translate(162.63,31.85)\" d=\"M3,0A3,3 0 1,1 0,-3A3,3 0 0,1 3,0Z\" style=\"opacity: 1; stroke-width: 0px; fill: rgb(18, 165, 121); fill-opacity: 1;\"/><path class=\"point\" transform=\"translate(165.15,35.96)\" d=\"M3,0A3,3 0 1,1 0,-3A3,3 0 0,1 3,0Z\" style=\"opacity: 1; stroke-width: 0px; fill: rgb(18, 165, 121); fill-opacity: 1;\"/><path class=\"point\" transform=\"translate(167.67,34.19)\" d=\"M3,0A3,3 0 1,1 0,-3A3,3 0 0,1 3,0Z\" style=\"opacity: 1; stroke-width: 0px; fill: rgb(18, 165, 121); fill-opacity: 1;\"/><path class=\"point\" transform=\"translate(170.19,34.83)\" d=\"M3,0A3,3 0 1,1 0,-3A3,3 0 0,1 3,0Z\" style=\"opacity: 1; stroke-width: 0px; fill: rgb(18, 165, 121); fill-opacity: 1;\"/><path class=\"point\" transform=\"translate(172.71,37.18)\" d=\"M3,0A3,3 0 1,1 0,-3A3,3 0 0,1 3,0Z\" style=\"opacity: 1; stroke-width: 0px; fill: rgb(18, 165, 121); fill-opacity: 1;\"/><path class=\"point\" transform=\"translate(175.23,35.98)\" d=\"M3,0A3,3 0 1,1 0,-3A3,3 0 0,1 3,0Z\" style=\"opacity: 1; stroke-width: 0px; fill: rgb(18, 165, 121); fill-opacity: 1;\"/><path class=\"point\" transform=\"translate(177.75,33.74)\" d=\"M3,0A3,3 0 1,1 0,-3A3,3 0 0,1 3,0Z\" style=\"opacity: 1; stroke-width: 0px; fill: rgb(18, 165, 121); fill-opacity: 1;\"/><path class=\"point\" transform=\"translate(180.27,35.63)\" d=\"M3,0A3,3 0 1,1 0,-3A3,3 0 0,1 3,0Z\" style=\"opacity: 1; stroke-width: 0px; fill: rgb(18, 165, 121); fill-opacity: 1;\"/><path class=\"point\" transform=\"translate(182.79,38.11)\" d=\"M3,0A3,3 0 1,1 0,-3A3,3 0 0,1 3,0Z\" style=\"opacity: 1; stroke-width: 0px; fill: rgb(18, 165, 121); fill-opacity: 1;\"/><path class=\"point\" transform=\"translate(185.31,36.95)\" d=\"M3,0A3,3 0 1,1 0,-3A3,3 0 0,1 3,0Z\" style=\"opacity: 1; stroke-width: 0px; fill: rgb(18, 165, 121); fill-opacity: 1;\"/><path class=\"point\" transform=\"translate(187.83,38.51)\" d=\"M3,0A3,3 0 1,1 0,-3A3,3 0 0,1 3,0Z\" style=\"opacity: 1; stroke-width: 0px; fill: rgb(18, 165, 121); fill-opacity: 1;\"/><path class=\"point\" transform=\"translate(190.35,37.97)\" d=\"M3,0A3,3 0 1,1 0,-3A3,3 0 0,1 3,0Z\" style=\"opacity: 1; stroke-width: 0px; fill: rgb(18, 165, 121); fill-opacity: 1;\"/><path class=\"point\" transform=\"translate(192.87,42.32)\" d=\"M3,0A3,3 0 1,1 0,-3A3,3 0 0,1 3,0Z\" style=\"opacity: 1; stroke-width: 0px; fill: rgb(18, 165, 121); fill-opacity: 1;\"/><path class=\"point\" transform=\"translate(195.39,40.73)\" d=\"M3,0A3,3 0 1,1 0,-3A3,3 0 0,1 3,0Z\" style=\"opacity: 1; stroke-width: 0px; fill: rgb(18, 165, 121); fill-opacity: 1;\"/><path class=\"point\" transform=\"translate(197.91,41.25)\" d=\"M3,0A3,3 0 1,1 0,-3A3,3 0 0,1 3,0Z\" style=\"opacity: 1; stroke-width: 0px; fill: rgb(18, 165, 121); fill-opacity: 1;\"/><path class=\"point\" transform=\"translate(200.43,41.5)\" d=\"M3,0A3,3 0 1,1 0,-3A3,3 0 0,1 3,0Z\" style=\"opacity: 1; stroke-width: 0px; fill: rgb(18, 165, 121); fill-opacity: 1;\"/><path class=\"point\" transform=\"translate(202.95,39.66)\" d=\"M3,0A3,3 0 1,1 0,-3A3,3 0 0,1 3,0Z\" style=\"opacity: 1; stroke-width: 0px; fill: rgb(18, 165, 121); fill-opacity: 1;\"/><path class=\"point\" transform=\"translate(205.47,39.05)\" d=\"M3,0A3,3 0 1,1 0,-3A3,3 0 0,1 3,0Z\" style=\"opacity: 1; stroke-width: 0px; fill: rgb(18, 165, 121); fill-opacity: 1;\"/><path class=\"point\" transform=\"translate(207.99,37.54)\" d=\"M3,0A3,3 0 1,1 0,-3A3,3 0 0,1 3,0Z\" style=\"opacity: 1; stroke-width: 0px; fill: rgb(18, 165, 121); fill-opacity: 1;\"/><path class=\"point\" transform=\"translate(210.51,36.94)\" d=\"M3,0A3,3 0 1,1 0,-3A3,3 0 0,1 3,0Z\" style=\"opacity: 1; stroke-width: 0px; fill: rgb(18, 165, 121); fill-opacity: 1;\"/><path class=\"point\" transform=\"translate(213.03,38.75)\" d=\"M3,0A3,3 0 1,1 0,-3A3,3 0 0,1 3,0Z\" style=\"opacity: 1; stroke-width: 0px; fill: rgb(18, 165, 121); fill-opacity: 1;\"/><path class=\"point\" transform=\"translate(215.55,37.86)\" d=\"M3,0A3,3 0 1,1 0,-3A3,3 0 0,1 3,0Z\" style=\"opacity: 1; stroke-width: 0px; fill: rgb(18, 165, 121); fill-opacity: 1;\"/><path class=\"point\" transform=\"translate(218.07,39.47)\" d=\"M3,0A3,3 0 1,1 0,-3A3,3 0 0,1 3,0Z\" style=\"opacity: 1; stroke-width: 0px; fill: rgb(18, 165, 121); fill-opacity: 1;\"/><path class=\"point\" transform=\"translate(220.59,37.83)\" d=\"M3,0A3,3 0 1,1 0,-3A3,3 0 0,1 3,0Z\" style=\"opacity: 1; stroke-width: 0px; fill: rgb(18, 165, 121); fill-opacity: 1;\"/><path class=\"point\" transform=\"translate(223.11,37.58)\" d=\"M3,0A3,3 0 1,1 0,-3A3,3 0 0,1 3,0Z\" style=\"opacity: 1; stroke-width: 0px; fill: rgb(18, 165, 121); fill-opacity: 1;\"/><path class=\"point\" transform=\"translate(225.63,35.01)\" d=\"M3,0A3,3 0 1,1 0,-3A3,3 0 0,1 3,0Z\" style=\"opacity: 1; stroke-width: 0px; fill: rgb(18, 165, 121); fill-opacity: 1;\"/><path class=\"point\" transform=\"translate(228.15,37.16)\" d=\"M3,0A3,3 0 1,1 0,-3A3,3 0 0,1 3,0Z\" style=\"opacity: 1; stroke-width: 0px; fill: rgb(18, 165, 121); fill-opacity: 1;\"/><path class=\"point\" transform=\"translate(230.66,34.03)\" d=\"M3,0A3,3 0 1,1 0,-3A3,3 0 0,1 3,0Z\" style=\"opacity: 1; stroke-width: 0px; fill: rgb(18, 165, 121); fill-opacity: 1;\"/><path class=\"point\" transform=\"translate(233.18,35.73)\" d=\"M3,0A3,3 0 1,1 0,-3A3,3 0 0,1 3,0Z\" style=\"opacity: 1; stroke-width: 0px; fill: rgb(18, 165, 121); fill-opacity: 1;\"/><path class=\"point\" transform=\"translate(235.7,33.68)\" d=\"M3,0A3,3 0 1,1 0,-3A3,3 0 0,1 3,0Z\" style=\"opacity: 1; stroke-width: 0px; fill: rgb(18, 165, 121); fill-opacity: 1;\"/><path class=\"point\" transform=\"translate(238.22,37.72)\" d=\"M3,0A3,3 0 1,1 0,-3A3,3 0 0,1 3,0Z\" style=\"opacity: 1; stroke-width: 0px; fill: rgb(18, 165, 121); fill-opacity: 1;\"/><path class=\"point\" transform=\"translate(240.74,35.38)\" d=\"M3,0A3,3 0 1,1 0,-3A3,3 0 0,1 3,0Z\" style=\"opacity: 1; stroke-width: 0px; fill: rgb(18, 165, 121); fill-opacity: 1;\"/><path class=\"point\" transform=\"translate(243.26,34.32)\" d=\"M3,0A3,3 0 1,1 0,-3A3,3 0 0,1 3,0Z\" style=\"opacity: 1; stroke-width: 0px; fill: rgb(18, 165, 121); fill-opacity: 1;\"/><path class=\"point\" transform=\"translate(245.78,33.99)\" d=\"M3,0A3,3 0 1,1 0,-3A3,3 0 0,1 3,0Z\" style=\"opacity: 1; stroke-width: 0px; fill: rgb(18, 165, 121); fill-opacity: 1;\"/><path class=\"point\" transform=\"translate(248.3,31.79)\" d=\"M3,0A3,3 0 1,1 0,-3A3,3 0 0,1 3,0Z\" style=\"opacity: 1; stroke-width: 0px; fill: rgb(18, 165, 121); fill-opacity: 1;\"/><path class=\"point\" transform=\"translate(250.82,30.44)\" d=\"M3,0A3,3 0 1,1 0,-3A3,3 0 0,1 3,0Z\" style=\"opacity: 1; stroke-width: 0px; fill: rgb(18, 165, 121); fill-opacity: 1;\"/><path class=\"point\" transform=\"translate(253.34,29.61)\" d=\"M3,0A3,3 0 1,1 0,-3A3,3 0 0,1 3,0Z\" style=\"opacity: 1; stroke-width: 0px; fill: rgb(18, 165, 121); fill-opacity: 1;\"/><path class=\"point\" transform=\"translate(255.86,31.8)\" d=\"M3,0A3,3 0 1,1 0,-3A3,3 0 0,1 3,0Z\" style=\"opacity: 1; stroke-width: 0px; fill: rgb(18, 165, 121); fill-opacity: 1;\"/><path class=\"point\" transform=\"translate(258.38,31.73)\" d=\"M3,0A3,3 0 1,1 0,-3A3,3 0 0,1 3,0Z\" style=\"opacity: 1; stroke-width: 0px; fill: rgb(18, 165, 121); fill-opacity: 1;\"/><path class=\"point\" transform=\"translate(260.9,33.61)\" d=\"M3,0A3,3 0 1,1 0,-3A3,3 0 0,1 3,0Z\" style=\"opacity: 1; stroke-width: 0px; fill: rgb(18, 165, 121); fill-opacity: 1;\"/><path class=\"point\" transform=\"translate(263.42,33.04)\" d=\"M3,0A3,3 0 1,1 0,-3A3,3 0 0,1 3,0Z\" style=\"opacity: 1; stroke-width: 0px; fill: rgb(18, 165, 121); fill-opacity: 1;\"/><path class=\"point\" transform=\"translate(265.94,32.87)\" d=\"M3,0A3,3 0 1,1 0,-3A3,3 0 0,1 3,0Z\" style=\"opacity: 1; stroke-width: 0px; fill: rgb(18, 165, 121); fill-opacity: 1;\"/><path class=\"point\" transform=\"translate(268.46,40.66)\" d=\"M3,0A3,3 0 1,1 0,-3A3,3 0 0,1 3,0Z\" style=\"opacity: 1; stroke-width: 0px; fill: rgb(18, 165, 121); fill-opacity: 1;\"/><path class=\"point\" transform=\"translate(270.98,36.94)\" d=\"M3,0A3,3 0 1,1 0,-3A3,3 0 0,1 3,0Z\" style=\"opacity: 1; stroke-width: 0px; fill: rgb(18, 165, 121); fill-opacity: 1;\"/><path class=\"point\" transform=\"translate(273.5,35.51)\" d=\"M3,0A3,3 0 1,1 0,-3A3,3 0 0,1 3,0Z\" style=\"opacity: 1; stroke-width: 0px; fill: rgb(18, 165, 121); fill-opacity: 1;\"/><path class=\"point\" transform=\"translate(276.02,37.1)\" d=\"M3,0A3,3 0 1,1 0,-3A3,3 0 0,1 3,0Z\" style=\"opacity: 1; stroke-width: 0px; fill: rgb(18, 165, 121); fill-opacity: 1;\"/><path class=\"point\" transform=\"translate(278.54,37.06)\" d=\"M3,0A3,3 0 1,1 0,-3A3,3 0 0,1 3,0Z\" style=\"opacity: 1; stroke-width: 0px; fill: rgb(18, 165, 121); fill-opacity: 1;\"/><path class=\"point\" transform=\"translate(281.06,36.66)\" d=\"M3,0A3,3 0 1,1 0,-3A3,3 0 0,1 3,0Z\" style=\"opacity: 1; stroke-width: 0px; fill: rgb(18, 165, 121); fill-opacity: 1;\"/><path class=\"point\" transform=\"translate(283.58,35.69)\" d=\"M3,0A3,3 0 1,1 0,-3A3,3 0 0,1 3,0Z\" style=\"opacity: 1; stroke-width: 0px; fill: rgb(18, 165, 121); fill-opacity: 1;\"/><path class=\"point\" transform=\"translate(286.1,34.08)\" d=\"M3,0A3,3 0 1,1 0,-3A3,3 0 0,1 3,0Z\" style=\"opacity: 1; stroke-width: 0px; fill: rgb(18, 165, 121); fill-opacity: 1;\"/><path class=\"point\" transform=\"translate(288.62,33.67)\" d=\"M3,0A3,3 0 1,1 0,-3A3,3 0 0,1 3,0Z\" style=\"opacity: 1; stroke-width: 0px; fill: rgb(18, 165, 121); fill-opacity: 1;\"/><path class=\"point\" transform=\"translate(291.14,35.18)\" d=\"M3,0A3,3 0 1,1 0,-3A3,3 0 0,1 3,0Z\" style=\"opacity: 1; stroke-width: 0px; fill: rgb(18, 165, 121); fill-opacity: 1;\"/><path class=\"point\" transform=\"translate(293.66,36.15)\" d=\"M3,0A3,3 0 1,1 0,-3A3,3 0 0,1 3,0Z\" style=\"opacity: 1; stroke-width: 0px; fill: rgb(18, 165, 121); fill-opacity: 1;\"/><path class=\"point\" transform=\"translate(296.18,34.63)\" d=\"M3,0A3,3 0 1,1 0,-3A3,3 0 0,1 3,0Z\" style=\"opacity: 1; stroke-width: 0px; fill: rgb(18, 165, 121); fill-opacity: 1;\"/><path class=\"point\" transform=\"translate(298.7,37.15)\" d=\"M3,0A3,3 0 1,1 0,-3A3,3 0 0,1 3,0Z\" style=\"opacity: 1; stroke-width: 0px; fill: rgb(18, 165, 121); fill-opacity: 1;\"/><path class=\"point\" transform=\"translate(301.22,38.5)\" d=\"M3,0A3,3 0 1,1 0,-3A3,3 0 0,1 3,0Z\" style=\"opacity: 1; stroke-width: 0px; fill: rgb(18, 165, 121); fill-opacity: 1;\"/><path class=\"point\" transform=\"translate(303.74,38.31)\" d=\"M3,0A3,3 0 1,1 0,-3A3,3 0 0,1 3,0Z\" style=\"opacity: 1; stroke-width: 0px; fill: rgb(18, 165, 121); fill-opacity: 1;\"/><path class=\"point\" transform=\"translate(306.26,36.51)\" d=\"M3,0A3,3 0 1,1 0,-3A3,3 0 0,1 3,0Z\" style=\"opacity: 1; stroke-width: 0px; fill: rgb(18, 165, 121); fill-opacity: 1;\"/><path class=\"point\" transform=\"translate(308.78,34.27)\" d=\"M3,0A3,3 0 1,1 0,-3A3,3 0 0,1 3,0Z\" style=\"opacity: 1; stroke-width: 0px; fill: rgb(18, 165, 121); fill-opacity: 1;\"/><path class=\"point\" transform=\"translate(311.3,34.05)\" d=\"M3,0A3,3 0 1,1 0,-3A3,3 0 0,1 3,0Z\" style=\"opacity: 1; stroke-width: 0px; fill: rgb(18, 165, 121); fill-opacity: 1;\"/><path class=\"point\" transform=\"translate(313.82,35.83)\" d=\"M3,0A3,3 0 1,1 0,-3A3,3 0 0,1 3,0Z\" style=\"opacity: 1; stroke-width: 0px; fill: rgb(18, 165, 121); fill-opacity: 1;\"/><path class=\"point\" transform=\"translate(316.34,37.13)\" d=\"M3,0A3,3 0 1,1 0,-3A3,3 0 0,1 3,0Z\" style=\"opacity: 1; stroke-width: 0px; fill: rgb(18, 165, 121); fill-opacity: 1;\"/><path class=\"point\" transform=\"translate(318.86,36.31)\" d=\"M3,0A3,3 0 1,1 0,-3A3,3 0 0,1 3,0Z\" style=\"opacity: 1; stroke-width: 0px; fill: rgb(18, 165, 121); fill-opacity: 1;\"/><path class=\"point\" transform=\"translate(321.38,36.16)\" d=\"M3,0A3,3 0 1,1 0,-3A3,3 0 0,1 3,0Z\" style=\"opacity: 1; stroke-width: 0px; fill: rgb(18, 165, 121); fill-opacity: 1;\"/><path class=\"point\" transform=\"translate(323.9,35.02)\" d=\"M3,0A3,3 0 1,1 0,-3A3,3 0 0,1 3,0Z\" style=\"opacity: 1; stroke-width: 0px; fill: rgb(18, 165, 121); fill-opacity: 1;\"/><path class=\"point\" transform=\"translate(326.42,32.07)\" d=\"M3,0A3,3 0 1,1 0,-3A3,3 0 0,1 3,0Z\" style=\"opacity: 1; stroke-width: 0px; fill: rgb(18, 165, 121); fill-opacity: 1;\"/><path class=\"point\" transform=\"translate(328.94,31.66)\" d=\"M3,0A3,3 0 1,1 0,-3A3,3 0 0,1 3,0Z\" style=\"opacity: 1; stroke-width: 0px; fill: rgb(18, 165, 121); fill-opacity: 1;\"/><path class=\"point\" transform=\"translate(331.46,32.37)\" d=\"M3,0A3,3 0 1,1 0,-3A3,3 0 0,1 3,0Z\" style=\"opacity: 1; stroke-width: 0px; fill: rgb(18, 165, 121); fill-opacity: 1;\"/><path class=\"point\" transform=\"translate(333.98,32.25)\" d=\"M3,0A3,3 0 1,1 0,-3A3,3 0 0,1 3,0Z\" style=\"opacity: 1; stroke-width: 0px; fill: rgb(18, 165, 121); fill-opacity: 1;\"/></g><g class=\"text\"/></g></g></g><g class=\"overplot\"/><path class=\"xlines-above crisp\" d=\"M0,0\" style=\"fill: none;\"/><path class=\"ylines-above crisp\" d=\"M0,0\" style=\"fill: none;\"/><g class=\"overlines-above\"/><g class=\"xaxislayer-above\"><g class=\"x6tick\"><text text-anchor=\"middle\" x=\"0\" y=\"630.5\" transform=\"translate(536.03,0)\" style=\"font-family: 'Open Sans', verdana, arial, sans-serif; font-size: 12px; fill: rgb(42, 63, 95); fill-opacity: 1; white-space: pre; opacity: 1;\">0</text></g><g class=\"x6tick\"><text text-anchor=\"middle\" x=\"0\" y=\"630.5\" style=\"font-family: 'Open Sans', verdana, arial, sans-serif; font-size: 12px; fill: rgb(42, 63, 95); fill-opacity: 1; white-space: pre; opacity: 1;\" transform=\"translate(662.01,0)\">50</text></g><g class=\"x6tick\"><text text-anchor=\"middle\" x=\"0\" y=\"630.5\" style=\"font-family: 'Open Sans', verdana, arial, sans-serif; font-size: 12px; fill: rgb(42, 63, 95); fill-opacity: 1; white-space: pre; opacity: 1;\" transform=\"translate(788,0)\">100</text></g></g><g class=\"yaxislayer-above\"><g class=\"y6tick\"><text text-anchor=\"end\" x=\"513.5\" y=\"4.199999999999999\" transform=\"translate(0,607.37)\" style=\"font-family: 'Open Sans', verdana, arial, sans-serif; font-size: 12px; fill: rgb(42, 63, 95); fill-opacity: 1; white-space: pre; opacity: 1;\">0.04</text></g><g class=\"y6tick\"><text text-anchor=\"end\" x=\"513.5\" y=\"4.199999999999999\" style=\"font-family: 'Open Sans', verdana, arial, sans-serif; font-size: 12px; fill: rgb(42, 63, 95); fill-opacity: 1; white-space: pre; opacity: 1;\" transform=\"translate(0,572.73)\">0.045</text></g><g class=\"y6tick\"><text text-anchor=\"end\" x=\"513.5\" y=\"4.199999999999999\" style=\"font-family: 'Open Sans', verdana, arial, sans-serif; font-size: 12px; fill: rgb(42, 63, 95); fill-opacity: 1; white-space: pre; opacity: 1;\" transform=\"translate(0,538.08)\">0.05</text></g></g><g class=\"overaxes-above\"/></g><g class=\"subplot x7y7\"><g class=\"layer-subplot\"><g class=\"shapelayer\"/><g class=\"imagelayer\"/></g><g class=\"minor-gridlayer\"><g class=\"x7\"/><g class=\"y7\"/></g><g class=\"gridlayer\"><g class=\"x7\"><path class=\"x7grid crisp\" transform=\"translate(227.51,0)\" d=\"M0,707.5v112.5\" style=\"stroke: rgb(255, 255, 255); stroke-opacity: 1; stroke-width: 1px;\"/><path class=\"x7grid crisp\" transform=\"translate(353.5,0)\" d=\"M0,707.5v112.5\" style=\"stroke: rgb(255, 255, 255); stroke-opacity: 1; stroke-width: 1px;\"/></g><g class=\"y7\"><path class=\"y7grid crisp\" transform=\"translate(0,817.58)\" d=\"M80,0h355.5\" style=\"stroke: rgb(255, 255, 255); stroke-opacity: 1; stroke-width: 1px;\"/><path class=\"y7grid crisp\" transform=\"translate(0,793.1)\" d=\"M80,0h355.5\" style=\"stroke: rgb(255, 255, 255); stroke-opacity: 1; stroke-width: 1px;\"/><path class=\"y7grid crisp\" transform=\"translate(0,768.61)\" d=\"M80,0h355.5\" style=\"stroke: rgb(255, 255, 255); stroke-opacity: 1; stroke-width: 1px;\"/><path class=\"y7grid crisp\" transform=\"translate(0,744.13)\" d=\"M80,0h355.5\" style=\"stroke: rgb(255, 255, 255); stroke-opacity: 1; stroke-width: 1px;\"/><path class=\"y7grid crisp\" transform=\"translate(0,719.64)\" d=\"M80,0h355.5\" style=\"stroke: rgb(255, 255, 255); stroke-opacity: 1; stroke-width: 1px;\"/></g></g><g class=\"zerolinelayer\"><path class=\"x7zl zl crisp\" transform=\"translate(101.53,0)\" d=\"M0,707.5v112.5\" style=\"stroke: rgb(255, 255, 255); stroke-opacity: 1; stroke-width: 2px;\"/></g><path class=\"xlines-below\"/><path class=\"ylines-below\"/><g class=\"overlines-below\"/><g class=\"xaxislayer-below\"/><g class=\"yaxislayer-below\"/><g class=\"overaxes-below\"/><g class=\"plot\" transform=\"translate(80,707.5)\" clip-path=\"url(#clip8e537fx7y7plot)\"><g class=\"scatterlayer mlayer\"><g class=\"trace scatter traceb9dc66\" style=\"stroke-miterlimit: 2; opacity: 1;\"><g class=\"fills\"/><g class=\"errorbars\"/><g class=\"lines\"><path class=\"js-line\" d=\"M21.53,67.07L24.04,103.12L26.56,31.67L29.08,39.67L31.6,20.75L34.12,33.22L36.64,16.24L39.16,30.13L41.68,20.19L44.2,23.37L46.72,20.11L49.24,28.59L51.76,17.43L54.28,25.07L56.8,21.56L59.32,26.35L61.84,21.5L66.88,22.8L69.4,26.5L71.92,23.06L74.44,22.71L76.96,20.37L79.48,26.2L82,22.42L84.52,20.98L87.04,20.35L89.56,15.1L92.08,19.18L94.6,18.22L97.12,13.19L99.64,16.32L102.16,18.46L104.68,18.41L109.72,16.39L112.24,18.76L114.76,15.72L117.28,14.66L119.8,13.78L122.32,14.57L124.84,13.49L127.35,14.57L129.87,12.39L132.39,13.49L134.91,13.49L137.43,14.57L139.95,15.62L142.47,12.52L144.99,15.72L147.51,13.98L150.03,15.72L152.55,13.98L155.07,12.52L157.59,14.66L160.11,13.56L162.63,14.66L165.15,14.66L167.67,12.52L170.19,13.57L172.71,13.71L177.75,13.71L180.27,14.76L185.31,9.37L187.83,11.56L192.87,11.56L195.39,13.8L197.91,13.8L200.43,16.52L207.99,14.87L210.51,15.43L213.03,13.77L215.55,15.43L218.07,13.77L220.59,16.91L223.11,17.99L225.63,19.99L228.15,17.99L230.66,18.95L233.18,16.91L235.7,17.87L245.78,17.78L248.3,15.72L250.82,17.78L253.34,17.78L255.86,17.78L258.38,14.71L260.9,17.78L263.42,12.67L265.94,11.59L268.46,13.63L270.98,9.73L273.5,13.63L276.02,15.68L278.54,13.63L281.06,15.68L283.58,15.68L286.1,9.59L288.62,11.63L291.14,11.63L293.66,13.69L296.18,13.69L298.7,12.67L301.22,13.31L303.74,12.69L306.26,18.38L308.78,15.63L311.3,17.29L313.82,17.29L316.34,15.25L318.86,17.29L321.38,16.34L323.9,16.34L326.42,18.38L328.94,18.38L333.98,18.38\" style=\"vector-effect: none; fill: none; stroke: rgb(171, 99, 250); stroke-opacity: 1; stroke-width: 2px; opacity: 1;\"/></g><g class=\"points\"><path class=\"point\" transform=\"translate(21.53,67.07)\" d=\"M3,0A3,3 0 1,1 0,-3A3,3 0 0,1 3,0Z\" style=\"opacity: 1; stroke-width: 0px; fill: rgb(171, 99, 250); fill-opacity: 1;\"/><path class=\"point\" transform=\"translate(24.04,103.12)\" d=\"M3,0A3,3 0 1,1 0,-3A3,3 0 0,1 3,0Z\" style=\"opacity: 1; stroke-width: 0px; fill: rgb(171, 99, 250); fill-opacity: 1;\"/><path class=\"point\" transform=\"translate(26.56,31.67)\" d=\"M3,0A3,3 0 1,1 0,-3A3,3 0 0,1 3,0Z\" style=\"opacity: 1; stroke-width: 0px; fill: rgb(171, 99, 250); fill-opacity: 1;\"/><path class=\"point\" transform=\"translate(29.08,39.67)\" d=\"M3,0A3,3 0 1,1 0,-3A3,3 0 0,1 3,0Z\" style=\"opacity: 1; stroke-width: 0px; fill: rgb(171, 99, 250); fill-opacity: 1;\"/><path class=\"point\" transform=\"translate(31.6,20.75)\" d=\"M3,0A3,3 0 1,1 0,-3A3,3 0 0,1 3,0Z\" style=\"opacity: 1; stroke-width: 0px; fill: rgb(171, 99, 250); fill-opacity: 1;\"/><path class=\"point\" transform=\"translate(34.12,33.22)\" d=\"M3,0A3,3 0 1,1 0,-3A3,3 0 0,1 3,0Z\" style=\"opacity: 1; stroke-width: 0px; fill: rgb(171, 99, 250); fill-opacity: 1;\"/><path class=\"point\" transform=\"translate(36.64,16.24)\" d=\"M3,0A3,3 0 1,1 0,-3A3,3 0 0,1 3,0Z\" style=\"opacity: 1; stroke-width: 0px; fill: rgb(171, 99, 250); fill-opacity: 1;\"/><path class=\"point\" transform=\"translate(39.16,30.13)\" d=\"M3,0A3,3 0 1,1 0,-3A3,3 0 0,1 3,0Z\" style=\"opacity: 1; stroke-width: 0px; fill: rgb(171, 99, 250); fill-opacity: 1;\"/><path class=\"point\" transform=\"translate(41.68,20.19)\" d=\"M3,0A3,3 0 1,1 0,-3A3,3 0 0,1 3,0Z\" style=\"opacity: 1; stroke-width: 0px; fill: rgb(171, 99, 250); fill-opacity: 1;\"/><path class=\"point\" transform=\"translate(44.2,23.37)\" d=\"M3,0A3,3 0 1,1 0,-3A3,3 0 0,1 3,0Z\" style=\"opacity: 1; stroke-width: 0px; fill: rgb(171, 99, 250); fill-opacity: 1;\"/><path class=\"point\" transform=\"translate(46.72,20.11)\" d=\"M3,0A3,3 0 1,1 0,-3A3,3 0 0,1 3,0Z\" style=\"opacity: 1; stroke-width: 0px; fill: rgb(171, 99, 250); fill-opacity: 1;\"/><path class=\"point\" transform=\"translate(49.24,28.59)\" d=\"M3,0A3,3 0 1,1 0,-3A3,3 0 0,1 3,0Z\" style=\"opacity: 1; stroke-width: 0px; fill: rgb(171, 99, 250); fill-opacity: 1;\"/><path class=\"point\" transform=\"translate(51.76,17.43)\" d=\"M3,0A3,3 0 1,1 0,-3A3,3 0 0,1 3,0Z\" style=\"opacity: 1; stroke-width: 0px; fill: rgb(171, 99, 250); fill-opacity: 1;\"/><path class=\"point\" transform=\"translate(54.28,25.07)\" d=\"M3,0A3,3 0 1,1 0,-3A3,3 0 0,1 3,0Z\" style=\"opacity: 1; stroke-width: 0px; fill: rgb(171, 99, 250); fill-opacity: 1;\"/><path class=\"point\" transform=\"translate(56.8,21.56)\" d=\"M3,0A3,3 0 1,1 0,-3A3,3 0 0,1 3,0Z\" style=\"opacity: 1; stroke-width: 0px; fill: rgb(171, 99, 250); fill-opacity: 1;\"/><path class=\"point\" transform=\"translate(59.32,26.35)\" d=\"M3,0A3,3 0 1,1 0,-3A3,3 0 0,1 3,0Z\" style=\"opacity: 1; stroke-width: 0px; fill: rgb(171, 99, 250); fill-opacity: 1;\"/><path class=\"point\" transform=\"translate(61.84,21.5)\" d=\"M3,0A3,3 0 1,1 0,-3A3,3 0 0,1 3,0Z\" style=\"opacity: 1; stroke-width: 0px; fill: rgb(171, 99, 250); fill-opacity: 1;\"/><path class=\"point\" transform=\"translate(64.36,22.03)\" d=\"M3,0A3,3 0 1,1 0,-3A3,3 0 0,1 3,0Z\" style=\"opacity: 1; stroke-width: 0px; fill: rgb(171, 99, 250); fill-opacity: 1;\"/><path class=\"point\" transform=\"translate(66.88,22.8)\" d=\"M3,0A3,3 0 1,1 0,-3A3,3 0 0,1 3,0Z\" style=\"opacity: 1; stroke-width: 0px; fill: rgb(171, 99, 250); fill-opacity: 1;\"/><path class=\"point\" transform=\"translate(69.4,26.5)\" d=\"M3,0A3,3 0 1,1 0,-3A3,3 0 0,1 3,0Z\" style=\"opacity: 1; stroke-width: 0px; fill: rgb(171, 99, 250); fill-opacity: 1;\"/><path class=\"point\" transform=\"translate(71.92,23.06)\" d=\"M3,0A3,3 0 1,1 0,-3A3,3 0 0,1 3,0Z\" style=\"opacity: 1; stroke-width: 0px; fill: rgb(171, 99, 250); fill-opacity: 1;\"/><path class=\"point\" transform=\"translate(74.44,22.71)\" d=\"M3,0A3,3 0 1,1 0,-3A3,3 0 0,1 3,0Z\" style=\"opacity: 1; stroke-width: 0px; fill: rgb(171, 99, 250); fill-opacity: 1;\"/><path class=\"point\" transform=\"translate(76.96,20.37)\" d=\"M3,0A3,3 0 1,1 0,-3A3,3 0 0,1 3,0Z\" style=\"opacity: 1; stroke-width: 0px; fill: rgb(171, 99, 250); fill-opacity: 1;\"/><path class=\"point\" transform=\"translate(79.48,26.2)\" d=\"M3,0A3,3 0 1,1 0,-3A3,3 0 0,1 3,0Z\" style=\"opacity: 1; stroke-width: 0px; fill: rgb(171, 99, 250); fill-opacity: 1;\"/><path class=\"point\" transform=\"translate(82,22.42)\" d=\"M3,0A3,3 0 1,1 0,-3A3,3 0 0,1 3,0Z\" style=\"opacity: 1; stroke-width: 0px; fill: rgb(171, 99, 250); fill-opacity: 1;\"/><path class=\"point\" transform=\"translate(84.52,20.98)\" d=\"M3,0A3,3 0 1,1 0,-3A3,3 0 0,1 3,0Z\" style=\"opacity: 1; stroke-width: 0px; fill: rgb(171, 99, 250); fill-opacity: 1;\"/><path class=\"point\" transform=\"translate(87.04,20.35)\" d=\"M3,0A3,3 0 1,1 0,-3A3,3 0 0,1 3,0Z\" style=\"opacity: 1; stroke-width: 0px; fill: rgb(171, 99, 250); fill-opacity: 1;\"/><path class=\"point\" transform=\"translate(89.56,15.1)\" d=\"M3,0A3,3 0 1,1 0,-3A3,3 0 0,1 3,0Z\" style=\"opacity: 1; stroke-width: 0px; fill: rgb(171, 99, 250); fill-opacity: 1;\"/><path class=\"point\" transform=\"translate(92.08,19.18)\" d=\"M3,0A3,3 0 1,1 0,-3A3,3 0 0,1 3,0Z\" style=\"opacity: 1; stroke-width: 0px; fill: rgb(171, 99, 250); fill-opacity: 1;\"/><path class=\"point\" transform=\"translate(94.6,18.22)\" d=\"M3,0A3,3 0 1,1 0,-3A3,3 0 0,1 3,0Z\" style=\"opacity: 1; stroke-width: 0px; fill: rgb(171, 99, 250); fill-opacity: 1;\"/><path class=\"point\" transform=\"translate(97.12,13.19)\" d=\"M3,0A3,3 0 1,1 0,-3A3,3 0 0,1 3,0Z\" style=\"opacity: 1; stroke-width: 0px; fill: rgb(171, 99, 250); fill-opacity: 1;\"/><path class=\"point\" transform=\"translate(99.64,16.32)\" d=\"M3,0A3,3 0 1,1 0,-3A3,3 0 0,1 3,0Z\" style=\"opacity: 1; stroke-width: 0px; fill: rgb(171, 99, 250); fill-opacity: 1;\"/><path class=\"point\" transform=\"translate(102.16,18.46)\" d=\"M3,0A3,3 0 1,1 0,-3A3,3 0 0,1 3,0Z\" style=\"opacity: 1; stroke-width: 0px; fill: rgb(171, 99, 250); fill-opacity: 1;\"/><path class=\"point\" transform=\"translate(104.68,18.41)\" d=\"M3,0A3,3 0 1,1 0,-3A3,3 0 0,1 3,0Z\" style=\"opacity: 1; stroke-width: 0px; fill: rgb(171, 99, 250); fill-opacity: 1;\"/><path class=\"point\" transform=\"translate(107.2,17.36)\" d=\"M3,0A3,3 0 1,1 0,-3A3,3 0 0,1 3,0Z\" style=\"opacity: 1; stroke-width: 0px; fill: rgb(171, 99, 250); fill-opacity: 1;\"/><path class=\"point\" transform=\"translate(109.72,16.39)\" d=\"M3,0A3,3 0 1,1 0,-3A3,3 0 0,1 3,0Z\" style=\"opacity: 1; stroke-width: 0px; fill: rgb(171, 99, 250); fill-opacity: 1;\"/><path class=\"point\" transform=\"translate(112.24,18.76)\" d=\"M3,0A3,3 0 1,1 0,-3A3,3 0 0,1 3,0Z\" style=\"opacity: 1; stroke-width: 0px; fill: rgb(171, 99, 250); fill-opacity: 1;\"/><path class=\"point\" transform=\"translate(114.76,15.72)\" d=\"M3,0A3,3 0 1,1 0,-3A3,3 0 0,1 3,0Z\" style=\"opacity: 1; stroke-width: 0px; fill: rgb(171, 99, 250); fill-opacity: 1;\"/><path class=\"point\" transform=\"translate(117.28,14.66)\" d=\"M3,0A3,3 0 1,1 0,-3A3,3 0 0,1 3,0Z\" style=\"opacity: 1; stroke-width: 0px; fill: rgb(171, 99, 250); fill-opacity: 1;\"/><path class=\"point\" transform=\"translate(119.8,13.78)\" d=\"M3,0A3,3 0 1,1 0,-3A3,3 0 0,1 3,0Z\" style=\"opacity: 1; stroke-width: 0px; fill: rgb(171, 99, 250); fill-opacity: 1;\"/><path class=\"point\" transform=\"translate(122.32,14.57)\" d=\"M3,0A3,3 0 1,1 0,-3A3,3 0 0,1 3,0Z\" style=\"opacity: 1; stroke-width: 0px; fill: rgb(171, 99, 250); fill-opacity: 1;\"/><path class=\"point\" transform=\"translate(124.84,13.49)\" d=\"M3,0A3,3 0 1,1 0,-3A3,3 0 0,1 3,0Z\" style=\"opacity: 1; stroke-width: 0px; fill: rgb(171, 99, 250); fill-opacity: 1;\"/><path class=\"point\" transform=\"translate(127.35,14.57)\" d=\"M3,0A3,3 0 1,1 0,-3A3,3 0 0,1 3,0Z\" style=\"opacity: 1; stroke-width: 0px; fill: rgb(171, 99, 250); fill-opacity: 1;\"/><path class=\"point\" transform=\"translate(129.87,12.39)\" d=\"M3,0A3,3 0 1,1 0,-3A3,3 0 0,1 3,0Z\" style=\"opacity: 1; stroke-width: 0px; fill: rgb(171, 99, 250); fill-opacity: 1;\"/><path class=\"point\" transform=\"translate(132.39,13.49)\" d=\"M3,0A3,3 0 1,1 0,-3A3,3 0 0,1 3,0Z\" style=\"opacity: 1; stroke-width: 0px; fill: rgb(171, 99, 250); fill-opacity: 1;\"/><path class=\"point\" transform=\"translate(134.91,13.49)\" d=\"M3,0A3,3 0 1,1 0,-3A3,3 0 0,1 3,0Z\" style=\"opacity: 1; stroke-width: 0px; fill: rgb(171, 99, 250); fill-opacity: 1;\"/><path class=\"point\" transform=\"translate(137.43,14.57)\" d=\"M3,0A3,3 0 1,1 0,-3A3,3 0 0,1 3,0Z\" style=\"opacity: 1; stroke-width: 0px; fill: rgb(171, 99, 250); fill-opacity: 1;\"/><path class=\"point\" transform=\"translate(139.95,15.62)\" d=\"M3,0A3,3 0 1,1 0,-3A3,3 0 0,1 3,0Z\" style=\"opacity: 1; stroke-width: 0px; fill: rgb(171, 99, 250); fill-opacity: 1;\"/><path class=\"point\" transform=\"translate(142.47,12.52)\" d=\"M3,0A3,3 0 1,1 0,-3A3,3 0 0,1 3,0Z\" style=\"opacity: 1; stroke-width: 0px; fill: rgb(171, 99, 250); fill-opacity: 1;\"/><path class=\"point\" transform=\"translate(144.99,15.72)\" d=\"M3,0A3,3 0 1,1 0,-3A3,3 0 0,1 3,0Z\" style=\"opacity: 1; stroke-width: 0px; fill: rgb(171, 99, 250); fill-opacity: 1;\"/><path class=\"point\" transform=\"translate(147.51,13.98)\" d=\"M3,0A3,3 0 1,1 0,-3A3,3 0 0,1 3,0Z\" style=\"opacity: 1; stroke-width: 0px; fill: rgb(171, 99, 250); fill-opacity: 1;\"/><path class=\"point\" transform=\"translate(150.03,15.72)\" d=\"M3,0A3,3 0 1,1 0,-3A3,3 0 0,1 3,0Z\" style=\"opacity: 1; stroke-width: 0px; fill: rgb(171, 99, 250); fill-opacity: 1;\"/><path class=\"point\" transform=\"translate(152.55,13.98)\" d=\"M3,0A3,3 0 1,1 0,-3A3,3 0 0,1 3,0Z\" style=\"opacity: 1; stroke-width: 0px; fill: rgb(171, 99, 250); fill-opacity: 1;\"/><path class=\"point\" transform=\"translate(155.07,12.52)\" d=\"M3,0A3,3 0 1,1 0,-3A3,3 0 0,1 3,0Z\" style=\"opacity: 1; stroke-width: 0px; fill: rgb(171, 99, 250); fill-opacity: 1;\"/><path class=\"point\" transform=\"translate(157.59,14.66)\" d=\"M3,0A3,3 0 1,1 0,-3A3,3 0 0,1 3,0Z\" style=\"opacity: 1; stroke-width: 0px; fill: rgb(171, 99, 250); fill-opacity: 1;\"/><path class=\"point\" transform=\"translate(160.11,13.56)\" d=\"M3,0A3,3 0 1,1 0,-3A3,3 0 0,1 3,0Z\" style=\"opacity: 1; stroke-width: 0px; fill: rgb(171, 99, 250); fill-opacity: 1;\"/><path class=\"point\" transform=\"translate(162.63,14.66)\" d=\"M3,0A3,3 0 1,1 0,-3A3,3 0 0,1 3,0Z\" style=\"opacity: 1; stroke-width: 0px; fill: rgb(171, 99, 250); fill-opacity: 1;\"/><path class=\"point\" transform=\"translate(165.15,14.66)\" d=\"M3,0A3,3 0 1,1 0,-3A3,3 0 0,1 3,0Z\" style=\"opacity: 1; stroke-width: 0px; fill: rgb(171, 99, 250); fill-opacity: 1;\"/><path class=\"point\" transform=\"translate(167.67,12.52)\" d=\"M3,0A3,3 0 1,1 0,-3A3,3 0 0,1 3,0Z\" style=\"opacity: 1; stroke-width: 0px; fill: rgb(171, 99, 250); fill-opacity: 1;\"/><path class=\"point\" transform=\"translate(170.19,13.57)\" d=\"M3,0A3,3 0 1,1 0,-3A3,3 0 0,1 3,0Z\" style=\"opacity: 1; stroke-width: 0px; fill: rgb(171, 99, 250); fill-opacity: 1;\"/><path class=\"point\" transform=\"translate(172.71,13.71)\" d=\"M3,0A3,3 0 1,1 0,-3A3,3 0 0,1 3,0Z\" style=\"opacity: 1; stroke-width: 0px; fill: rgb(171, 99, 250); fill-opacity: 1;\"/><path class=\"point\" transform=\"translate(175.23,13.71)\" d=\"M3,0A3,3 0 1,1 0,-3A3,3 0 0,1 3,0Z\" style=\"opacity: 1; stroke-width: 0px; fill: rgb(171, 99, 250); fill-opacity: 1;\"/><path class=\"point\" transform=\"translate(177.75,13.71)\" d=\"M3,0A3,3 0 1,1 0,-3A3,3 0 0,1 3,0Z\" style=\"opacity: 1; stroke-width: 0px; fill: rgb(171, 99, 250); fill-opacity: 1;\"/><path class=\"point\" transform=\"translate(180.27,14.76)\" d=\"M3,0A3,3 0 1,1 0,-3A3,3 0 0,1 3,0Z\" style=\"opacity: 1; stroke-width: 0px; fill: rgb(171, 99, 250); fill-opacity: 1;\"/><path class=\"point\" transform=\"translate(182.79,11.52)\" d=\"M3,0A3,3 0 1,1 0,-3A3,3 0 0,1 3,0Z\" style=\"opacity: 1; stroke-width: 0px; fill: rgb(171, 99, 250); fill-opacity: 1;\"/><path class=\"point\" transform=\"translate(185.31,9.37)\" d=\"M3,0A3,3 0 1,1 0,-3A3,3 0 0,1 3,0Z\" style=\"opacity: 1; stroke-width: 0px; fill: rgb(171, 99, 250); fill-opacity: 1;\"/><path class=\"point\" transform=\"translate(187.83,11.56)\" d=\"M3,0A3,3 0 1,1 0,-3A3,3 0 0,1 3,0Z\" style=\"opacity: 1; stroke-width: 0px; fill: rgb(171, 99, 250); fill-opacity: 1;\"/><path class=\"point\" transform=\"translate(190.35,11.56)\" d=\"M3,0A3,3 0 1,1 0,-3A3,3 0 0,1 3,0Z\" style=\"opacity: 1; stroke-width: 0px; fill: rgb(171, 99, 250); fill-opacity: 1;\"/><path class=\"point\" transform=\"translate(192.87,11.56)\" d=\"M3,0A3,3 0 1,1 0,-3A3,3 0 0,1 3,0Z\" style=\"opacity: 1; stroke-width: 0px; fill: rgb(171, 99, 250); fill-opacity: 1;\"/><path class=\"point\" transform=\"translate(195.39,13.8)\" d=\"M3,0A3,3 0 1,1 0,-3A3,3 0 0,1 3,0Z\" style=\"opacity: 1; stroke-width: 0px; fill: rgb(171, 99, 250); fill-opacity: 1;\"/><path class=\"point\" transform=\"translate(197.91,13.8)\" d=\"M3,0A3,3 0 1,1 0,-3A3,3 0 0,1 3,0Z\" style=\"opacity: 1; stroke-width: 0px; fill: rgb(171, 99, 250); fill-opacity: 1;\"/><path class=\"point\" transform=\"translate(200.43,16.52)\" d=\"M3,0A3,3 0 1,1 0,-3A3,3 0 0,1 3,0Z\" style=\"opacity: 1; stroke-width: 0px; fill: rgb(171, 99, 250); fill-opacity: 1;\"/><path class=\"point\" transform=\"translate(202.95,15.95)\" d=\"M3,0A3,3 0 1,1 0,-3A3,3 0 0,1 3,0Z\" style=\"opacity: 1; stroke-width: 0px; fill: rgb(171, 99, 250); fill-opacity: 1;\"/><path class=\"point\" transform=\"translate(205.47,14.87)\" d=\"M3,0A3,3 0 1,1 0,-3A3,3 0 0,1 3,0Z\" style=\"opacity: 1; stroke-width: 0px; fill: rgb(171, 99, 250); fill-opacity: 1;\"/><path class=\"point\" transform=\"translate(207.99,14.87)\" d=\"M3,0A3,3 0 1,1 0,-3A3,3 0 0,1 3,0Z\" style=\"opacity: 1; stroke-width: 0px; fill: rgb(171, 99, 250); fill-opacity: 1;\"/><path class=\"point\" transform=\"translate(210.51,15.43)\" d=\"M3,0A3,3 0 1,1 0,-3A3,3 0 0,1 3,0Z\" style=\"opacity: 1; stroke-width: 0px; fill: rgb(171, 99, 250); fill-opacity: 1;\"/><path class=\"point\" transform=\"translate(213.03,13.77)\" d=\"M3,0A3,3 0 1,1 0,-3A3,3 0 0,1 3,0Z\" style=\"opacity: 1; stroke-width: 0px; fill: rgb(171, 99, 250); fill-opacity: 1;\"/><path class=\"point\" transform=\"translate(215.55,15.43)\" d=\"M3,0A3,3 0 1,1 0,-3A3,3 0 0,1 3,0Z\" style=\"opacity: 1; stroke-width: 0px; fill: rgb(171, 99, 250); fill-opacity: 1;\"/><path class=\"point\" transform=\"translate(218.07,13.77)\" d=\"M3,0A3,3 0 1,1 0,-3A3,3 0 0,1 3,0Z\" style=\"opacity: 1; stroke-width: 0px; fill: rgb(171, 99, 250); fill-opacity: 1;\"/><path class=\"point\" transform=\"translate(220.59,16.91)\" d=\"M3,0A3,3 0 1,1 0,-3A3,3 0 0,1 3,0Z\" style=\"opacity: 1; stroke-width: 0px; fill: rgb(171, 99, 250); fill-opacity: 1;\"/><path class=\"point\" transform=\"translate(223.11,17.99)\" d=\"M3,0A3,3 0 1,1 0,-3A3,3 0 0,1 3,0Z\" style=\"opacity: 1; stroke-width: 0px; fill: rgb(171, 99, 250); fill-opacity: 1;\"/><path class=\"point\" transform=\"translate(225.63,19.99)\" d=\"M3,0A3,3 0 1,1 0,-3A3,3 0 0,1 3,0Z\" style=\"opacity: 1; stroke-width: 0px; fill: rgb(171, 99, 250); fill-opacity: 1;\"/><path class=\"point\" transform=\"translate(228.15,17.99)\" d=\"M3,0A3,3 0 1,1 0,-3A3,3 0 0,1 3,0Z\" style=\"opacity: 1; stroke-width: 0px; fill: rgb(171, 99, 250); fill-opacity: 1;\"/><path class=\"point\" transform=\"translate(230.66,18.95)\" d=\"M3,0A3,3 0 1,1 0,-3A3,3 0 0,1 3,0Z\" style=\"opacity: 1; stroke-width: 0px; fill: rgb(171, 99, 250); fill-opacity: 1;\"/><path class=\"point\" transform=\"translate(233.18,16.91)\" d=\"M3,0A3,3 0 1,1 0,-3A3,3 0 0,1 3,0Z\" style=\"opacity: 1; stroke-width: 0px; fill: rgb(171, 99, 250); fill-opacity: 1;\"/><path class=\"point\" transform=\"translate(235.7,17.87)\" d=\"M3,0A3,3 0 1,1 0,-3A3,3 0 0,1 3,0Z\" style=\"opacity: 1; stroke-width: 0px; fill: rgb(171, 99, 250); fill-opacity: 1;\"/><path class=\"point\" transform=\"translate(238.22,17.87)\" d=\"M3,0A3,3 0 1,1 0,-3A3,3 0 0,1 3,0Z\" style=\"opacity: 1; stroke-width: 0px; fill: rgb(171, 99, 250); fill-opacity: 1;\"/><path class=\"point\" transform=\"translate(240.74,17.87)\" d=\"M3,0A3,3 0 1,1 0,-3A3,3 0 0,1 3,0Z\" style=\"opacity: 1; stroke-width: 0px; fill: rgb(171, 99, 250); fill-opacity: 1;\"/><path class=\"point\" transform=\"translate(243.26,17.87)\" d=\"M3,0A3,3 0 1,1 0,-3A3,3 0 0,1 3,0Z\" style=\"opacity: 1; stroke-width: 0px; fill: rgb(171, 99, 250); fill-opacity: 1;\"/><path class=\"point\" transform=\"translate(245.78,17.78)\" d=\"M3,0A3,3 0 1,1 0,-3A3,3 0 0,1 3,0Z\" style=\"opacity: 1; stroke-width: 0px; fill: rgb(171, 99, 250); fill-opacity: 1;\"/><path class=\"point\" transform=\"translate(248.3,15.72)\" d=\"M3,0A3,3 0 1,1 0,-3A3,3 0 0,1 3,0Z\" style=\"opacity: 1; stroke-width: 0px; fill: rgb(171, 99, 250); fill-opacity: 1;\"/><path class=\"point\" transform=\"translate(250.82,17.78)\" d=\"M3,0A3,3 0 1,1 0,-3A3,3 0 0,1 3,0Z\" style=\"opacity: 1; stroke-width: 0px; fill: rgb(171, 99, 250); fill-opacity: 1;\"/><path class=\"point\" transform=\"translate(253.34,17.78)\" d=\"M3,0A3,3 0 1,1 0,-3A3,3 0 0,1 3,0Z\" style=\"opacity: 1; stroke-width: 0px; fill: rgb(171, 99, 250); fill-opacity: 1;\"/><path class=\"point\" transform=\"translate(255.86,17.78)\" d=\"M3,0A3,3 0 1,1 0,-3A3,3 0 0,1 3,0Z\" style=\"opacity: 1; stroke-width: 0px; fill: rgb(171, 99, 250); fill-opacity: 1;\"/><path class=\"point\" transform=\"translate(258.38,14.71)\" d=\"M3,0A3,3 0 1,1 0,-3A3,3 0 0,1 3,0Z\" style=\"opacity: 1; stroke-width: 0px; fill: rgb(171, 99, 250); fill-opacity: 1;\"/><path class=\"point\" transform=\"translate(260.9,17.78)\" d=\"M3,0A3,3 0 1,1 0,-3A3,3 0 0,1 3,0Z\" style=\"opacity: 1; stroke-width: 0px; fill: rgb(171, 99, 250); fill-opacity: 1;\"/><path class=\"point\" transform=\"translate(263.42,12.67)\" d=\"M3,0A3,3 0 1,1 0,-3A3,3 0 0,1 3,0Z\" style=\"opacity: 1; stroke-width: 0px; fill: rgb(171, 99, 250); fill-opacity: 1;\"/><path class=\"point\" transform=\"translate(265.94,11.59)\" d=\"M3,0A3,3 0 1,1 0,-3A3,3 0 0,1 3,0Z\" style=\"opacity: 1; stroke-width: 0px; fill: rgb(171, 99, 250); fill-opacity: 1;\"/><path class=\"point\" transform=\"translate(268.46,13.63)\" d=\"M3,0A3,3 0 1,1 0,-3A3,3 0 0,1 3,0Z\" style=\"opacity: 1; stroke-width: 0px; fill: rgb(171, 99, 250); fill-opacity: 1;\"/><path class=\"point\" transform=\"translate(270.98,9.73)\" d=\"M3,0A3,3 0 1,1 0,-3A3,3 0 0,1 3,0Z\" style=\"opacity: 1; stroke-width: 0px; fill: rgb(171, 99, 250); fill-opacity: 1;\"/><path class=\"point\" transform=\"translate(273.5,13.63)\" d=\"M3,0A3,3 0 1,1 0,-3A3,3 0 0,1 3,0Z\" style=\"opacity: 1; stroke-width: 0px; fill: rgb(171, 99, 250); fill-opacity: 1;\"/><path class=\"point\" transform=\"translate(276.02,15.68)\" d=\"M3,0A3,3 0 1,1 0,-3A3,3 0 0,1 3,0Z\" style=\"opacity: 1; stroke-width: 0px; fill: rgb(171, 99, 250); fill-opacity: 1;\"/><path class=\"point\" transform=\"translate(278.54,13.63)\" d=\"M3,0A3,3 0 1,1 0,-3A3,3 0 0,1 3,0Z\" style=\"opacity: 1; stroke-width: 0px; fill: rgb(171, 99, 250); fill-opacity: 1;\"/><path class=\"point\" transform=\"translate(281.06,15.68)\" d=\"M3,0A3,3 0 1,1 0,-3A3,3 0 0,1 3,0Z\" style=\"opacity: 1; stroke-width: 0px; fill: rgb(171, 99, 250); fill-opacity: 1;\"/><path class=\"point\" transform=\"translate(283.58,15.68)\" d=\"M3,0A3,3 0 1,1 0,-3A3,3 0 0,1 3,0Z\" style=\"opacity: 1; stroke-width: 0px; fill: rgb(171, 99, 250); fill-opacity: 1;\"/><path class=\"point\" transform=\"translate(286.1,9.59)\" d=\"M3,0A3,3 0 1,1 0,-3A3,3 0 0,1 3,0Z\" style=\"opacity: 1; stroke-width: 0px; fill: rgb(171, 99, 250); fill-opacity: 1;\"/><path class=\"point\" transform=\"translate(288.62,11.63)\" d=\"M3,0A3,3 0 1,1 0,-3A3,3 0 0,1 3,0Z\" style=\"opacity: 1; stroke-width: 0px; fill: rgb(171, 99, 250); fill-opacity: 1;\"/><path class=\"point\" transform=\"translate(291.14,11.63)\" d=\"M3,0A3,3 0 1,1 0,-3A3,3 0 0,1 3,0Z\" style=\"opacity: 1; stroke-width: 0px; fill: rgb(171, 99, 250); fill-opacity: 1;\"/><path class=\"point\" transform=\"translate(293.66,13.69)\" d=\"M3,0A3,3 0 1,1 0,-3A3,3 0 0,1 3,0Z\" style=\"opacity: 1; stroke-width: 0px; fill: rgb(171, 99, 250); fill-opacity: 1;\"/><path class=\"point\" transform=\"translate(296.18,13.69)\" d=\"M3,0A3,3 0 1,1 0,-3A3,3 0 0,1 3,0Z\" style=\"opacity: 1; stroke-width: 0px; fill: rgb(171, 99, 250); fill-opacity: 1;\"/><path class=\"point\" transform=\"translate(298.7,12.67)\" d=\"M3,0A3,3 0 1,1 0,-3A3,3 0 0,1 3,0Z\" style=\"opacity: 1; stroke-width: 0px; fill: rgb(171, 99, 250); fill-opacity: 1;\"/><path class=\"point\" transform=\"translate(301.22,13.31)\" d=\"M3,0A3,3 0 1,1 0,-3A3,3 0 0,1 3,0Z\" style=\"opacity: 1; stroke-width: 0px; fill: rgb(171, 99, 250); fill-opacity: 1;\"/><path class=\"point\" transform=\"translate(303.74,12.69)\" d=\"M3,0A3,3 0 1,1 0,-3A3,3 0 0,1 3,0Z\" style=\"opacity: 1; stroke-width: 0px; fill: rgb(171, 99, 250); fill-opacity: 1;\"/><path class=\"point\" transform=\"translate(306.26,18.38)\" d=\"M3,0A3,3 0 1,1 0,-3A3,3 0 0,1 3,0Z\" style=\"opacity: 1; stroke-width: 0px; fill: rgb(171, 99, 250); fill-opacity: 1;\"/><path class=\"point\" transform=\"translate(308.78,15.63)\" d=\"M3,0A3,3 0 1,1 0,-3A3,3 0 0,1 3,0Z\" style=\"opacity: 1; stroke-width: 0px; fill: rgb(171, 99, 250); fill-opacity: 1;\"/><path class=\"point\" transform=\"translate(311.3,17.29)\" d=\"M3,0A3,3 0 1,1 0,-3A3,3 0 0,1 3,0Z\" style=\"opacity: 1; stroke-width: 0px; fill: rgb(171, 99, 250); fill-opacity: 1;\"/><path class=\"point\" transform=\"translate(313.82,17.29)\" d=\"M3,0A3,3 0 1,1 0,-3A3,3 0 0,1 3,0Z\" style=\"opacity: 1; stroke-width: 0px; fill: rgb(171, 99, 250); fill-opacity: 1;\"/><path class=\"point\" transform=\"translate(316.34,15.25)\" d=\"M3,0A3,3 0 1,1 0,-3A3,3 0 0,1 3,0Z\" style=\"opacity: 1; stroke-width: 0px; fill: rgb(171, 99, 250); fill-opacity: 1;\"/><path class=\"point\" transform=\"translate(318.86,17.29)\" d=\"M3,0A3,3 0 1,1 0,-3A3,3 0 0,1 3,0Z\" style=\"opacity: 1; stroke-width: 0px; fill: rgb(171, 99, 250); fill-opacity: 1;\"/><path class=\"point\" transform=\"translate(321.38,16.34)\" d=\"M3,0A3,3 0 1,1 0,-3A3,3 0 0,1 3,0Z\" style=\"opacity: 1; stroke-width: 0px; fill: rgb(171, 99, 250); fill-opacity: 1;\"/><path class=\"point\" transform=\"translate(323.9,16.34)\" d=\"M3,0A3,3 0 1,1 0,-3A3,3 0 0,1 3,0Z\" style=\"opacity: 1; stroke-width: 0px; fill: rgb(171, 99, 250); fill-opacity: 1;\"/><path class=\"point\" transform=\"translate(326.42,18.38)\" d=\"M3,0A3,3 0 1,1 0,-3A3,3 0 0,1 3,0Z\" style=\"opacity: 1; stroke-width: 0px; fill: rgb(171, 99, 250); fill-opacity: 1;\"/><path class=\"point\" transform=\"translate(328.94,18.38)\" d=\"M3,0A3,3 0 1,1 0,-3A3,3 0 0,1 3,0Z\" style=\"opacity: 1; stroke-width: 0px; fill: rgb(171, 99, 250); fill-opacity: 1;\"/><path class=\"point\" transform=\"translate(331.46,18.38)\" d=\"M3,0A3,3 0 1,1 0,-3A3,3 0 0,1 3,0Z\" style=\"opacity: 1; stroke-width: 0px; fill: rgb(171, 99, 250); fill-opacity: 1;\"/><path class=\"point\" transform=\"translate(333.98,18.38)\" d=\"M3,0A3,3 0 1,1 0,-3A3,3 0 0,1 3,0Z\" style=\"opacity: 1; stroke-width: 0px; fill: rgb(171, 99, 250); fill-opacity: 1;\"/></g><g class=\"text\"/></g></g></g><g class=\"overplot\"/><path class=\"xlines-above crisp\" d=\"M0,0\" style=\"fill: none;\"/><path class=\"ylines-above crisp\" d=\"M0,0\" style=\"fill: none;\"/><g class=\"overlines-above\"/><g class=\"xaxislayer-above\"><g class=\"x7tick\"><text text-anchor=\"middle\" x=\"0\" y=\"833\" transform=\"translate(101.53,0)\" style=\"font-family: 'Open Sans', verdana, arial, sans-serif; font-size: 12px; fill: rgb(42, 63, 95); fill-opacity: 1; white-space: pre; opacity: 1;\">0</text></g><g class=\"x7tick\"><text text-anchor=\"middle\" x=\"0\" y=\"833\" style=\"font-family: 'Open Sans', verdana, arial, sans-serif; font-size: 12px; fill: rgb(42, 63, 95); fill-opacity: 1; white-space: pre; opacity: 1;\" transform=\"translate(227.51,0)\">50</text></g><g class=\"x7tick\"><text text-anchor=\"middle\" x=\"0\" y=\"833\" style=\"font-family: 'Open Sans', verdana, arial, sans-serif; font-size: 12px; fill: rgb(42, 63, 95); fill-opacity: 1; white-space: pre; opacity: 1;\" transform=\"translate(353.5,0)\">100</text></g></g><g class=\"yaxislayer-above\"><g class=\"y7tick\"><text text-anchor=\"end\" x=\"79\" y=\"4.199999999999999\" transform=\"translate(0,817.58)\" style=\"font-family: 'Open Sans', verdana, arial, sans-serif; font-size: 12px; fill: rgb(42, 63, 95); fill-opacity: 1; white-space: pre; opacity: 1;\">0.62</text></g><g class=\"y7tick\"><text text-anchor=\"end\" x=\"79\" y=\"4.199999999999999\" style=\"font-family: 'Open Sans', verdana, arial, sans-serif; font-size: 12px; fill: rgb(42, 63, 95); fill-opacity: 1; white-space: pre; opacity: 1;\" transform=\"translate(0,793.1)\">0.64</text></g><g class=\"y7tick\"><text text-anchor=\"end\" x=\"79\" y=\"4.199999999999999\" style=\"font-family: 'Open Sans', verdana, arial, sans-serif; font-size: 12px; fill: rgb(42, 63, 95); fill-opacity: 1; white-space: pre; opacity: 1;\" transform=\"translate(0,768.61)\">0.66</text></g><g class=\"y7tick\"><text text-anchor=\"end\" x=\"79\" y=\"4.199999999999999\" style=\"font-family: 'Open Sans', verdana, arial, sans-serif; font-size: 12px; fill: rgb(42, 63, 95); fill-opacity: 1; white-space: pre; opacity: 1;\" transform=\"translate(0,744.13)\">0.68</text></g><g class=\"y7tick\"><text text-anchor=\"end\" x=\"79\" y=\"4.199999999999999\" style=\"font-family: 'Open Sans', verdana, arial, sans-serif; font-size: 12px; fill: rgb(42, 63, 95); fill-opacity: 1; white-space: pre; opacity: 1;\" transform=\"translate(0,719.64)\">0.7</text></g></g><g class=\"overaxes-above\"/></g><g class=\"subplot x8y8\"><g class=\"layer-subplot\"><g class=\"shapelayer\"/><g class=\"imagelayer\"/></g><g class=\"minor-gridlayer\"><g class=\"x8\"/><g class=\"y8\"/></g><g class=\"gridlayer\"><g class=\"x8\"><path class=\"x8grid crisp\" transform=\"translate(662.01,0)\" d=\"M0,707.5v112.5\" style=\"stroke: rgb(255, 255, 255); stroke-opacity: 1; stroke-width: 1px;\"/><path class=\"x8grid crisp\" transform=\"translate(788,0)\" d=\"M0,707.5v112.5\" style=\"stroke: rgb(255, 255, 255); stroke-opacity: 1; stroke-width: 1px;\"/></g><g class=\"y8\"><path class=\"y8grid crisp\" transform=\"translate(0,797.75)\" d=\"M514.5,0h355.49999999999994\" style=\"stroke: rgb(255, 255, 255); stroke-opacity: 1; stroke-width: 1px;\"/><path class=\"y8grid crisp\" transform=\"translate(0,773.74)\" d=\"M514.5,0h355.49999999999994\" style=\"stroke: rgb(255, 255, 255); stroke-opacity: 1; stroke-width: 1px;\"/><path class=\"y8grid crisp\" transform=\"translate(0,749.73)\" d=\"M514.5,0h355.49999999999994\" style=\"stroke: rgb(255, 255, 255); stroke-opacity: 1; stroke-width: 1px;\"/><path class=\"y8grid crisp\" transform=\"translate(0,725.72)\" d=\"M514.5,0h355.49999999999994\" style=\"stroke: rgb(255, 255, 255); stroke-opacity: 1; stroke-width: 1px;\"/></g></g><g class=\"zerolinelayer\"><path class=\"x8zl zl crisp\" transform=\"translate(536.03,0)\" d=\"M0,707.5v112.5\" style=\"stroke: rgb(255, 255, 255); stroke-opacity: 1; stroke-width: 2px;\"/></g><path class=\"xlines-below\"/><path class=\"ylines-below\"/><g class=\"overlines-below\"/><g class=\"xaxislayer-below\"/><g class=\"yaxislayer-below\"/><g class=\"overaxes-below\"/><g class=\"plot\" transform=\"translate(514.5,707.5)\" clip-path=\"url(#clip8e537fx8y8plot)\"><g class=\"scatterlayer mlayer\"><g class=\"trace scatter trace15a895\" style=\"stroke-miterlimit: 2; opacity: 1;\"><g class=\"fills\"/><g class=\"errorbars\"/><g class=\"lines\"><path class=\"js-line\" d=\"M21.53,88.26L24.04,91.79L26.56,63.24L29.08,16.37L31.6,103.13L34.12,64.86L36.64,82.21L39.16,70.5L41.68,64.63L44.2,67.73L46.72,62.78L49.24,9.38L51.76,42.58L54.28,25.57L56.8,35.75L59.32,56.5L61.84,56.96L64.36,63.4L66.88,58.77L69.4,86.53L71.92,49.71L74.44,70.43L76.96,50.01L79.48,49.03L82,46.98L84.52,46.99L87.04,44.35L89.56,57.52L92.08,39.19L94.6,46.25L97.12,49.83L99.64,50.42L102.16,54.97L104.68,52.61L107.2,47.91L109.72,50.22L112.24,37.03L114.76,39.76L117.28,44.75L119.8,32.02L122.32,50.1L124.84,44.15L127.35,50.1L129.87,37.69L132.39,44.15L134.91,44.15L137.43,50.1L139.95,55.54L142.47,53.92L144.99,50.1L147.51,42.55L150.03,50.1L152.55,42.55L155.07,53.92L157.59,44.75L160.11,52.71L162.63,44.75L165.15,44.75L167.67,53.92L170.19,59.32L172.71,51.8L175.23,51.8L177.75,45.33L180.27,50.65L182.79,58.05L185.31,67.95L187.83,54.62L192.87,54.62L195.39,39.46L197.91,39.46L200.43,33.67L202.95,30.79L205.47,25.1L207.99,25.1L210.51,28.09L213.03,18.92L215.55,28.09L218.07,18.92L220.59,20.93L223.11,26.64L225.63,25.44L228.15,26.64L230.66,26.26L233.18,20.93L235.7,20.51L243.26,20.51L245.78,25.48L248.3,28.74L250.82,25.48L255.86,25.48L258.38,40.96L260.9,25.48L263.42,45.59L268.46,35.17L270.98,36.8L273.5,35.17L276.02,31.65L278.54,35.17L281.06,31.65L283.58,31.65L286.1,41.84L288.62,36.98L291.14,36.98L293.66,34.2L296.18,34.2L298.7,35.78L301.22,47.51L303.74,36.69L306.26,39.51L308.78,24.3L311.3,33.75L313.82,33.75L316.34,38.04L318.86,33.75L321.38,43.78L323.9,43.78L326.42,39.51L333.98,39.51\" style=\"vector-effect: none; fill: none; stroke: rgb(171, 99, 250); stroke-opacity: 1; stroke-width: 2px; opacity: 1;\"/></g><g class=\"points\"><path class=\"point\" transform=\"translate(21.53,88.26)\" d=\"M3,0A3,3 0 1,1 0,-3A3,3 0 0,1 3,0Z\" style=\"opacity: 1; stroke-width: 0px; fill: rgb(171, 99, 250); fill-opacity: 1;\"/><path class=\"point\" transform=\"translate(24.04,91.79)\" d=\"M3,0A3,3 0 1,1 0,-3A3,3 0 0,1 3,0Z\" style=\"opacity: 1; stroke-width: 0px; fill: rgb(171, 99, 250); fill-opacity: 1;\"/><path class=\"point\" transform=\"translate(26.56,63.24)\" d=\"M3,0A3,3 0 1,1 0,-3A3,3 0 0,1 3,0Z\" style=\"opacity: 1; stroke-width: 0px; fill: rgb(171, 99, 250); fill-opacity: 1;\"/><path class=\"point\" transform=\"translate(29.08,16.37)\" d=\"M3,0A3,3 0 1,1 0,-3A3,3 0 0,1 3,0Z\" style=\"opacity: 1; stroke-width: 0px; fill: rgb(171, 99, 250); fill-opacity: 1;\"/><path class=\"point\" transform=\"translate(31.6,103.13)\" d=\"M3,0A3,3 0 1,1 0,-3A3,3 0 0,1 3,0Z\" style=\"opacity: 1; stroke-width: 0px; fill: rgb(171, 99, 250); fill-opacity: 1;\"/><path class=\"point\" transform=\"translate(34.12,64.86)\" d=\"M3,0A3,3 0 1,1 0,-3A3,3 0 0,1 3,0Z\" style=\"opacity: 1; stroke-width: 0px; fill: rgb(171, 99, 250); fill-opacity: 1;\"/><path class=\"point\" transform=\"translate(36.64,82.21)\" d=\"M3,0A3,3 0 1,1 0,-3A3,3 0 0,1 3,0Z\" style=\"opacity: 1; stroke-width: 0px; fill: rgb(171, 99, 250); fill-opacity: 1;\"/><path class=\"point\" transform=\"translate(39.16,70.5)\" d=\"M3,0A3,3 0 1,1 0,-3A3,3 0 0,1 3,0Z\" style=\"opacity: 1; stroke-width: 0px; fill: rgb(171, 99, 250); fill-opacity: 1;\"/><path class=\"point\" transform=\"translate(41.68,64.63)\" d=\"M3,0A3,3 0 1,1 0,-3A3,3 0 0,1 3,0Z\" style=\"opacity: 1; stroke-width: 0px; fill: rgb(171, 99, 250); fill-opacity: 1;\"/><path class=\"point\" transform=\"translate(44.2,67.73)\" d=\"M3,0A3,3 0 1,1 0,-3A3,3 0 0,1 3,0Z\" style=\"opacity: 1; stroke-width: 0px; fill: rgb(171, 99, 250); fill-opacity: 1;\"/><path class=\"point\" transform=\"translate(46.72,62.78)\" d=\"M3,0A3,3 0 1,1 0,-3A3,3 0 0,1 3,0Z\" style=\"opacity: 1; stroke-width: 0px; fill: rgb(171, 99, 250); fill-opacity: 1;\"/><path class=\"point\" transform=\"translate(49.24,9.38)\" d=\"M3,0A3,3 0 1,1 0,-3A3,3 0 0,1 3,0Z\" style=\"opacity: 1; stroke-width: 0px; fill: rgb(171, 99, 250); fill-opacity: 1;\"/><path class=\"point\" transform=\"translate(51.76,42.58)\" d=\"M3,0A3,3 0 1,1 0,-3A3,3 0 0,1 3,0Z\" style=\"opacity: 1; stroke-width: 0px; fill: rgb(171, 99, 250); fill-opacity: 1;\"/><path class=\"point\" transform=\"translate(54.28,25.57)\" d=\"M3,0A3,3 0 1,1 0,-3A3,3 0 0,1 3,0Z\" style=\"opacity: 1; stroke-width: 0px; fill: rgb(171, 99, 250); fill-opacity: 1;\"/><path class=\"point\" transform=\"translate(56.8,35.75)\" d=\"M3,0A3,3 0 1,1 0,-3A3,3 0 0,1 3,0Z\" style=\"opacity: 1; stroke-width: 0px; fill: rgb(171, 99, 250); fill-opacity: 1;\"/><path class=\"point\" transform=\"translate(59.32,56.5)\" d=\"M3,0A3,3 0 1,1 0,-3A3,3 0 0,1 3,0Z\" style=\"opacity: 1; stroke-width: 0px; fill: rgb(171, 99, 250); fill-opacity: 1;\"/><path class=\"point\" transform=\"translate(61.84,56.96)\" d=\"M3,0A3,3 0 1,1 0,-3A3,3 0 0,1 3,0Z\" style=\"opacity: 1; stroke-width: 0px; fill: rgb(171, 99, 250); fill-opacity: 1;\"/><path class=\"point\" transform=\"translate(64.36,63.4)\" d=\"M3,0A3,3 0 1,1 0,-3A3,3 0 0,1 3,0Z\" style=\"opacity: 1; stroke-width: 0px; fill: rgb(171, 99, 250); fill-opacity: 1;\"/><path class=\"point\" transform=\"translate(66.88,58.77)\" d=\"M3,0A3,3 0 1,1 0,-3A3,3 0 0,1 3,0Z\" style=\"opacity: 1; stroke-width: 0px; fill: rgb(171, 99, 250); fill-opacity: 1;\"/><path class=\"point\" transform=\"translate(69.4,86.53)\" d=\"M3,0A3,3 0 1,1 0,-3A3,3 0 0,1 3,0Z\" style=\"opacity: 1; stroke-width: 0px; fill: rgb(171, 99, 250); fill-opacity: 1;\"/><path class=\"point\" transform=\"translate(71.92,49.71)\" d=\"M3,0A3,3 0 1,1 0,-3A3,3 0 0,1 3,0Z\" style=\"opacity: 1; stroke-width: 0px; fill: rgb(171, 99, 250); fill-opacity: 1;\"/><path class=\"point\" transform=\"translate(74.44,70.43)\" d=\"M3,0A3,3 0 1,1 0,-3A3,3 0 0,1 3,0Z\" style=\"opacity: 1; stroke-width: 0px; fill: rgb(171, 99, 250); fill-opacity: 1;\"/><path class=\"point\" transform=\"translate(76.96,50.01)\" d=\"M3,0A3,3 0 1,1 0,-3A3,3 0 0,1 3,0Z\" style=\"opacity: 1; stroke-width: 0px; fill: rgb(171, 99, 250); fill-opacity: 1;\"/><path class=\"point\" transform=\"translate(79.48,49.03)\" d=\"M3,0A3,3 0 1,1 0,-3A3,3 0 0,1 3,0Z\" style=\"opacity: 1; stroke-width: 0px; fill: rgb(171, 99, 250); fill-opacity: 1;\"/><path class=\"point\" transform=\"translate(82,46.98)\" d=\"M3,0A3,3 0 1,1 0,-3A3,3 0 0,1 3,0Z\" style=\"opacity: 1; stroke-width: 0px; fill: rgb(171, 99, 250); fill-opacity: 1;\"/><path class=\"point\" transform=\"translate(84.52,46.99)\" d=\"M3,0A3,3 0 1,1 0,-3A3,3 0 0,1 3,0Z\" style=\"opacity: 1; stroke-width: 0px; fill: rgb(171, 99, 250); fill-opacity: 1;\"/><path class=\"point\" transform=\"translate(87.04,44.35)\" d=\"M3,0A3,3 0 1,1 0,-3A3,3 0 0,1 3,0Z\" style=\"opacity: 1; stroke-width: 0px; fill: rgb(171, 99, 250); fill-opacity: 1;\"/><path class=\"point\" transform=\"translate(89.56,57.52)\" d=\"M3,0A3,3 0 1,1 0,-3A3,3 0 0,1 3,0Z\" style=\"opacity: 1; stroke-width: 0px; fill: rgb(171, 99, 250); fill-opacity: 1;\"/><path class=\"point\" transform=\"translate(92.08,39.19)\" d=\"M3,0A3,3 0 1,1 0,-3A3,3 0 0,1 3,0Z\" style=\"opacity: 1; stroke-width: 0px; fill: rgb(171, 99, 250); fill-opacity: 1;\"/><path class=\"point\" transform=\"translate(94.6,46.25)\" d=\"M3,0A3,3 0 1,1 0,-3A3,3 0 0,1 3,0Z\" style=\"opacity: 1; stroke-width: 0px; fill: rgb(171, 99, 250); fill-opacity: 1;\"/><path class=\"point\" transform=\"translate(97.12,49.83)\" d=\"M3,0A3,3 0 1,1 0,-3A3,3 0 0,1 3,0Z\" style=\"opacity: 1; stroke-width: 0px; fill: rgb(171, 99, 250); fill-opacity: 1;\"/><path class=\"point\" transform=\"translate(99.64,50.42)\" d=\"M3,0A3,3 0 1,1 0,-3A3,3 0 0,1 3,0Z\" style=\"opacity: 1; stroke-width: 0px; fill: rgb(171, 99, 250); fill-opacity: 1;\"/><path class=\"point\" transform=\"translate(102.16,54.97)\" d=\"M3,0A3,3 0 1,1 0,-3A3,3 0 0,1 3,0Z\" style=\"opacity: 1; stroke-width: 0px; fill: rgb(171, 99, 250); fill-opacity: 1;\"/><path class=\"point\" transform=\"translate(104.68,52.61)\" d=\"M3,0A3,3 0 1,1 0,-3A3,3 0 0,1 3,0Z\" style=\"opacity: 1; stroke-width: 0px; fill: rgb(171, 99, 250); fill-opacity: 1;\"/><path class=\"point\" transform=\"translate(107.2,47.91)\" d=\"M3,0A3,3 0 1,1 0,-3A3,3 0 0,1 3,0Z\" style=\"opacity: 1; stroke-width: 0px; fill: rgb(171, 99, 250); fill-opacity: 1;\"/><path class=\"point\" transform=\"translate(109.72,50.22)\" d=\"M3,0A3,3 0 1,1 0,-3A3,3 0 0,1 3,0Z\" style=\"opacity: 1; stroke-width: 0px; fill: rgb(171, 99, 250); fill-opacity: 1;\"/><path class=\"point\" transform=\"translate(112.24,37.03)\" d=\"M3,0A3,3 0 1,1 0,-3A3,3 0 0,1 3,0Z\" style=\"opacity: 1; stroke-width: 0px; fill: rgb(171, 99, 250); fill-opacity: 1;\"/><path class=\"point\" transform=\"translate(114.76,39.76)\" d=\"M3,0A3,3 0 1,1 0,-3A3,3 0 0,1 3,0Z\" style=\"opacity: 1; stroke-width: 0px; fill: rgb(171, 99, 250); fill-opacity: 1;\"/><path class=\"point\" transform=\"translate(117.28,44.75)\" d=\"M3,0A3,3 0 1,1 0,-3A3,3 0 0,1 3,0Z\" style=\"opacity: 1; stroke-width: 0px; fill: rgb(171, 99, 250); fill-opacity: 1;\"/><path class=\"point\" transform=\"translate(119.8,32.02)\" d=\"M3,0A3,3 0 1,1 0,-3A3,3 0 0,1 3,0Z\" style=\"opacity: 1; stroke-width: 0px; fill: rgb(171, 99, 250); fill-opacity: 1;\"/><path class=\"point\" transform=\"translate(122.32,50.1)\" d=\"M3,0A3,3 0 1,1 0,-3A3,3 0 0,1 3,0Z\" style=\"opacity: 1; stroke-width: 0px; fill: rgb(171, 99, 250); fill-opacity: 1;\"/><path class=\"point\" transform=\"translate(124.84,44.15)\" d=\"M3,0A3,3 0 1,1 0,-3A3,3 0 0,1 3,0Z\" style=\"opacity: 1; stroke-width: 0px; fill: rgb(171, 99, 250); fill-opacity: 1;\"/><path class=\"point\" transform=\"translate(127.35,50.1)\" d=\"M3,0A3,3 0 1,1 0,-3A3,3 0 0,1 3,0Z\" style=\"opacity: 1; stroke-width: 0px; fill: rgb(171, 99, 250); fill-opacity: 1;\"/><path class=\"point\" transform=\"translate(129.87,37.69)\" d=\"M3,0A3,3 0 1,1 0,-3A3,3 0 0,1 3,0Z\" style=\"opacity: 1; stroke-width: 0px; fill: rgb(171, 99, 250); fill-opacity: 1;\"/><path class=\"point\" transform=\"translate(132.39,44.15)\" d=\"M3,0A3,3 0 1,1 0,-3A3,3 0 0,1 3,0Z\" style=\"opacity: 1; stroke-width: 0px; fill: rgb(171, 99, 250); fill-opacity: 1;\"/><path class=\"point\" transform=\"translate(134.91,44.15)\" d=\"M3,0A3,3 0 1,1 0,-3A3,3 0 0,1 3,0Z\" style=\"opacity: 1; stroke-width: 0px; fill: rgb(171, 99, 250); fill-opacity: 1;\"/><path class=\"point\" transform=\"translate(137.43,50.1)\" d=\"M3,0A3,3 0 1,1 0,-3A3,3 0 0,1 3,0Z\" style=\"opacity: 1; stroke-width: 0px; fill: rgb(171, 99, 250); fill-opacity: 1;\"/><path class=\"point\" transform=\"translate(139.95,55.54)\" d=\"M3,0A3,3 0 1,1 0,-3A3,3 0 0,1 3,0Z\" style=\"opacity: 1; stroke-width: 0px; fill: rgb(171, 99, 250); fill-opacity: 1;\"/><path class=\"point\" transform=\"translate(142.47,53.92)\" d=\"M3,0A3,3 0 1,1 0,-3A3,3 0 0,1 3,0Z\" style=\"opacity: 1; stroke-width: 0px; fill: rgb(171, 99, 250); fill-opacity: 1;\"/><path class=\"point\" transform=\"translate(144.99,50.1)\" d=\"M3,0A3,3 0 1,1 0,-3A3,3 0 0,1 3,0Z\" style=\"opacity: 1; stroke-width: 0px; fill: rgb(171, 99, 250); fill-opacity: 1;\"/><path class=\"point\" transform=\"translate(147.51,42.55)\" d=\"M3,0A3,3 0 1,1 0,-3A3,3 0 0,1 3,0Z\" style=\"opacity: 1; stroke-width: 0px; fill: rgb(171, 99, 250); fill-opacity: 1;\"/><path class=\"point\" transform=\"translate(150.03,50.1)\" d=\"M3,0A3,3 0 1,1 0,-3A3,3 0 0,1 3,0Z\" style=\"opacity: 1; stroke-width: 0px; fill: rgb(171, 99, 250); fill-opacity: 1;\"/><path class=\"point\" transform=\"translate(152.55,42.55)\" d=\"M3,0A3,3 0 1,1 0,-3A3,3 0 0,1 3,0Z\" style=\"opacity: 1; stroke-width: 0px; fill: rgb(171, 99, 250); fill-opacity: 1;\"/><path class=\"point\" transform=\"translate(155.07,53.92)\" d=\"M3,0A3,3 0 1,1 0,-3A3,3 0 0,1 3,0Z\" style=\"opacity: 1; stroke-width: 0px; fill: rgb(171, 99, 250); fill-opacity: 1;\"/><path class=\"point\" transform=\"translate(157.59,44.75)\" d=\"M3,0A3,3 0 1,1 0,-3A3,3 0 0,1 3,0Z\" style=\"opacity: 1; stroke-width: 0px; fill: rgb(171, 99, 250); fill-opacity: 1;\"/><path class=\"point\" transform=\"translate(160.11,52.71)\" d=\"M3,0A3,3 0 1,1 0,-3A3,3 0 0,1 3,0Z\" style=\"opacity: 1; stroke-width: 0px; fill: rgb(171, 99, 250); fill-opacity: 1;\"/><path class=\"point\" transform=\"translate(162.63,44.75)\" d=\"M3,0A3,3 0 1,1 0,-3A3,3 0 0,1 3,0Z\" style=\"opacity: 1; stroke-width: 0px; fill: rgb(171, 99, 250); fill-opacity: 1;\"/><path class=\"point\" transform=\"translate(165.15,44.75)\" d=\"M3,0A3,3 0 1,1 0,-3A3,3 0 0,1 3,0Z\" style=\"opacity: 1; stroke-width: 0px; fill: rgb(171, 99, 250); fill-opacity: 1;\"/><path class=\"point\" transform=\"translate(167.67,53.92)\" d=\"M3,0A3,3 0 1,1 0,-3A3,3 0 0,1 3,0Z\" style=\"opacity: 1; stroke-width: 0px; fill: rgb(171, 99, 250); fill-opacity: 1;\"/><path class=\"point\" transform=\"translate(170.19,59.32)\" d=\"M3,0A3,3 0 1,1 0,-3A3,3 0 0,1 3,0Z\" style=\"opacity: 1; stroke-width: 0px; fill: rgb(171, 99, 250); fill-opacity: 1;\"/><path class=\"point\" transform=\"translate(172.71,51.8)\" d=\"M3,0A3,3 0 1,1 0,-3A3,3 0 0,1 3,0Z\" style=\"opacity: 1; stroke-width: 0px; fill: rgb(171, 99, 250); fill-opacity: 1;\"/><path class=\"point\" transform=\"translate(175.23,51.8)\" d=\"M3,0A3,3 0 1,1 0,-3A3,3 0 0,1 3,0Z\" style=\"opacity: 1; stroke-width: 0px; fill: rgb(171, 99, 250); fill-opacity: 1;\"/><path class=\"point\" transform=\"translate(177.75,45.33)\" d=\"M3,0A3,3 0 1,1 0,-3A3,3 0 0,1 3,0Z\" style=\"opacity: 1; stroke-width: 0px; fill: rgb(171, 99, 250); fill-opacity: 1;\"/><path class=\"point\" transform=\"translate(180.27,50.65)\" d=\"M3,0A3,3 0 1,1 0,-3A3,3 0 0,1 3,0Z\" style=\"opacity: 1; stroke-width: 0px; fill: rgb(171, 99, 250); fill-opacity: 1;\"/><path class=\"point\" transform=\"translate(182.79,58.05)\" d=\"M3,0A3,3 0 1,1 0,-3A3,3 0 0,1 3,0Z\" style=\"opacity: 1; stroke-width: 0px; fill: rgb(171, 99, 250); fill-opacity: 1;\"/><path class=\"point\" transform=\"translate(185.31,67.95)\" d=\"M3,0A3,3 0 1,1 0,-3A3,3 0 0,1 3,0Z\" style=\"opacity: 1; stroke-width: 0px; fill: rgb(171, 99, 250); fill-opacity: 1;\"/><path class=\"point\" transform=\"translate(187.83,54.62)\" d=\"M3,0A3,3 0 1,1 0,-3A3,3 0 0,1 3,0Z\" style=\"opacity: 1; stroke-width: 0px; fill: rgb(171, 99, 250); fill-opacity: 1;\"/><path class=\"point\" transform=\"translate(190.35,54.62)\" d=\"M3,0A3,3 0 1,1 0,-3A3,3 0 0,1 3,0Z\" style=\"opacity: 1; stroke-width: 0px; fill: rgb(171, 99, 250); fill-opacity: 1;\"/><path class=\"point\" transform=\"translate(192.87,54.62)\" d=\"M3,0A3,3 0 1,1 0,-3A3,3 0 0,1 3,0Z\" style=\"opacity: 1; stroke-width: 0px; fill: rgb(171, 99, 250); fill-opacity: 1;\"/><path class=\"point\" transform=\"translate(195.39,39.46)\" d=\"M3,0A3,3 0 1,1 0,-3A3,3 0 0,1 3,0Z\" style=\"opacity: 1; stroke-width: 0px; fill: rgb(171, 99, 250); fill-opacity: 1;\"/><path class=\"point\" transform=\"translate(197.91,39.46)\" d=\"M3,0A3,3 0 1,1 0,-3A3,3 0 0,1 3,0Z\" style=\"opacity: 1; stroke-width: 0px; fill: rgb(171, 99, 250); fill-opacity: 1;\"/><path class=\"point\" transform=\"translate(200.43,33.67)\" d=\"M3,0A3,3 0 1,1 0,-3A3,3 0 0,1 3,0Z\" style=\"opacity: 1; stroke-width: 0px; fill: rgb(171, 99, 250); fill-opacity: 1;\"/><path class=\"point\" transform=\"translate(202.95,30.79)\" d=\"M3,0A3,3 0 1,1 0,-3A3,3 0 0,1 3,0Z\" style=\"opacity: 1; stroke-width: 0px; fill: rgb(171, 99, 250); fill-opacity: 1;\"/><path class=\"point\" transform=\"translate(205.47,25.1)\" d=\"M3,0A3,3 0 1,1 0,-3A3,3 0 0,1 3,0Z\" style=\"opacity: 1; stroke-width: 0px; fill: rgb(171, 99, 250); fill-opacity: 1;\"/><path class=\"point\" transform=\"translate(207.99,25.1)\" d=\"M3,0A3,3 0 1,1 0,-3A3,3 0 0,1 3,0Z\" style=\"opacity: 1; stroke-width: 0px; fill: rgb(171, 99, 250); fill-opacity: 1;\"/><path class=\"point\" transform=\"translate(210.51,28.09)\" d=\"M3,0A3,3 0 1,1 0,-3A3,3 0 0,1 3,0Z\" style=\"opacity: 1; stroke-width: 0px; fill: rgb(171, 99, 250); fill-opacity: 1;\"/><path class=\"point\" transform=\"translate(213.03,18.92)\" d=\"M3,0A3,3 0 1,1 0,-3A3,3 0 0,1 3,0Z\" style=\"opacity: 1; stroke-width: 0px; fill: rgb(171, 99, 250); fill-opacity: 1;\"/><path class=\"point\" transform=\"translate(215.55,28.09)\" d=\"M3,0A3,3 0 1,1 0,-3A3,3 0 0,1 3,0Z\" style=\"opacity: 1; stroke-width: 0px; fill: rgb(171, 99, 250); fill-opacity: 1;\"/><path class=\"point\" transform=\"translate(218.07,18.92)\" d=\"M3,0A3,3 0 1,1 0,-3A3,3 0 0,1 3,0Z\" style=\"opacity: 1; stroke-width: 0px; fill: rgb(171, 99, 250); fill-opacity: 1;\"/><path class=\"point\" transform=\"translate(220.59,20.93)\" d=\"M3,0A3,3 0 1,1 0,-3A3,3 0 0,1 3,0Z\" style=\"opacity: 1; stroke-width: 0px; fill: rgb(171, 99, 250); fill-opacity: 1;\"/><path class=\"point\" transform=\"translate(223.11,26.64)\" d=\"M3,0A3,3 0 1,1 0,-3A3,3 0 0,1 3,0Z\" style=\"opacity: 1; stroke-width: 0px; fill: rgb(171, 99, 250); fill-opacity: 1;\"/><path class=\"point\" transform=\"translate(225.63,25.44)\" d=\"M3,0A3,3 0 1,1 0,-3A3,3 0 0,1 3,0Z\" style=\"opacity: 1; stroke-width: 0px; fill: rgb(171, 99, 250); fill-opacity: 1;\"/><path class=\"point\" transform=\"translate(228.15,26.64)\" d=\"M3,0A3,3 0 1,1 0,-3A3,3 0 0,1 3,0Z\" style=\"opacity: 1; stroke-width: 0px; fill: rgb(171, 99, 250); fill-opacity: 1;\"/><path class=\"point\" transform=\"translate(230.66,26.26)\" d=\"M3,0A3,3 0 1,1 0,-3A3,3 0 0,1 3,0Z\" style=\"opacity: 1; stroke-width: 0px; fill: rgb(171, 99, 250); fill-opacity: 1;\"/><path class=\"point\" transform=\"translate(233.18,20.93)\" d=\"M3,0A3,3 0 1,1 0,-3A3,3 0 0,1 3,0Z\" style=\"opacity: 1; stroke-width: 0px; fill: rgb(171, 99, 250); fill-opacity: 1;\"/><path class=\"point\" transform=\"translate(235.7,20.51)\" d=\"M3,0A3,3 0 1,1 0,-3A3,3 0 0,1 3,0Z\" style=\"opacity: 1; stroke-width: 0px; fill: rgb(171, 99, 250); fill-opacity: 1;\"/><path class=\"point\" transform=\"translate(238.22,20.51)\" d=\"M3,0A3,3 0 1,1 0,-3A3,3 0 0,1 3,0Z\" style=\"opacity: 1; stroke-width: 0px; fill: rgb(171, 99, 250); fill-opacity: 1;\"/><path class=\"point\" transform=\"translate(240.74,20.51)\" d=\"M3,0A3,3 0 1,1 0,-3A3,3 0 0,1 3,0Z\" style=\"opacity: 1; stroke-width: 0px; fill: rgb(171, 99, 250); fill-opacity: 1;\"/><path class=\"point\" transform=\"translate(243.26,20.51)\" d=\"M3,0A3,3 0 1,1 0,-3A3,3 0 0,1 3,0Z\" style=\"opacity: 1; stroke-width: 0px; fill: rgb(171, 99, 250); fill-opacity: 1;\"/><path class=\"point\" transform=\"translate(245.78,25.48)\" d=\"M3,0A3,3 0 1,1 0,-3A3,3 0 0,1 3,0Z\" style=\"opacity: 1; stroke-width: 0px; fill: rgb(171, 99, 250); fill-opacity: 1;\"/><path class=\"point\" transform=\"translate(248.3,28.74)\" d=\"M3,0A3,3 0 1,1 0,-3A3,3 0 0,1 3,0Z\" style=\"opacity: 1; stroke-width: 0px; fill: rgb(171, 99, 250); fill-opacity: 1;\"/><path class=\"point\" transform=\"translate(250.82,25.48)\" d=\"M3,0A3,3 0 1,1 0,-3A3,3 0 0,1 3,0Z\" style=\"opacity: 1; stroke-width: 0px; fill: rgb(171, 99, 250); fill-opacity: 1;\"/><path class=\"point\" transform=\"translate(253.34,25.48)\" d=\"M3,0A3,3 0 1,1 0,-3A3,3 0 0,1 3,0Z\" style=\"opacity: 1; stroke-width: 0px; fill: rgb(171, 99, 250); fill-opacity: 1;\"/><path class=\"point\" transform=\"translate(255.86,25.48)\" d=\"M3,0A3,3 0 1,1 0,-3A3,3 0 0,1 3,0Z\" style=\"opacity: 1; stroke-width: 0px; fill: rgb(171, 99, 250); fill-opacity: 1;\"/><path class=\"point\" transform=\"translate(258.38,40.96)\" d=\"M3,0A3,3 0 1,1 0,-3A3,3 0 0,1 3,0Z\" style=\"opacity: 1; stroke-width: 0px; fill: rgb(171, 99, 250); fill-opacity: 1;\"/><path class=\"point\" transform=\"translate(260.9,25.48)\" d=\"M3,0A3,3 0 1,1 0,-3A3,3 0 0,1 3,0Z\" style=\"opacity: 1; stroke-width: 0px; fill: rgb(171, 99, 250); fill-opacity: 1;\"/><path class=\"point\" transform=\"translate(263.42,45.59)\" d=\"M3,0A3,3 0 1,1 0,-3A3,3 0 0,1 3,0Z\" style=\"opacity: 1; stroke-width: 0px; fill: rgb(171, 99, 250); fill-opacity: 1;\"/><path class=\"point\" transform=\"translate(265.94,39.82)\" d=\"M3,0A3,3 0 1,1 0,-3A3,3 0 0,1 3,0Z\" style=\"opacity: 1; stroke-width: 0px; fill: rgb(171, 99, 250); fill-opacity: 1;\"/><path class=\"point\" transform=\"translate(268.46,35.17)\" d=\"M3,0A3,3 0 1,1 0,-3A3,3 0 0,1 3,0Z\" style=\"opacity: 1; stroke-width: 0px; fill: rgb(171, 99, 250); fill-opacity: 1;\"/><path class=\"point\" transform=\"translate(270.98,36.8)\" d=\"M3,0A3,3 0 1,1 0,-3A3,3 0 0,1 3,0Z\" style=\"opacity: 1; stroke-width: 0px; fill: rgb(171, 99, 250); fill-opacity: 1;\"/><path class=\"point\" transform=\"translate(273.5,35.17)\" d=\"M3,0A3,3 0 1,1 0,-3A3,3 0 0,1 3,0Z\" style=\"opacity: 1; stroke-width: 0px; fill: rgb(171, 99, 250); fill-opacity: 1;\"/><path class=\"point\" transform=\"translate(276.02,31.65)\" d=\"M3,0A3,3 0 1,1 0,-3A3,3 0 0,1 3,0Z\" style=\"opacity: 1; stroke-width: 0px; fill: rgb(171, 99, 250); fill-opacity: 1;\"/><path class=\"point\" transform=\"translate(278.54,35.17)\" d=\"M3,0A3,3 0 1,1 0,-3A3,3 0 0,1 3,0Z\" style=\"opacity: 1; stroke-width: 0px; fill: rgb(171, 99, 250); fill-opacity: 1;\"/><path class=\"point\" transform=\"translate(281.06,31.65)\" d=\"M3,0A3,3 0 1,1 0,-3A3,3 0 0,1 3,0Z\" style=\"opacity: 1; stroke-width: 0px; fill: rgb(171, 99, 250); fill-opacity: 1;\"/><path class=\"point\" transform=\"translate(283.58,31.65)\" d=\"M3,0A3,3 0 1,1 0,-3A3,3 0 0,1 3,0Z\" style=\"opacity: 1; stroke-width: 0px; fill: rgb(171, 99, 250); fill-opacity: 1;\"/><path class=\"point\" transform=\"translate(286.1,41.84)\" d=\"M3,0A3,3 0 1,1 0,-3A3,3 0 0,1 3,0Z\" style=\"opacity: 1; stroke-width: 0px; fill: rgb(171, 99, 250); fill-opacity: 1;\"/><path class=\"point\" transform=\"translate(288.62,36.98)\" d=\"M3,0A3,3 0 1,1 0,-3A3,3 0 0,1 3,0Z\" style=\"opacity: 1; stroke-width: 0px; fill: rgb(171, 99, 250); fill-opacity: 1;\"/><path class=\"point\" transform=\"translate(291.14,36.98)\" d=\"M3,0A3,3 0 1,1 0,-3A3,3 0 0,1 3,0Z\" style=\"opacity: 1; stroke-width: 0px; fill: rgb(171, 99, 250); fill-opacity: 1;\"/><path class=\"point\" transform=\"translate(293.66,34.2)\" d=\"M3,0A3,3 0 1,1 0,-3A3,3 0 0,1 3,0Z\" style=\"opacity: 1; stroke-width: 0px; fill: rgb(171, 99, 250); fill-opacity: 1;\"/><path class=\"point\" transform=\"translate(296.18,34.2)\" d=\"M3,0A3,3 0 1,1 0,-3A3,3 0 0,1 3,0Z\" style=\"opacity: 1; stroke-width: 0px; fill: rgb(171, 99, 250); fill-opacity: 1;\"/><path class=\"point\" transform=\"translate(298.7,35.78)\" d=\"M3,0A3,3 0 1,1 0,-3A3,3 0 0,1 3,0Z\" style=\"opacity: 1; stroke-width: 0px; fill: rgb(171, 99, 250); fill-opacity: 1;\"/><path class=\"point\" transform=\"translate(301.22,47.51)\" d=\"M3,0A3,3 0 1,1 0,-3A3,3 0 0,1 3,0Z\" style=\"opacity: 1; stroke-width: 0px; fill: rgb(171, 99, 250); fill-opacity: 1;\"/><path class=\"point\" transform=\"translate(303.74,36.69)\" d=\"M3,0A3,3 0 1,1 0,-3A3,3 0 0,1 3,0Z\" style=\"opacity: 1; stroke-width: 0px; fill: rgb(171, 99, 250); fill-opacity: 1;\"/><path class=\"point\" transform=\"translate(306.26,39.51)\" d=\"M3,0A3,3 0 1,1 0,-3A3,3 0 0,1 3,0Z\" style=\"opacity: 1; stroke-width: 0px; fill: rgb(171, 99, 250); fill-opacity: 1;\"/><path class=\"point\" transform=\"translate(308.78,24.3)\" d=\"M3,0A3,3 0 1,1 0,-3A3,3 0 0,1 3,0Z\" style=\"opacity: 1; stroke-width: 0px; fill: rgb(171, 99, 250); fill-opacity: 1;\"/><path class=\"point\" transform=\"translate(311.3,33.75)\" d=\"M3,0A3,3 0 1,1 0,-3A3,3 0 0,1 3,0Z\" style=\"opacity: 1; stroke-width: 0px; fill: rgb(171, 99, 250); fill-opacity: 1;\"/><path class=\"point\" transform=\"translate(313.82,33.75)\" d=\"M3,0A3,3 0 1,1 0,-3A3,3 0 0,1 3,0Z\" style=\"opacity: 1; stroke-width: 0px; fill: rgb(171, 99, 250); fill-opacity: 1;\"/><path class=\"point\" transform=\"translate(316.34,38.04)\" d=\"M3,0A3,3 0 1,1 0,-3A3,3 0 0,1 3,0Z\" style=\"opacity: 1; stroke-width: 0px; fill: rgb(171, 99, 250); fill-opacity: 1;\"/><path class=\"point\" transform=\"translate(318.86,33.75)\" d=\"M3,0A3,3 0 1,1 0,-3A3,3 0 0,1 3,0Z\" style=\"opacity: 1; stroke-width: 0px; fill: rgb(171, 99, 250); fill-opacity: 1;\"/><path class=\"point\" transform=\"translate(321.38,43.78)\" d=\"M3,0A3,3 0 1,1 0,-3A3,3 0 0,1 3,0Z\" style=\"opacity: 1; stroke-width: 0px; fill: rgb(171, 99, 250); fill-opacity: 1;\"/><path class=\"point\" transform=\"translate(323.9,43.78)\" d=\"M3,0A3,3 0 1,1 0,-3A3,3 0 0,1 3,0Z\" style=\"opacity: 1; stroke-width: 0px; fill: rgb(171, 99, 250); fill-opacity: 1;\"/><path class=\"point\" transform=\"translate(326.42,39.51)\" d=\"M3,0A3,3 0 1,1 0,-3A3,3 0 0,1 3,0Z\" style=\"opacity: 1; stroke-width: 0px; fill: rgb(171, 99, 250); fill-opacity: 1;\"/><path class=\"point\" transform=\"translate(328.94,39.51)\" d=\"M3,0A3,3 0 1,1 0,-3A3,3 0 0,1 3,0Z\" style=\"opacity: 1; stroke-width: 0px; fill: rgb(171, 99, 250); fill-opacity: 1;\"/><path class=\"point\" transform=\"translate(331.46,39.51)\" d=\"M3,0A3,3 0 1,1 0,-3A3,3 0 0,1 3,0Z\" style=\"opacity: 1; stroke-width: 0px; fill: rgb(171, 99, 250); fill-opacity: 1;\"/><path class=\"point\" transform=\"translate(333.98,39.51)\" d=\"M3,0A3,3 0 1,1 0,-3A3,3 0 0,1 3,0Z\" style=\"opacity: 1; stroke-width: 0px; fill: rgb(171, 99, 250); fill-opacity: 1;\"/></g><g class=\"text\"/></g></g></g><g class=\"overplot\"/><path class=\"xlines-above crisp\" d=\"M0,0\" style=\"fill: none;\"/><path class=\"ylines-above crisp\" d=\"M0,0\" style=\"fill: none;\"/><g class=\"overlines-above\"/><g class=\"xaxislayer-above\"><g class=\"x8tick\"><text text-anchor=\"middle\" x=\"0\" y=\"833\" transform=\"translate(536.03,0)\" style=\"font-family: 'Open Sans', verdana, arial, sans-serif; font-size: 12px; fill: rgb(42, 63, 95); fill-opacity: 1; white-space: pre; opacity: 1;\">0</text></g><g class=\"x8tick\"><text text-anchor=\"middle\" x=\"0\" y=\"833\" style=\"font-family: 'Open Sans', verdana, arial, sans-serif; font-size: 12px; fill: rgb(42, 63, 95); fill-opacity: 1; white-space: pre; opacity: 1;\" transform=\"translate(662.01,0)\">50</text></g><g class=\"x8tick\"><text text-anchor=\"middle\" x=\"0\" y=\"833\" style=\"font-family: 'Open Sans', verdana, arial, sans-serif; font-size: 12px; fill: rgb(42, 63, 95); fill-opacity: 1; white-space: pre; opacity: 1;\" transform=\"translate(788,0)\">100</text></g></g><g class=\"yaxislayer-above\"><g class=\"y8tick\"><text text-anchor=\"end\" x=\"513.5\" y=\"4.199999999999999\" transform=\"translate(0,797.75)\" style=\"font-family: 'Open Sans', verdana, arial, sans-serif; font-size: 12px; fill: rgb(42, 63, 95); fill-opacity: 1; white-space: pre; opacity: 1;\">0.06</text></g><g class=\"y8tick\"><text text-anchor=\"end\" x=\"513.5\" y=\"4.199999999999999\" style=\"font-family: 'Open Sans', verdana, arial, sans-serif; font-size: 12px; fill: rgb(42, 63, 95); fill-opacity: 1; white-space: pre; opacity: 1;\" transform=\"translate(0,773.74)\">0.065</text></g><g class=\"y8tick\"><text text-anchor=\"end\" x=\"513.5\" y=\"4.199999999999999\" style=\"font-family: 'Open Sans', verdana, arial, sans-serif; font-size: 12px; fill: rgb(42, 63, 95); fill-opacity: 1; white-space: pre; opacity: 1;\" transform=\"translate(0,749.73)\">0.07</text></g><g class=\"y8tick\"><text text-anchor=\"end\" x=\"513.5\" y=\"4.199999999999999\" style=\"font-family: 'Open Sans', verdana, arial, sans-serif; font-size: 12px; fill: rgb(42, 63, 95); fill-opacity: 1; white-space: pre; opacity: 1;\" transform=\"translate(0,725.72)\">0.075</text></g></g><g class=\"overaxes-above\"/></g></g><g class=\"polarlayer\"/><g class=\"smithlayer\"/><g class=\"ternarylayer\"/><g class=\"geolayer\"/><g class=\"funnelarealayer\"/><g class=\"pielayer\"/><g class=\"iciclelayer\"/><g class=\"treemaplayer\"/><g class=\"sunburstlayer\"/><g class=\"glimages\"/><defs id=\"topdefs-8e537f\"><g class=\"clips\"/></defs><g class=\"layer-above\"><g class=\"imagelayer\"/><g class=\"shapelayer\"/></g><g class=\"infolayer\"><g class=\"g-gtitle\"><text class=\"gtitle\" x=\"47.5\" y=\"50\" text-anchor=\"start\" dy=\"0em\" style=\"font-family: 'Open Sans', verdana, arial, sans-serif; font-size: 17px; fill: rgb(42, 63, 95); opacity: 1; font-weight: normal; white-space: pre;\">Random Forest performance distributions</text></g><g class=\"g-xtitle\"><text class=\"xtitle\" x=\"257.75\" y=\"252.3\" text-anchor=\"middle\" style=\"font-family: 'Open Sans', verdana, arial, sans-serif; font-size: 14px; fill: rgb(42, 63, 95); opacity: 1; font-weight: normal; white-space: pre;\"># of trees</text></g><g class=\"g-x2title\"><text class=\"x2title\" x=\"692.25\" y=\"252.3\" text-anchor=\"middle\" style=\"font-family: 'Open Sans', verdana, arial, sans-serif; font-size: 14px; fill: rgb(42, 63, 95); opacity: 1; font-weight: normal; white-space: pre;\"># of trees</text></g><g class=\"g-x3title\"><text class=\"x3title\" x=\"257.75\" y=\"454.8\" text-anchor=\"middle\" style=\"font-family: 'Open Sans', verdana, arial, sans-serif; font-size: 14px; fill: rgb(42, 63, 95); opacity: 1; font-weight: normal; white-space: pre;\"># of trees</text></g><g class=\"g-x4title\"><text class=\"x4title\" x=\"692.25\" y=\"454.8\" text-anchor=\"middle\" style=\"font-family: 'Open Sans', verdana, arial, sans-serif; font-size: 14px; fill: rgb(42, 63, 95); opacity: 1; font-weight: normal; white-space: pre;\"># of trees</text></g><g class=\"g-x5title\"><text class=\"x5title\" x=\"257.75\" y=\"657.3\" text-anchor=\"middle\" style=\"font-family: 'Open Sans', verdana, arial, sans-serif; font-size: 14px; fill: rgb(42, 63, 95); opacity: 1; font-weight: normal; white-space: pre;\"># of trees</text></g><g class=\"g-x6title\"><text class=\"x6title\" x=\"692.25\" y=\"657.3\" text-anchor=\"middle\" style=\"font-family: 'Open Sans', verdana, arial, sans-serif; font-size: 14px; fill: rgb(42, 63, 95); opacity: 1; font-weight: normal; white-space: pre;\"># of trees</text></g><g class=\"g-x7title\"><text class=\"x7title\" x=\"257.75\" y=\"859.8\" text-anchor=\"middle\" style=\"font-family: 'Open Sans', verdana, arial, sans-serif; font-size: 14px; fill: rgb(42, 63, 95); opacity: 1; font-weight: normal; white-space: pre;\"># of trees</text></g><g class=\"g-x8title\"><text class=\"x8title\" x=\"692.25\" y=\"859.8\" text-anchor=\"middle\" style=\"font-family: 'Open Sans', verdana, arial, sans-serif; font-size: 14px; fill: rgb(42, 63, 95); opacity: 1; font-weight: normal; white-space: pre;\"># of trees</text></g><g class=\"g-ytitle\"><text class=\"ytitle\" transform=\"rotate(-90,27.434375000000003,156.25)\" x=\"27.434375000000003\" y=\"156.25\" text-anchor=\"middle\" style=\"font-family: 'Open Sans', verdana, arial, sans-serif; font-size: 14px; fill: rgb(42, 63, 95); opacity: 1; font-weight: normal; white-space: pre;\">Mean accuracy</text></g><g class=\"g-y2title\"><text class=\"y2title\" transform=\"rotate(-90,454.309375,156.25)\" x=\"454.309375\" y=\"156.25\" text-anchor=\"middle\" style=\"font-family: 'Open Sans', verdana, arial, sans-serif; font-size: 14px; fill: rgb(42, 63, 95); opacity: 1; font-weight: normal; white-space: pre;\">Accuracy std</text></g><g class=\"g-y3title\"><text class=\"y3title\" transform=\"rotate(-90,27.434375000000003,358.75)\" x=\"27.434375000000003\" y=\"358.75\" text-anchor=\"middle\" style=\"font-family: 'Open Sans', verdana, arial, sans-serif; font-size: 14px; fill: rgb(42, 63, 95); opacity: 1; font-weight: normal; white-space: pre;\">Mean precision</text></g><g class=\"g-y4title\"><text class=\"y4title\" transform=\"rotate(-90,461.934375,358.75)\" x=\"461.934375\" y=\"358.75\" text-anchor=\"middle\" style=\"font-family: 'Open Sans', verdana, arial, sans-serif; font-size: 14px; fill: rgb(42, 63, 95); opacity: 1; font-weight: normal; white-space: pre;\">Accuracy std</text></g><g class=\"g-y5title\"><text class=\"y5title\" transform=\"rotate(-90,27.434375000000003,561.25)\" x=\"27.434375000000003\" y=\"561.25\" text-anchor=\"middle\" style=\"font-family: 'Open Sans', verdana, arial, sans-serif; font-size: 14px; fill: rgb(42, 63, 95); opacity: 1; font-weight: normal; white-space: pre;\">Mean AUC</text></g><g class=\"g-y6title\"><text class=\"y6title\" transform=\"rotate(-90,454.309375,561.25)\" x=\"454.309375\" y=\"561.25\" text-anchor=\"middle\" style=\"font-family: 'Open Sans', verdana, arial, sans-serif; font-size: 14px; fill: rgb(42, 63, 95); opacity: 1; font-weight: normal; white-space: pre;\">Accuracy std</text></g><g class=\"g-y7title\"><text class=\"y7title\" transform=\"rotate(-90,27.434375000000003,763.75)\" x=\"27.434375000000003\" y=\"763.75\" text-anchor=\"middle\" style=\"font-family: 'Open Sans', verdana, arial, sans-serif; font-size: 14px; fill: rgb(42, 63, 95); opacity: 1; font-weight: normal; white-space: pre;\">Mean F1</text></g><g class=\"g-y8title\"/><g class=\"annotation\" data-index=\"0\" style=\"opacity: 1;\"><g class=\"annotation-text-g\" transform=\"rotate(0,257.75,88)\"><g class=\"cursor-pointer\" transform=\"translate(193,76)\"><rect class=\"bg\" x=\"0.5\" y=\"0.5\" width=\"129\" height=\"23\" style=\"stroke-width: 1px; stroke: rgb(0, 0, 0); stroke-opacity: 0; fill: rgb(0, 0, 0); fill-opacity: 0;\"/><text class=\"annotation-text\" text-anchor=\"middle\" x=\"64.828125\" y=\"18\" style=\"font-family: 'Open Sans', verdana, arial, sans-serif; font-size: 16px; fill: rgb(42, 63, 95); fill-opacity: 1; white-space: pre;\">accuracy_mean</text></g></g></g><g class=\"annotation\" data-index=\"1\" style=\"opacity: 1;\"><g class=\"annotation-text-g\" transform=\"rotate(0,692.25,88)\"><g class=\"cursor-pointer\" transform=\"translate(638,76)\"><rect class=\"bg\" x=\"0.5\" y=\"0.5\" width=\"108\" height=\"23\" style=\"stroke-width: 1px; stroke: rgb(0, 0, 0); stroke-opacity: 0; fill: rgb(0, 0, 0); fill-opacity: 0;\"/><text class=\"annotation-text\" text-anchor=\"middle\" x=\"54.71875\" y=\"18\" style=\"font-family: 'Open Sans', verdana, arial, sans-serif; font-size: 16px; fill: rgb(42, 63, 95); fill-opacity: 1; white-space: pre;\">accuracy_std</text></g></g></g><g class=\"annotation\" data-index=\"2\" style=\"opacity: 1;\"><g class=\"annotation-text-g\" transform=\"rotate(0,257.75,290.5)\"><g class=\"cursor-pointer\" transform=\"translate(192,279)\"><rect class=\"bg\" x=\"0.5\" y=\"0.5\" width=\"130\" height=\"23\" style=\"stroke-width: 1px; stroke: rgb(0, 0, 0); stroke-opacity: 0; fill: rgb(0, 0, 0); fill-opacity: 0;\"/><text class=\"annotation-text\" text-anchor=\"middle\" x=\"65.3125\" y=\"18\" style=\"font-family: 'Open Sans', verdana, arial, sans-serif; font-size: 16px; fill: rgb(42, 63, 95); fill-opacity: 1; white-space: pre;\">precision_mean</text></g></g></g><g class=\"annotation\" data-index=\"3\" style=\"opacity: 1;\"><g class=\"annotation-text-g\" transform=\"rotate(0,692.25,290.5)\"><g class=\"cursor-pointer\" transform=\"translate(637,279)\"><rect class=\"bg\" x=\"0.5\" y=\"0.5\" width=\"109\" height=\"23\" style=\"stroke-width: 1px; stroke: rgb(0, 0, 0); stroke-opacity: 0; fill: rgb(0, 0, 0); fill-opacity: 0;\"/><text class=\"annotation-text\" text-anchor=\"middle\" x=\"55.203125\" y=\"18\" style=\"font-family: 'Open Sans', verdana, arial, sans-serif; font-size: 16px; fill: rgb(42, 63, 95); fill-opacity: 1; white-space: pre;\">precision_std</text></g></g></g><g class=\"annotation\" data-index=\"4\" style=\"opacity: 1;\"><g class=\"annotation-text-g\" transform=\"rotate(0,257.75,493)\"><g class=\"cursor-pointer\" transform=\"translate(211,481)\"><rect class=\"bg\" x=\"0.5\" y=\"0.5\" width=\"92\" height=\"23\" style=\"stroke-width: 1px; stroke: rgb(0, 0, 0); stroke-opacity: 0; fill: rgb(0, 0, 0); fill-opacity: 0;\"/><text class=\"annotation-text\" text-anchor=\"middle\" x=\"46.421875\" y=\"18\" style=\"font-family: 'Open Sans', verdana, arial, sans-serif; font-size: 16px; fill: rgb(42, 63, 95); fill-opacity: 1; white-space: pre;\">AUC_mean</text></g></g></g><g class=\"annotation\" data-index=\"5\" style=\"opacity: 1;\"><g class=\"annotation-text-g\" transform=\"rotate(0,692.25,493)\"><g class=\"cursor-pointer\" transform=\"translate(656,481)\"><rect class=\"bg\" x=\"0.5\" y=\"0.5\" width=\"72\" height=\"23\" style=\"stroke-width: 1px; stroke: rgb(0, 0, 0); stroke-opacity: 0; fill: rgb(0, 0, 0); fill-opacity: 0;\"/><text class=\"annotation-text\" text-anchor=\"middle\" x=\"36.3125\" y=\"18\" style=\"font-family: 'Open Sans', verdana, arial, sans-serif; font-size: 16px; fill: rgb(42, 63, 95); fill-opacity: 1; white-space: pre;\">AUC_std</text></g></g></g><g class=\"annotation\" data-index=\"6\" style=\"opacity: 1;\"><g class=\"annotation-text-g\" transform=\"rotate(0,257.75,695.5)\"><g class=\"cursor-pointer\" transform=\"translate(219,684)\"><rect class=\"bg\" x=\"0.5\" y=\"0.5\" width=\"77\" height=\"23\" style=\"stroke-width: 1px; stroke: rgb(0, 0, 0); stroke-opacity: 0; fill: rgb(0, 0, 0); fill-opacity: 0;\"/><text class=\"annotation-text\" text-anchor=\"middle\" x=\"39.1875\" y=\"18\" style=\"font-family: 'Open Sans', verdana, arial, sans-serif; font-size: 16px; fill: rgb(42, 63, 95); fill-opacity: 1; white-space: pre;\">F1_mean</text></g></g></g><g class=\"annotation\" data-index=\"7\" style=\"opacity: 1;\"><g class=\"annotation-text-g\" transform=\"rotate(0,692.25,695.5)\"><g class=\"cursor-pointer\" transform=\"translate(663,684)\"><rect class=\"bg\" x=\"0.5\" y=\"0.5\" width=\"57\" height=\"23\" style=\"stroke-width: 1px; stroke: rgb(0, 0, 0); stroke-opacity: 0; fill: rgb(0, 0, 0); fill-opacity: 0;\"/><text class=\"annotation-text\" text-anchor=\"middle\" x=\"29.078125\" y=\"18\" style=\"font-family: 'Open Sans', verdana, arial, sans-serif; font-size: 16px; fill: rgb(42, 63, 95); fill-opacity: 1; white-space: pre;\">F1_std</text></g></g></g></g></svg>"
      ]
     },
     "metadata": {},
     "output_type": "display_data"
    }
   ],
   "source": [
    "# Plot binary features\n",
    "fig = make_subplots(\n",
    "    rows=4,\n",
    "    cols=2,\n",
    "    subplot_titles=(\n",
    "        \"accuracy_mean\",\n",
    "        \"accuracy_std\",\n",
    "        \"precision_mean\",\n",
    "        \"precision_std\",\n",
    "        \"AUC_mean\",\n",
    "        \"AUC_std\",\n",
    "        \"F1_mean\",\n",
    "        \"F1_std\",\n",
    "    ),\n",
    "    shared_yaxes=False,\n",
    "    shared_xaxes=False,\n",
    ")\n",
    "\n",
    "# Populate col1 subplots\n",
    "fig.add_trace(\n",
    "    go.Scatter(\n",
    "        x=grid_search_results.index,\n",
    "        y=grid_search_results.mean_test_accuracy,\n",
    "        mode=\"lines+markers\",\n",
    "        name=\"accuracy\",\n",
    "        yaxis=\"y\",\n",
    "        hovertemplate=\"%{y:.3f}, %{x} trees\",\n",
    "        line=dict(color=\"#3366CC\"),\n",
    "        marker=dict(color=\"#3366CC\"),\n",
    "    ),\n",
    "    row=1,\n",
    "    col=1,\n",
    ")\n",
    "fig.add_trace(\n",
    "    go.Scatter(\n",
    "        x=grid_search_results.index,\n",
    "        y=grid_search_results.mean_test_precision,\n",
    "        mode=\"lines+markers\",\n",
    "        name=\"precision\",\n",
    "        yaxis=\"y\",\n",
    "        hovertemplate=\"%{y:.3f}, %{x} trees\",\n",
    "        line=dict(color=\"#FF7F03\"),\n",
    "        marker=dict(color=\"#FF7F03\"),\n",
    "    ),\n",
    "    row=2,\n",
    "    col=1,\n",
    ")\n",
    "\n",
    "fig.add_trace(\n",
    "    go.Scatter(\n",
    "        x=grid_search_results.index,\n",
    "        y=grid_search_results.mean_test_AUC,\n",
    "        mode=\"lines+markers\",\n",
    "        name=\"AUC\",\n",
    "        yaxis=\"y\",\n",
    "        hovertemplate=\"%{y:.3f}, %{x} trees\",\n",
    "        line=dict(color=\"#12a579\"),\n",
    "        marker=dict(color=\"#12a579\"),\n",
    "    ),\n",
    "    row=3,\n",
    "    col=1,\n",
    ")\n",
    "fig.add_trace(\n",
    "    go.Scatter(\n",
    "        x=grid_search_results.index,\n",
    "        y=grid_search_results.mean_test_F1,\n",
    "        mode=\"lines+markers\",\n",
    "        name=\"F1\",\n",
    "        yaxis=\"y\",\n",
    "        hovertemplate=\"%{y:.3f}, %{x} trees\",\n",
    "        line=dict(color=\"#AB63FA\"),\n",
    "        marker=dict(color=\"#AB63FA\"),\n",
    "    ),\n",
    "    row=4,\n",
    "    col=1,\n",
    ")\n",
    "\n",
    "# Populate col2 subplots\n",
    "fig.add_trace(\n",
    "    go.Scatter(\n",
    "        x=grid_search_results.index,\n",
    "        y=grid_search_results.std_test_accuracy,\n",
    "        mode=\"lines+markers\",\n",
    "        name=\"accuracy\",\n",
    "        hovertemplate=\"%{y:.3f}, %{x} trees\",\n",
    "        line=dict(color=\"#3366CC\"),\n",
    "        marker=dict(color=\"#3366CC\"),\n",
    "    ),\n",
    "    row=1,\n",
    "    col=2,\n",
    ")\n",
    "\n",
    "fig.add_trace(\n",
    "    go.Scatter(\n",
    "        x=grid_search_results.index,\n",
    "        y=grid_search_results.std_test_precision,\n",
    "        mode=\"lines+markers\",\n",
    "        name=\"precision\",\n",
    "        hovertemplate=\"%{y:.3f}, %{x} trees\",\n",
    "        line=dict(color=\"#FF7F03\"),\n",
    "        marker=dict(color=\"#FF7F03\"),\n",
    "    ),\n",
    "    row=2,\n",
    "    col=2,\n",
    ")\n",
    "fig.add_trace(\n",
    "    go.Scatter(\n",
    "        x=grid_search_results.index,\n",
    "        y=grid_search_results.std_test_AUC,\n",
    "        mode=\"lines+markers\",\n",
    "        name=\"AUC\",\n",
    "        hovertemplate=\"%{y:.3f}, %{x} trees\",\n",
    "        line=dict(color=\"#12a579\"),\n",
    "        marker=dict(color=\"#12a579\"),\n",
    "    ),\n",
    "    row=3,\n",
    "    col=2,\n",
    ")\n",
    "fig.add_trace(\n",
    "    go.Scatter(\n",
    "        x=grid_search_results.index,\n",
    "        y=grid_search_results.std_test_F1,\n",
    "        mode=\"lines+markers\",\n",
    "        name=\"F1\",\n",
    "        hovertemplate=\"%{y:.3f}, %{x} trees\",\n",
    "        line=dict(color=\"#AB63FA\"),\n",
    "        marker=dict(color=\"#AB63FA\"),\n",
    "    ),\n",
    "    row=4,\n",
    "    col=2,\n",
    ")\n",
    "\n",
    "\n",
    "# Update xaxes\n",
    "fig.update_xaxes(title_text=\"# of trees\", row=1, col=1)\n",
    "fig.update_xaxes(title_text=\"# of trees\", row=2, col=1)\n",
    "fig.update_xaxes(title_text=\"# of trees\", row=3, col=1)\n",
    "fig.update_xaxes(title_text=\"# of trees\", row=4, col=1)\n",
    "fig.update_xaxes(title_text=\"# of trees\", row=1, col=2)\n",
    "fig.update_xaxes(title_text=\"# of trees\", row=2, col=2)\n",
    "fig.update_xaxes(title_text=\"# of trees\", row=3, col=2)\n",
    "fig.update_xaxes(title_text=\"# of trees\", row=4, col=2)\n",
    "\n",
    "\n",
    "# Update yaxes\n",
    "fig.update_yaxes(title_text=\"Mean accuracy\", row=1, col=1)\n",
    "fig.update_yaxes(title_text=\"Mean precision\", row=2, col=1)\n",
    "fig.update_yaxes(title_text=\"Mean AUC\", row=3, col=1)\n",
    "fig.update_yaxes(title_text=\"Mean F1\", row=4, col=1)\n",
    "fig.update_yaxes(title_text=\"Accuracy std\",  row=1, col=2)\n",
    "fig.update_yaxes(title_text=\"Accuracy std\",row=2, col=2)\n",
    "fig.update_yaxes(title_text=\"Accuracy std\", row=3, col=2)\n",
    "\n",
    "\n",
    "# Update title and height\n",
    "fig.update_layout(\n",
    "    title_text=\"Random Forest performance distributions\", height=900,width=950, showlegend=False,yaxis=dict(autorange=True)\n",
    ")\n",
    "\n",
    "fig.show('svg')"
   ]
  },
  {
   "cell_type": "markdown",
   "metadata": {},
   "source": [
    "For each of the graphs in this figure, we can see that the metric performance usually stabilizes after roughly 30 trees, depending on the randomization of our data and splits. For F1 score and precision there are some fluctuations in standard deviation above 40 trees, which means that our predictive outcomes are a little more consistent with higher numbers of decision trees in the model, but not by alot. These models are marginally more effective at certain numbers of trees, but for the most part, we can expect accuracy to be around 82-83%, and precision is pretty reliably around 90% for most values of n trees. Since we don't have much benefit to going to 100 trees in our tuned_rf model specification, we should just use the number of trees that maximizes accuracy and consider that our best random forest model on this data. \n",
    "\n",
    "I'll re-fit this model here with our number of estimators so that we have the performance metrics saved for comparison later. Then we'll look at a stacked model. "
   ]
  },
  {
   "cell_type": "code",
   "execution_count": 47,
   "metadata": {},
   "outputs": [
    {
     "data": {
      "text/html": [
       "<div>\n",
       "<style scoped>\n",
       "    .dataframe tbody tr th:only-of-type {\n",
       "        vertical-align: middle;\n",
       "    }\n",
       "\n",
       "    .dataframe tbody tr th {\n",
       "        vertical-align: top;\n",
       "    }\n",
       "\n",
       "    .dataframe thead th {\n",
       "        text-align: right;\n",
       "    }\n",
       "</style>\n",
       "<table border=\"1\" class=\"dataframe\">\n",
       "  <thead>\n",
       "    <tr style=\"text-align: right;\">\n",
       "      <th></th>\n",
       "      <th>v1: cross_val</th>\n",
       "      <th>v2: training</th>\n",
       "      <th>v2: testing</th>\n",
       "    </tr>\n",
       "  </thead>\n",
       "  <tbody>\n",
       "    <tr>\n",
       "      <th>accuracy</th>\n",
       "      <td>0.826</td>\n",
       "      <td>0.863</td>\n",
       "      <td>0.819</td>\n",
       "    </tr>\n",
       "    <tr>\n",
       "      <th>precision</th>\n",
       "      <td>0.877</td>\n",
       "      <td>0.958</td>\n",
       "      <td>0.878</td>\n",
       "    </tr>\n",
       "    <tr>\n",
       "      <th>recall</th>\n",
       "      <td>0.595</td>\n",
       "      <td>0.644</td>\n",
       "      <td>0.573</td>\n",
       "    </tr>\n",
       "    <tr>\n",
       "      <th>f1</th>\n",
       "      <td>0.705</td>\n",
       "      <td>0.770</td>\n",
       "      <td>0.693</td>\n",
       "    </tr>\n",
       "  </tbody>\n",
       "</table>\n",
       "</div>"
      ],
      "text/plain": [
       "           v1: cross_val  v2: training  v2: testing\n",
       "accuracy           0.826         0.863        0.819\n",
       "precision          0.877         0.958        0.878\n",
       "recall             0.595         0.644        0.573\n",
       "f1                 0.705         0.770        0.693"
      ]
     },
     "execution_count": 47,
     "metadata": {},
     "output_type": "execute_result"
    }
   ],
   "source": [
    "# Update tuned model specification to include number of trees as a hyperparameter\n",
    "tuned_rf = RandomForestClassifier(\n",
    "    criterion=rf_best_params[\"criterion\"],\n",
    "    max_depth=rf_best_params[\"max_depth\"],\n",
    "    max_features=rf_best_params[\"max_features\"],\n",
    "    random_state=1,\n",
    "    n_estimators=n_trees\n",
    ")\n",
    "\n",
    "rf_v3 = tuned_rf\n",
    "\n",
    "# Resplit data\n",
    "x_train, x_test, y_train, y_test = resplit_data(X, Y)\n",
    "\n",
    "# Fit model\n",
    "rf_v3.fit(x_train, y_train)\n",
    "\n",
    "# Calculate statistics\n",
    "rfv3_train = calculate_v2_model_training_stats(rf_v3, x_train, y_train)\n",
    "rfv3_test = calculate_v2_model_testing_stats(rf_v3, x_test, y_test)\n",
    "\n",
    "# Create new dt performance metrics df\n",
    "rf_performance_metrics = assemble_performance_metrics_df(\n",
    "    rf_cv, rfv3_train, rfv3_test\n",
    ")\n",
    "rf_performance_metrics"
   ]
  },
  {
   "cell_type": "markdown",
   "metadata": {},
   "source": [
    "### Stacking (Stacked generalization)"
   ]
  },
  {
   "cell_type": "markdown",
   "metadata": {},
   "source": [
    "In this section we'll look at stacking, which will involve use combining multiple classifier models before running them through another classifier, in the hopes that our tuned models from before will counteract each others' weaknesses to give us a more reliable prediction. Before we do any more ensemble modeling, let's re-partition our data using a higher test set proportion and a different random_state in order to hopefully counterbalance against the risk of overfitting in our stacking model"
   ]
  },
  {
   "cell_type": "code",
   "execution_count": 51,
   "metadata": {},
   "outputs": [],
   "source": [
    "x_train, x_test, y_train, y_test = resplit_data(X,Y,test_size=0.4)\n",
    "\n",
    "# Create classifiers from grid search parameters.\n",
    "clf1 = tuned_knn\n",
    "\n",
    "clf2 = tuned_dt\n",
    "\n",
    "clf3 = tuned_NB"
   ]
  },
  {
   "cell_type": "markdown",
   "metadata": {},
   "source": [
    "For this stacking classifier we'll create the classifiers based on the parameters set by grid search so that we can compare them to their previous counterparts on equal footing. "
   ]
  },
  {
   "cell_type": "code",
   "execution_count": 52,
   "metadata": {},
   "outputs": [
    {
     "data": {
      "text/html": [
       "<div>\n",
       "<style scoped>\n",
       "    .dataframe tbody tr th:only-of-type {\n",
       "        vertical-align: middle;\n",
       "    }\n",
       "\n",
       "    .dataframe tbody tr th {\n",
       "        vertical-align: top;\n",
       "    }\n",
       "\n",
       "    .dataframe thead th {\n",
       "        text-align: right;\n",
       "    }\n",
       "</style>\n",
       "<table border=\"1\" class=\"dataframe\">\n",
       "  <thead>\n",
       "    <tr style=\"text-align: right;\">\n",
       "      <th></th>\n",
       "      <th>v2: training</th>\n",
       "      <th>v2: testing</th>\n",
       "    </tr>\n",
       "  </thead>\n",
       "  <tbody>\n",
       "    <tr>\n",
       "      <th>accuracy</th>\n",
       "      <td>0.835</td>\n",
       "      <td>0.834</td>\n",
       "    </tr>\n",
       "    <tr>\n",
       "      <th>precision</th>\n",
       "      <td>0.932</td>\n",
       "      <td>0.932</td>\n",
       "    </tr>\n",
       "    <tr>\n",
       "      <th>recall</th>\n",
       "      <td>0.580</td>\n",
       "      <td>0.577</td>\n",
       "    </tr>\n",
       "    <tr>\n",
       "      <th>f1</th>\n",
       "      <td>0.715</td>\n",
       "      <td>0.713</td>\n",
       "    </tr>\n",
       "  </tbody>\n",
       "</table>\n",
       "</div>"
      ],
      "text/plain": [
       "           v2: training  v2: testing\n",
       "accuracy          0.835        0.834\n",
       "precision         0.932        0.932\n",
       "recall            0.580        0.577\n",
       "f1                0.715        0.713"
      ]
     },
     "execution_count": 52,
     "metadata": {},
     "output_type": "execute_result"
    }
   ],
   "source": [
    "# Initialize and fit the stacking classifier\n",
    "sclf = StackingClassifier(\n",
    "    classifiers=[clf1, clf2, clf3], meta_classifier=LogisticRegression()\n",
    ")\n",
    "sclf.fit(x_train, y_train)\n",
    "\n",
    "# Assemble test and training set data\n",
    "sclf_performance_metrics = pd.concat(\n",
    "    [\n",
    "        calculate_v2_model_training_stats(sclf, x_train, y_train),\n",
    "        calculate_v2_model_testing_stats(sclf, x_test.values, y_test.values),\n",
    "    ],\n",
    "    axis=1,\n",
    ")\n",
    "sclf_performance_metrics"
   ]
  },
  {
   "cell_type": "markdown",
   "metadata": {},
   "source": [
    "This stacked model is predicting at a similar level to our random forest above without being as computationally intensive, despite the three classifiers being used being individually weaker models--not bad. But as a final pass at model creation , let's create a voting classifier that groups together our knn, logistic regression, and random forest classifiers. We'll use the tuned model specifications for each from earlier to see if our ~83%ish accuracy really is the upper limit for this dataset. "
   ]
  },
  {
   "cell_type": "markdown",
   "metadata": {},
   "source": [
    "### Voting Classifier Modeling"
   ]
  },
  {
   "cell_type": "code",
   "execution_count": 53,
   "metadata": {},
   "outputs": [
    {
     "data": {
      "text/html": [
       "<div>\n",
       "<style scoped>\n",
       "    .dataframe tbody tr th:only-of-type {\n",
       "        vertical-align: middle;\n",
       "    }\n",
       "\n",
       "    .dataframe tbody tr th {\n",
       "        vertical-align: top;\n",
       "    }\n",
       "\n",
       "    .dataframe thead th {\n",
       "        text-align: right;\n",
       "    }\n",
       "</style>\n",
       "<table border=\"1\" class=\"dataframe\">\n",
       "  <thead>\n",
       "    <tr style=\"text-align: right;\">\n",
       "      <th></th>\n",
       "      <th>v2: training</th>\n",
       "      <th>v2: testing</th>\n",
       "    </tr>\n",
       "  </thead>\n",
       "  <tbody>\n",
       "    <tr>\n",
       "      <th>accuracy</th>\n",
       "      <td>0.837</td>\n",
       "      <td>0.802</td>\n",
       "    </tr>\n",
       "    <tr>\n",
       "      <th>precision</th>\n",
       "      <td>0.909</td>\n",
       "      <td>0.868</td>\n",
       "    </tr>\n",
       "    <tr>\n",
       "      <th>recall</th>\n",
       "      <td>0.604</td>\n",
       "      <td>0.526</td>\n",
       "    </tr>\n",
       "    <tr>\n",
       "      <th>f1</th>\n",
       "      <td>0.726</td>\n",
       "      <td>0.655</td>\n",
       "    </tr>\n",
       "  </tbody>\n",
       "</table>\n",
       "</div>"
      ],
      "text/plain": [
       "           v2: training  v2: testing\n",
       "accuracy          0.837        0.802\n",
       "precision         0.909        0.868\n",
       "recall            0.604        0.526\n",
       "f1                0.726        0.655"
      ]
     },
     "execution_count": 53,
     "metadata": {},
     "output_type": "execute_result"
    }
   ],
   "source": [
    "# Resplit\n",
    "x_train, x_test, y_train, y_test = resplit_data(X, Y)\n",
    "\n",
    "# Initialize models\n",
    "clf1 = tuned_knn\n",
    "clf2 = tuned_logistic_model\n",
    "clf3 = tuned_rf\n",
    "estimators = [(\"knn\", clf1), (\"lr\", clf2), (\"rf\", clf3)]\n",
    "\n",
    "#fit voting classifier\n",
    "vc = VotingClassifier(estimators=estimators, voting=\"soft\")\n",
    "vc.fit(x_train,y_train)\n",
    "\n",
    "# Calculate model performance across both subsets of the data\n",
    "vc_performance_metrics = pd.concat(\n",
    "    [\n",
    "        calculate_v2_model_training_stats(vc, x_train, y_train),\n",
    "        calculate_v2_model_testing_stats(vc, x_test, y_test),\n",
    "    ],\n",
    "    axis=1,\n",
    ")\n",
    "vc_performance_metrics"
   ]
  },
  {
   "cell_type": "markdown",
   "metadata": {},
   "source": [
    "Here we can see that this model is perfoming similarly to the other ensemble models, with some slight overfitting perhaps. Let's take a look at our ensemble model performance across the the random forest model, stacked classifier model, and voting classifier to see if these 3 options are truly interchangeable. Before we dive into takeaways and solutions. "
   ]
  },
  {
   "cell_type": "code",
   "execution_count": 54,
   "metadata": {},
   "outputs": [
    {
     "data": {
      "text/html": [
       "<div>\n",
       "<style scoped>\n",
       "    .dataframe tbody tr th:only-of-type {\n",
       "        vertical-align: middle;\n",
       "    }\n",
       "\n",
       "    .dataframe tbody tr th {\n",
       "        vertical-align: top;\n",
       "    }\n",
       "\n",
       "    .dataframe thead th {\n",
       "        text-align: right;\n",
       "    }\n",
       "</style>\n",
       "<table border=\"1\" class=\"dataframe\">\n",
       "  <thead>\n",
       "    <tr style=\"text-align: right;\">\n",
       "      <th></th>\n",
       "      <th>logistic_regression</th>\n",
       "      <th>k_nearest_neighbors</th>\n",
       "      <th>decision_tree</th>\n",
       "      <th>naive_bayes</th>\n",
       "      <th>random_forest</th>\n",
       "      <th>stacked_classifier</th>\n",
       "      <th>voting_classifier</th>\n",
       "    </tr>\n",
       "  </thead>\n",
       "  <tbody>\n",
       "    <tr>\n",
       "      <th>accuracy</th>\n",
       "      <td>0.782</td>\n",
       "      <td>0.771</td>\n",
       "      <td>0.841</td>\n",
       "      <td>0.763</td>\n",
       "      <td>0.863</td>\n",
       "      <td>0.835</td>\n",
       "      <td>0.837</td>\n",
       "    </tr>\n",
       "    <tr>\n",
       "      <th>precision</th>\n",
       "      <td>0.813</td>\n",
       "      <td>0.820</td>\n",
       "      <td>0.918</td>\n",
       "      <td>0.774</td>\n",
       "      <td>0.958</td>\n",
       "      <td>0.932</td>\n",
       "      <td>0.909</td>\n",
       "    </tr>\n",
       "    <tr>\n",
       "      <th>recall</th>\n",
       "      <td>0.507</td>\n",
       "      <td>0.459</td>\n",
       "      <td>0.610</td>\n",
       "      <td>0.475</td>\n",
       "      <td>0.644</td>\n",
       "      <td>0.580</td>\n",
       "      <td>0.604</td>\n",
       "    </tr>\n",
       "    <tr>\n",
       "      <th>f1</th>\n",
       "      <td>0.625</td>\n",
       "      <td>0.588</td>\n",
       "      <td>0.733</td>\n",
       "      <td>0.589</td>\n",
       "      <td>0.770</td>\n",
       "      <td>0.715</td>\n",
       "      <td>0.726</td>\n",
       "    </tr>\n",
       "  </tbody>\n",
       "</table>\n",
       "</div>"
      ],
      "text/plain": [
       "           logistic_regression  k_nearest_neighbors  decision_tree  \\\n",
       "accuracy                 0.782                0.771          0.841   \n",
       "precision                0.813                0.820          0.918   \n",
       "recall                   0.507                0.459          0.610   \n",
       "f1                       0.625                0.588          0.733   \n",
       "\n",
       "           naive_bayes  random_forest  stacked_classifier  voting_classifier  \n",
       "accuracy         0.763          0.863               0.835              0.837  \n",
       "precision        0.774          0.958               0.932              0.909  \n",
       "recall           0.475          0.644               0.580              0.604  \n",
       "f1               0.589          0.770               0.715              0.726  "
      ]
     },
     "execution_count": 54,
     "metadata": {},
     "output_type": "execute_result"
    }
   ],
   "source": [
    "compare_models(single_models_df,rf_performance_metrics,sclf_performance_metrics,vc_performance_metrics)"
   ]
  },
  {
   "cell_type": "markdown",
   "metadata": {},
   "source": [
    "# Conclusions"
   ]
  },
  {
   "cell_type": "markdown",
   "metadata": {},
   "source": [
    "The table above shows that we have boosted our stats about as high as they'll go. So let's take stock of what we have so far. We've been using accuracy, followed by precision as our main measurements of effectiveness while building models here, but before we give our final model to the airline we should make sure that it's aligned to their consumer marketing/targeting needs. \n",
    "\n",
    "\n",
    " <ins>Accuracy</ins> \n",
    "- A high-accuracy model would be better if the airline is planning on simultaneously launching packages targeting both experienced and new travelers. Experienced travelers want luxury or exclusive packages possibly linked to their loyalty programs or miles, while newer travelers want deals and amenities. This style of model is good when we want to make sure that both classes of customers are being pitched the right products at the right time. \n",
    "\n",
    " <ins>Precision</ins> \n",
    "- A high-precision model would be better at predicting which customers buy travel insurance, which will also be helpful for marketing new-traveler/new airline customer deals for the proportion of customers we identified that are taking their first trips. \n",
    "\n",
    " <ins>Recall</ins> \n",
    "- A high-recall model would be better if we were worried that improperly targeted customers would consider the marketing a nuisance or a negative impact to their relationship with the airline's brand.\n",
    "\n",
    " <ins>F1-score</ins> \n",
    "- A high-F1-score model would be perfect if we want to balance precision and recall. This model type would be better for all-purpose use since the costs of improper targeting or occasional mislabeling might not be that high for the airline, based on their ongoing marketing strategy. "
   ]
  },
  {
   "cell_type": "markdown",
   "metadata": {},
   "source": [
    "Considering that our firm has been contracted by the airline, but we aren't a part of their marketing strategy and product development, we should use an all-around model specification. Lucky for us our random forest model is a strong performer across all of our metrics, and also boasts a pretty solid recall rate. Selecting based on F1 would lead us to this score, and it is thankfully one of our most consistent models in terms of accuracy. We'll submit our final recommendations to the client using our final tuned random forest model. "
   ]
  },
  {
   "cell_type": "markdown",
   "metadata": {},
   "source": [
    "## Further Research ideas"
   ]
  },
  {
   "cell_type": "markdown",
   "metadata": {},
   "source": [
    "For ongoing research, we could use new data to either maintain or update our random forest classifier. To do this we would need: \n",
    "- Data from the v1 rollout of their new product(s)/consumer marketing\n",
    "\n",
    "- Newer data from the market so that we could test this model's extensibility to age groups or demographics outside of this training set\n",
    "\n",
    "- Temporal data to consider seasonality and price fluctuation impacts to our predictions \n",
    "\n",
    "- Price data more generally\n",
    "\n",
    "- Longitudinal data about customer conversion: Do patients targeted with our model/these products subscribe to loyalty programs, provide any feedback, or fly with the airline again? Customer churn could inform how we go about model selection in our accuracy, precision, recall, F1 matrix"
   ]
  }
 ],
 "metadata": {
  "kernelspec": {
   "display_name": "Python 3",
   "language": "python",
   "name": "python3"
  },
  "language_info": {
   "codemirror_mode": {
    "name": "ipython",
    "version": 3
   },
   "file_extension": ".py",
   "mimetype": "text/x-python",
   "name": "python",
   "nbconvert_exporter": "python",
   "pygments_lexer": "ipython3",
   "version": "3.12.4"
  }
 },
 "nbformat": 4,
 "nbformat_minor": 2
}
